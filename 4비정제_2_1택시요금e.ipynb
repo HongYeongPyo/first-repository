{
  "cells": [
    {
      "cell_type": "markdown",
      "metadata": {
        "id": "view-in-github",
        "colab_type": "text"
      },
      "source": [
        "<a href=\"https://colab.research.google.com/github/HongYeongPyo/first-repository/blob/03SQL%2B04%EB%B9%84%EC%A0%95%EC%A0%9C/4%EB%B9%84%EC%A0%95%EC%A0%9C_2_1%ED%83%9D%EC%8B%9C%EC%9A%94%EA%B8%88e.ipynb\" target=\"_parent\"><img src=\"https://colab.research.google.com/assets/colab-badge.svg\" alt=\"Open In Colab\"/></a>"
      ]
    },
    {
      "cell_type": "code",
      "execution_count": null,
      "id": "b68d60e7",
      "metadata": {
        "id": "b68d60e7"
      },
      "outputs": [],
      "source": [
        "import pandas as pd\n",
        "import numpy as np\n",
        "import matplotlib.pyplot as plt\n",
        "import seaborn as sns"
      ]
    },
    {
      "cell_type": "code",
      "execution_count": null,
      "id": "986aaaf5",
      "metadata": {
        "id": "986aaaf5",
        "outputId": "432d1774-f229-4adf-f9b2-5793e14bd950"
      },
      "outputs": [
        {
          "name": "stdout",
          "output_type": "stream",
          "text": [
            "/workspace/userdisk\r\n"
          ]
        }
      ],
      "source": [
        "!pwd"
      ]
    },
    {
      "cell_type": "code",
      "execution_count": null,
      "id": "0626e145",
      "metadata": {
        "id": "0626e145"
      },
      "outputs": [],
      "source": [
        "data = pd.read_csv('trip.csv')"
      ]
    },
    {
      "cell_type": "code",
      "execution_count": null,
      "id": "b756ffa4",
      "metadata": {
        "id": "b756ffa4",
        "outputId": "120bb3ed-4ce9-4f69-bb5a-1966a7cb0b94"
      },
      "outputs": [
        {
          "data": {
            "text/html": [
              "<div>\n",
              "<style scoped>\n",
              "    .dataframe tbody tr th:only-of-type {\n",
              "        vertical-align: middle;\n",
              "    }\n",
              "\n",
              "    .dataframe tbody tr th {\n",
              "        vertical-align: top;\n",
              "    }\n",
              "\n",
              "    .dataframe thead th {\n",
              "        text-align: right;\n",
              "    }\n",
              "</style>\n",
              "<table border=\"1\" class=\"dataframe\">\n",
              "  <thead>\n",
              "    <tr style=\"text-align: right;\">\n",
              "      <th></th>\n",
              "      <th>passenger_name</th>\n",
              "      <th>tpep_pickup_datetime</th>\n",
              "      <th>tpep_dropoff_datetime</th>\n",
              "      <th>payment_method</th>\n",
              "      <th>passenger_count</th>\n",
              "      <th>trip_distance</th>\n",
              "      <th>fare_amount</th>\n",
              "      <th>tip_amount</th>\n",
              "      <th>tolls_amount</th>\n",
              "    </tr>\n",
              "  </thead>\n",
              "  <tbody>\n",
              "    <tr>\n",
              "      <th>0</th>\n",
              "      <td>Pamela Duffy</td>\n",
              "      <td>03/25/2017 8:55:43 AM</td>\n",
              "      <td>03/25/2017 9:09:47 AM</td>\n",
              "      <td>Debit Card</td>\n",
              "      <td>6</td>\n",
              "      <td>3.34</td>\n",
              "      <td>13.0</td>\n",
              "      <td>2.76</td>\n",
              "      <td>0.0</td>\n",
              "    </tr>\n",
              "    <tr>\n",
              "      <th>1</th>\n",
              "      <td>Michelle Foster</td>\n",
              "      <td>04/11/2017 2:53:28 PM</td>\n",
              "      <td>04/11/2017 3:19:58 PM</td>\n",
              "      <td>Debit Card</td>\n",
              "      <td>1</td>\n",
              "      <td>1.80</td>\n",
              "      <td>16.0</td>\n",
              "      <td>4.00</td>\n",
              "      <td>0.0</td>\n",
              "    </tr>\n",
              "    <tr>\n",
              "      <th>2</th>\n",
              "      <td>Tina Combs</td>\n",
              "      <td>12/15/2017 7:26:56 AM</td>\n",
              "      <td>12/15/2017 7:34:08 AM</td>\n",
              "      <td>Debit Card</td>\n",
              "      <td>1</td>\n",
              "      <td>1.00</td>\n",
              "      <td>6.5</td>\n",
              "      <td>1.45</td>\n",
              "      <td>0.0</td>\n",
              "    </tr>\n",
              "    <tr>\n",
              "      <th>3</th>\n",
              "      <td>Anthony Ray</td>\n",
              "      <td>05/07/2017 1:17:59 PM</td>\n",
              "      <td>05/07/2017 1:48:14 PM</td>\n",
              "      <td>Cash</td>\n",
              "      <td>1</td>\n",
              "      <td>3.70</td>\n",
              "      <td>20.5</td>\n",
              "      <td>6.39</td>\n",
              "      <td>0.0</td>\n",
              "    </tr>\n",
              "    <tr>\n",
              "      <th>4</th>\n",
              "      <td>Brianna Johnson</td>\n",
              "      <td>04/15/2017 11:32:20 PM</td>\n",
              "      <td>04/15/2017 11:49:03 PM</td>\n",
              "      <td>Debit Card</td>\n",
              "      <td>1</td>\n",
              "      <td>4.37</td>\n",
              "      <td>16.5</td>\n",
              "      <td>0.00</td>\n",
              "      <td>0.0</td>\n",
              "    </tr>\n",
              "  </tbody>\n",
              "</table>\n",
              "</div>"
            ],
            "text/plain": [
              "    passenger_name    tpep_pickup_datetime   tpep_dropoff_datetime  \\\n",
              "0     Pamela Duffy   03/25/2017 8:55:43 AM   03/25/2017 9:09:47 AM   \n",
              "1  Michelle Foster   04/11/2017 2:53:28 PM   04/11/2017 3:19:58 PM   \n",
              "2       Tina Combs   12/15/2017 7:26:56 AM   12/15/2017 7:34:08 AM   \n",
              "3      Anthony Ray   05/07/2017 1:17:59 PM   05/07/2017 1:48:14 PM   \n",
              "4  Brianna Johnson  04/15/2017 11:32:20 PM  04/15/2017 11:49:03 PM   \n",
              "\n",
              "  payment_method  passenger_count  trip_distance  fare_amount  tip_amount  \\\n",
              "0     Debit Card                6           3.34         13.0        2.76   \n",
              "1     Debit Card                1           1.80         16.0        4.00   \n",
              "2     Debit Card                1           1.00          6.5        1.45   \n",
              "3           Cash                1           3.70         20.5        6.39   \n",
              "4     Debit Card                1           4.37         16.5        0.00   \n",
              "\n",
              "   tolls_amount  \n",
              "0           0.0  \n",
              "1           0.0  \n",
              "2           0.0  \n",
              "3           0.0  \n",
              "4           0.0  "
            ]
          },
          "execution_count": 9,
          "metadata": {},
          "output_type": "execute_result"
        }
      ],
      "source": [
        "data.head()"
      ]
    },
    {
      "cell_type": "code",
      "execution_count": null,
      "id": "c7f3f465",
      "metadata": {
        "id": "c7f3f465",
        "outputId": "5ed5612a-b62f-478f-945e-04208d22a571"
      },
      "outputs": [
        {
          "name": "stdout",
          "output_type": "stream",
          "text": [
            "<class 'pandas.core.frame.DataFrame'>\n",
            "RangeIndex: 22701 entries, 0 to 22700\n",
            "Data columns (total 9 columns):\n",
            " #   Column                 Non-Null Count  Dtype  \n",
            "---  ------                 --------------  -----  \n",
            " 0   passenger_name         22701 non-null  object \n",
            " 1   tpep_pickup_datetime   22701 non-null  object \n",
            " 2   tpep_dropoff_datetime  22701 non-null  object \n",
            " 3   payment_method         22701 non-null  object \n",
            " 4   passenger_count        22701 non-null  int64  \n",
            " 5   trip_distance          22701 non-null  float64\n",
            " 6   fare_amount            22698 non-null  float64\n",
            " 7   tip_amount             22701 non-null  float64\n",
            " 8   tolls_amount           22701 non-null  float64\n",
            "dtypes: float64(4), int64(1), object(4)\n",
            "memory usage: 1.6+ MB\n"
          ]
        }
      ],
      "source": [
        "data.info()"
      ]
    },
    {
      "cell_type": "code",
      "execution_count": null,
      "id": "2b313e90",
      "metadata": {
        "scrolled": true,
        "id": "2b313e90",
        "outputId": "b94fbebd-5b72-465d-e9b4-c98d454a93e4"
      },
      "outputs": [
        {
          "name": "stdout",
          "output_type": "stream",
          "text": [
            "       passenger_count  trip_distance   fare_amount    tip_amount  \\\n",
            "count     22701.000000   22701.000000  22698.000000  22701.000000   \n",
            "mean          1.643584       2.913400     13.024009      1.835745   \n",
            "std           1.304942       3.653023     13.240074      2.800537   \n",
            "min           0.000000       0.000000   -120.000000      0.000000   \n",
            "25%           1.000000       0.990000      6.500000      0.000000   \n",
            "50%           1.000000       1.610000      9.500000      1.350000   \n",
            "75%           2.000000       3.060000     14.500000      2.450000   \n",
            "max          36.000000      33.960000    999.990000    200.000000   \n",
            "\n",
            "       tolls_amount  \n",
            "count  22701.000000  \n",
            "mean       0.312514  \n",
            "std        1.399153  \n",
            "min        0.000000  \n",
            "25%        0.000000  \n",
            "50%        0.000000  \n",
            "75%        0.000000  \n",
            "max       19.100000  \n"
          ]
        }
      ],
      "source": [
        "print(data.describe())"
      ]
    },
    {
      "cell_type": "code",
      "execution_count": null,
      "id": "11ea0bed",
      "metadata": {
        "id": "11ea0bed",
        "outputId": "6b42eca8-7944-42a8-b0ab-fac036b3c2f2"
      },
      "outputs": [
        {
          "name": "stdout",
          "output_type": "stream",
          "text": [
            "# 중복 승객명: Sarah Gross\n",
            "   passenger_name   tpep_pickup_datetime  tpep_dropoff_datetime  \\\n",
            "16    Sarah Gross  08/15/2017 7:48:08 PM  08/15/2017 8:00:37 PM   \n",
            "17    Sarah Gross  08/15/2017 7:48:08 PM  08/15/2017 8:00:37 PM   \n",
            "\n",
            "   payment_method  passenger_count  trip_distance  fare_amount  tip_amount  \\\n",
            "16           Cash                1            3.6         12.5        2.85   \n",
            "17           Cash                1            3.6         12.5        2.85   \n",
            "\n",
            "    tolls_amount  \n",
            "16           0.0  \n",
            "17           0.0  \n"
          ]
        }
      ],
      "source": [
        "# 1. 중복된 행 찾기 (전체 열 기준)\n",
        "duplicates = data[data.duplicated(keep=False)]\n",
        "\n",
        "# 2. 중복된 승객 이름 목록 추출\n",
        "duplicated_names = duplicates['passenger_name'].unique()\n",
        "\n",
        "# 3. 중복된 승객명이 하나라도 있다면, 그 중 하나를 출력\n",
        "if len(duplicated_names) > 0:\n",
        "    passenger_name = duplicated_names[0]  # 첫 번째 중복 승객명 선택\n",
        "    print(f\"# 중복 승객명: {passenger_name}\")\n",
        "\n",
        "    # 4. 중복 승객의 전체 행 출력\n",
        "    print(data[data['passenger_name'] == passenger_name])\n",
        "else:\n",
        "    print(\"중복된 승객명이 없습니다.\")"
      ]
    },
    {
      "cell_type": "code",
      "execution_count": null,
      "id": "1ad63b1c",
      "metadata": {
        "id": "1ad63b1c",
        "outputId": "38f81d83-217e-47a0-dade-0365a7acc0fb"
      },
      "outputs": [
        {
          "name": "stdout",
          "output_type": "stream",
          "text": [
            "\n",
            "✅ 중복 제거 후 데이터:\n",
            "          passenger_name    tpep_pickup_datetime   tpep_dropoff_datetime  \\\n",
            "0           Pamela Duffy   03/25/2017 8:55:43 AM   03/25/2017 9:09:47 AM   \n",
            "1        Michelle Foster   04/11/2017 2:53:28 PM   04/11/2017 3:19:58 PM   \n",
            "2             Tina Combs   12/15/2017 7:26:56 AM   12/15/2017 7:34:08 AM   \n",
            "3            Anthony Ray   05/07/2017 1:17:59 PM   05/07/2017 1:48:14 PM   \n",
            "4        Brianna Johnson  04/15/2017 11:32:20 PM  04/15/2017 11:49:03 PM   \n",
            "...                  ...                     ...                     ...   \n",
            "22696     Austin Johnson   02/24/2017 5:37:23 PM   02/24/2017 5:40:39 PM   \n",
            "22697   Monique Williams   08/06/2017 4:43:59 PM   08/06/2017 5:24:47 PM   \n",
            "22698        Drew Graves   09/04/2017 2:54:14 PM   09/04/2017 2:58:22 PM   \n",
            "22699  Jonathan Copeland  07/15/2017 12:56:30 PM   07/15/2017 1:08:26 PM   \n",
            "22700    Benjamin Miller   03/02/2017 1:02:49 PM   03/02/2017 1:16:09 PM   \n",
            "\n",
            "      payment_method  passenger_count  trip_distance  fare_amount  tip_amount  \\\n",
            "0         Debit Card                6           3.34         13.0        2.76   \n",
            "1         Debit Card                1           1.80         16.0        4.00   \n",
            "2         Debit Card                1           1.00          6.5        1.45   \n",
            "3               Cash                1           3.70         20.5        6.39   \n",
            "4         Debit Card                1           4.37         16.5        0.00   \n",
            "...              ...              ...            ...          ...         ...   \n",
            "22696           Cash                3           0.61          4.0        0.00   \n",
            "22697           Cash                1          16.71         52.0       14.64   \n",
            "22698     Debit Card                1           0.42          4.5        0.00   \n",
            "22699     Debit Card                1           2.36         10.5        1.70   \n",
            "22700           Cash                1           2.10         11.0        2.35   \n",
            "\n",
            "       tolls_amount  \n",
            "0              0.00  \n",
            "1              0.00  \n",
            "2              0.00  \n",
            "3              0.00  \n",
            "4              0.00  \n",
            "...             ...  \n",
            "22696          0.00  \n",
            "22697          5.76  \n",
            "22698          0.00  \n",
            "22699          0.00  \n",
            "22700          0.00  \n",
            "\n",
            "[22699 rows x 9 columns]\n",
            "\n",
            "총 행 수 (제거 전): 22701\n",
            "총 행 수 (제거 후): 22699\n"
          ]
        }
      ],
      "source": [
        "# 5. 중복 데이터 제거 (전체 열 기준 중복 제거)\n",
        "data_deduplicated = data.drop_duplicates(keep='first')  # 또는 keep='last', keep=False\n",
        "\n",
        "# 결과 출력\n",
        "print(\"\\n✅ 중복 제거 후 데이터:\")\n",
        "print(data_deduplicated)\n",
        "\n",
        "# 행 수 비교 (전후 변화 확인)\n",
        "print(f\"\\n총 행 수 (제거 전): {len(data)}\")\n",
        "print(f\"총 행 수 (제거 후): {len(data_deduplicated)}\")"
      ]
    },
    {
      "cell_type": "code",
      "execution_count": null,
      "id": "f77afb71",
      "metadata": {
        "id": "f77afb71",
        "outputId": "a6fb391c-068f-47ce-a346-a23e95c4430c"
      },
      "outputs": [
        {
          "data": {
            "text/html": [
              "<div>\n",
              "<style scoped>\n",
              "    .dataframe tbody tr th:only-of-type {\n",
              "        vertical-align: middle;\n",
              "    }\n",
              "\n",
              "    .dataframe tbody tr th {\n",
              "        vertical-align: top;\n",
              "    }\n",
              "\n",
              "    .dataframe thead th {\n",
              "        text-align: right;\n",
              "    }\n",
              "</style>\n",
              "<table border=\"1\" class=\"dataframe\">\n",
              "  <thead>\n",
              "    <tr style=\"text-align: right;\">\n",
              "      <th></th>\n",
              "      <th>passenger_name</th>\n",
              "      <th>tpep_pickup_datetime</th>\n",
              "      <th>tpep_dropoff_datetime</th>\n",
              "      <th>payment_method</th>\n",
              "      <th>passenger_count</th>\n",
              "      <th>trip_distance</th>\n",
              "      <th>fare_amount</th>\n",
              "      <th>tip_amount</th>\n",
              "      <th>tolls_amount</th>\n",
              "    </tr>\n",
              "  </thead>\n",
              "  <tbody>\n",
              "    <tr>\n",
              "      <th>0</th>\n",
              "      <td>Pamela Duffy</td>\n",
              "      <td>03/25/2017 8:55:43 AM</td>\n",
              "      <td>03/25/2017 9:09:47 AM</td>\n",
              "      <td>Debit Card</td>\n",
              "      <td>6</td>\n",
              "      <td>3.34</td>\n",
              "      <td>13.0</td>\n",
              "      <td>2.76</td>\n",
              "      <td>0.00</td>\n",
              "    </tr>\n",
              "    <tr>\n",
              "      <th>1</th>\n",
              "      <td>Michelle Foster</td>\n",
              "      <td>04/11/2017 2:53:28 PM</td>\n",
              "      <td>04/11/2017 3:19:58 PM</td>\n",
              "      <td>Debit Card</td>\n",
              "      <td>1</td>\n",
              "      <td>1.80</td>\n",
              "      <td>16.0</td>\n",
              "      <td>4.00</td>\n",
              "      <td>0.00</td>\n",
              "    </tr>\n",
              "    <tr>\n",
              "      <th>2</th>\n",
              "      <td>Tina Combs</td>\n",
              "      <td>12/15/2017 7:26:56 AM</td>\n",
              "      <td>12/15/2017 7:34:08 AM</td>\n",
              "      <td>Debit Card</td>\n",
              "      <td>1</td>\n",
              "      <td>1.00</td>\n",
              "      <td>6.5</td>\n",
              "      <td>1.45</td>\n",
              "      <td>0.00</td>\n",
              "    </tr>\n",
              "    <tr>\n",
              "      <th>3</th>\n",
              "      <td>Anthony Ray</td>\n",
              "      <td>05/07/2017 1:17:59 PM</td>\n",
              "      <td>05/07/2017 1:48:14 PM</td>\n",
              "      <td>Cash</td>\n",
              "      <td>1</td>\n",
              "      <td>3.70</td>\n",
              "      <td>20.5</td>\n",
              "      <td>6.39</td>\n",
              "      <td>0.00</td>\n",
              "    </tr>\n",
              "    <tr>\n",
              "      <th>4</th>\n",
              "      <td>Brianna Johnson</td>\n",
              "      <td>04/15/2017 11:32:20 PM</td>\n",
              "      <td>04/15/2017 11:49:03 PM</td>\n",
              "      <td>Debit Card</td>\n",
              "      <td>1</td>\n",
              "      <td>4.37</td>\n",
              "      <td>16.5</td>\n",
              "      <td>0.00</td>\n",
              "      <td>0.00</td>\n",
              "    </tr>\n",
              "    <tr>\n",
              "      <th>...</th>\n",
              "      <td>...</td>\n",
              "      <td>...</td>\n",
              "      <td>...</td>\n",
              "      <td>...</td>\n",
              "      <td>...</td>\n",
              "      <td>...</td>\n",
              "      <td>...</td>\n",
              "      <td>...</td>\n",
              "      <td>...</td>\n",
              "    </tr>\n",
              "    <tr>\n",
              "      <th>22696</th>\n",
              "      <td>Austin Johnson</td>\n",
              "      <td>02/24/2017 5:37:23 PM</td>\n",
              "      <td>02/24/2017 5:40:39 PM</td>\n",
              "      <td>Cash</td>\n",
              "      <td>3</td>\n",
              "      <td>0.61</td>\n",
              "      <td>4.0</td>\n",
              "      <td>0.00</td>\n",
              "      <td>0.00</td>\n",
              "    </tr>\n",
              "    <tr>\n",
              "      <th>22697</th>\n",
              "      <td>Monique Williams</td>\n",
              "      <td>08/06/2017 4:43:59 PM</td>\n",
              "      <td>08/06/2017 5:24:47 PM</td>\n",
              "      <td>Cash</td>\n",
              "      <td>1</td>\n",
              "      <td>16.71</td>\n",
              "      <td>52.0</td>\n",
              "      <td>14.64</td>\n",
              "      <td>5.76</td>\n",
              "    </tr>\n",
              "    <tr>\n",
              "      <th>22698</th>\n",
              "      <td>Drew Graves</td>\n",
              "      <td>09/04/2017 2:54:14 PM</td>\n",
              "      <td>09/04/2017 2:58:22 PM</td>\n",
              "      <td>Debit Card</td>\n",
              "      <td>1</td>\n",
              "      <td>0.42</td>\n",
              "      <td>4.5</td>\n",
              "      <td>0.00</td>\n",
              "      <td>0.00</td>\n",
              "    </tr>\n",
              "    <tr>\n",
              "      <th>22699</th>\n",
              "      <td>Jonathan Copeland</td>\n",
              "      <td>07/15/2017 12:56:30 PM</td>\n",
              "      <td>07/15/2017 1:08:26 PM</td>\n",
              "      <td>Debit Card</td>\n",
              "      <td>1</td>\n",
              "      <td>2.36</td>\n",
              "      <td>10.5</td>\n",
              "      <td>1.70</td>\n",
              "      <td>0.00</td>\n",
              "    </tr>\n",
              "    <tr>\n",
              "      <th>22700</th>\n",
              "      <td>Benjamin Miller</td>\n",
              "      <td>03/02/2017 1:02:49 PM</td>\n",
              "      <td>03/02/2017 1:16:09 PM</td>\n",
              "      <td>Cash</td>\n",
              "      <td>1</td>\n",
              "      <td>2.10</td>\n",
              "      <td>11.0</td>\n",
              "      <td>2.35</td>\n",
              "      <td>0.00</td>\n",
              "    </tr>\n",
              "  </tbody>\n",
              "</table>\n",
              "<p>22699 rows × 9 columns</p>\n",
              "</div>"
            ],
            "text/plain": [
              "          passenger_name    tpep_pickup_datetime   tpep_dropoff_datetime  \\\n",
              "0           Pamela Duffy   03/25/2017 8:55:43 AM   03/25/2017 9:09:47 AM   \n",
              "1        Michelle Foster   04/11/2017 2:53:28 PM   04/11/2017 3:19:58 PM   \n",
              "2             Tina Combs   12/15/2017 7:26:56 AM   12/15/2017 7:34:08 AM   \n",
              "3            Anthony Ray   05/07/2017 1:17:59 PM   05/07/2017 1:48:14 PM   \n",
              "4        Brianna Johnson  04/15/2017 11:32:20 PM  04/15/2017 11:49:03 PM   \n",
              "...                  ...                     ...                     ...   \n",
              "22696     Austin Johnson   02/24/2017 5:37:23 PM   02/24/2017 5:40:39 PM   \n",
              "22697   Monique Williams   08/06/2017 4:43:59 PM   08/06/2017 5:24:47 PM   \n",
              "22698        Drew Graves   09/04/2017 2:54:14 PM   09/04/2017 2:58:22 PM   \n",
              "22699  Jonathan Copeland  07/15/2017 12:56:30 PM   07/15/2017 1:08:26 PM   \n",
              "22700    Benjamin Miller   03/02/2017 1:02:49 PM   03/02/2017 1:16:09 PM   \n",
              "\n",
              "      payment_method  passenger_count  trip_distance  fare_amount  tip_amount  \\\n",
              "0         Debit Card                6           3.34         13.0        2.76   \n",
              "1         Debit Card                1           1.80         16.0        4.00   \n",
              "2         Debit Card                1           1.00          6.5        1.45   \n",
              "3               Cash                1           3.70         20.5        6.39   \n",
              "4         Debit Card                1           4.37         16.5        0.00   \n",
              "...              ...              ...            ...          ...         ...   \n",
              "22696           Cash                3           0.61          4.0        0.00   \n",
              "22697           Cash                1          16.71         52.0       14.64   \n",
              "22698     Debit Card                1           0.42          4.5        0.00   \n",
              "22699     Debit Card                1           2.36         10.5        1.70   \n",
              "22700           Cash                1           2.10         11.0        2.35   \n",
              "\n",
              "       tolls_amount  \n",
              "0              0.00  \n",
              "1              0.00  \n",
              "2              0.00  \n",
              "3              0.00  \n",
              "4              0.00  \n",
              "...             ...  \n",
              "22696          0.00  \n",
              "22697          5.76  \n",
              "22698          0.00  \n",
              "22699          0.00  \n",
              "22700          0.00  \n",
              "\n",
              "[22699 rows x 9 columns]"
            ]
          },
          "execution_count": 17,
          "metadata": {},
          "output_type": "execute_result"
        }
      ],
      "source": [
        "data_deduplicated"
      ]
    },
    {
      "cell_type": "code",
      "execution_count": null,
      "id": "f7271bb4",
      "metadata": {
        "id": "f7271bb4"
      },
      "outputs": [],
      "source": [
        "## ==== 결측치 확인"
      ]
    },
    {
      "cell_type": "code",
      "execution_count": null,
      "id": "ed970616",
      "metadata": {
        "id": "ed970616",
        "outputId": "c3de17b7-449b-4130-998d-c35740e2afe6"
      },
      "outputs": [
        {
          "data": {
            "text/plain": [
              "passenger_name           0\n",
              "tpep_pickup_datetime     0\n",
              "tpep_dropoff_datetime    0\n",
              "payment_method           0\n",
              "passenger_count          0\n",
              "trip_distance            0\n",
              "fare_amount              3\n",
              "tip_amount               0\n",
              "tolls_amount             0\n",
              "dtype: int64"
            ]
          },
          "execution_count": 18,
          "metadata": {},
          "output_type": "execute_result"
        }
      ],
      "source": [
        "data_deduplicated.isna().sum()"
      ]
    },
    {
      "cell_type": "code",
      "execution_count": null,
      "id": "4597db46",
      "metadata": {
        "id": "4597db46",
        "outputId": "d46e7e4b-1b67-4768-d0b9-a259ab06b6b5"
      },
      "outputs": [
        {
          "name": "stdout",
          "output_type": "stream",
          "text": [
            "                       Missing Count  Missing Ratio (%)\n",
            "passenger_name                     0               0.00\n",
            "tpep_pickup_datetime               0               0.00\n",
            "tpep_dropoff_datetime              0               0.00\n",
            "payment_method                     0               0.00\n",
            "passenger_count                    0               0.00\n",
            "trip_distance                      0               0.00\n",
            "fare_amount                        3               0.01\n",
            "tip_amount                         0               0.00\n",
            "tolls_amount                       0               0.00\n"
          ]
        }
      ],
      "source": [
        "# Q. 전체 데이터 대비 결측치의 비율을 확인합니다.\n",
        "\n",
        "# [[YOUR CODE]]\n",
        "\n",
        "#import pandas as pd\n",
        "\n",
        "# 예시: 데이터 불러오기\n",
        "#data = pd.read_csv('data.csv')  # 파일 경로에 맞게 조정\n",
        "\n",
        "# 1. 전체 데이터 수 (행 수 기준)\n",
        "total_rows = len(data)\n",
        "\n",
        "# 2. 컬럼별 결측치 수\n",
        "missing_count = data.isnull().sum()\n",
        "\n",
        "# 3. 결측치 비율 계산 (% 또는 소수)\n",
        "missing_ratio = (missing_count / total_rows) * 100\n",
        "\n",
        "# 4. 결과 정리 (비율을 소수점 2자리로 정리)\n",
        "missing_df = pd.DataFrame({\n",
        "    'Missing Count': missing_count,\n",
        "    'Missing Ratio (%)': missing_ratio.round(2)\n",
        "})\n",
        "\n",
        "# 5. 출력\n",
        "print(missing_df)\n"
      ]
    },
    {
      "cell_type": "code",
      "execution_count": null,
      "id": "0d5b19d0",
      "metadata": {
        "id": "0d5b19d0",
        "outputId": "ce7b6d22-b776-41d6-abaa-13c784d5a2c4"
      },
      "outputs": [
        {
          "name": "stdout",
          "output_type": "stream",
          "text": [
            "<class 'pandas.core.frame.DataFrame'>\n",
            "Int64Index: 22698 entries, 0 to 22700\n",
            "Data columns (total 9 columns):\n",
            " #   Column                 Non-Null Count  Dtype  \n",
            "---  ------                 --------------  -----  \n",
            " 0   passenger_name         22698 non-null  object \n",
            " 1   tpep_pickup_datetime   22698 non-null  object \n",
            " 2   tpep_dropoff_datetime  22698 non-null  object \n",
            " 3   payment_method         22698 non-null  object \n",
            " 4   passenger_count        22698 non-null  int64  \n",
            " 5   trip_distance          22698 non-null  float64\n",
            " 6   fare_amount            22698 non-null  float64\n",
            " 7   tip_amount             22698 non-null  float64\n",
            " 8   tolls_amount           22698 non-null  float64\n",
            "dtypes: float64(4), int64(1), object(4)\n",
            "memory usage: 1.7+ MB\n",
            "None\n"
          ]
        }
      ],
      "source": [
        "# Q. 결측치를 제거합니다.\n",
        "\n",
        "# [[YOUR CODE]]\n",
        "\n",
        "# 결측치가 포함된 모든 행 제거\n",
        "data_cleaned = data.dropna()\n",
        "\n",
        "# 결과 확인\n",
        "print(data_cleaned.info())\n"
      ]
    },
    {
      "cell_type": "code",
      "execution_count": null,
      "id": "97ff2c9f",
      "metadata": {
        "id": "97ff2c9f",
        "outputId": "037ff1cd-25fe-4867-84a0-d308f632f5c7"
      },
      "outputs": [
        {
          "data": {
            "text/plain": [
              "passenger_name           0.0\n",
              "tpep_pickup_datetime     0.0\n",
              "tpep_dropoff_datetime    0.0\n",
              "payment_method           0.0\n",
              "passenger_count          0.0\n",
              "trip_distance            0.0\n",
              "fare_amount              0.0\n",
              "tip_amount               0.0\n",
              "tolls_amount             0.0\n",
              "dtype: float64"
            ]
          },
          "execution_count": 21,
          "metadata": {},
          "output_type": "execute_result"
        }
      ],
      "source": [
        "#data.isna().mean()\n",
        "\n",
        "data_cleaned.isna().mean()"
      ]
    },
    {
      "cell_type": "code",
      "execution_count": null,
      "id": "c19ad3bd",
      "metadata": {
        "id": "c19ad3bd"
      },
      "outputs": [],
      "source": [
        "#=====passenger_count 컬럼의 이상치 제거"
      ]
    },
    {
      "cell_type": "code",
      "execution_count": null,
      "id": "5550721d",
      "metadata": {
        "id": "5550721d",
        "outputId": "4eff0775-949c-47db-8084-4fad3396bb8a"
      },
      "outputs": [
        {
          "name": "stdout",
          "output_type": "stream",
          "text": [
            "제거 전 행 수: 22701\n",
            "제거 후 행 수: 20410\n",
            "제거된 이상치 수: 2291\n"
          ]
        }
      ],
      "source": [
        "#==== 이상치 제거 전후(전체)========\n",
        "# 1. IQR 계산\n",
        "Q1 = data['passenger_count'].quantile(0.25)\n",
        "Q3 = data['passenger_count'].quantile(0.75)\n",
        "IQR = Q3 - Q1\n",
        "\n",
        "# 2. 이상치 경계 정의\n",
        "lower_bound = Q1 - 1.5 * IQR\n",
        "upper_bound = Q3 + 1.5 * IQR\n",
        "\n",
        "# 3. 이상치가 아닌 값만 필터링\n",
        "data_cleaned = data[(data['passenger_count'] >= lower_bound) & (data['passenger_count'] <= upper_bound)]\n",
        "\n",
        "# 4. 결과 확인\n",
        "print(f\"제거 전 행 수: {len(data)}\")\n",
        "print(f\"제거 후 행 수: {len(data_cleaned)}\")\n",
        "print(f\"제거된 이상치 수: {len(data) - len(data_cleaned)}\")"
      ]
    },
    {
      "cell_type": "code",
      "execution_count": null,
      "id": "56337323",
      "metadata": {
        "id": "56337323",
        "outputId": "51dffa7a-c057-46e2-a52b-db48b4f725cd"
      },
      "outputs": [
        {
          "data": {
            "image/png": "[encoded data removed]",
            "text/plain": [
              "<Figure size 720x288 with 1 Axes>"
            ]
          },
          "metadata": {
            "needs_background": "light"
          },
          "output_type": "display_data"
        }
      ],
      "source": [
        "# passenger_count 값의 scatter plot을 그립니다.\n",
        "\n",
        "#sns.scatterplot(x = data.index, y = data['passenger_count'])\n",
        "\n",
        "\n",
        "\n",
        "#=============\n",
        "import matplotlib.pyplot as plt\n",
        "import seaborn as sns\n",
        "\n",
        "# 1. 이상치 제거 (예: passenger_count > 6 제거)\n",
        "filtered_data = data[data['passenger_count'] <= 6]\n",
        "\n",
        "# 2. scatter plot 그리기\n",
        "plt.figure(figsize=(10, 4))\n",
        "sns.scatterplot(x=filtered_data.index, y=filtered_data['passenger_count'], alpha=0.6)\n",
        "\n",
        "# 3. 그래프 레이블 및 제목\n",
        "plt.title('Passenger Count Scatter Plot (Filtered: ≤ 6)')\n",
        "plt.xlabel('Index')\n",
        "plt.ylabel('Passenger Count')\n",
        "plt.grid(True)\n",
        "plt.show()\n"
      ]
    },
    {
      "cell_type": "code",
      "execution_count": null,
      "id": "dac7389d",
      "metadata": {
        "id": "dac7389d",
        "outputId": "b8529d6e-64db-4912-9341-fbaee55b55fe"
      },
      "outputs": [
        {
          "name": "stdout",
          "output_type": "stream",
          "text": [
            "제거 전 데이터 수: 22701\n",
            "제거 후 데이터 수: 22700\n",
            "제거된 이상치 수: 1\n"
          ]
        }
      ],
      "source": [
        "# passenger_count 컬럼의 이상치를 제거합니다.\n",
        "# (passenger_count가 6을 초과하는 경우)\n",
        "\n",
        "# passenger_count가 6 이하인 데이터만 남기기\n",
        "data_cleaned = data[data['passenger_count'] <= 6]\n",
        "\n",
        "# 결과 확인\n",
        "print(f\"제거 전 데이터 수: {len(data)}\")\n",
        "print(f\"제거 후 데이터 수: {len(data_cleaned)}\")\n",
        "print(f\"제거된 이상치 수: {len(data) - len(data_cleaned)}\")"
      ]
    },
    {
      "cell_type": "code",
      "execution_count": null,
      "id": "6b4510c2",
      "metadata": {
        "id": "6b4510c2",
        "outputId": "10d752ed-c301-42ae-89bb-3cd131012645"
      },
      "outputs": [
        {
          "name": "stdout",
          "output_type": "stream",
          "text": [
            "🚨 passenger_count가 0인 이상치 데이터:\n",
            "           passenger_name    tpep_pickup_datetime   tpep_dropoff_datetime  \\\n",
            "1518     Sophia Hernandez   11/14/2017 3:45:23 PM   11/14/2017 4:26:38 PM   \n",
            "1876         Tommy Weaver  12/03/2017 12:05:52 PM  12/03/2017 12:13:51 PM   \n",
            "1927     Melissa Thompson   09/09/2017 3:44:45 AM   09/09/2017 3:49:19 AM   \n",
            "3354          Lisa Wilson  12/18/2017 10:44:57 PM  12/18/2017 11:00:24 PM   \n",
            "4062    Benjamin Anderson   11/27/2017 1:08:01 PM   11/27/2017 1:17:55 PM   \n",
            "4921     Austin Gutierrez   12/16/2017 2:59:17 PM   12/16/2017 3:21:59 PM   \n",
            "5565      Charles Stewart   09/04/2017 5:40:00 PM   09/04/2017 5:51:52 PM   \n",
            "5605       Kristina Smith  12/17/2017 12:18:49 PM  12/17/2017 12:40:45 PM   \n",
            "5670           Susan Cook   12/16/2017 7:50:12 PM   12/16/2017 8:00:30 PM   \n",
            "5769        Rebecca Curry   10/04/2017 3:17:52 PM   10/04/2017 3:56:26 PM   \n",
            "7104     Latasha Campbell   12/29/2017 1:41:17 PM   12/29/2017 1:55:57 PM   \n",
            "8597        Jennifer Park  11/14/2017 12:06:01 PM  11/14/2017 12:27:38 PM   \n",
            "9830          Donna Young  10/07/2017 10:02:35 AM  10/07/2017 10:13:34 AM   \n",
            "10147      Lisa Valentine  12/04/2017 10:41:30 AM  12/04/2017 10:58:23 AM   \n",
            "10201            Mary Lin   09/17/2017 5:05:16 PM   09/17/2017 5:13:51 PM   \n",
            "12205     Sierra Mcintyre   11/16/2017 9:42:47 AM   11/16/2017 9:50:04 AM   \n",
            "12503      Mr. Dean Mccoy   04/18/2017 5:47:58 PM   04/18/2017 5:47:58 PM   \n",
            "12804       Clayton Adams   09/22/2017 6:49:25 AM   09/22/2017 7:01:57 AM   \n",
            "13421      Jennifer Green   12/18/2017 7:32:14 PM   12/18/2017 7:39:07 PM   \n",
            "13479     Susan Rodriguez   12/12/2017 9:45:42 AM   12/12/2017 9:49:37 AM   \n",
            "13718     Alexis Martinez   10/22/2017 5:55:51 PM   10/22/2017 5:58:34 PM   \n",
            "13921         Ashley Peck   11/05/2017 3:10:59 AM   11/05/2017 3:26:38 AM   \n",
            "13923     Christine Evans   11/17/2017 4:39:02 PM   11/17/2017 4:52:38 PM   \n",
            "14521  Kellie Bonilla DVM   12/24/2017 9:02:00 AM   12/24/2017 9:07:56 AM   \n",
            "14529      Angela Hoffman  11/15/2017 10:00:37 AM  11/15/2017 10:24:43 AM   \n",
            "17916        Eric Lambert   12/20/2017 9:42:39 AM   12/20/2017 9:57:47 AM   \n",
            "18311      Susan Gonzales   11/29/2017 9:57:19 PM  11/29/2017 10:04:13 PM   \n",
            "19219           Ann Moore   11/02/2017 7:01:54 PM   11/02/2017 7:25:31 PM   \n",
            "19458          Julia Bell   10/27/2017 2:11:07 PM   10/27/2017 2:32:17 PM   \n",
            "20312          John Silva   12/21/2017 8:55:39 AM   12/21/2017 9:04:03 AM   \n",
            "21218         Linda Perez   12/27/2017 6:21:58 AM   12/27/2017 6:27:32 AM   \n",
            "21640       Jason Walters   11/21/2017 5:47:11 AM   11/21/2017 5:58:23 AM   \n",
            "21754   Elizabeth Barrera  10/28/2017 10:25:02 PM  10/28/2017 10:43:44 PM   \n",
            "\n",
            "      payment_method  passenger_count  trip_distance  fare_amount  tip_amount  \\\n",
            "1518      Debit Card                0            8.8         33.0        5.55   \n",
            "1876            Cash                0            1.1          7.0        0.00   \n",
            "1927            Cash                0            0.8          5.0        0.00   \n",
            "3354            Cash                0            2.7         12.5        2.75   \n",
            "4062      Debit Card                0            1.7          9.0        1.95   \n",
            "4921      Debit Card                0            3.1         15.5        4.05   \n",
            "5565            Cash                0            1.3          9.0        1.95   \n",
            "5605            Cash                0            4.2         18.0        3.75   \n",
            "5670            Cash                0            1.0          8.0        1.50   \n",
            "5769            Cash                0           10.4         34.0        8.10   \n",
            "7104            Cash                0            2.1         11.5        2.45   \n",
            "8597      Debit Card                0            7.0         23.5        6.05   \n",
            "9830            Cash                0            6.0         18.0        3.75   \n",
            "10147     Debit Card                0            2.0         12.5        3.30   \n",
            "10201    Credit Card                0            0.9          7.0        1.00   \n",
            "12205           Cash                0            1.1          6.5        0.00   \n",
            "12503    Credit Card                0            0.0         77.2        0.00   \n",
            "12804    Credit Card                0            2.9         11.5        2.45   \n",
            "13421    Credit Card                0            2.4          8.5        1.00   \n",
            "13479     Debit Card                0            0.6          4.5        1.05   \n",
            "13718           Cash                0            0.6          4.0        0.72   \n",
            "13921     Debit Card                0            2.3         11.5        2.00   \n",
            "13923           Cash                0            0.9          9.5        2.25   \n",
            "14521    Credit Card                0            0.9          6.0        1.35   \n",
            "14529    Credit Card                0            5.5         21.0        1.50   \n",
            "17916           Cash                0            0.8         10.0        2.15   \n",
            "18311     Debit Card                0            0.7          6.5        0.00   \n",
            "19219           Cash                0            2.8         16.0        0.00   \n",
            "19458     Debit Card                0            2.7         14.5        2.50   \n",
            "20312    Credit Card                0            1.1          7.0        1.55   \n",
            "21218           Cash                0            1.3          6.5        0.00   \n",
            "21640    Credit Card                0            2.2         10.5        2.36   \n",
            "21754    Credit Card                0            1.6         12.5        3.45   \n",
            "\n",
            "       tolls_amount  \n",
            "1518           5.76  \n",
            "1876           0.00  \n",
            "1927           0.00  \n",
            "3354           0.00  \n",
            "4062           0.00  \n",
            "4921           0.00  \n",
            "5565           0.00  \n",
            "5605           0.00  \n",
            "5670           0.00  \n",
            "5769           5.76  \n",
            "7104           0.00  \n",
            "8597           0.00  \n",
            "9830           0.00  \n",
            "10147          0.00  \n",
            "10201          0.00  \n",
            "12205          0.00  \n",
            "12503          0.00  \n",
            "12804          0.00  \n",
            "13421          0.00  \n",
            "13479          0.00  \n",
            "13718          0.00  \n",
            "13921          0.00  \n",
            "13923          0.00  \n",
            "14521          0.00  \n",
            "14529          0.00  \n",
            "17916          0.00  \n",
            "18311          0.00  \n",
            "19219          0.00  \n",
            "19458          0.00  \n",
            "20312          0.00  \n",
            "21218          0.00  \n",
            "21640          0.00  \n",
            "21754          0.00  \n",
            "         passenger_name    tpep_pickup_datetime   tpep_dropoff_datetime  \\\n",
            "1518   Sophia Hernandez   11/14/2017 3:45:23 PM   11/14/2017 4:26:38 PM   \n",
            "1876       Tommy Weaver  12/03/2017 12:05:52 PM  12/03/2017 12:13:51 PM   \n",
            "1927   Melissa Thompson   09/09/2017 3:44:45 AM   09/09/2017 3:49:19 AM   \n",
            "3354        Lisa Wilson  12/18/2017 10:44:57 PM  12/18/2017 11:00:24 PM   \n",
            "4062  Benjamin Anderson   11/27/2017 1:08:01 PM   11/27/2017 1:17:55 PM   \n",
            "4921   Austin Gutierrez   12/16/2017 2:59:17 PM   12/16/2017 3:21:59 PM   \n",
            "5565    Charles Stewart   09/04/2017 5:40:00 PM   09/04/2017 5:51:52 PM   \n",
            "5605     Kristina Smith  12/17/2017 12:18:49 PM  12/17/2017 12:40:45 PM   \n",
            "5670         Susan Cook   12/16/2017 7:50:12 PM   12/16/2017 8:00:30 PM   \n",
            "5769      Rebecca Curry   10/04/2017 3:17:52 PM   10/04/2017 3:56:26 PM   \n",
            "\n",
            "     payment_method  passenger_count  trip_distance  fare_amount  tip_amount  \\\n",
            "1518     Debit Card                0            8.8         33.0        5.55   \n",
            "1876           Cash                0            1.1          7.0        0.00   \n",
            "1927           Cash                0            0.8          5.0        0.00   \n",
            "3354           Cash                0            2.7         12.5        2.75   \n",
            "4062     Debit Card                0            1.7          9.0        1.95   \n",
            "4921     Debit Card                0            3.1         15.5        4.05   \n",
            "5565           Cash                0            1.3          9.0        1.95   \n",
            "5605           Cash                0            4.2         18.0        3.75   \n",
            "5670           Cash                0            1.0          8.0        1.50   \n",
            "5769           Cash                0           10.4         34.0        8.10   \n",
            "\n",
            "      tolls_amount  \n",
            "1518          5.76  \n",
            "1876          0.00  \n",
            "1927          0.00  \n",
            "3354          0.00  \n",
            "4062          0.00  \n",
            "4921          0.00  \n",
            "5565          0.00  \n",
            "5605          0.00  \n",
            "5670          0.00  \n",
            "5769          5.76  \n",
            "\n",
            "총 33건의 passenger_count = 0인 데이터가 발견되었습니다.\n"
          ]
        }
      ],
      "source": [
        "# passenger_count 컬럼의 이상치를 확인합니다.\n",
        "# (passenger_count가 0인 경우)\n",
        "\n",
        "#data_len = data[data['passenger_count'] == 0]\n",
        "#print(data_len)\n",
        "\n",
        "\n",
        "#==========\n",
        "# passenger_count가 0인 이상치 확인\n",
        "zero_passengers = data[data['passenger_count'] == 0]\n",
        "\n",
        "# # 결과 출력\n",
        "print(\"🚨 passenger_count가 0인 이상치 데이터:\")\n",
        "print(zero_passengers)\n",
        "print(zero_passengers.head(10))    #결과를 10건만 출력\n",
        "\n",
        "\n",
        "# # 건수 출력\n",
        "print(f\"\\n총 {len(zero_passengers)}건의 passenger_count = 0인 데이터가 발견되었습니다.\")"
      ]
    },
    {
      "cell_type": "code",
      "execution_count": null,
      "id": "0f23315d",
      "metadata": {
        "id": "0f23315d",
        "outputId": "54be78ae-c32c-441e-ddf3-1dee3eb86c0a"
      },
      "outputs": [
        {
          "name": "stdout",
          "output_type": "stream",
          "text": [
            "          passenger_name    tpep_pickup_datetime   tpep_dropoff_datetime  \\\n",
            "0           Pamela Duffy   03/25/2017 8:55:43 AM   03/25/2017 9:09:47 AM   \n",
            "1        Michelle Foster   04/11/2017 2:53:28 PM   04/11/2017 3:19:58 PM   \n",
            "2             Tina Combs   12/15/2017 7:26:56 AM   12/15/2017 7:34:08 AM   \n",
            "3            Anthony Ray   05/07/2017 1:17:59 PM   05/07/2017 1:48:14 PM   \n",
            "4        Brianna Johnson  04/15/2017 11:32:20 PM  04/15/2017 11:49:03 PM   \n",
            "...                  ...                     ...                     ...   \n",
            "22696     Austin Johnson   02/24/2017 5:37:23 PM   02/24/2017 5:40:39 PM   \n",
            "22697   Monique Williams   08/06/2017 4:43:59 PM   08/06/2017 5:24:47 PM   \n",
            "22698        Drew Graves   09/04/2017 2:54:14 PM   09/04/2017 2:58:22 PM   \n",
            "22699  Jonathan Copeland  07/15/2017 12:56:30 PM   07/15/2017 1:08:26 PM   \n",
            "22700    Benjamin Miller   03/02/2017 1:02:49 PM   03/02/2017 1:16:09 PM   \n",
            "\n",
            "      payment_method  passenger_count  trip_distance  fare_amount  tip_amount  \\\n",
            "0         Debit Card                6           3.34         13.0        2.76   \n",
            "1         Debit Card                1           1.80         16.0        4.00   \n",
            "2         Debit Card                1           1.00          6.5        1.45   \n",
            "3               Cash                1           3.70         20.5        6.39   \n",
            "4         Debit Card                1           4.37         16.5        0.00   \n",
            "...              ...              ...            ...          ...         ...   \n",
            "22696           Cash                3           0.61          4.0        0.00   \n",
            "22697           Cash                1          16.71         52.0       14.64   \n",
            "22698     Debit Card                1           0.42          4.5        0.00   \n",
            "22699     Debit Card                1           2.36         10.5        1.70   \n",
            "22700           Cash                1           2.10         11.0        2.35   \n",
            "\n",
            "       tolls_amount  \n",
            "0              0.00  \n",
            "1              0.00  \n",
            "2              0.00  \n",
            "3              0.00  \n",
            "4              0.00  \n",
            "...             ...  \n",
            "22696          0.00  \n",
            "22697          5.76  \n",
            "22698          0.00  \n",
            "22699          0.00  \n",
            "22700          0.00  \n",
            "\n",
            "[22668 rows x 9 columns]\n"
          ]
        }
      ],
      "source": [
        "# passenger_count 컬럼의 이상치를 제거합니다.\n",
        "\n",
        "data = data[data['passenger_count'] != 0]\n",
        "print(data)"
      ]
    },
    {
      "cell_type": "code",
      "execution_count": null,
      "id": "0f10322f",
      "metadata": {
        "scrolled": true,
        "id": "0f10322f",
        "outputId": "822b1214-2d10-4fb8-fcd5-a0ac0d1edcab"
      },
      "outputs": [
        {
          "data": {
            "image/png": "[encoded data removed]",
            "text/plain": [
              "<Figure size 720x288 with 1 Axes>"
            ]
          },
          "metadata": {
            "needs_background": "light"
          },
          "output_type": "display_data"
        }
      ],
      "source": [
        "# passenger_count의 scatter plot을 다시 그려봅니다.\n",
        "\n",
        "#sns.scatterplot(x = data.index, y = data['passenger_count'])\n",
        "\n",
        "\n",
        "#==========\n",
        "import matplotlib.pyplot as plt\n",
        "import seaborn as sns\n",
        "\n",
        "# 1. 이상치 제거 (예: passenger_count > 6 제거)\n",
        "filtered_data = data[data['passenger_count'] <= 6]\n",
        "\n",
        "# 2. scatter plot 그리기\n",
        "plt.figure(figsize=(10, 4))\n",
        "sns.scatterplot(x=filtered_data.index, y=filtered_data['passenger_count'], alpha=0.6)\n",
        "\n",
        "# 3. 그래프 레이블 및 제목\n",
        "plt.title('Passenger Count Scatter Plot (Filtered: ≤ 6)')\n",
        "plt.xlabel('Index')\n",
        "plt.ylabel('Passenger Count')\n",
        "plt.grid(True)\n",
        "plt.show()\n"
      ]
    },
    {
      "cell_type": "code",
      "execution_count": null,
      "id": "9f8113c2",
      "metadata": {
        "id": "9f8113c2"
      },
      "outputs": [],
      "source": [
        "# == 수치형 컬럼의 이상치 제거"
      ]
    },
    {
      "cell_type": "code",
      "execution_count": null,
      "id": "df743ff5",
      "metadata": {
        "id": "df743ff5",
        "outputId": "ba4cc5cc-59f2-478e-96e1-d276590f9686"
      },
      "outputs": [
        {
          "name": "stdout",
          "output_type": "stream",
          "text": [
            "🚨 trip_distance 이상치:\n",
            "           passenger_name    tpep_pickup_datetime   tpep_dropoff_datetime  \\\n",
            "6            Tonya Moreno   05/03/2017 7:04:09 PM   05/03/2017 8:03:47 PM   \n",
            "11            Jamie Brown   03/05/2017 7:15:30 PM   03/05/2017 7:52:18 PM   \n",
            "22  Jacqueline Mclean DVM  10/11/2017 12:34:49 PM   10/11/2017 1:22:38 PM   \n",
            "30           David Burton   11/06/2017 8:30:50 PM  11/07/2017 12:00:00 AM   \n",
            "33             Amy Larsen  07/26/2017 11:26:50 PM  07/26/2017 11:55:49 PM   \n",
            "\n",
            "   payment_method  passenger_count  trip_distance  fare_amount  tip_amount  \\\n",
            "6            Cash                1          12.83        47.50        9.86   \n",
            "11     Debit Card                2          18.90        52.00       14.58   \n",
            "22     Debit Card                1          12.30        68.25       12.00   \n",
            "30    Credit Card                1          30.83        80.00       18.56   \n",
            "33           Cash                1          14.32        40.50        0.00   \n",
            "\n",
            "    tolls_amount  \n",
            "6           0.00  \n",
            "11          5.54  \n",
            "22         16.26  \n",
            "30         11.52  \n",
            "33          0.00  \n",
            "\n",
            "총 이상치 수: 2516건\n",
            "=================\n"
          ]
        },
        {
          "data": {
            "image/png": "[encoded data removed]",
            "text/plain": [
              "<Figure size 720x288 with 1 Axes>"
            ]
          },
          "metadata": {
            "needs_background": "light"
          },
          "output_type": "display_data"
        }
      ],
      "source": [
        "# Q. trip_distance의 이상치를 확인합니다.\n",
        "\n",
        "# [[YOUR CODE]]\n",
        "\n",
        "#=  방법 1: IQR (Interquartile Range) 기준으로 이상치 확인===\n",
        "# 1. 사분위수 계산\n",
        "Q1 = data['trip_distance'].quantile(0.25)\n",
        "Q3 = data['trip_distance'].quantile(0.75)\n",
        "IQR = Q3 - Q1\n",
        "\n",
        "# 2. 이상치 경계 정의\n",
        "lower_bound = Q1 - 1.5 * IQR\n",
        "upper_bound = Q3 + 1.5 * IQR\n",
        "\n",
        "# 3. 이상치 확인 (경계 밖에 있는 값들)\n",
        "outliers = data[(data['trip_distance'] < lower_bound) | (data['trip_distance'] > upper_bound)]\n",
        "\n",
        "# 4. 출력\n",
        "print(\"🚨 trip_distance 이상치:\")\n",
        "print(outliers.head())  # 이상치 중 상위 5개만 출력\n",
        "print(f\"\\n총 이상치 수: {len(outliers)}건\")\n",
        "\n",
        "\n",
        "print(\"=================\")\n",
        "\n",
        "# = 방법 2: 시각적으로 이상치 확인 (Boxplot)\n",
        "\n",
        "import seaborn as sns\n",
        "import matplotlib.pyplot as plt\n",
        "\n",
        "plt.figure(figsize=(10, 4))\n",
        "sns.boxplot(x=data['trip_distance'])\n",
        "plt.title(\"Trip Distance Boxplot (Outlier Detection)\")\n",
        "plt.xlabel(\"Trip Distance\")\n",
        "plt.grid(True)\n",
        "plt.show()"
      ]
    },
    {
      "cell_type": "code",
      "execution_count": null,
      "id": "2bf2ba58",
      "metadata": {
        "id": "2bf2ba58",
        "outputId": "3e27f61b-19b2-47cb-f56c-e1d1b0d27acb"
      },
      "outputs": [
        {
          "name": "stdout",
          "output_type": "stream",
          "text": [
            "제거 전 데이터 수: 22668\n",
            "제거 후 데이터 수: 20152\n",
            "제거된 이상치 수: 2516\n"
          ]
        }
      ],
      "source": [
        "# Q. trip_distance의 이상치를 제거합니다.\n",
        "\n",
        "# [[YOUR CODE]]\n",
        "\n",
        "\n",
        "\n",
        "# IQR 기준 이상치 제거]\n",
        "\n",
        "# 1. 사분위수 계산\n",
        "Q1 = data['trip_distance'].quantile(0.25)\n",
        "Q3 = data['trip_distance'].quantile(0.75)\n",
        "IQR = Q3 - Q1\n",
        "\n",
        "# 2. 이상치 경계값 설정\n",
        "lower_bound = Q1 - 1.5 * IQR\n",
        "upper_bound = Q3 + 1.5 * IQR\n",
        "\n",
        "# 3. 이상치를 제외한 데이터 필터링\n",
        "data_cleaned = data[(data['trip_distance'] >= lower_bound) & (data['trip_distance'] <= upper_bound)]\n",
        "\n",
        "# 4. 결과 출력\n",
        "print(f\"제거 전 데이터 수: {len(data)}\")\n",
        "print(f\"제거 후 데이터 수: {len(data_cleaned)}\")\n",
        "print(f\"제거된 이상치 수: {len(data) - len(data_cleaned)}\")"
      ]
    },
    {
      "cell_type": "code",
      "execution_count": null,
      "id": "7cb366a9",
      "metadata": {
        "id": "7cb366a9",
        "outputId": "8ee076cb-2ea9-4f25-bafd-d15fd2111597"
      },
      "outputs": [
        {
          "data": {
            "image/png": "[encoded data removed]",
            "text/plain": [
              "<Figure size 720x360 with 1 Axes>"
            ]
          },
          "metadata": {
            "needs_background": "light"
          },
          "output_type": "display_data"
        }
      ],
      "source": [
        "# Q. trip_distance의 히스토그램을 그립니다.\n",
        "\n",
        "# [[YOUR CODE]]\n",
        "\n",
        "\n",
        "import matplotlib.pyplot as plt\n",
        "import seaborn as sns\n",
        "\n",
        "plt.figure(figsize=(10, 5))\n",
        "sns.histplot(data['trip_distance'], bins=50, kde=False)\n",
        "\n",
        "plt.title('Trip Distance Histogram')\n",
        "plt.xlabel('Trip Distance')\n",
        "plt.ylabel('Frequency')\n",
        "plt.grid(True)\n",
        "plt.show()"
      ]
    },
    {
      "cell_type": "code",
      "execution_count": null,
      "id": "673a6a81",
      "metadata": {
        "id": "673a6a81",
        "outputId": "846758a5-8de1-4583-fd5d-5a38ce60215c"
      },
      "outputs": [
        {
          "data": {
            "text/html": [
              "<div>\n",
              "<style scoped>\n",
              "    .dataframe tbody tr th:only-of-type {\n",
              "        vertical-align: middle;\n",
              "    }\n",
              "\n",
              "    .dataframe tbody tr th {\n",
              "        vertical-align: top;\n",
              "    }\n",
              "\n",
              "    .dataframe thead th {\n",
              "        text-align: right;\n",
              "    }\n",
              "</style>\n",
              "<table border=\"1\" class=\"dataframe\">\n",
              "  <thead>\n",
              "    <tr style=\"text-align: right;\">\n",
              "      <th></th>\n",
              "      <th>passenger_count</th>\n",
              "      <th>trip_distance</th>\n",
              "      <th>fare_amount</th>\n",
              "      <th>tip_amount</th>\n",
              "      <th>tolls_amount</th>\n",
              "    </tr>\n",
              "  </thead>\n",
              "  <tbody>\n",
              "    <tr>\n",
              "      <th>count</th>\n",
              "      <td>22668.000000</td>\n",
              "      <td>22668.000000</td>\n",
              "      <td>22665.000000</td>\n",
              "      <td>22668.000000</td>\n",
              "      <td>22668.000000</td>\n",
              "    </tr>\n",
              "    <tr>\n",
              "      <th>mean</th>\n",
              "      <td>1.645977</td>\n",
              "      <td>2.913958</td>\n",
              "      <td>13.022359</td>\n",
              "      <td>1.835308</td>\n",
              "      <td>0.312461</td>\n",
              "    </tr>\n",
              "    <tr>\n",
              "      <th>std</th>\n",
              "      <td>1.304383</td>\n",
              "      <td>3.654503</td>\n",
              "      <td>13.240023</td>\n",
              "      <td>2.801648</td>\n",
              "      <td>1.399188</td>\n",
              "    </tr>\n",
              "    <tr>\n",
              "      <th>min</th>\n",
              "      <td>1.000000</td>\n",
              "      <td>0.000000</td>\n",
              "      <td>-120.000000</td>\n",
              "      <td>0.000000</td>\n",
              "      <td>0.000000</td>\n",
              "    </tr>\n",
              "    <tr>\n",
              "      <th>25%</th>\n",
              "      <td>1.000000</td>\n",
              "      <td>0.990000</td>\n",
              "      <td>6.500000</td>\n",
              "      <td>0.000000</td>\n",
              "      <td>0.000000</td>\n",
              "    </tr>\n",
              "    <tr>\n",
              "      <th>50%</th>\n",
              "      <td>1.000000</td>\n",
              "      <td>1.610000</td>\n",
              "      <td>9.500000</td>\n",
              "      <td>1.350000</td>\n",
              "      <td>0.000000</td>\n",
              "    </tr>\n",
              "    <tr>\n",
              "      <th>75%</th>\n",
              "      <td>2.000000</td>\n",
              "      <td>3.070000</td>\n",
              "      <td>14.500000</td>\n",
              "      <td>2.450000</td>\n",
              "      <td>0.000000</td>\n",
              "    </tr>\n",
              "    <tr>\n",
              "      <th>max</th>\n",
              "      <td>36.000000</td>\n",
              "      <td>33.960000</td>\n",
              "      <td>999.990000</td>\n",
              "      <td>200.000000</td>\n",
              "      <td>19.100000</td>\n",
              "    </tr>\n",
              "  </tbody>\n",
              "</table>\n",
              "</div>"
            ],
            "text/plain": [
              "       passenger_count  trip_distance   fare_amount    tip_amount  \\\n",
              "count     22668.000000   22668.000000  22665.000000  22668.000000   \n",
              "mean          1.645977       2.913958     13.022359      1.835308   \n",
              "std           1.304383       3.654503     13.240023      2.801648   \n",
              "min           1.000000       0.000000   -120.000000      0.000000   \n",
              "25%           1.000000       0.990000      6.500000      0.000000   \n",
              "50%           1.000000       1.610000      9.500000      1.350000   \n",
              "75%           2.000000       3.070000     14.500000      2.450000   \n",
              "max          36.000000      33.960000    999.990000    200.000000   \n",
              "\n",
              "       tolls_amount  \n",
              "count  22668.000000  \n",
              "mean       0.312461  \n",
              "std        1.399188  \n",
              "min        0.000000  \n",
              "25%        0.000000  \n",
              "50%        0.000000  \n",
              "75%        0.000000  \n",
              "max       19.100000  "
            ]
          },
          "execution_count": 33,
          "metadata": {},
          "output_type": "execute_result"
        }
      ],
      "source": [
        "data.describe()"
      ]
    },
    {
      "cell_type": "code",
      "execution_count": null,
      "id": "12a91bc5",
      "metadata": {
        "id": "12a91bc5",
        "outputId": "e808df6c-522e-4230-cd8c-fb5ba2d40825"
      },
      "outputs": [
        {
          "name": "stdout",
          "output_type": "stream",
          "text": [
            "🚨 fare_amount가 0 이하인 이상치 개수: 20\n",
            "              passenger_name    tpep_pickup_datetime   tpep_dropoff_datetime  \\\n",
            "316          Tiffany Johnson   12/13/2017 2:02:39 AM   12/13/2017 2:03:08 AM   \n",
            "1648           Debbie Holmes  07/05/2017 11:02:23 AM  07/05/2017 11:03:00 AM   \n",
            "4404  Mrs. Tiffany Brown DDS   12/20/2017 4:06:53 PM   12/20/2017 4:47:50 PM   \n",
            "4425            Bobby Wilson   11/16/2017 8:13:30 PM   11/16/2017 8:14:50 PM   \n",
            "5450      Alejandro Williams  04/06/2017 12:50:26 PM  04/06/2017 12:52:39 PM   \n",
            "\n",
            "     payment_method  passenger_count  trip_distance  fare_amount  tip_amount  \\\n",
            "316            Cash                6           0.12         -2.5         0.0   \n",
            "1648    Credit Card                1           0.04         -2.5         0.0   \n",
            "4404           Cash                1           7.06          0.0         0.0   \n",
            "4425           Cash                2           0.06         -3.0         0.0   \n",
            "5450     Debit Card                1           0.25         -3.5         0.0   \n",
            "\n",
            "      tolls_amount  \n",
            "316            0.0  \n",
            "1648           0.0  \n",
            "4404           0.0  \n",
            "4425           0.0  \n",
            "5450           0.0  \n"
          ]
        },
        {
          "data": {
            "image/png": "[encoded data removed]",
            "text/plain": [
              "<Figure size 720x288 with 1 Axes>"
            ]
          },
          "metadata": {
            "needs_background": "light"
          },
          "output_type": "display_data"
        }
      ],
      "source": [
        "# Q. fare_amount의 이상치 데이터 개수를 확인합니다.\n",
        "# (fare_amount가 0 이하인 경우)\n",
        "\n",
        "# [[YOUR CODE]]\n",
        "\n",
        "# 0 이하인 이상치 조건 필터링\n",
        "fare_outliers = data[data['fare_amount'] <= 0]\n",
        "\n",
        "# 이상치 개수 출력\n",
        "print(f\"🚨 fare_amount가 0 이하인 이상치 개수: {len(fare_outliers)}\")\n",
        "\n",
        "\n",
        "print(fare_outliers.head())\n",
        "\n",
        "\n",
        "import seaborn as sns\n",
        "import matplotlib.pyplot as plt\n",
        "\n",
        "plt.figure(figsize=(10, 4))\n",
        "sns.histplot(data['fare_amount'], bins=50)\n",
        "plt.title('Fare Amount Distribution (Including Outliers)')\n",
        "plt.xlabel('Fare Amount')\n",
        "plt.grid(True)\n",
        "plt.show()"
      ]
    },
    {
      "cell_type": "code",
      "execution_count": null,
      "id": "b840e0b5",
      "metadata": {
        "id": "b840e0b5",
        "outputId": "9c79bb9d-8203-4390-c3af-3a40c50b3dfd"
      },
      "outputs": [
        {
          "name": "stdout",
          "output_type": "stream",
          "text": [
            "제거 전 데이터 수: 22668\n",
            "제거 후 데이터 수: 22645\n",
            "제거된 이상치 수: 23\n"
          ]
        }
      ],
      "source": [
        "# Q. fare_amount의 이상치를 제거합니다.\n",
        "\n",
        "# [[YOUR CODE]]\n",
        "\n",
        "# 0 이하인 이상치 제거\n",
        "data_cleaned = data[data['fare_amount'] > 0]\n",
        "\n",
        "# 결과 확인\n",
        "print(f\"제거 전 데이터 수: {len(data)}\")\n",
        "print(f\"제거 후 데이터 수: {len(data_cleaned)}\")\n",
        "print(f\"제거된 이상치 수: {len(data) - len(data_cleaned)}\")"
      ]
    },
    {
      "cell_type": "code",
      "execution_count": null,
      "id": "33c8ecbd",
      "metadata": {
        "id": "33c8ecbd",
        "outputId": "0d67dde9-7c80-4ef8-e955-fbb4be8cb231"
      },
      "outputs": [
        {
          "data": {
            "text/html": [
              "<div>\n",
              "<style scoped>\n",
              "    .dataframe tbody tr th:only-of-type {\n",
              "        vertical-align: middle;\n",
              "    }\n",
              "\n",
              "    .dataframe tbody tr th {\n",
              "        vertical-align: top;\n",
              "    }\n",
              "\n",
              "    .dataframe thead th {\n",
              "        text-align: right;\n",
              "    }\n",
              "</style>\n",
              "<table border=\"1\" class=\"dataframe\">\n",
              "  <thead>\n",
              "    <tr style=\"text-align: right;\">\n",
              "      <th></th>\n",
              "      <th>passenger_name</th>\n",
              "      <th>tpep_pickup_datetime</th>\n",
              "      <th>tpep_dropoff_datetime</th>\n",
              "      <th>payment_method</th>\n",
              "      <th>passenger_count</th>\n",
              "      <th>trip_distance</th>\n",
              "      <th>fare_amount</th>\n",
              "      <th>tip_amount</th>\n",
              "      <th>tolls_amount</th>\n",
              "    </tr>\n",
              "  </thead>\n",
              "  <tbody>\n",
              "    <tr>\n",
              "      <th>12946</th>\n",
              "      <td>Patrick Herring</td>\n",
              "      <td>04/08/2017 12:00:16 AM</td>\n",
              "      <td>04/08/2017 11:15:57 PM</td>\n",
              "      <td>Cash</td>\n",
              "      <td>1</td>\n",
              "      <td>0.17</td>\n",
              "      <td>-120.00</td>\n",
              "      <td>0.0</td>\n",
              "      <td>0.00</td>\n",
              "    </tr>\n",
              "    <tr>\n",
              "      <th>20700</th>\n",
              "      <td>Nicole Pierce</td>\n",
              "      <td>02/24/2017 12:38:17 AM</td>\n",
              "      <td>02/24/2017 12:42:05 AM</td>\n",
              "      <td>Cash</td>\n",
              "      <td>1</td>\n",
              "      <td>0.70</td>\n",
              "      <td>-4.50</td>\n",
              "      <td>0.0</td>\n",
              "      <td>0.00</td>\n",
              "    </tr>\n",
              "    <tr>\n",
              "      <th>11206</th>\n",
              "      <td>Austin Fields</td>\n",
              "      <td>07/09/2017 7:20:59 AM</td>\n",
              "      <td>07/09/2017 7:23:50 AM</td>\n",
              "      <td>Debit Card</td>\n",
              "      <td>1</td>\n",
              "      <td>0.64</td>\n",
              "      <td>-4.50</td>\n",
              "      <td>0.0</td>\n",
              "      <td>0.00</td>\n",
              "    </tr>\n",
              "    <tr>\n",
              "      <th>17604</th>\n",
              "      <td>Tyler Lowe</td>\n",
              "      <td>03/24/2017 7:31:13 PM</td>\n",
              "      <td>03/24/2017 7:34:49 PM</td>\n",
              "      <td>Cash</td>\n",
              "      <td>1</td>\n",
              "      <td>0.46</td>\n",
              "      <td>-4.00</td>\n",
              "      <td>0.0</td>\n",
              "      <td>0.00</td>\n",
              "    </tr>\n",
              "    <tr>\n",
              "      <th>14716</th>\n",
              "      <td>Stefanie Warner</td>\n",
              "      <td>12/24/2017 10:37:58 PM</td>\n",
              "      <td>12/24/2017 10:41:08 PM</td>\n",
              "      <td>Debit Card</td>\n",
              "      <td>5</td>\n",
              "      <td>0.40</td>\n",
              "      <td>-4.00</td>\n",
              "      <td>0.0</td>\n",
              "      <td>0.00</td>\n",
              "    </tr>\n",
              "    <tr>\n",
              "      <th>...</th>\n",
              "      <td>...</td>\n",
              "      <td>...</td>\n",
              "      <td>...</td>\n",
              "      <td>...</td>\n",
              "      <td>...</td>\n",
              "      <td>...</td>\n",
              "      <td>...</td>\n",
              "      <td>...</td>\n",
              "      <td>...</td>\n",
              "    </tr>\n",
              "    <tr>\n",
              "      <th>20314</th>\n",
              "      <td>Nicholas Thomas</td>\n",
              "      <td>12/19/2017 9:40:46 AM</td>\n",
              "      <td>12/19/2017 9:40:55 AM</td>\n",
              "      <td>Cash</td>\n",
              "      <td>2</td>\n",
              "      <td>0.00</td>\n",
              "      <td>450.00</td>\n",
              "      <td>0.0</td>\n",
              "      <td>0.00</td>\n",
              "    </tr>\n",
              "    <tr>\n",
              "      <th>8478</th>\n",
              "      <td>Alexis Hanson</td>\n",
              "      <td>02/06/2017 5:50:10 AM</td>\n",
              "      <td>02/06/2017 5:51:08 AM</td>\n",
              "      <td>Credit Card</td>\n",
              "      <td>1</td>\n",
              "      <td>2.60</td>\n",
              "      <td>999.99</td>\n",
              "      <td>200.0</td>\n",
              "      <td>0.00</td>\n",
              "    </tr>\n",
              "    <tr>\n",
              "      <th>52</th>\n",
              "      <td>Benjamin Johnson</td>\n",
              "      <td>04/04/2017 4:22:03 PM</td>\n",
              "      <td>04/04/2017 4:35:30 PM</td>\n",
              "      <td>Cash</td>\n",
              "      <td>1</td>\n",
              "      <td>2.20</td>\n",
              "      <td>NaN</td>\n",
              "      <td>0.0</td>\n",
              "      <td>0.00</td>\n",
              "    </tr>\n",
              "    <tr>\n",
              "      <th>189</th>\n",
              "      <td>Maria Ibarra</td>\n",
              "      <td>08/21/2017 12:40:25 PM</td>\n",
              "      <td>08/21/2017 1:12:31 PM</td>\n",
              "      <td>Debit Card</td>\n",
              "      <td>3</td>\n",
              "      <td>15.20</td>\n",
              "      <td>NaN</td>\n",
              "      <td>5.0</td>\n",
              "      <td>0.00</td>\n",
              "    </tr>\n",
              "    <tr>\n",
              "      <th>244</th>\n",
              "      <td>Tina Avila</td>\n",
              "      <td>08/09/2017 8:32:09 AM</td>\n",
              "      <td>08/09/2017 9:31:11 AM</td>\n",
              "      <td>Cash</td>\n",
              "      <td>1</td>\n",
              "      <td>15.89</td>\n",
              "      <td>NaN</td>\n",
              "      <td>10.0</td>\n",
              "      <td>5.76</td>\n",
              "    </tr>\n",
              "  </tbody>\n",
              "</table>\n",
              "<p>22668 rows × 9 columns</p>\n",
              "</div>"
            ],
            "text/plain": [
              "         passenger_name    tpep_pickup_datetime   tpep_dropoff_datetime  \\\n",
              "12946   Patrick Herring  04/08/2017 12:00:16 AM  04/08/2017 11:15:57 PM   \n",
              "20700     Nicole Pierce  02/24/2017 12:38:17 AM  02/24/2017 12:42:05 AM   \n",
              "11206     Austin Fields   07/09/2017 7:20:59 AM   07/09/2017 7:23:50 AM   \n",
              "17604        Tyler Lowe   03/24/2017 7:31:13 PM   03/24/2017 7:34:49 PM   \n",
              "14716   Stefanie Warner  12/24/2017 10:37:58 PM  12/24/2017 10:41:08 PM   \n",
              "...                 ...                     ...                     ...   \n",
              "20314   Nicholas Thomas   12/19/2017 9:40:46 AM   12/19/2017 9:40:55 AM   \n",
              "8478      Alexis Hanson   02/06/2017 5:50:10 AM   02/06/2017 5:51:08 AM   \n",
              "52     Benjamin Johnson   04/04/2017 4:22:03 PM   04/04/2017 4:35:30 PM   \n",
              "189        Maria Ibarra  08/21/2017 12:40:25 PM   08/21/2017 1:12:31 PM   \n",
              "244          Tina Avila   08/09/2017 8:32:09 AM   08/09/2017 9:31:11 AM   \n",
              "\n",
              "      payment_method  passenger_count  trip_distance  fare_amount  tip_amount  \\\n",
              "12946           Cash                1           0.17      -120.00         0.0   \n",
              "20700           Cash                1           0.70        -4.50         0.0   \n",
              "11206     Debit Card                1           0.64        -4.50         0.0   \n",
              "17604           Cash                1           0.46        -4.00         0.0   \n",
              "14716     Debit Card                5           0.40        -4.00         0.0   \n",
              "...              ...              ...            ...          ...         ...   \n",
              "20314           Cash                2           0.00       450.00         0.0   \n",
              "8478     Credit Card                1           2.60       999.99       200.0   \n",
              "52              Cash                1           2.20          NaN         0.0   \n",
              "189       Debit Card                3          15.20          NaN         5.0   \n",
              "244             Cash                1          15.89          NaN        10.0   \n",
              "\n",
              "       tolls_amount  \n",
              "12946          0.00  \n",
              "20700          0.00  \n",
              "11206          0.00  \n",
              "17604          0.00  \n",
              "14716          0.00  \n",
              "...             ...  \n",
              "20314          0.00  \n",
              "8478           0.00  \n",
              "52             0.00  \n",
              "189            0.00  \n",
              "244            5.76  \n",
              "\n",
              "[22668 rows x 9 columns]"
            ]
          },
          "execution_count": 36,
          "metadata": {},
          "output_type": "execute_result"
        }
      ],
      "source": [
        "data.sort_values('fare_amount')"
      ]
    },
    {
      "cell_type": "code",
      "execution_count": null,
      "id": "983cefea",
      "metadata": {
        "id": "983cefea",
        "outputId": "a231bd2c-ee18-4b8d-a739-858cc45e1340"
      },
      "outputs": [
        {
          "name": "stdout",
          "output_type": "stream",
          "text": [
            "제거 전 데이터 수: 22668\n",
            "제거 후 데이터 수: 22645\n",
            "제거된 이상치 수: 23\n"
          ]
        }
      ],
      "source": [
        "# Q. fare_amount의 이상치를 제거합니다.\n",
        "\n",
        "# [[YOUR CODE]]\n",
        "\n",
        "# 이상치 제거: fare_amount가 0보다 큰 값만 남김\n",
        "data_cleaned = data[data['fare_amount'] > 0]\n",
        "\n",
        "# 결과 확인\n",
        "print(f\"제거 전 데이터 수: {len(data)}\")\n",
        "print(f\"제거 후 데이터 수: {len(data_cleaned)}\")\n",
        "print(f\"제거된 이상치 수: {len(data) - len(data_cleaned)}\")"
      ]
    },
    {
      "cell_type": "code",
      "execution_count": null,
      "id": "e720732d",
      "metadata": {
        "id": "e720732d",
        "outputId": "2b787556-bf86-4fbf-a2b1-1593f1df4ab9"
      },
      "outputs": [
        {
          "data": {
            "image/png": "[encoded data removed]",
            "text/plain": [
              "<Figure size 720x360 with 1 Axes>"
            ]
          },
          "metadata": {
            "needs_background": "light"
          },
          "output_type": "display_data"
        }
      ],
      "source": [
        "# Q. fare_amount의 scatter plot을 그립니다.\n",
        "\n",
        "# [[YOUR CODE]]\n",
        "\n",
        "import matplotlib.pyplot as plt\n",
        "import seaborn as sns\n",
        "\n",
        "plt.figure(figsize=(10, 5))\n",
        "sns.scatterplot(x=data.index, y=data['fare_amount'], alpha=0.6)\n",
        "\n",
        "plt.title('Fare Amount Scatter Plot')\n",
        "plt.xlabel('Index')\n",
        "plt.ylabel('Fare Amount')\n",
        "plt.grid(True)\n",
        "plt.show()\n"
      ]
    },
    {
      "cell_type": "code",
      "execution_count": null,
      "id": "c1b14589",
      "metadata": {
        "id": "c1b14589",
        "outputId": "fbb2f44f-6b03-46f2-f834-3f809836abc3"
      },
      "outputs": [
        {
          "data": {
            "text/plain": [
              "0        13.0\n",
              "1        16.0\n",
              "2         6.5\n",
              "3        20.5\n",
              "4        16.5\n",
              "         ... \n",
              "22696     4.0\n",
              "22697    52.0\n",
              "22698     4.5\n",
              "22699    10.5\n",
              "22700    11.0\n",
              "Name: fare_amount, Length: 22668, dtype: float64"
            ]
          },
          "execution_count": 39,
          "metadata": {},
          "output_type": "execute_result"
        }
      ],
      "source": [
        "# fare_amount가 150을 초과한다면 150으로 변환합니다.\n",
        "\n",
        "def fare_func(x):\n",
        "    if x > 150:\n",
        "        return 150\n",
        "    else:\n",
        "        return x\n",
        "\n",
        "\n",
        "\n",
        "#===========\n",
        "# 150 초과 값은 150으로, 그 외는 원래 값 유지\n",
        "data_amount = data['fare_amount'].apply(lambda x: 150 if x > 150 else x)\n",
        "data_amount"
      ]
    },
    {
      "cell_type": "code",
      "execution_count": null,
      "id": "a9e171b4",
      "metadata": {
        "id": "a9e171b4",
        "outputId": "9d5a6254-68f5-4965-a048-7874de12a0fe"
      },
      "outputs": [
        {
          "data": {
            "text/plain": [
              "0        13.0\n",
              "1        16.0\n",
              "2         6.5\n",
              "3        20.5\n",
              "4        16.5\n",
              "         ... \n",
              "22696     4.0\n",
              "22697    52.0\n",
              "22698     4.5\n",
              "22699    10.5\n",
              "22700    11.0\n",
              "Name: fare_amount, Length: 22668, dtype: float64"
            ]
          },
          "execution_count": 40,
          "metadata": {},
          "output_type": "execute_result"
        }
      ],
      "source": [
        "data['fare_amount'].apply(fare_func)"
      ]
    },
    {
      "cell_type": "code",
      "execution_count": null,
      "id": "c9365db6",
      "metadata": {
        "id": "c9365db6",
        "outputId": "1a07995e-67cd-4938-f2d5-870b0a877155"
      },
      "outputs": [
        {
          "data": {
            "text/html": [
              "<div>\n",
              "<style scoped>\n",
              "    .dataframe tbody tr th:only-of-type {\n",
              "        vertical-align: middle;\n",
              "    }\n",
              "\n",
              "    .dataframe tbody tr th {\n",
              "        vertical-align: top;\n",
              "    }\n",
              "\n",
              "    .dataframe thead th {\n",
              "        text-align: right;\n",
              "    }\n",
              "</style>\n",
              "<table border=\"1\" class=\"dataframe\">\n",
              "  <thead>\n",
              "    <tr style=\"text-align: right;\">\n",
              "      <th></th>\n",
              "      <th>passenger_name</th>\n",
              "      <th>tpep_pickup_datetime</th>\n",
              "      <th>tpep_dropoff_datetime</th>\n",
              "      <th>payment_method</th>\n",
              "      <th>passenger_count</th>\n",
              "      <th>trip_distance</th>\n",
              "      <th>fare_amount</th>\n",
              "      <th>tip_amount</th>\n",
              "      <th>tolls_amount</th>\n",
              "    </tr>\n",
              "  </thead>\n",
              "  <tbody>\n",
              "    <tr>\n",
              "      <th>12946</th>\n",
              "      <td>Patrick Herring</td>\n",
              "      <td>04/08/2017 12:00:16 AM</td>\n",
              "      <td>04/08/2017 11:15:57 PM</td>\n",
              "      <td>Cash</td>\n",
              "      <td>1</td>\n",
              "      <td>0.17</td>\n",
              "      <td>-120.0</td>\n",
              "      <td>0.0</td>\n",
              "      <td>0.00</td>\n",
              "    </tr>\n",
              "    <tr>\n",
              "      <th>20700</th>\n",
              "      <td>Nicole Pierce</td>\n",
              "      <td>02/24/2017 12:38:17 AM</td>\n",
              "      <td>02/24/2017 12:42:05 AM</td>\n",
              "      <td>Cash</td>\n",
              "      <td>1</td>\n",
              "      <td>0.70</td>\n",
              "      <td>-4.5</td>\n",
              "      <td>0.0</td>\n",
              "      <td>0.00</td>\n",
              "    </tr>\n",
              "    <tr>\n",
              "      <th>11206</th>\n",
              "      <td>Austin Fields</td>\n",
              "      <td>07/09/2017 7:20:59 AM</td>\n",
              "      <td>07/09/2017 7:23:50 AM</td>\n",
              "      <td>Debit Card</td>\n",
              "      <td>1</td>\n",
              "      <td>0.64</td>\n",
              "      <td>-4.5</td>\n",
              "      <td>0.0</td>\n",
              "      <td>0.00</td>\n",
              "    </tr>\n",
              "    <tr>\n",
              "      <th>17604</th>\n",
              "      <td>Tyler Lowe</td>\n",
              "      <td>03/24/2017 7:31:13 PM</td>\n",
              "      <td>03/24/2017 7:34:49 PM</td>\n",
              "      <td>Cash</td>\n",
              "      <td>1</td>\n",
              "      <td>0.46</td>\n",
              "      <td>-4.0</td>\n",
              "      <td>0.0</td>\n",
              "      <td>0.00</td>\n",
              "    </tr>\n",
              "    <tr>\n",
              "      <th>14716</th>\n",
              "      <td>Stefanie Warner</td>\n",
              "      <td>12/24/2017 10:37:58 PM</td>\n",
              "      <td>12/24/2017 10:41:08 PM</td>\n",
              "      <td>Debit Card</td>\n",
              "      <td>5</td>\n",
              "      <td>0.40</td>\n",
              "      <td>-4.0</td>\n",
              "      <td>0.0</td>\n",
              "      <td>0.00</td>\n",
              "    </tr>\n",
              "    <tr>\n",
              "      <th>...</th>\n",
              "      <td>...</td>\n",
              "      <td>...</td>\n",
              "      <td>...</td>\n",
              "      <td>...</td>\n",
              "      <td>...</td>\n",
              "      <td>...</td>\n",
              "      <td>...</td>\n",
              "      <td>...</td>\n",
              "      <td>...</td>\n",
              "    </tr>\n",
              "    <tr>\n",
              "      <th>3584</th>\n",
              "      <td>Matthew Chavez</td>\n",
              "      <td>01/01/2017 11:53:01 PM</td>\n",
              "      <td>01/01/2017 11:53:42 PM</td>\n",
              "      <td>Credit Card</td>\n",
              "      <td>1</td>\n",
              "      <td>7.30</td>\n",
              "      <td>150.0</td>\n",
              "      <td>0.0</td>\n",
              "      <td>0.00</td>\n",
              "    </tr>\n",
              "    <tr>\n",
              "      <th>8478</th>\n",
              "      <td>Alexis Hanson</td>\n",
              "      <td>02/06/2017 5:50:10 AM</td>\n",
              "      <td>02/06/2017 5:51:08 AM</td>\n",
              "      <td>Credit Card</td>\n",
              "      <td>1</td>\n",
              "      <td>2.60</td>\n",
              "      <td>150.0</td>\n",
              "      <td>200.0</td>\n",
              "      <td>0.00</td>\n",
              "    </tr>\n",
              "    <tr>\n",
              "      <th>52</th>\n",
              "      <td>Benjamin Johnson</td>\n",
              "      <td>04/04/2017 4:22:03 PM</td>\n",
              "      <td>04/04/2017 4:35:30 PM</td>\n",
              "      <td>Cash</td>\n",
              "      <td>1</td>\n",
              "      <td>2.20</td>\n",
              "      <td>NaN</td>\n",
              "      <td>0.0</td>\n",
              "      <td>0.00</td>\n",
              "    </tr>\n",
              "    <tr>\n",
              "      <th>189</th>\n",
              "      <td>Maria Ibarra</td>\n",
              "      <td>08/21/2017 12:40:25 PM</td>\n",
              "      <td>08/21/2017 1:12:31 PM</td>\n",
              "      <td>Debit Card</td>\n",
              "      <td>3</td>\n",
              "      <td>15.20</td>\n",
              "      <td>NaN</td>\n",
              "      <td>5.0</td>\n",
              "      <td>0.00</td>\n",
              "    </tr>\n",
              "    <tr>\n",
              "      <th>244</th>\n",
              "      <td>Tina Avila</td>\n",
              "      <td>08/09/2017 8:32:09 AM</td>\n",
              "      <td>08/09/2017 9:31:11 AM</td>\n",
              "      <td>Cash</td>\n",
              "      <td>1</td>\n",
              "      <td>15.89</td>\n",
              "      <td>NaN</td>\n",
              "      <td>10.0</td>\n",
              "      <td>5.76</td>\n",
              "    </tr>\n",
              "  </tbody>\n",
              "</table>\n",
              "<p>22668 rows × 9 columns</p>\n",
              "</div>"
            ],
            "text/plain": [
              "         passenger_name    tpep_pickup_datetime   tpep_dropoff_datetime  \\\n",
              "12946   Patrick Herring  04/08/2017 12:00:16 AM  04/08/2017 11:15:57 PM   \n",
              "20700     Nicole Pierce  02/24/2017 12:38:17 AM  02/24/2017 12:42:05 AM   \n",
              "11206     Austin Fields   07/09/2017 7:20:59 AM   07/09/2017 7:23:50 AM   \n",
              "17604        Tyler Lowe   03/24/2017 7:31:13 PM   03/24/2017 7:34:49 PM   \n",
              "14716   Stefanie Warner  12/24/2017 10:37:58 PM  12/24/2017 10:41:08 PM   \n",
              "...                 ...                     ...                     ...   \n",
              "3584     Matthew Chavez  01/01/2017 11:53:01 PM  01/01/2017 11:53:42 PM   \n",
              "8478      Alexis Hanson   02/06/2017 5:50:10 AM   02/06/2017 5:51:08 AM   \n",
              "52     Benjamin Johnson   04/04/2017 4:22:03 PM   04/04/2017 4:35:30 PM   \n",
              "189        Maria Ibarra  08/21/2017 12:40:25 PM   08/21/2017 1:12:31 PM   \n",
              "244          Tina Avila   08/09/2017 8:32:09 AM   08/09/2017 9:31:11 AM   \n",
              "\n",
              "      payment_method  passenger_count  trip_distance  fare_amount  tip_amount  \\\n",
              "12946           Cash                1           0.17       -120.0         0.0   \n",
              "20700           Cash                1           0.70         -4.5         0.0   \n",
              "11206     Debit Card                1           0.64         -4.5         0.0   \n",
              "17604           Cash                1           0.46         -4.0         0.0   \n",
              "14716     Debit Card                5           0.40         -4.0         0.0   \n",
              "...              ...              ...            ...          ...         ...   \n",
              "3584     Credit Card                1           7.30        150.0         0.0   \n",
              "8478     Credit Card                1           2.60        150.0       200.0   \n",
              "52              Cash                1           2.20          NaN         0.0   \n",
              "189       Debit Card                3          15.20          NaN         5.0   \n",
              "244             Cash                1          15.89          NaN        10.0   \n",
              "\n",
              "       tolls_amount  \n",
              "12946          0.00  \n",
              "20700          0.00  \n",
              "11206          0.00  \n",
              "17604          0.00  \n",
              "14716          0.00  \n",
              "...             ...  \n",
              "3584           0.00  \n",
              "8478           0.00  \n",
              "52             0.00  \n",
              "189            0.00  \n",
              "244            5.76  \n",
              "\n",
              "[22668 rows x 9 columns]"
            ]
          },
          "execution_count": 42,
          "metadata": {},
          "output_type": "execute_result"
        }
      ],
      "source": [
        "data.sort_values('fare_amount')"
      ]
    },
    {
      "cell_type": "code",
      "execution_count": null,
      "id": "b6b62f06",
      "metadata": {
        "id": "b6b62f06",
        "outputId": "3cfde499-9268-4d74-83e9-5eaf88d222c5"
      },
      "outputs": [
        {
          "data": {
            "image/png": "[encoded data removed]",
            "text/plain": [
              "<Figure size 720x360 with 1 Axes>"
            ]
          },
          "metadata": {
            "needs_background": "light"
          },
          "output_type": "display_data"
        }
      ],
      "source": [
        "# Q. tip_amount의 scatter plot을 그립니다.\n",
        "\n",
        "# [[YOUR CODE]]\n",
        "\n",
        "import matplotlib.pyplot as plt\n",
        "import seaborn as sns\n",
        "\n",
        "plt.figure(figsize=(10, 5))\n",
        "sns.scatterplot(x=data.index, y=data['tip_amount'], alpha=0.6)\n",
        "\n",
        "plt.title('Tip Amount Scatter Plot')\n",
        "plt.xlabel('Index')\n",
        "plt.ylabel('Tip Amount')\n",
        "plt.grid(True)\n",
        "plt.show()"
      ]
    },
    {
      "cell_type": "code",
      "execution_count": null,
      "id": "df743679",
      "metadata": {
        "id": "df743679",
        "outputId": "c570d142-75a3-4cdd-d2b4-285d782c9c14"
      },
      "outputs": [
        {
          "name": "stdout",
          "output_type": "stream",
          "text": [
            "🚨 tip_amount 이상치 데이터:\n",
            "           passenger_name    tpep_pickup_datetime   tpep_dropoff_datetime  \\\n",
            "3             Anthony Ray   05/07/2017 1:17:59 PM   05/07/2017 1:48:14 PM   \n",
            "6            Tonya Moreno   05/03/2017 7:04:09 PM   05/03/2017 8:03:47 PM   \n",
            "11            Jamie Brown   03/05/2017 7:15:30 PM   03/05/2017 7:52:18 PM   \n",
            "22  Jacqueline Mclean DVM  10/11/2017 12:34:49 PM   10/11/2017 1:22:38 PM   \n",
            "30           David Burton   11/06/2017 8:30:50 PM  11/07/2017 12:00:00 AM   \n",
            "\n",
            "   payment_method  passenger_count  trip_distance  fare_amount  tip_amount  \\\n",
            "3            Cash                1           3.70        20.50        6.39   \n",
            "6            Cash                1          12.83        47.50        9.86   \n",
            "11     Debit Card                2          18.90        52.00       14.58   \n",
            "22     Debit Card                1          12.30        68.25       12.00   \n",
            "30    Credit Card                1          30.83        80.00       18.56   \n",
            "\n",
            "    tolls_amount  \n",
            "3           0.00  \n",
            "6           0.00  \n",
            "11          5.54  \n",
            "22         16.26  \n",
            "30         11.52  \n",
            "\n",
            "총 이상치 수: 1185건\n"
          ]
        }
      ],
      "source": [
        "# Q. tip_amount의 이상치를 확인합니다.\n",
        "\n",
        "# [[YOUR CODE]]\n",
        "\n",
        "# 1. 사분위수 계산\n",
        "Q1 = data['tip_amount'].quantile(0.25)\n",
        "Q3 = data['tip_amount'].quantile(0.75)\n",
        "IQR = Q3 - Q1\n",
        "\n",
        "# 2. 이상치 경계값 설정\n",
        "lower_bound = Q1 - 1.5 * IQR\n",
        "upper_bound = Q3 + 1.5 * IQR\n",
        "\n",
        "# 3. 이상치 데이터 추출\n",
        "tip_outliers = data[(data['tip_amount'] < lower_bound) | (data['tip_amount'] > upper_bound)]\n",
        "\n",
        "# 4. 결과 출력\n",
        "print(\"🚨 tip_amount 이상치 데이터:\")\n",
        "print(tip_outliers.head())  # 이상치 중 상위 5개만 출력\n",
        "print(f\"\\n총 이상치 수: {len(tip_outliers)}건\")\n"
      ]
    },
    {
      "cell_type": "code",
      "execution_count": null,
      "id": "2802c16d",
      "metadata": {
        "id": "2802c16d",
        "outputId": "818db4a6-95f3-4446-8ca8-0903cc0469a9"
      },
      "outputs": [
        {
          "name": "stdout",
          "output_type": "stream",
          "text": [
            "제거 전 데이터 수: 22668\n",
            "제거 후 데이터 수: 21483\n"
          ]
        }
      ],
      "source": [
        "# Q. tip_amount의 이상치를 제거합니다.\n",
        "\n",
        "# [[YOUR CODE]]\n",
        "\n",
        "# 1. 사분위수 계산\n",
        "Q1 = data['tip_amount'].quantile(0.25)\n",
        "Q3 = data['tip_amount'].quantile(0.75)\n",
        "IQR = Q3 - Q1\n",
        "\n",
        "# 2. 이상치 경계 설정\n",
        "lower_bound = Q1 - 1.5 * IQR\n",
        "upper_bound = Q3 + 1.5 * IQR\n",
        "\n",
        "# 3. 이상치 제거 (정상 값만 남김)\n",
        "data_cleaned = data[(data['tip_amount'] >= lower_bound) & (data['tip_amount'] <= upper_bound)]\n",
        "\n",
        "# 4. 결과 확인\n",
        "print(f\"제거 전 데이터 수: {len(data)}\")\n",
        "print(f\"제거 후 데이터 수: {len(data_cleaned)}\")"
      ]
    },
    {
      "cell_type": "code",
      "execution_count": null,
      "id": "f57ad803",
      "metadata": {
        "id": "f57ad803",
        "outputId": "2e7170fd-1159-4253-90af-8c6db5f0f344"
      },
      "outputs": [
        {
          "data": {
            "text/plain": [
              "22668"
            ]
          },
          "execution_count": 46,
          "metadata": {},
          "output_type": "execute_result"
        }
      ],
      "source": [
        "len(data)"
      ]
    },
    {
      "cell_type": "code",
      "execution_count": null,
      "id": "f074cd11",
      "metadata": {
        "id": "f074cd11",
        "outputId": "b8e19884-e295-4dc4-f64e-ba1d7e407c91"
      },
      "outputs": [
        {
          "data": {
            "image/png": "[encoded data removed]",
            "text/plain": [
              "<Figure size 720x360 with 1 Axes>"
            ]
          },
          "metadata": {
            "needs_background": "light"
          },
          "output_type": "display_data"
        }
      ],
      "source": [
        "# Q. tolls_amount의 scatter plot을 그립니다.\n",
        "\n",
        "# [[YOUR CODE]]\n",
        "\n",
        "import matplotlib.pyplot as plt\n",
        "import seaborn as sns\n",
        "\n",
        "plt.figure(figsize=(10, 5))\n",
        "sns.scatterplot(x=data.index, y=data['tolls_amount'], alpha=0.6)\n",
        "\n",
        "plt.title('Tolls Amount Scatter Plot')\n",
        "plt.xlabel('Index')\n",
        "plt.ylabel('Tolls Amount')\n",
        "plt.grid(True)\n",
        "plt.show()"
      ]
    },
    {
      "cell_type": "code",
      "execution_count": null,
      "id": "dbf63169",
      "metadata": {
        "id": "dbf63169",
        "outputId": "253a7f0a-b78a-48ac-ca57-2c5316abf6f7"
      },
      "outputs": [
        {
          "data": {
            "text/html": [
              "<div>\n",
              "<style scoped>\n",
              "    .dataframe tbody tr th:only-of-type {\n",
              "        vertical-align: middle;\n",
              "    }\n",
              "\n",
              "    .dataframe tbody tr th {\n",
              "        vertical-align: top;\n",
              "    }\n",
              "\n",
              "    .dataframe thead th {\n",
              "        text-align: right;\n",
              "    }\n",
              "</style>\n",
              "<table border=\"1\" class=\"dataframe\">\n",
              "  <thead>\n",
              "    <tr style=\"text-align: right;\">\n",
              "      <th></th>\n",
              "      <th>passenger_name</th>\n",
              "      <th>tpep_pickup_datetime</th>\n",
              "      <th>tpep_dropoff_datetime</th>\n",
              "      <th>payment_method</th>\n",
              "      <th>passenger_count</th>\n",
              "      <th>trip_distance</th>\n",
              "      <th>fare_amount</th>\n",
              "      <th>tip_amount</th>\n",
              "      <th>tolls_amount</th>\n",
              "    </tr>\n",
              "  </thead>\n",
              "  <tbody>\n",
              "    <tr>\n",
              "      <th>0</th>\n",
              "      <td>Pamela Duffy</td>\n",
              "      <td>03/25/2017 8:55:43 AM</td>\n",
              "      <td>03/25/2017 9:09:47 AM</td>\n",
              "      <td>Debit Card</td>\n",
              "      <td>6</td>\n",
              "      <td>3.34</td>\n",
              "      <td>13.00</td>\n",
              "      <td>2.76</td>\n",
              "      <td>0.00</td>\n",
              "    </tr>\n",
              "    <tr>\n",
              "      <th>1</th>\n",
              "      <td>Michelle Foster</td>\n",
              "      <td>04/11/2017 2:53:28 PM</td>\n",
              "      <td>04/11/2017 3:19:58 PM</td>\n",
              "      <td>Debit Card</td>\n",
              "      <td>1</td>\n",
              "      <td>1.80</td>\n",
              "      <td>16.00</td>\n",
              "      <td>4.00</td>\n",
              "      <td>0.00</td>\n",
              "    </tr>\n",
              "    <tr>\n",
              "      <th>2</th>\n",
              "      <td>Tina Combs</td>\n",
              "      <td>12/15/2017 7:26:56 AM</td>\n",
              "      <td>12/15/2017 7:34:08 AM</td>\n",
              "      <td>Debit Card</td>\n",
              "      <td>1</td>\n",
              "      <td>1.00</td>\n",
              "      <td>6.50</td>\n",
              "      <td>1.45</td>\n",
              "      <td>0.00</td>\n",
              "    </tr>\n",
              "    <tr>\n",
              "      <th>3</th>\n",
              "      <td>Anthony Ray</td>\n",
              "      <td>05/07/2017 1:17:59 PM</td>\n",
              "      <td>05/07/2017 1:48:14 PM</td>\n",
              "      <td>Cash</td>\n",
              "      <td>1</td>\n",
              "      <td>3.70</td>\n",
              "      <td>20.50</td>\n",
              "      <td>6.39</td>\n",
              "      <td>0.00</td>\n",
              "    </tr>\n",
              "    <tr>\n",
              "      <th>4</th>\n",
              "      <td>Brianna Johnson</td>\n",
              "      <td>04/15/2017 11:32:20 PM</td>\n",
              "      <td>04/15/2017 11:49:03 PM</td>\n",
              "      <td>Debit Card</td>\n",
              "      <td>1</td>\n",
              "      <td>4.37</td>\n",
              "      <td>16.50</td>\n",
              "      <td>0.00</td>\n",
              "      <td>0.00</td>\n",
              "    </tr>\n",
              "    <tr>\n",
              "      <th>5</th>\n",
              "      <td>Justin Smith</td>\n",
              "      <td>03/25/2017 8:34:11 PM</td>\n",
              "      <td>03/25/2017 8:42:11 PM</td>\n",
              "      <td>Debit Card</td>\n",
              "      <td>6</td>\n",
              "      <td>2.30</td>\n",
              "      <td>9.00</td>\n",
              "      <td>2.06</td>\n",
              "      <td>0.00</td>\n",
              "    </tr>\n",
              "    <tr>\n",
              "      <th>6</th>\n",
              "      <td>Tonya Moreno</td>\n",
              "      <td>05/03/2017 7:04:09 PM</td>\n",
              "      <td>05/03/2017 8:03:47 PM</td>\n",
              "      <td>Cash</td>\n",
              "      <td>1</td>\n",
              "      <td>12.83</td>\n",
              "      <td>47.50</td>\n",
              "      <td>9.86</td>\n",
              "      <td>0.00</td>\n",
              "    </tr>\n",
              "    <tr>\n",
              "      <th>7</th>\n",
              "      <td>Hannah Foley</td>\n",
              "      <td>08/15/2017 5:41:06 PM</td>\n",
              "      <td>08/15/2017 6:03:05 PM</td>\n",
              "      <td>Debit Card</td>\n",
              "      <td>1</td>\n",
              "      <td>2.98</td>\n",
              "      <td>16.00</td>\n",
              "      <td>1.78</td>\n",
              "      <td>0.00</td>\n",
              "    </tr>\n",
              "    <tr>\n",
              "      <th>8</th>\n",
              "      <td>Katie Whitney</td>\n",
              "      <td>02/04/2017 4:17:07 PM</td>\n",
              "      <td>02/04/2017 4:29:14 PM</td>\n",
              "      <td>Cash</td>\n",
              "      <td>1</td>\n",
              "      <td>1.20</td>\n",
              "      <td>9.00</td>\n",
              "      <td>0.00</td>\n",
              "      <td>0.00</td>\n",
              "    </tr>\n",
              "    <tr>\n",
              "      <th>9</th>\n",
              "      <td>Amanda Jones</td>\n",
              "      <td>11/10/2017 3:20:29 PM</td>\n",
              "      <td>11/10/2017 3:40:55 PM</td>\n",
              "      <td>Cash</td>\n",
              "      <td>1</td>\n",
              "      <td>1.60</td>\n",
              "      <td>13.00</td>\n",
              "      <td>2.75</td>\n",
              "      <td>0.00</td>\n",
              "    </tr>\n",
              "    <tr>\n",
              "      <th>10</th>\n",
              "      <td>Cory Jensen</td>\n",
              "      <td>03/04/2017 11:58:00 AM</td>\n",
              "      <td>03/04/2017 12:13:12 PM</td>\n",
              "      <td>Cash</td>\n",
              "      <td>1</td>\n",
              "      <td>1.77</td>\n",
              "      <td>11.50</td>\n",
              "      <td>2.46</td>\n",
              "      <td>0.00</td>\n",
              "    </tr>\n",
              "    <tr>\n",
              "      <th>11</th>\n",
              "      <td>Jamie Brown</td>\n",
              "      <td>03/05/2017 7:15:30 PM</td>\n",
              "      <td>03/05/2017 7:52:18 PM</td>\n",
              "      <td>Debit Card</td>\n",
              "      <td>2</td>\n",
              "      <td>18.90</td>\n",
              "      <td>52.00</td>\n",
              "      <td>14.58</td>\n",
              "      <td>5.54</td>\n",
              "    </tr>\n",
              "    <tr>\n",
              "      <th>12</th>\n",
              "      <td>Ryan Reyes</td>\n",
              "      <td>06/09/2017 7:00:26 PM</td>\n",
              "      <td>06/09/2017 7:20:11 PM</td>\n",
              "      <td>Debit Card</td>\n",
              "      <td>1</td>\n",
              "      <td>3.00</td>\n",
              "      <td>15.00</td>\n",
              "      <td>3.35</td>\n",
              "      <td>0.00</td>\n",
              "    </tr>\n",
              "    <tr>\n",
              "      <th>13</th>\n",
              "      <td>Jessica Mooney</td>\n",
              "      <td>11/06/2017 11:35:05 PM</td>\n",
              "      <td>11/06/2017 11:42:57 PM</td>\n",
              "      <td>Credit Card</td>\n",
              "      <td>1</td>\n",
              "      <td>2.39</td>\n",
              "      <td>9.50</td>\n",
              "      <td>2.16</td>\n",
              "      <td>0.00</td>\n",
              "    </tr>\n",
              "    <tr>\n",
              "      <th>14</th>\n",
              "      <td>Heidi May</td>\n",
              "      <td>02/22/2017 3:18:31 PM</td>\n",
              "      <td>02/22/2017 3:42:50 PM</td>\n",
              "      <td>Cash</td>\n",
              "      <td>1</td>\n",
              "      <td>3.30</td>\n",
              "      <td>17.50</td>\n",
              "      <td>4.55</td>\n",
              "      <td>0.00</td>\n",
              "    </tr>\n",
              "    <tr>\n",
              "      <th>15</th>\n",
              "      <td>Anthony Richard</td>\n",
              "      <td>06/02/2017 6:41:39 AM</td>\n",
              "      <td>06/02/2017 6:57:47 AM</td>\n",
              "      <td>Credit Card</td>\n",
              "      <td>1</td>\n",
              "      <td>5.93</td>\n",
              "      <td>19.00</td>\n",
              "      <td>3.00</td>\n",
              "      <td>0.00</td>\n",
              "    </tr>\n",
              "    <tr>\n",
              "      <th>16</th>\n",
              "      <td>Sarah Gross</td>\n",
              "      <td>08/15/2017 7:48:08 PM</td>\n",
              "      <td>08/15/2017 8:00:37 PM</td>\n",
              "      <td>Cash</td>\n",
              "      <td>1</td>\n",
              "      <td>3.60</td>\n",
              "      <td>12.50</td>\n",
              "      <td>2.85</td>\n",
              "      <td>0.00</td>\n",
              "    </tr>\n",
              "    <tr>\n",
              "      <th>17</th>\n",
              "      <td>Sarah Gross</td>\n",
              "      <td>08/15/2017 7:48:08 PM</td>\n",
              "      <td>08/15/2017 8:00:37 PM</td>\n",
              "      <td>Cash</td>\n",
              "      <td>1</td>\n",
              "      <td>3.60</td>\n",
              "      <td>12.50</td>\n",
              "      <td>2.85</td>\n",
              "      <td>0.00</td>\n",
              "    </tr>\n",
              "    <tr>\n",
              "      <th>18</th>\n",
              "      <td>Susan Robinson</td>\n",
              "      <td>07/10/2017 1:36:31 PM</td>\n",
              "      <td>07/10/2017 1:48:43 PM</td>\n",
              "      <td>Cash</td>\n",
              "      <td>2</td>\n",
              "      <td>1.71</td>\n",
              "      <td>9.50</td>\n",
              "      <td>0.00</td>\n",
              "      <td>0.00</td>\n",
              "    </tr>\n",
              "    <tr>\n",
              "      <th>19</th>\n",
              "      <td>Cynthia Mendoza</td>\n",
              "      <td>04/10/2017 6:12:58 PM</td>\n",
              "      <td>04/10/2017 6:17:39 PM</td>\n",
              "      <td>Cash</td>\n",
              "      <td>2</td>\n",
              "      <td>0.63</td>\n",
              "      <td>5.00</td>\n",
              "      <td>0.00</td>\n",
              "      <td>0.00</td>\n",
              "    </tr>\n",
              "    <tr>\n",
              "      <th>20</th>\n",
              "      <td>Zachary James</td>\n",
              "      <td>03/05/2017 4:01:07 AM</td>\n",
              "      <td>03/05/2017 4:14:11 AM</td>\n",
              "      <td>Credit Card</td>\n",
              "      <td>2</td>\n",
              "      <td>2.77</td>\n",
              "      <td>11.50</td>\n",
              "      <td>3.20</td>\n",
              "      <td>0.00</td>\n",
              "    </tr>\n",
              "    <tr>\n",
              "      <th>21</th>\n",
              "      <td>Marissa Scott</td>\n",
              "      <td>12/30/2017 11:52:44 PM</td>\n",
              "      <td>12/30/2017 11:58:57 PM</td>\n",
              "      <td>Debit Card</td>\n",
              "      <td>1</td>\n",
              "      <td>1.10</td>\n",
              "      <td>6.50</td>\n",
              "      <td>0.00</td>\n",
              "      <td>0.00</td>\n",
              "    </tr>\n",
              "    <tr>\n",
              "      <th>22</th>\n",
              "      <td>Jacqueline Mclean DVM</td>\n",
              "      <td>10/11/2017 12:34:49 PM</td>\n",
              "      <td>10/11/2017 1:22:38 PM</td>\n",
              "      <td>Debit Card</td>\n",
              "      <td>1</td>\n",
              "      <td>12.30</td>\n",
              "      <td>68.25</td>\n",
              "      <td>12.00</td>\n",
              "      <td>16.26</td>\n",
              "    </tr>\n",
              "    <tr>\n",
              "      <th>23</th>\n",
              "      <td>Krista Stewart</td>\n",
              "      <td>01/06/2017 8:12:07 PM</td>\n",
              "      <td>01/06/2017 8:18:37 PM</td>\n",
              "      <td>Cash</td>\n",
              "      <td>1</td>\n",
              "      <td>0.52</td>\n",
              "      <td>5.50</td>\n",
              "      <td>1.00</td>\n",
              "      <td>0.00</td>\n",
              "    </tr>\n",
              "    <tr>\n",
              "      <th>24</th>\n",
              "      <td>Mike Taylor</td>\n",
              "      <td>06/27/2017 12:08:22 AM</td>\n",
              "      <td>06/27/2017 12:13:45 AM</td>\n",
              "      <td>Credit Card</td>\n",
              "      <td>1</td>\n",
              "      <td>1.70</td>\n",
              "      <td>7.00</td>\n",
              "      <td>2.05</td>\n",
              "      <td>0.00</td>\n",
              "    </tr>\n",
              "    <tr>\n",
              "      <th>25</th>\n",
              "      <td>Heather Johnson</td>\n",
              "      <td>02/13/2017 10:29:33 AM</td>\n",
              "      <td>02/13/2017 10:34:11 AM</td>\n",
              "      <td>Cash</td>\n",
              "      <td>1</td>\n",
              "      <td>0.90</td>\n",
              "      <td>5.50</td>\n",
              "      <td>1.25</td>\n",
              "      <td>0.00</td>\n",
              "    </tr>\n",
              "    <tr>\n",
              "      <th>26</th>\n",
              "      <td>Tiffany Ramirez</td>\n",
              "      <td>01/14/2017 7:58:42 PM</td>\n",
              "      <td>01/14/2017 8:05:59 PM</td>\n",
              "      <td>Debit Card</td>\n",
              "      <td>1</td>\n",
              "      <td>1.72</td>\n",
              "      <td>8.00</td>\n",
              "      <td>2.79</td>\n",
              "      <td>0.00</td>\n",
              "    </tr>\n",
              "    <tr>\n",
              "      <th>27</th>\n",
              "      <td>James Taylor</td>\n",
              "      <td>11/04/2017 1:27:59 AM</td>\n",
              "      <td>11/04/2017 1:44:05 AM</td>\n",
              "      <td>Credit Card</td>\n",
              "      <td>1</td>\n",
              "      <td>2.70</td>\n",
              "      <td>13.00</td>\n",
              "      <td>2.85</td>\n",
              "      <td>0.00</td>\n",
              "    </tr>\n",
              "    <tr>\n",
              "      <th>28</th>\n",
              "      <td>Gabriela Bryan</td>\n",
              "      <td>11/24/2017 10:48:13 AM</td>\n",
              "      <td>11/24/2017 10:52:57 AM</td>\n",
              "      <td>Cash</td>\n",
              "      <td>1</td>\n",
              "      <td>0.85</td>\n",
              "      <td>5.50</td>\n",
              "      <td>0.00</td>\n",
              "      <td>0.00</td>\n",
              "    </tr>\n",
              "    <tr>\n",
              "      <th>29</th>\n",
              "      <td>Janet Hogan MD</td>\n",
              "      <td>11/22/2017 10:24:17 AM</td>\n",
              "      <td>11/22/2017 10:38:52 AM</td>\n",
              "      <td>Cash</td>\n",
              "      <td>1</td>\n",
              "      <td>2.30</td>\n",
              "      <td>11.00</td>\n",
              "      <td>2.35</td>\n",
              "      <td>0.00</td>\n",
              "    </tr>\n",
              "  </tbody>\n",
              "</table>\n",
              "</div>"
            ],
            "text/plain": [
              "           passenger_name    tpep_pickup_datetime   tpep_dropoff_datetime  \\\n",
              "0            Pamela Duffy   03/25/2017 8:55:43 AM   03/25/2017 9:09:47 AM   \n",
              "1         Michelle Foster   04/11/2017 2:53:28 PM   04/11/2017 3:19:58 PM   \n",
              "2              Tina Combs   12/15/2017 7:26:56 AM   12/15/2017 7:34:08 AM   \n",
              "3             Anthony Ray   05/07/2017 1:17:59 PM   05/07/2017 1:48:14 PM   \n",
              "4         Brianna Johnson  04/15/2017 11:32:20 PM  04/15/2017 11:49:03 PM   \n",
              "5            Justin Smith   03/25/2017 8:34:11 PM   03/25/2017 8:42:11 PM   \n",
              "6            Tonya Moreno   05/03/2017 7:04:09 PM   05/03/2017 8:03:47 PM   \n",
              "7            Hannah Foley   08/15/2017 5:41:06 PM   08/15/2017 6:03:05 PM   \n",
              "8           Katie Whitney   02/04/2017 4:17:07 PM   02/04/2017 4:29:14 PM   \n",
              "9            Amanda Jones   11/10/2017 3:20:29 PM   11/10/2017 3:40:55 PM   \n",
              "10            Cory Jensen  03/04/2017 11:58:00 AM  03/04/2017 12:13:12 PM   \n",
              "11            Jamie Brown   03/05/2017 7:15:30 PM   03/05/2017 7:52:18 PM   \n",
              "12             Ryan Reyes   06/09/2017 7:00:26 PM   06/09/2017 7:20:11 PM   \n",
              "13         Jessica Mooney  11/06/2017 11:35:05 PM  11/06/2017 11:42:57 PM   \n",
              "14              Heidi May   02/22/2017 3:18:31 PM   02/22/2017 3:42:50 PM   \n",
              "15        Anthony Richard   06/02/2017 6:41:39 AM   06/02/2017 6:57:47 AM   \n",
              "16            Sarah Gross   08/15/2017 7:48:08 PM   08/15/2017 8:00:37 PM   \n",
              "17            Sarah Gross   08/15/2017 7:48:08 PM   08/15/2017 8:00:37 PM   \n",
              "18         Susan Robinson   07/10/2017 1:36:31 PM   07/10/2017 1:48:43 PM   \n",
              "19        Cynthia Mendoza   04/10/2017 6:12:58 PM   04/10/2017 6:17:39 PM   \n",
              "20          Zachary James   03/05/2017 4:01:07 AM   03/05/2017 4:14:11 AM   \n",
              "21          Marissa Scott  12/30/2017 11:52:44 PM  12/30/2017 11:58:57 PM   \n",
              "22  Jacqueline Mclean DVM  10/11/2017 12:34:49 PM   10/11/2017 1:22:38 PM   \n",
              "23         Krista Stewart   01/06/2017 8:12:07 PM   01/06/2017 8:18:37 PM   \n",
              "24            Mike Taylor  06/27/2017 12:08:22 AM  06/27/2017 12:13:45 AM   \n",
              "25        Heather Johnson  02/13/2017 10:29:33 AM  02/13/2017 10:34:11 AM   \n",
              "26        Tiffany Ramirez   01/14/2017 7:58:42 PM   01/14/2017 8:05:59 PM   \n",
              "27           James Taylor   11/04/2017 1:27:59 AM   11/04/2017 1:44:05 AM   \n",
              "28         Gabriela Bryan  11/24/2017 10:48:13 AM  11/24/2017 10:52:57 AM   \n",
              "29         Janet Hogan MD  11/22/2017 10:24:17 AM  11/22/2017 10:38:52 AM   \n",
              "\n",
              "   payment_method  passenger_count  trip_distance  fare_amount  tip_amount  \\\n",
              "0      Debit Card                6           3.34        13.00        2.76   \n",
              "1      Debit Card                1           1.80        16.00        4.00   \n",
              "2      Debit Card                1           1.00         6.50        1.45   \n",
              "3            Cash                1           3.70        20.50        6.39   \n",
              "4      Debit Card                1           4.37        16.50        0.00   \n",
              "5      Debit Card                6           2.30         9.00        2.06   \n",
              "6            Cash                1          12.83        47.50        9.86   \n",
              "7      Debit Card                1           2.98        16.00        1.78   \n",
              "8            Cash                1           1.20         9.00        0.00   \n",
              "9            Cash                1           1.60        13.00        2.75   \n",
              "10           Cash                1           1.77        11.50        2.46   \n",
              "11     Debit Card                2          18.90        52.00       14.58   \n",
              "12     Debit Card                1           3.00        15.00        3.35   \n",
              "13    Credit Card                1           2.39         9.50        2.16   \n",
              "14           Cash                1           3.30        17.50        4.55   \n",
              "15    Credit Card                1           5.93        19.00        3.00   \n",
              "16           Cash                1           3.60        12.50        2.85   \n",
              "17           Cash                1           3.60        12.50        2.85   \n",
              "18           Cash                2           1.71         9.50        0.00   \n",
              "19           Cash                2           0.63         5.00        0.00   \n",
              "20    Credit Card                2           2.77        11.50        3.20   \n",
              "21     Debit Card                1           1.10         6.50        0.00   \n",
              "22     Debit Card                1          12.30        68.25       12.00   \n",
              "23           Cash                1           0.52         5.50        1.00   \n",
              "24    Credit Card                1           1.70         7.00        2.05   \n",
              "25           Cash                1           0.90         5.50        1.25   \n",
              "26     Debit Card                1           1.72         8.00        2.79   \n",
              "27    Credit Card                1           2.70        13.00        2.85   \n",
              "28           Cash                1           0.85         5.50        0.00   \n",
              "29           Cash                1           2.30        11.00        2.35   \n",
              "\n",
              "    tolls_amount  \n",
              "0           0.00  \n",
              "1           0.00  \n",
              "2           0.00  \n",
              "3           0.00  \n",
              "4           0.00  \n",
              "5           0.00  \n",
              "6           0.00  \n",
              "7           0.00  \n",
              "8           0.00  \n",
              "9           0.00  \n",
              "10          0.00  \n",
              "11          5.54  \n",
              "12          0.00  \n",
              "13          0.00  \n",
              "14          0.00  \n",
              "15          0.00  \n",
              "16          0.00  \n",
              "17          0.00  \n",
              "18          0.00  \n",
              "19          0.00  \n",
              "20          0.00  \n",
              "21          0.00  \n",
              "22         16.26  \n",
              "23          0.00  \n",
              "24          0.00  \n",
              "25          0.00  \n",
              "26          0.00  \n",
              "27          0.00  \n",
              "28          0.00  \n",
              "29          0.00  "
            ]
          },
          "execution_count": 48,
          "metadata": {},
          "output_type": "execute_result"
        }
      ],
      "source": [
        "data.head(30)"
      ]
    },
    {
      "cell_type": "code",
      "execution_count": null,
      "id": "ebab1606",
      "metadata": {
        "id": "ebab1606",
        "outputId": "491b9e01-57e1-4ee3-e96d-c99f75392c14"
      },
      "outputs": [
        {
          "data": {
            "text/plain": [
              "array(['Debit Card', 'Cash', 'Credit Card'], dtype=object)"
            ]
          },
          "execution_count": 49,
          "metadata": {},
          "output_type": "execute_result"
        }
      ],
      "source": [
        "# payment_method 컬럼에 어떤 값들이 있는지 살펴봅시다.\n",
        "\n",
        "data['payment_method'].unique()"
      ]
    },
    {
      "cell_type": "code",
      "execution_count": null,
      "id": "2ff9f8e0",
      "metadata": {
        "id": "2ff9f8e0",
        "outputId": "048650d7-aa0e-4d6f-d0c7-1b5da699b01a"
      },
      "outputs": [
        {
          "data": {
            "text/plain": [
              "3"
            ]
          },
          "execution_count": 50,
          "metadata": {},
          "output_type": "execute_result"
        }
      ],
      "source": [
        "data['payment_method'].nunique()"
      ]
    },
    {
      "cell_type": "code",
      "execution_count": null,
      "id": "111eb01a",
      "metadata": {
        "id": "111eb01a",
        "outputId": "00bda982-a905-4fbc-afc0-ce220b0a026f"
      },
      "outputs": [
        {
          "data": {
            "text/plain": [
              "Cash           11181\n",
              "Debit Card      5774\n",
              "Credit Card     5713\n",
              "Name: payment_method, dtype: int64"
            ]
          },
          "execution_count": 51,
          "metadata": {},
          "output_type": "execute_result"
        }
      ],
      "source": [
        "data['payment_method'].value_counts()"
      ]
    },
    {
      "cell_type": "code",
      "execution_count": null,
      "id": "e5435105",
      "metadata": {
        "id": "e5435105"
      },
      "outputs": [],
      "source": [
        "#==승객명: 성과 이름을 분리하여 성 부분만 저장해봅니다."
      ]
    },
    {
      "cell_type": "code",
      "execution_count": null,
      "id": "6fceb48b",
      "metadata": {
        "id": "6fceb48b",
        "outputId": "87ad253e-57be-4c86-d2ae-72e302e696d3"
      },
      "outputs": [
        {
          "data": {
            "text/plain": [
              "'Susan Robinson'"
            ]
          },
          "execution_count": 54,
          "metadata": {},
          "output_type": "execute_result"
        }
      ],
      "source": [
        "example = 'Susan Robinson'\n",
        "example"
      ]
    },
    {
      "cell_type": "code",
      "execution_count": null,
      "id": "a559e05f",
      "metadata": {
        "id": "a559e05f",
        "outputId": "06d64c77-b395-453c-f252-1f4068b9f103"
      },
      "outputs": [
        {
          "data": {
            "text/plain": [
              "['Susan', 'Robinson']"
            ]
          },
          "execution_count": 55,
          "metadata": {},
          "output_type": "execute_result"
        }
      ],
      "source": [
        "example.split()"
      ]
    },
    {
      "cell_type": "code",
      "execution_count": null,
      "id": "bd23bd7d",
      "metadata": {
        "id": "bd23bd7d",
        "outputId": "89ba05d1-b402-43cf-d178-edc948b6f957"
      },
      "outputs": [
        {
          "name": "stdout",
          "output_type": "stream",
          "text": [
            "    passenger_name passenger_first_name\n",
            "0     Pamela Duffy               Pamela\n",
            "1  Michelle Foster             Michelle\n",
            "2       Tina Combs                 Tina\n",
            "3      Anthony Ray              Anthony\n",
            "4  Brianna Johnson              Brianna\n"
          ]
        },
        {
          "name": "stderr",
          "output_type": "stream",
          "text": [
            "/tmp/ipykernel_249/2529143866.py:7: SettingWithCopyWarning: \n",
            "A value is trying to be set on a copy of a slice from a DataFrame.\n",
            "Try using .loc[row_indexer,col_indexer] = value instead\n",
            "\n",
            "See the caveats in the documentation: https://pandas.pydata.org/pandas-docs/stable/user_guide/indexing.html#returning-a-view-versus-a-copy\n",
            "  data['passenger_first_name'] = data['passenger_name'].str.split().str[0]\n"
          ]
        }
      ],
      "source": [
        "# Q. passenger_name을 성과 이름으로 분리하여 성 부분만 passenger_first_name 컬럼으로 저장합니다.\n",
        "\n",
        "# [[YOUR CODE]]\n",
        "\n",
        "\n",
        "# 성과 이름을 공백 기준으로 분리하고, 성(first name)을 새로운 열에 저장\n",
        "data['passenger_first_name'] = data['passenger_name'].str.split().str[0]\n",
        "\n",
        "# 결과 확인 (앞 5개 행 출력)\n",
        "print(data[['passenger_name', 'passenger_first_name']].head())"
      ]
    },
    {
      "cell_type": "code",
      "execution_count": null,
      "id": "6faf790c",
      "metadata": {
        "id": "6faf790c"
      },
      "outputs": [],
      "source": [
        "#==택시 탑승, 하차 시간을 활용해봅시다."
      ]
    },
    {
      "cell_type": "code",
      "execution_count": null,
      "id": "d5603a37",
      "metadata": {
        "id": "d5603a37",
        "outputId": "ed4075ae-02f6-41d9-d16e-a96148f47e09"
      },
      "outputs": [
        {
          "data": {
            "text/html": [
              "<div>\n",
              "<style scoped>\n",
              "    .dataframe tbody tr th:only-of-type {\n",
              "        vertical-align: middle;\n",
              "    }\n",
              "\n",
              "    .dataframe tbody tr th {\n",
              "        vertical-align: top;\n",
              "    }\n",
              "\n",
              "    .dataframe thead th {\n",
              "        text-align: right;\n",
              "    }\n",
              "</style>\n",
              "<table border=\"1\" class=\"dataframe\">\n",
              "  <thead>\n",
              "    <tr style=\"text-align: right;\">\n",
              "      <th></th>\n",
              "      <th>passenger_name</th>\n",
              "      <th>tpep_pickup_datetime</th>\n",
              "      <th>tpep_dropoff_datetime</th>\n",
              "      <th>payment_method</th>\n",
              "      <th>passenger_count</th>\n",
              "      <th>trip_distance</th>\n",
              "      <th>fare_amount</th>\n",
              "      <th>tip_amount</th>\n",
              "      <th>tolls_amount</th>\n",
              "      <th>passenger_first_name</th>\n",
              "    </tr>\n",
              "  </thead>\n",
              "  <tbody>\n",
              "    <tr>\n",
              "      <th>0</th>\n",
              "      <td>Pamela Duffy</td>\n",
              "      <td>03/25/2017 8:55:43 AM</td>\n",
              "      <td>03/25/2017 9:09:47 AM</td>\n",
              "      <td>Card</td>\n",
              "      <td>6</td>\n",
              "      <td>3.34</td>\n",
              "      <td>13.0</td>\n",
              "      <td>2.76</td>\n",
              "      <td>0.0</td>\n",
              "      <td>Pamela</td>\n",
              "    </tr>\n",
              "    <tr>\n",
              "      <th>1</th>\n",
              "      <td>Michelle Foster</td>\n",
              "      <td>04/11/2017 2:53:28 PM</td>\n",
              "      <td>04/11/2017 3:19:58 PM</td>\n",
              "      <td>Card</td>\n",
              "      <td>1</td>\n",
              "      <td>1.80</td>\n",
              "      <td>16.0</td>\n",
              "      <td>4.00</td>\n",
              "      <td>0.0</td>\n",
              "      <td>Michelle</td>\n",
              "    </tr>\n",
              "    <tr>\n",
              "      <th>2</th>\n",
              "      <td>Tina Combs</td>\n",
              "      <td>12/15/2017 7:26:56 AM</td>\n",
              "      <td>12/15/2017 7:34:08 AM</td>\n",
              "      <td>Card</td>\n",
              "      <td>1</td>\n",
              "      <td>1.00</td>\n",
              "      <td>6.5</td>\n",
              "      <td>1.45</td>\n",
              "      <td>0.0</td>\n",
              "      <td>Tina</td>\n",
              "    </tr>\n",
              "    <tr>\n",
              "      <th>3</th>\n",
              "      <td>Anthony Ray</td>\n",
              "      <td>05/07/2017 1:17:59 PM</td>\n",
              "      <td>05/07/2017 1:48:14 PM</td>\n",
              "      <td>Cash</td>\n",
              "      <td>1</td>\n",
              "      <td>3.70</td>\n",
              "      <td>20.5</td>\n",
              "      <td>6.39</td>\n",
              "      <td>0.0</td>\n",
              "      <td>Anthony</td>\n",
              "    </tr>\n",
              "    <tr>\n",
              "      <th>4</th>\n",
              "      <td>Brianna Johnson</td>\n",
              "      <td>04/15/2017 11:32:20 PM</td>\n",
              "      <td>04/15/2017 11:49:03 PM</td>\n",
              "      <td>Card</td>\n",
              "      <td>1</td>\n",
              "      <td>4.37</td>\n",
              "      <td>16.5</td>\n",
              "      <td>0.00</td>\n",
              "      <td>0.0</td>\n",
              "      <td>Brianna</td>\n",
              "    </tr>\n",
              "  </tbody>\n",
              "</table>\n",
              "</div>"
            ],
            "text/plain": [
              "    passenger_name    tpep_pickup_datetime   tpep_dropoff_datetime  \\\n",
              "0     Pamela Duffy   03/25/2017 8:55:43 AM   03/25/2017 9:09:47 AM   \n",
              "1  Michelle Foster   04/11/2017 2:53:28 PM   04/11/2017 3:19:58 PM   \n",
              "2       Tina Combs   12/15/2017 7:26:56 AM   12/15/2017 7:34:08 AM   \n",
              "3      Anthony Ray   05/07/2017 1:17:59 PM   05/07/2017 1:48:14 PM   \n",
              "4  Brianna Johnson  04/15/2017 11:32:20 PM  04/15/2017 11:49:03 PM   \n",
              "\n",
              "  payment_method  passenger_count  trip_distance  fare_amount  tip_amount  \\\n",
              "0           Card                6           3.34         13.0        2.76   \n",
              "1           Card                1           1.80         16.0        4.00   \n",
              "2           Card                1           1.00          6.5        1.45   \n",
              "3           Cash                1           3.70         20.5        6.39   \n",
              "4           Card                1           4.37         16.5        0.00   \n",
              "\n",
              "   tolls_amount passenger_first_name  \n",
              "0           0.0               Pamela  \n",
              "1           0.0             Michelle  \n",
              "2           0.0                 Tina  \n",
              "3           0.0              Anthony  \n",
              "4           0.0              Brianna  "
            ]
          },
          "execution_count": 57,
          "metadata": {},
          "output_type": "execute_result"
        }
      ],
      "source": [
        "data.head()"
      ]
    },
    {
      "cell_type": "code",
      "execution_count": null,
      "id": "112ee7a2",
      "metadata": {
        "id": "112ee7a2",
        "outputId": "35e3ab79-95be-408e-a125-c56aadc161e3"
      },
      "outputs": [
        {
          "name": "stdout",
          "output_type": "stream",
          "text": [
            "<class 'pandas.core.frame.DataFrame'>\n",
            "Int64Index: 22668 entries, 0 to 22700\n",
            "Data columns (total 10 columns):\n",
            " #   Column                 Non-Null Count  Dtype  \n",
            "---  ------                 --------------  -----  \n",
            " 0   passenger_name         22668 non-null  object \n",
            " 1   tpep_pickup_datetime   22668 non-null  object \n",
            " 2   tpep_dropoff_datetime  22668 non-null  object \n",
            " 3   payment_method         22668 non-null  object \n",
            " 4   passenger_count        22668 non-null  int64  \n",
            " 5   trip_distance          22668 non-null  float64\n",
            " 6   fare_amount            22665 non-null  float64\n",
            " 7   tip_amount             22668 non-null  float64\n",
            " 8   tolls_amount           22668 non-null  float64\n",
            " 9   passenger_first_name   22668 non-null  object \n",
            "dtypes: float64(4), int64(1), object(5)\n",
            "memory usage: 1.9+ MB\n"
          ]
        }
      ],
      "source": [
        "data.info()"
      ]
    },
    {
      "cell_type": "code",
      "execution_count": null,
      "id": "bd5d7c56",
      "metadata": {
        "id": "bd5d7c56",
        "outputId": "2873a12f-5983-4272-e90b-3901b9edf5c8"
      },
      "outputs": [
        {
          "name": "stdout",
          "output_type": "stream",
          "text": [
            "datetime64[ns]\n",
            "======================= \n",
            "  tpep_pickup_datetime\n",
            "0  2017-03-25 08:55:43\n",
            "1  2017-04-11 14:53:28\n",
            "2  2017-12-15 07:26:56\n",
            "3  2017-05-07 13:17:59\n",
            "4  2017-04-15 23:32:20\n",
            "=============== \n",
            "변환 전 자료형: datetime64[ns]\n",
            "변환 후 자료형: datetime64[ns]\n",
            "  tpep_pickup_datetime\n",
            "0  2017-03-25 08:55:43\n",
            "1  2017-04-11 14:53:28\n",
            "2  2017-12-15 07:26:56\n",
            "3  2017-05-07 13:17:59\n",
            "4  2017-04-15 23:32:20\n"
          ]
        },
        {
          "name": "stderr",
          "output_type": "stream",
          "text": [
            "/tmp/ipykernel_249/771020716.py:6: SettingWithCopyWarning: \n",
            "A value is trying to be set on a copy of a slice from a DataFrame.\n",
            "Try using .loc[row_indexer,col_indexer] = value instead\n",
            "\n",
            "See the caveats in the documentation: https://pandas.pydata.org/pandas-docs/stable/user_guide/indexing.html#returning-a-view-versus-a-copy\n",
            "  data['tpep_pickup_datetime'] = pd.to_datetime(data['tpep_pickup_datetime'])\n",
            "/tmp/ipykernel_249/771020716.py:18: SettingWithCopyWarning: \n",
            "A value is trying to be set on a copy of a slice from a DataFrame.\n",
            "Try using .loc[row_indexer,col_indexer] = value instead\n",
            "\n",
            "See the caveats in the documentation: https://pandas.pydata.org/pandas-docs/stable/user_guide/indexing.html#returning-a-view-versus-a-copy\n",
            "  data[column_name] = pd.to_datetime(data[column_name])\n",
            "/tmp/ipykernel_249/771020716.py:29: SettingWithCopyWarning: \n",
            "A value is trying to be set on a copy of a slice from a DataFrame.\n",
            "Try using .loc[row_indexer,col_indexer] = value instead\n",
            "\n",
            "See the caveats in the documentation: https://pandas.pydata.org/pandas-docs/stable/user_guide/indexing.html#returning-a-view-versus-a-copy\n",
            "  data['tpep_pickup_datetime'] = pd.to_datetime(data['tpep_pickup_datetime'])\n"
          ]
        }
      ],
      "source": [
        "# Q. tpep_pickup_datetime 컬럼의 object 자료형을 datetime으로 변환합니다.\n",
        "\n",
        "# [[YOUR CODE]]\n",
        "\n",
        "# 문자열 형식의 날짜 데이터를 datetime 형식으로 변환\n",
        "data['tpep_pickup_datetime'] = pd.to_datetime(data['tpep_pickup_datetime'])\n",
        "\n",
        "# 결과 확인: 데이터 타입 확인\n",
        "print(data.dtypes['tpep_pickup_datetime'])\n",
        "\n",
        "\n",
        "#=============\n",
        "print(\"======================= \")\n",
        "# 컬럼명\n",
        "column_name = 'tpep_pickup_datetime'\n",
        "\n",
        "# 자료형을 datetime으로 변환\n",
        "data[column_name] = pd.to_datetime(data[column_name])\n",
        "\n",
        "# 변환된 컬럼 데이터 출력 (앞 5개 행)\n",
        "print(data[[column_name]].head())\n",
        "\n",
        "\n",
        "print(\"=============== \")\n",
        "# 변환 전 자료형 확인\n",
        "print(\"변환 전 자료형:\", data['tpep_pickup_datetime'].dtype)\n",
        "\n",
        "# datetime 형식으로 변환\n",
        "data['tpep_pickup_datetime'] = pd.to_datetime(data['tpep_pickup_datetime'])\n",
        "\n",
        "# 변환 후 자료형 확인\n",
        "print(\"변환 후 자료형:\", data['tpep_pickup_datetime'].dtype)\n",
        "\n",
        "# 변환된 데이터 일부 출력\n",
        "print(data[['tpep_pickup_datetime']].head())\n"
      ]
    },
    {
      "cell_type": "code",
      "execution_count": null,
      "id": "277949b3",
      "metadata": {
        "id": "277949b3",
        "outputId": "0f843035-d26b-4153-c461-57731031e3bf"
      },
      "outputs": [
        {
          "name": "stdout",
          "output_type": "stream",
          "text": [
            "변환 후 자료형: datetime64[ns]\n",
            "  tpep_dropoff_datetime\n",
            "0   2017-03-25 09:09:47\n",
            "1   2017-04-11 15:19:58\n",
            "2   2017-12-15 07:34:08\n",
            "3   2017-05-07 13:48:14\n",
            "4   2017-04-15 23:49:03\n"
          ]
        },
        {
          "name": "stderr",
          "output_type": "stream",
          "text": [
            "/tmp/ipykernel_249/2186398690.py:6: SettingWithCopyWarning: \n",
            "A value is trying to be set on a copy of a slice from a DataFrame.\n",
            "Try using .loc[row_indexer,col_indexer] = value instead\n",
            "\n",
            "See the caveats in the documentation: https://pandas.pydata.org/pandas-docs/stable/user_guide/indexing.html#returning-a-view-versus-a-copy\n",
            "  data['tpep_dropoff_datetime'] = pd.to_datetime(data['tpep_dropoff_datetime'])\n"
          ]
        }
      ],
      "source": [
        "# Q. tpep_dropoff_datetime 컬럼의 object 자료형을 datetime으로 변환합니다.\n",
        "\n",
        "# [[YOUR CODE]]\n",
        "\n",
        "# tpep_dropoff_datetime 컬럼을 datetime 자료형으로 변환\n",
        "data['tpep_dropoff_datetime'] = pd.to_datetime(data['tpep_dropoff_datetime'])\n",
        "\n",
        "# 변환 확인 (자료형 출력)\n",
        "print(\"변환 후 자료형:\", data['tpep_dropoff_datetime'].dtype)\n",
        "\n",
        "# 변환된 데이터 확인 (앞 5개 행 출력)\n",
        "print(data[['tpep_dropoff_datetime']].head())"
      ]
    },
    {
      "cell_type": "code",
      "execution_count": null,
      "id": "257b5795",
      "metadata": {
        "scrolled": true,
        "id": "257b5795",
        "outputId": "bf1d2162-b961-4de0-b5eb-7463d7297bc0"
      },
      "outputs": [
        {
          "name": "stdout",
          "output_type": "stream",
          "text": [
            "<class 'pandas.core.frame.DataFrame'>\n",
            "Int64Index: 22668 entries, 0 to 22700\n",
            "Data columns (total 10 columns):\n",
            " #   Column                 Non-Null Count  Dtype         \n",
            "---  ------                 --------------  -----         \n",
            " 0   passenger_name         22668 non-null  object        \n",
            " 1   tpep_pickup_datetime   22668 non-null  datetime64[ns]\n",
            " 2   tpep_dropoff_datetime  22668 non-null  datetime64[ns]\n",
            " 3   payment_method         22668 non-null  object        \n",
            " 4   passenger_count        22668 non-null  int64         \n",
            " 5   trip_distance          22668 non-null  float64       \n",
            " 6   fare_amount            22665 non-null  float64       \n",
            " 7   tip_amount             22668 non-null  float64       \n",
            " 8   tolls_amount           22668 non-null  float64       \n",
            " 9   passenger_first_name   22668 non-null  object        \n",
            "dtypes: datetime64[ns](2), float64(4), int64(1), object(3)\n",
            "memory usage: 1.9+ MB\n"
          ]
        }
      ],
      "source": [
        "data.info()"
      ]
    },
    {
      "cell_type": "code",
      "execution_count": null,
      "id": "0e9b3dfb",
      "metadata": {
        "id": "0e9b3dfb",
        "outputId": "5657bd66-04c1-4a6f-c709-a799e0d2b34d"
      },
      "outputs": [
        {
          "name": "stdout",
          "output_type": "stream",
          "text": [
            "  tpep_pickup_datetime tpep_dropoff_datetime     travel_time\n",
            "0  2017-03-25 08:55:43   2017-03-25 09:09:47 0 days 00:14:04\n",
            "1  2017-04-11 14:53:28   2017-04-11 15:19:58 0 days 00:26:30\n",
            "2  2017-12-15 07:26:56   2017-12-15 07:34:08 0 days 00:07:12\n",
            "3  2017-05-07 13:17:59   2017-05-07 13:48:14 0 days 00:30:15\n",
            "4  2017-04-15 23:32:20   2017-04-15 23:49:03 0 days 00:16:43\n"
          ]
        },
        {
          "name": "stderr",
          "output_type": "stream",
          "text": [
            "/tmp/ipykernel_249/3096966612.py:6: SettingWithCopyWarning: \n",
            "A value is trying to be set on a copy of a slice from a DataFrame.\n",
            "Try using .loc[row_indexer,col_indexer] = value instead\n",
            "\n",
            "See the caveats in the documentation: https://pandas.pydata.org/pandas-docs/stable/user_guide/indexing.html#returning-a-view-versus-a-copy\n",
            "  data['travel_time'] = data['tpep_dropoff_datetime'] - data['tpep_pickup_datetime']\n"
          ]
        }
      ],
      "source": [
        "# Q. 하차 시각과 승차 시각의 차이를 travel_time 컬럼으로 저장합니다.\n",
        "\n",
        "# [[YOUR CODE]]\n",
        "\n",
        "# 소요 시간을 계산하여 travel_time 컬럼에 저장\n",
        "data['travel_time'] = data['tpep_dropoff_datetime'] - data['tpep_pickup_datetime']\n",
        "\n",
        "# 결과 확인 (앞 5개 행)\n",
        "print(data[['tpep_pickup_datetime', 'tpep_dropoff_datetime', 'travel_time']].head())"
      ]
    },
    {
      "cell_type": "code",
      "execution_count": null,
      "id": "b562451b",
      "metadata": {
        "id": "b562451b",
        "outputId": "37a19d33-cbfb-461b-d272-5a462ed4f2a7"
      },
      "outputs": [
        {
          "data": {
            "text/html": [
              "<div>\n",
              "<style scoped>\n",
              "    .dataframe tbody tr th:only-of-type {\n",
              "        vertical-align: middle;\n",
              "    }\n",
              "\n",
              "    .dataframe tbody tr th {\n",
              "        vertical-align: top;\n",
              "    }\n",
              "\n",
              "    .dataframe thead th {\n",
              "        text-align: right;\n",
              "    }\n",
              "</style>\n",
              "<table border=\"1\" class=\"dataframe\">\n",
              "  <thead>\n",
              "    <tr style=\"text-align: right;\">\n",
              "      <th></th>\n",
              "      <th>passenger_name</th>\n",
              "      <th>tpep_pickup_datetime</th>\n",
              "      <th>tpep_dropoff_datetime</th>\n",
              "      <th>payment_method</th>\n",
              "      <th>passenger_count</th>\n",
              "      <th>trip_distance</th>\n",
              "      <th>fare_amount</th>\n",
              "      <th>tip_amount</th>\n",
              "      <th>tolls_amount</th>\n",
              "      <th>passenger_first_name</th>\n",
              "      <th>travel_time</th>\n",
              "    </tr>\n",
              "  </thead>\n",
              "  <tbody>\n",
              "    <tr>\n",
              "      <th>0</th>\n",
              "      <td>Pamela Duffy</td>\n",
              "      <td>2017-03-25 08:55:43</td>\n",
              "      <td>2017-03-25 09:09:47</td>\n",
              "      <td>Card</td>\n",
              "      <td>6</td>\n",
              "      <td>3.34</td>\n",
              "      <td>13.0</td>\n",
              "      <td>2.76</td>\n",
              "      <td>0.0</td>\n",
              "      <td>Pamela</td>\n",
              "      <td>0 days 00:14:04</td>\n",
              "    </tr>\n",
              "    <tr>\n",
              "      <th>1</th>\n",
              "      <td>Michelle Foster</td>\n",
              "      <td>2017-04-11 14:53:28</td>\n",
              "      <td>2017-04-11 15:19:58</td>\n",
              "      <td>Card</td>\n",
              "      <td>1</td>\n",
              "      <td>1.80</td>\n",
              "      <td>16.0</td>\n",
              "      <td>4.00</td>\n",
              "      <td>0.0</td>\n",
              "      <td>Michelle</td>\n",
              "      <td>0 days 00:26:30</td>\n",
              "    </tr>\n",
              "    <tr>\n",
              "      <th>2</th>\n",
              "      <td>Tina Combs</td>\n",
              "      <td>2017-12-15 07:26:56</td>\n",
              "      <td>2017-12-15 07:34:08</td>\n",
              "      <td>Card</td>\n",
              "      <td>1</td>\n",
              "      <td>1.00</td>\n",
              "      <td>6.5</td>\n",
              "      <td>1.45</td>\n",
              "      <td>0.0</td>\n",
              "      <td>Tina</td>\n",
              "      <td>0 days 00:07:12</td>\n",
              "    </tr>\n",
              "    <tr>\n",
              "      <th>3</th>\n",
              "      <td>Anthony Ray</td>\n",
              "      <td>2017-05-07 13:17:59</td>\n",
              "      <td>2017-05-07 13:48:14</td>\n",
              "      <td>Cash</td>\n",
              "      <td>1</td>\n",
              "      <td>3.70</td>\n",
              "      <td>20.5</td>\n",
              "      <td>6.39</td>\n",
              "      <td>0.0</td>\n",
              "      <td>Anthony</td>\n",
              "      <td>0 days 00:30:15</td>\n",
              "    </tr>\n",
              "    <tr>\n",
              "      <th>4</th>\n",
              "      <td>Brianna Johnson</td>\n",
              "      <td>2017-04-15 23:32:20</td>\n",
              "      <td>2017-04-15 23:49:03</td>\n",
              "      <td>Card</td>\n",
              "      <td>1</td>\n",
              "      <td>4.37</td>\n",
              "      <td>16.5</td>\n",
              "      <td>0.00</td>\n",
              "      <td>0.0</td>\n",
              "      <td>Brianna</td>\n",
              "      <td>0 days 00:16:43</td>\n",
              "    </tr>\n",
              "  </tbody>\n",
              "</table>\n",
              "</div>"
            ],
            "text/plain": [
              "    passenger_name tpep_pickup_datetime tpep_dropoff_datetime payment_method  \\\n",
              "0     Pamela Duffy  2017-03-25 08:55:43   2017-03-25 09:09:47           Card   \n",
              "1  Michelle Foster  2017-04-11 14:53:28   2017-04-11 15:19:58           Card   \n",
              "2       Tina Combs  2017-12-15 07:26:56   2017-12-15 07:34:08           Card   \n",
              "3      Anthony Ray  2017-05-07 13:17:59   2017-05-07 13:48:14           Cash   \n",
              "4  Brianna Johnson  2017-04-15 23:32:20   2017-04-15 23:49:03           Card   \n",
              "\n",
              "   passenger_count  trip_distance  fare_amount  tip_amount  tolls_amount  \\\n",
              "0                6           3.34         13.0        2.76           0.0   \n",
              "1                1           1.80         16.0        4.00           0.0   \n",
              "2                1           1.00          6.5        1.45           0.0   \n",
              "3                1           3.70         20.5        6.39           0.0   \n",
              "4                1           4.37         16.5        0.00           0.0   \n",
              "\n",
              "  passenger_first_name     travel_time  \n",
              "0               Pamela 0 days 00:14:04  \n",
              "1             Michelle 0 days 00:26:30  \n",
              "2                 Tina 0 days 00:07:12  \n",
              "3              Anthony 0 days 00:30:15  \n",
              "4              Brianna 0 days 00:16:43  "
            ]
          },
          "execution_count": 65,
          "metadata": {},
          "output_type": "execute_result"
        }
      ],
      "source": [
        "data.head()"
      ]
    },
    {
      "cell_type": "code",
      "execution_count": null,
      "id": "19fc932f",
      "metadata": {
        "id": "19fc932f",
        "outputId": "3d78f0eb-4b2c-4085-bfe3-b6741537168f"
      },
      "outputs": [
        {
          "name": "stdout",
          "output_type": "stream",
          "text": [
            "<class 'pandas.core.frame.DataFrame'>\n",
            "Int64Index: 22668 entries, 0 to 22700\n",
            "Data columns (total 11 columns):\n",
            " #   Column                 Non-Null Count  Dtype          \n",
            "---  ------                 --------------  -----          \n",
            " 0   passenger_name         22668 non-null  object         \n",
            " 1   tpep_pickup_datetime   22668 non-null  datetime64[ns] \n",
            " 2   tpep_dropoff_datetime  22668 non-null  datetime64[ns] \n",
            " 3   payment_method         22668 non-null  object         \n",
            " 4   passenger_count        22668 non-null  int64          \n",
            " 5   trip_distance          22668 non-null  float64        \n",
            " 6   fare_amount            22665 non-null  float64        \n",
            " 7   tip_amount             22668 non-null  float64        \n",
            " 8   tolls_amount           22668 non-null  float64        \n",
            " 9   passenger_first_name   22668 non-null  object         \n",
            " 10  travel_time            22668 non-null  timedelta64[ns]\n",
            "dtypes: datetime64[ns](2), float64(4), int64(1), object(3), timedelta64[ns](1)\n",
            "memory usage: 2.1+ MB\n"
          ]
        }
      ],
      "source": [
        "data.info()"
      ]
    },
    {
      "cell_type": "code",
      "execution_count": null,
      "id": "7c67c80c",
      "metadata": {
        "id": "7c67c80c",
        "outputId": "530db9f1-1f73-43b6-c3e9-e68fd535d327"
      },
      "outputs": [
        {
          "name": "stdout",
          "output_type": "stream",
          "text": [
            "      travel_time  travel_time_seconds\n",
            "0 0 days 00:14:04                844.0\n",
            "1 0 days 00:26:30               1590.0\n",
            "2 0 days 00:07:12                432.0\n",
            "3 0 days 00:30:15               1815.0\n",
            "4 0 days 00:16:43               1003.0\n"
          ]
        },
        {
          "name": "stderr",
          "output_type": "stream",
          "text": [
            "/tmp/ipykernel_249/487883187.py:7: SettingWithCopyWarning: \n",
            "A value is trying to be set on a copy of a slice from a DataFrame.\n",
            "Try using .loc[row_indexer,col_indexer] = value instead\n",
            "\n",
            "See the caveats in the documentation: https://pandas.pydata.org/pandas-docs/stable/user_guide/indexing.html#returning-a-view-versus-a-copy\n",
            "  data['travel_time_seconds'] = data['travel_time'].dt.total_seconds()\n"
          ]
        }
      ],
      "source": [
        "# Q. travel_time 컬럼의 데이터를 초 단위로 변환합니다.\n",
        "\n",
        "# [[YOUR CODE]]\n",
        "\n",
        "\n",
        "# travel_time을 초(second) 단위로 변환하여 새로운 컬럼에 저장\n",
        "data['travel_time_seconds'] = data['travel_time'].dt.total_seconds()\n",
        "\n",
        "# 결과 확인 (앞 5개 행)\n",
        "print(data[['travel_time', 'travel_time_seconds']].head())"
      ]
    },
    {
      "cell_type": "code",
      "execution_count": null,
      "id": "76f298a9",
      "metadata": {
        "id": "76f298a9"
      },
      "outputs": [],
      "source": [
        "# 보너스 (feature engineering 맛보기)"
      ]
    },
    {
      "cell_type": "code",
      "execution_count": null,
      "id": "b3c13c29",
      "metadata": {
        "id": "b3c13c29",
        "outputId": "f8a21a4f-30bb-4af9-9c18-3f2df07de978"
      },
      "outputs": [
        {
          "data": {
            "text/html": [
              "<div>\n",
              "<style scoped>\n",
              "    .dataframe tbody tr th:only-of-type {\n",
              "        vertical-align: middle;\n",
              "    }\n",
              "\n",
              "    .dataframe tbody tr th {\n",
              "        vertical-align: top;\n",
              "    }\n",
              "\n",
              "    .dataframe thead th {\n",
              "        text-align: right;\n",
              "    }\n",
              "</style>\n",
              "<table border=\"1\" class=\"dataframe\">\n",
              "  <thead>\n",
              "    <tr style=\"text-align: right;\">\n",
              "      <th></th>\n",
              "      <th>passenger_name</th>\n",
              "      <th>tpep_pickup_datetime</th>\n",
              "      <th>tpep_dropoff_datetime</th>\n",
              "      <th>payment_method</th>\n",
              "      <th>passenger_count</th>\n",
              "      <th>trip_distance</th>\n",
              "      <th>fare_amount</th>\n",
              "      <th>tip_amount</th>\n",
              "      <th>tolls_amount</th>\n",
              "      <th>passenger_first_name</th>\n",
              "      <th>travel_time</th>\n",
              "      <th>travel_time_seconds</th>\n",
              "    </tr>\n",
              "  </thead>\n",
              "  <tbody>\n",
              "    <tr>\n",
              "      <th>0</th>\n",
              "      <td>Pamela Duffy</td>\n",
              "      <td>2017-03-25 08:55:43</td>\n",
              "      <td>2017-03-25 09:09:47</td>\n",
              "      <td>Card</td>\n",
              "      <td>6</td>\n",
              "      <td>3.34</td>\n",
              "      <td>13.0</td>\n",
              "      <td>2.76</td>\n",
              "      <td>0.0</td>\n",
              "      <td>Pamela</td>\n",
              "      <td>0 days 00:14:04</td>\n",
              "      <td>844.0</td>\n",
              "    </tr>\n",
              "    <tr>\n",
              "      <th>1</th>\n",
              "      <td>Michelle Foster</td>\n",
              "      <td>2017-04-11 14:53:28</td>\n",
              "      <td>2017-04-11 15:19:58</td>\n",
              "      <td>Card</td>\n",
              "      <td>1</td>\n",
              "      <td>1.80</td>\n",
              "      <td>16.0</td>\n",
              "      <td>4.00</td>\n",
              "      <td>0.0</td>\n",
              "      <td>Michelle</td>\n",
              "      <td>0 days 00:26:30</td>\n",
              "      <td>1590.0</td>\n",
              "    </tr>\n",
              "    <tr>\n",
              "      <th>2</th>\n",
              "      <td>Tina Combs</td>\n",
              "      <td>2017-12-15 07:26:56</td>\n",
              "      <td>2017-12-15 07:34:08</td>\n",
              "      <td>Card</td>\n",
              "      <td>1</td>\n",
              "      <td>1.00</td>\n",
              "      <td>6.5</td>\n",
              "      <td>1.45</td>\n",
              "      <td>0.0</td>\n",
              "      <td>Tina</td>\n",
              "      <td>0 days 00:07:12</td>\n",
              "      <td>432.0</td>\n",
              "    </tr>\n",
              "    <tr>\n",
              "      <th>3</th>\n",
              "      <td>Anthony Ray</td>\n",
              "      <td>2017-05-07 13:17:59</td>\n",
              "      <td>2017-05-07 13:48:14</td>\n",
              "      <td>Cash</td>\n",
              "      <td>1</td>\n",
              "      <td>3.70</td>\n",
              "      <td>20.5</td>\n",
              "      <td>6.39</td>\n",
              "      <td>0.0</td>\n",
              "      <td>Anthony</td>\n",
              "      <td>0 days 00:30:15</td>\n",
              "      <td>1815.0</td>\n",
              "    </tr>\n",
              "    <tr>\n",
              "      <th>4</th>\n",
              "      <td>Brianna Johnson</td>\n",
              "      <td>2017-04-15 23:32:20</td>\n",
              "      <td>2017-04-15 23:49:03</td>\n",
              "      <td>Card</td>\n",
              "      <td>1</td>\n",
              "      <td>4.37</td>\n",
              "      <td>16.5</td>\n",
              "      <td>0.00</td>\n",
              "      <td>0.0</td>\n",
              "      <td>Brianna</td>\n",
              "      <td>0 days 00:16:43</td>\n",
              "      <td>1003.0</td>\n",
              "    </tr>\n",
              "  </tbody>\n",
              "</table>\n",
              "</div>"
            ],
            "text/plain": [
              "    passenger_name tpep_pickup_datetime tpep_dropoff_datetime payment_method  \\\n",
              "0     Pamela Duffy  2017-03-25 08:55:43   2017-03-25 09:09:47           Card   \n",
              "1  Michelle Foster  2017-04-11 14:53:28   2017-04-11 15:19:58           Card   \n",
              "2       Tina Combs  2017-12-15 07:26:56   2017-12-15 07:34:08           Card   \n",
              "3      Anthony Ray  2017-05-07 13:17:59   2017-05-07 13:48:14           Cash   \n",
              "4  Brianna Johnson  2017-04-15 23:32:20   2017-04-15 23:49:03           Card   \n",
              "\n",
              "   passenger_count  trip_distance  fare_amount  tip_amount  tolls_amount  \\\n",
              "0                6           3.34         13.0        2.76           0.0   \n",
              "1                1           1.80         16.0        4.00           0.0   \n",
              "2                1           1.00          6.5        1.45           0.0   \n",
              "3                1           3.70         20.5        6.39           0.0   \n",
              "4                1           4.37         16.5        0.00           0.0   \n",
              "\n",
              "  passenger_first_name     travel_time  travel_time_seconds  \n",
              "0               Pamela 0 days 00:14:04                844.0  \n",
              "1             Michelle 0 days 00:26:30               1590.0  \n",
              "2                 Tina 0 days 00:07:12                432.0  \n",
              "3              Anthony 0 days 00:30:15               1815.0  \n",
              "4              Brianna 0 days 00:16:43               1003.0  "
            ]
          },
          "execution_count": 68,
          "metadata": {},
          "output_type": "execute_result"
        }
      ],
      "source": [
        "data.head()"
      ]
    },
    {
      "cell_type": "code",
      "execution_count": null,
      "id": "80cfbbb8",
      "metadata": {
        "id": "80cfbbb8",
        "outputId": "e83959dd-2946-4b74-eecb-4fdea7a33403"
      },
      "outputs": [
        {
          "name": "stdout",
          "output_type": "stream",
          "text": [
            "   fare_amount  tip_amount  tolls_amount  total_amount\n",
            "0         13.0        2.76           0.0         15.76\n",
            "1         16.0        4.00           0.0         20.00\n",
            "2          6.5        1.45           0.0          7.95\n",
            "3         20.5        6.39           0.0         26.89\n",
            "4         16.5        0.00           0.0         16.50\n"
          ]
        },
        {
          "name": "stderr",
          "output_type": "stream",
          "text": [
            "/tmp/ipykernel_249/3263976598.py:7: SettingWithCopyWarning: \n",
            "A value is trying to be set on a copy of a slice from a DataFrame.\n",
            "Try using .loc[row_indexer,col_indexer] = value instead\n",
            "\n",
            "See the caveats in the documentation: https://pandas.pydata.org/pandas-docs/stable/user_guide/indexing.html#returning-a-view-versus-a-copy\n",
            "  data['total_amount'] = data['fare_amount'] + data['tip_amount'] + data['tolls_amount']\n"
          ]
        }
      ],
      "source": [
        "# Q. 승객이 지불한 총 요금을 total_amount 컬럼으로 저장합니다.\n",
        "\n",
        "# [[YOUR CODE]]\n",
        "\n",
        "\n",
        "# 세 항목을 더해 총 요금을 계산하여 total_amount 컬럼에 저장\n",
        "data['total_amount'] = data['fare_amount'] + data['tip_amount'] + data['tolls_amount']\n",
        "\n",
        "# 결과 확인 (앞 5개 행 출력)\n",
        "print(data[['fare_amount', 'tip_amount', 'tolls_amount', 'total_amount']].head())"
      ]
    },
    {
      "cell_type": "code",
      "execution_count": null,
      "id": "5cbc0669",
      "metadata": {
        "id": "5cbc0669",
        "outputId": "b5183797-292c-45b1-87c6-8bdbf58cfa64"
      },
      "outputs": [
        {
          "data": {
            "image/png": "[encoded data removed]",
            "text/plain": [
              "<Figure size 576x360 with 1 Axes>"
            ]
          },
          "metadata": {
            "needs_background": "light"
          },
          "output_type": "display_data"
        }
      ],
      "source": [
        "# Q. fare_amount와 trip_distance 사이의 관계를 scatter plot으로 표현합니다.\n",
        "\n",
        "# [[YOUR CODE]]\n",
        "\n",
        "\n",
        "#Matplotlib을 사용하는 방법:\n",
        "import matplotlib.pyplot as plt\n",
        "\n",
        "# 산점도 그리기\n",
        "# plt.figure(figsize=(8, 5))\n",
        "# plt.scatter(data['trip_distance'], data['fare_amount'], alpha=0.5)\n",
        "# plt.title('Trip Distance vs Fare Amount')\n",
        "# plt.xlabel('Trip Distance (miles)')\n",
        "# plt.ylabel('Fare Amount ($)')\n",
        "# plt.grid(True)\n",
        "# plt.show()\n",
        "\n",
        "\n",
        "#Seaborn을 사용하는 방법 (선택):\n",
        "import seaborn as sns\n",
        "import matplotlib.pyplot as plt\n",
        "\n",
        "# 산점도 그리기\n",
        "plt.figure(figsize=(8, 5))\n",
        "sns.scatterplot(x='trip_distance', y='fare_amount', data=data, alpha=0.5)\n",
        "plt.title('Trip Distance vs Fare Amount')\n",
        "plt.xlabel('Trip Distance (miles)')\n",
        "plt.ylabel('Fare Amount ($)')\n",
        "plt.grid(True)\n",
        "plt.show()\n"
      ]
    },
    {
      "cell_type": "code",
      "execution_count": null,
      "id": "3fb88ee3",
      "metadata": {
        "id": "3fb88ee3",
        "outputId": "fbcf9be5-9e57-476d-a19a-0b1a3ab62679"
      },
      "outputs": [
        {
          "data": {
            "image/png": "[encoded data removed]",
            "text/plain": [
              "<Figure size 576x360 with 1 Axes>"
            ]
          },
          "metadata": {
            "needs_background": "light"
          },
          "output_type": "display_data"
        }
      ],
      "source": [
        "# Q. fare_amount와 travel_time 사이의 관계를 scatter plot으로 표현합니다.\n",
        "\n",
        "# [[YOUR CODE]]\n",
        "\n",
        "import matplotlib.pyplot as plt\n",
        "\n",
        "# 산점도 그리기\n",
        "plt.figure(figsize=(8, 5))\n",
        "plt.scatter(data['travel_time_seconds'], data['fare_amount'], alpha=0.5)\n",
        "plt.title('Travel Time (sec) vs Fare Amount')\n",
        "plt.xlabel('Travel Time (seconds)')\n",
        "plt.ylabel('Fare Amount ($)')\n",
        "plt.grid(True)\n",
        "plt.show()"
      ]
    },
    {
      "cell_type": "code",
      "execution_count": null,
      "id": "c47aa25b",
      "metadata": {
        "id": "c47aa25b",
        "outputId": "17084b11-041a-4c6b-aa02-86650754b143"
      },
      "outputs": [
        {
          "data": {
            "image/png": "[encoded data removed]",
            "text/plain": [
              "<Figure size 576x360 with 1 Axes>"
            ]
          },
          "metadata": {
            "needs_background": "light"
          },
          "output_type": "display_data"
        }
      ],
      "source": [
        "# Q. trip_distance와 travel_time 사이의 관계를 scatter plot으로 표현합니다.\n",
        "\n",
        "# [[YOUR CODE]]\n",
        "\n",
        "import matplotlib.pyplot as plt\n",
        "\n",
        "# 산점도 그리기 (trip_distance vs travel_time_seconds)\n",
        "plt.figure(figsize=(8, 5))\n",
        "plt.scatter(data['travel_time_seconds'], data['trip_distance'], alpha=0.5)\n",
        "plt.title('Travel Time (sec) vs Trip Distance')\n",
        "plt.xlabel('Travel Time (seconds)')\n",
        "plt.ylabel('Trip Distance (miles)')\n",
        "plt.grid(True)\n",
        "plt.show()\n"
      ]
    },
    {
      "cell_type": "code",
      "execution_count": null,
      "id": "f05303cf",
      "metadata": {
        "id": "f05303cf",
        "outputId": "37528bd5-521d-40f2-f933-4f412a905800"
      },
      "outputs": [
        {
          "name": "stdout",
          "output_type": "stream",
          "text": [
            "                     travel_time  travel_time_seconds\n",
            "count                      22224         22224.000000\n",
            "mean   0 days 00:13:57.854841612           837.854842\n",
            "std    0 days 00:10:10.281260800           610.281261\n",
            "min              0 days 00:01:00            60.000000\n",
            "25%              0 days 00:06:43           403.000000\n",
            "50%              0 days 00:11:10           670.000000\n",
            "75%              0 days 00:18:09          1089.000000\n",
            "max              0 days 00:59:59          3599.000000\n"
          ]
        }
      ],
      "source": [
        "# Q. scatter plot으로 관찰된 travel_time의 이상치를 제거합니다.\n",
        "\n",
        "# [[YOUR CODE]]\n",
        "\n",
        "# 이상치 기준 설정: 1분 이상, 1시간 이하만 남김\n",
        "filtered_data = data[(data['travel_time_seconds'] >= 60) & (data['travel_time_seconds'] <= 3600)]\n",
        "\n",
        "# 결과 확인\n",
        "print(filtered_data[['travel_time', 'travel_time_seconds']].describe())\n"
      ]
    },
    {
      "cell_type": "code",
      "execution_count": null,
      "id": "545df443",
      "metadata": {
        "id": "545df443"
      },
      "outputs": [],
      "source": []
    },
    {
      "cell_type": "code",
      "execution_count": null,
      "id": "310a5019",
      "metadata": {
        "id": "310a5019"
      },
      "outputs": [],
      "source": []
    }
  ],
  "metadata": {
    "kernelspec": {
      "display_name": "Python 3 (ipykernel)",
      "language": "python",
      "name": "python3"
    },
    "language_info": {
      "codemirror_mode": {
        "name": "ipython",
        "version": 3
      },
      "file_extension": ".py",
      "mimetype": "text/x-python",
      "name": "python",
      "nbconvert_exporter": "python",
      "pygments_lexer": "ipython3",
      "version": "3.9.7"
    },
    "colab": {
      "provenance": [],
      "include_colab_link": true
    }
  },
  "nbformat": 4,
  "nbformat_minor": 5
}