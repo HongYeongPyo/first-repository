{
  "nbformat": 4,
  "nbformat_minor": 0,
  "metadata": {
    "colab": {
      "provenance": []
    },
    "kernelspec": {
      "name": "python3",
      "display_name": "Python 3"
    },
    "language_info": {
      "name": "python"
    }
  },
  "cells": [
    {
      "cell_type": "code",
      "execution_count": null,
      "metadata": {
        "id": "RaLQCn-zQssk"
      },
      "outputs": [],
      "source": []
    },
    {
      "cell_type": "markdown",
      "source": [
        "## 문제 1)\n",
        "- 빵집에서는 매일 아침에 구워지는 식빵 한 개의 평균 무게가 500g이 되도록 맞추고자 합니다.\n",
        "- 빵집 주인은 오늘 아침에 구운 식빵 중에서 랜덤하게 25개의 식빵을 샘플링하여 무게를 측정했습니다.\n",
        "- 그 결과, 표본 평균은 495g, 표준편차는 10g으로 나왔습니다.\n",
        "- 빵집 주인이 목표한 500g의 무게를 충족하고 있는지(다시말해 목표 무게를 넘는지 안 넘는지)  \n",
        "- 5% 유의수준에서 검정해보세요\n",
        "\n",
        "예시결과\n",
        "### 결과 출력\n",
        "if p_value < alpha:\n",
        "- print(f\"t-값: {t_statistic:.4f}, p-value: {p_value:.4f}.\n",
        "- 유의수준 {alpha}에서 귀무가설을 기각합니다.\n",
        "- 빵의 평균 무게는 목표와 다릅니다.\")\n",
        "\n",
        "else:\n",
        "- print(f\"t-값: {t_statistic:.4f}, p-value: {p_value:.4f}.\n",
        "- 유의수준 {alpha}에서 귀무가설을 채택합니다\n",
        "- 빵의 평균 무게는 목표와 통계적으로 차이가 없습니다.\")    \n",
        "\n",
        "\n",
        "- t-값: -2.5000,\n",
        "- p-value: 0.0197.\n",
        "- 유의수준 0.05에서 귀무가설을 기각합니다.\n",
        "- 빵의 평균 무게는 목표와 다릅니다."
      ],
      "metadata": {
        "id": "HSXuFFQVQ9DF"
      }
    },
    {
      "cell_type": "code",
      "source": [
        "# 단일표본 t-검정(빵의 무게가 목표보다 작은지 확인)\n",
        "\n",
        "# 모집단 평균 가설: 뮤 = 500\n",
        "# 표본 평균: 495\n",
        "\n",
        "# 표본 크기: 25\n",
        "# 표본 표준편차: 10\n",
        "# 유의수준: 0.05\n"
      ],
      "metadata": {
        "id": "KAtCjT1CQ975"
      },
      "execution_count": null,
      "outputs": []
    },
    {
      "cell_type": "code",
      "source": [
        "import scipy.stats as stats\n",
        "\n",
        "# 주어진 초기값\n",
        "sample_mean = 495      # 표본 평균\n",
        "population_mean = 500  # 모집단(목표) 평균\n",
        "\n",
        "std_dev = 10           # 표본 표준편차\n",
        "n = 25                 # 표본 크기\n",
        "alpha = 0.05           # 유의수준"
      ],
      "metadata": {
        "id": "KEdp-Lp8THW8"
      },
      "execution_count": null,
      "outputs": []
    },
    {
      "cell_type": "code",
      "source": [
        "# t-통계량 계산\n",
        "t_statistic = (sample_mean - population_mean) / (std_dev / (n ** 0.5))\n",
        "t_statistic"
      ],
      "metadata": {
        "colab": {
          "base_uri": "https://localhost:8080/"
        },
        "id": "-JXc4greTHaq",
        "outputId": "3e8bfdeb-551c-4866-c9f6-0cad6ed1c351"
      },
      "execution_count": null,
      "outputs": [
        {
          "output_type": "execute_result",
          "data": {
            "text/plain": [
              "-2.5"
            ]
          },
          "metadata": {},
          "execution_count": 4
        }
      ]
    },
    {
      "cell_type": "code",
      "source": [
        "# 단측 검정 (왼쪽 꼬리): 평균이 목표보다 **작은지** 검정\n",
        "p_value = stats.t.cdf(t_statistic, df=n-1)\n",
        "p_value\n",
        "\n",
        "#stats.t.cdf : t-분포의 누적분포함수(CDF,Cumulative Distribution Function).특정t-값 이하의 확률을 구함\n",
        "#scipy.stats.t.cdf(x, df) : x는 누적확률을 계산하고자 하는 값, df는 자유도\n",
        "# t-분포에서 t값이 x보다 작을 확률\n"
      ],
      "metadata": {
        "colab": {
          "base_uri": "https://localhost:8080/"
        },
        "id": "VjUUgTAuTHew",
        "outputId": "e568b7cb-adc2-4728-c2c5-8a90a8f528b1"
      },
      "execution_count": null,
      "outputs": [
        {
          "output_type": "execute_result",
          "data": {
            "text/plain": [
              "np.float64(0.009827087558289377)"
            ]
          },
          "metadata": {},
          "execution_count": 5
        }
      ]
    },
    {
      "cell_type": "code",
      "source": [
        "# 결과 출력\n",
        "if p_value < alpha:\n",
        "    print(\n",
        "        f\"t-값: {t_statistic:.4f}, p-value: {p_value:.4f}.\"\n",
        "        f\"유의수준 {alpha}에서 귀무가설을 기각합니다.\"\n",
        "        \"빵의 평균 무게는 목표와 다릅니다.\")\n",
        "else:\n",
        "    print(f\"t-값: {t_statistic:.4f}, p-value: {p_value:.4f}.\"\n",
        "        f\"유의수준 {alpha}에서 귀무가설을 채택합니다.\"\n",
        "         \"빵의 평균 무게는 목표와 통계적으로 차이가 없습니다.\")\n"
      ],
      "metadata": {
        "colab": {
          "base_uri": "https://localhost:8080/"
        },
        "id": "oR3p7feKTHnB",
        "outputId": "64c66195-4a31-4336-8bf9-ad38be1a650f"
      },
      "execution_count": null,
      "outputs": [
        {
          "output_type": "stream",
          "name": "stdout",
          "text": [
            "t-값: -2.5000, p-value: 0.0098.유의수준 0.05에서 귀무가설을 기각합니다.빵의 평균 무게는 목표와 다릅니다.\n"
          ]
        }
      ]
    },
    {
      "cell_type": "code",
      "source": [],
      "metadata": {
        "id": "3V9SpB6BTHrV"
      },
      "execution_count": null,
      "outputs": []
    },
    {
      "cell_type": "markdown",
      "source": [
        "=====================================================================\n",
        "### 문제2) 분포 시각화\n",
        "\n",
        "문제 1번을 바탕으로 분포를 그리고 t통계량을 빨간색 점선으로,\n",
        "초록색 점선으로 임계값을 기각역을 초록색으로 칠해보세요.\n",
        "\n",
        "***기각역**:  통계량이 들어왔을 경우 귀무가설을 기각할 수 있는 영역을 말합니다.\n",
        "\n",
        " Hint)\n",
        "\n",
        "- `plt.axvline` : y축 평행선 그리기\n",
        "- `plt.fill_between` : 그래프 면적 색칠하기"
      ],
      "metadata": {
        "id": "b1okED6hQ-Yv"
      }
    },
    {
      "cell_type": "code",
      "source": [
        "import numpy as np\n",
        "import matplotlib.pyplot as plt\n",
        "from scipy.stats import t\n",
        "\n",
        "\n",
        "# 문제1에서 주어진 초기값\n",
        "sample_mean = 495      # 표본 평균\n",
        "population_mean = 500  # 모집단(목표) 평균\n",
        "\n",
        "std_dev = 10           # 표본 표준편차\n",
        "\n",
        "n = 25                 # 표본 크기\n",
        "df = n-1               # 자유도\n",
        "alpha = 0.05           # 유의수준"
      ],
      "metadata": {
        "id": "cldTmYtkXD-l"
      },
      "execution_count": null,
      "outputs": []
    },
    {
      "cell_type": "code",
      "source": [
        "# t-통계량 계산\n",
        "t_statistic = (sample_mean - population_mean) / (std_dev / np.sqrt(n))\n",
        "t_statistic\n",
        "\n",
        "# numpy.sqrt(x, /, out=None, *, where=True, casting='same_kind', order='K',\n",
        "#          dtype=None, subok=True[, signature]) = <ufunc 'sqrt'>"
      ],
      "metadata": {
        "colab": {
          "base_uri": "https://localhost:8080/"
        },
        "id": "NVgvlQjOXlCy",
        "outputId": "26a6816f-8503-45ac-b13a-c0ce489b32d1"
      },
      "execution_count": null,
      "outputs": [
        {
          "output_type": "execute_result",
          "data": {
            "text/plain": [
              "np.float64(-2.5)"
            ]
          },
          "metadata": {},
          "execution_count": 13
        }
      ]
    },
    {
      "cell_type": "code",
      "source": [
        "# 임계값 (왼쪽 단측)\n",
        "t_critical = t.ppf(alpha, df)       #임곅값 계산\n",
        "t_critical\n",
        "\n",
        "# t.ppf : 부적분포함수(CDF)의 역함수. 퍼센트포인트 함수(ppf, percent point function)\n",
        "#          주어진 누적확률에 해당하는 t-분포의 임계값(critical value) 반환\n",
        "# 자유도(alpha)인 t-분포에서 왼쪽 꼬리의 5%에 해당하는 값을 반환"
      ],
      "metadata": {
        "colab": {
          "base_uri": "https://localhost:8080/"
        },
        "id": "dKf1XU5HXlHU",
        "outputId": "fa8690c1-d580-4b2b-e6f1-9cb7685ac36e"
      },
      "execution_count": null,
      "outputs": [
        {
          "output_type": "execute_result",
          "data": {
            "text/plain": [
              "np.float64(-1.7108820799094282)"
            ]
          },
          "metadata": {},
          "execution_count": 14
        }
      ]
    },
    {
      "cell_type": "code",
      "source": [
        "# x축 범위 설정\n",
        "x = np.linspace(-4, 4, 500)\n",
        "y = t.pdf(x, df)                        # t-분포 곡선시각화\n",
        "\n",
        "# numpy.linspace(start, stop, num=50, endpoint=True, retstep=False, dtype=None, axis=0, *, device=None)\n",
        "#               특정 구간을 일정한 간격으로 나눈 수열(등간격 수열)을 생성할 때 사용하는 함수\n",
        "#               그래프를 부드럽게 그릴 때, 정밀한 분석용 수열을 만들 때 유용\n",
        "#   num:생성할 숫자 개수(기본값 50개). endpoint: stop값을 포함할지 여부,\n",
        "#   retstep: true로 설정하면 간격도 함꼐 반환,  dtype:생성될 배열의 자료형 지정"
      ],
      "metadata": {
        "id": "DK3ZOu50XlLW"
      },
      "execution_count": null,
      "outputs": []
    },
    {
      "cell_type": "code",
      "source": [
        "# 그래프 그리기\n",
        "plt.plot(x, y, color='blue')\n",
        "plt.title('t-distribution')\n",
        "\n",
        "#matplotlib.pyplot.plot(*args, scalex=True, scaley=True, data=None, **kwargs)\n",
        "#         선그래프 그릴 때 사용. x값과 y값의 순서쌍을 연결하여 꺽은선 그리기\n",
        "# 선 색상: 스타일, 마커지정 문자열('ro--')"
      ],
      "metadata": {
        "colab": {
          "base_uri": "https://localhost:8080/",
          "height": 470
        },
        "id": "_c872xe-ajE2",
        "outputId": "f3170184-1ec9-4f9f-f1b3-131d7f97d5d8"
      },
      "execution_count": null,
      "outputs": [
        {
          "output_type": "execute_result",
          "data": {
            "text/plain": [
              "Text(0.5, 1.0, 't-distribution')"
            ]
          },
          "metadata": {},
          "execution_count": 19
        },
        {
          "output_type": "display_data",
          "data": {
            "text/plain": [
              "<Figure size 640x480 with 1 Axes>"
            ],
            "image/png": "[encoded data removed]"
          },
          "metadata": {}
        }
      ]
    },
    {
      "cell_type": "code",
      "source": [
        "# 임계값 기준으로 왼쪽 꼬리 기각역 색칠\n",
        "x_fill = np.linspace(-4, t_critical, 200)\n",
        "plt.fill_between(x_fill, t.pdf(x_fill, df), color='lightgreen', alpha=0.5)\n",
        "\n",
        "\n",
        "# matplotlib.pyplot.fill_between(x, y1, y2=0, where=None,\n",
        "#                               interpolate=False, step=None, *, data=None, **kwargs)\n",
        "# where : 특정 조건에서만 음영처리(블리언 배열). alpha : 투명도(0은 완전 투명 ~ 1은 불투명)\n",
        "\n",
        "# 두 곡선 사이, 곡선과 x축 사이의 영역을 색으로 채워주는 함수\n",
        "# 주로 기각역 음영처리, 누적 면적 시각화, 불확실성 영역표시(신뢰구간)\n"
      ],
      "metadata": {
        "colab": {
          "base_uri": "https://localhost:8080/",
          "height": 448
        },
        "id": "hxJCJ3irXlOv",
        "outputId": "1dcf9fb5-157a-41fb-a7f4-6f45c7f762f7"
      },
      "execution_count": null,
      "outputs": [
        {
          "output_type": "execute_result",
          "data": {
            "text/plain": [
              "<matplotlib.collections.FillBetweenPolyCollection at 0x7bc58f8a9590>"
            ]
          },
          "metadata": {},
          "execution_count": 23
        },
        {
          "output_type": "display_data",
          "data": {
            "text/plain": [
              "<Figure size 640x480 with 1 Axes>"
            ],
            "image/png": "[encoded data removed]"
          },
          "metadata": {}
        }
      ]
    },
    {
      "cell_type": "code",
      "source": [
        "# 임계값(초록 점선), t-값(빨간 점선)\n",
        "plt.axvline(t_critical, color='green', linestyle='--')  # 임계값\n",
        "plt.axvline(t_statistic, color='red', linestyle='--')   # t통계량\n",
        "\n",
        "\n",
        "# matplotlib.pyplot.axvline(x=0, ymin=0, ymax=1, **kwargs)\n",
        "# plt.axvline(x=0, color='k', linestyle='--', linewidth=1, label=None)\n",
        "\n",
        "# lineatyle : '-', '--', ':', '-.'\n",
        "# linrwidth or lw : 선 굵기,\n",
        "\n",
        "# 그래프에 수직선을 그릴 때 사용하는 함수\n",
        "# 주로 임계값, 기준선, 평균선, 특정 x위치 강조 등"
      ],
      "metadata": {
        "colab": {
          "base_uri": "https://localhost:8080/",
          "height": 453
        },
        "id": "2B9WcxlIXlT0",
        "outputId": "717edfed-4328-4573-e85b-93d000caa893"
      },
      "execution_count": null,
      "outputs": [
        {
          "output_type": "execute_result",
          "data": {
            "text/plain": [
              "<matplotlib.lines.Line2D at 0x7bc58d52d090>"
            ]
          },
          "metadata": {},
          "execution_count": 25
        },
        {
          "output_type": "display_data",
          "data": {
            "text/plain": [
              "<Figure size 640x480 with 1 Axes>"
            ],
            "image/png": "[encoded data removed]"
          },
          "metadata": {}
        }
      ]
    },
    {
      "cell_type": "code",
      "source": [
        "# y축 기준선\n",
        "plt.axhline(0, color='black', linewidth=0.5)\n",
        "\n",
        "plt.show()"
      ],
      "metadata": {
        "colab": {
          "base_uri": "https://localhost:8080/",
          "height": 435
        },
        "id": "gR3cPeCqXlU3",
        "outputId": "9bd409cd-9d5e-4c70-cd7e-0a18b13a521e"
      },
      "execution_count": null,
      "outputs": [
        {
          "output_type": "display_data",
          "data": {
            "text/plain": [
              "<Figure size 640x480 with 1 Axes>"
            ],
            "image/png": "[encoded data removed]"
          },
          "metadata": {}
        }
      ]
    },
    {
      "cell_type": "code",
      "source": [],
      "metadata": {
        "id": "FCCDhSQTgtVw"
      },
      "execution_count": null,
      "outputs": []
    },
    {
      "cell_type": "markdown",
      "source": [
        "## 문제 2 (2) : 전체 다시\n"
      ],
      "metadata": {
        "id": "F0h3T7wHgtiE"
      }
    },
    {
      "cell_type": "code",
      "source": [
        "import numpy as np\n",
        "import matplotlib.pyplot as plt\n",
        "from scipy.stats import t\n",
        "\n",
        "\n",
        "# 문제1에서 주어진 초기값\n",
        "sample_mean = 495      # 표본 평균\n",
        "population_mean = 500  # 모집단(목표) 평균\n",
        "\n",
        "std_dev = 10           # 표본 표준편차\n",
        "\n",
        "n = 25                 # 표본 크기\n",
        "df = n-1               # 자유도\n",
        "alpha = 0.05           # 유의수준\n",
        "\n",
        "# t-통계량 계산\n",
        "t_statistic = (sample_mean - population_mean) / (std_dev / np.sqrt(n))\n",
        "\n",
        "# 임계값 (왼쪽 단측)\n",
        "t_critical = t.ppf(alpha, df)       #임곅값 계산\n",
        "\n",
        "# x축 범위 설정\n",
        "x = np.linspace(-4, 4, 500)\n",
        "y = t.pdf(x, df)                        # t-분포 곡선시각화\n",
        "\n",
        "# 그래프 그리기\n",
        "plt.plot(x, y, color='blue')\n",
        "plt.title('t-distribution')\n",
        "\n",
        "# 임계값 기준으로 왼쪽 꼬리 기각역 색칠\n",
        "x_fill = np.linspace(-4, t_critical, 200)\n",
        "plt.fill_between(x_fill, t.pdf(x_fill, df), color='lightgreen', alpha=0.5)\n",
        "\n",
        "# 임계값(초록 점선), t-값(빨간 점선)\n",
        "plt.axvline(t_critical, color='green', linestyle='--')  # 임계값\n",
        "plt.axvline(t_statistic, color='red', linestyle='--')   # t통계량\n",
        "\n",
        "# y축 기준선\n",
        "plt.axhline(0, color='black', linewidth=0.5)\n"
      ],
      "metadata": {
        "id": "8lIrhU7-iGas",
        "colab": {
          "base_uri": "https://localhost:8080/",
          "height": 470
        },
        "outputId": "8665f116-ff90-498b-86fa-a64c5ca23545"
      },
      "execution_count": 4,
      "outputs": [
        {
          "output_type": "execute_result",
          "data": {
            "text/plain": [
              "<matplotlib.lines.Line2D at 0x7b77d42d4b50>"
            ]
          },
          "metadata": {},
          "execution_count": 4
        },
        {
          "output_type": "display_data",
          "data": {
            "text/plain": [
              "<Figure size 640x480 with 1 Axes>"
            ],
            "image/png": "[encoded data removed]"
          },
          "metadata": {}
        }
      ]
    },
    {
      "cell_type": "code",
      "source": [],
      "metadata": {
        "id": "k3jnu8x_iGjg"
      },
      "execution_count": null,
      "outputs": []
    },
    {
      "cell_type": "markdown",
      "source": [
        "=====================================================================\n",
        "### 문제 3) 단일 t 표본 검정\n",
        "\n",
        "- 어느 학교에서 새로운 교육 프로그램을 도입한 후 학생들의 수학 성적이 향상되었는지 확인하려고 합니다.\n",
        "- 프로그램 도입 후 무작위로 선택한 16명의 학생들의 수학 성적 평균은 78점이고, 모집단의 평균은 75점입니다.\n",
        "- 모집단의 표준편차는 알 수 없다고 합니다.\n",
        "- 유의수준 0.05에서 이 교육 프로그램이 성적 향상에 효과가 있는지 단일 표본 t-검정을 실시하세요.\n",
        "\n",
        "<aside>\n",
        "💡\n",
        "\n",
        "- 수업시간에 양측검정을 기준으로 배웠습니다.\n",
        "- 다시말하면 데이터의 평균이 특정 값과 같은지 아닌지(방향은 관심없음)입니다.\n",
        "- 문제는 **향상에 효과가 있는지** 에 대한 물음입니다.\n",
        "- 함수를 무엇을 어떻게 넣어야할지 고민해보세요!(힌트 scipy docs 참고)\n",
        "\n",
        "</aside>"
      ],
      "metadata": {
        "id": "PbQfstQJiHGg"
      }
    },
    {
      "cell_type": "code",
      "source": [
        "import numpy as np\n",
        "from scipy import stats\n",
        "\n",
        "# Sample data\n",
        "sample_scores = [79, 77, 80, 76, 78, 81, 75, 79, 77, 80, 78, 76, 82, 77, 79, 81]\n",
        "\n",
        "pu = 75        # population mean\n",
        "alpha = 0.05   # significance level\n"
      ],
      "metadata": {
        "id": "2C900Y04iT5T"
      },
      "execution_count": 5,
      "outputs": []
    },
    {
      "cell_type": "code",
      "source": [
        "# Perform one-sample t-test\n",
        "t_stat, p_value = stats.ttest_1samp(sample_scores, pu)\n",
        "\n",
        "\n",
        "# ttest_1samp(a, popmean, axis=0, nan_policy='propagate', alternative='two-sided', *, keepdims=False)\n",
        "#            단일본"
      ],
      "metadata": {
        "id": "eiSEvebVopcz"
      },
      "execution_count": 6,
      "outputs": []
    },
    {
      "cell_type": "code",
      "source": [
        "# Result output\n",
        "if p_value < alpha:\n",
        "    print(f\"t-값: {t_stat:.4f}, p-value: {p_value:.4f}.\"\n",
        "           \"유의수준 {alpha}에서 귀무가설을 기각합니다. 교육프로그램은 효과가 있습니다.\")\n",
        "else:\n",
        "    print(f\"t-값: {t_stat:.4f}, p-value: {p_value:.4f}.\"\n",
        "            \"유의수준 {alpha}에서 귀무가설을 채택합니다. 교육프로그램은 효과가 없습니다.\")\n"
      ],
      "metadata": {
        "id": "rqNK5hesopou",
        "colab": {
          "base_uri": "https://localhost:8080/"
        },
        "outputId": "a0441a6c-fa35-4098-ff54-1892e8389156"
      },
      "execution_count": 8,
      "outputs": [
        {
          "output_type": "stream",
          "name": "stdout",
          "text": [
            "t-값: 6.7666, p-value: 0.0000.유의수준 {alpha}에서 귀무가설을 기각합니다. 교육프로그램은 효과가 있습니다.\n"
          ]
        }
      ]
    },
    {
      "cell_type": "markdown",
      "source": [
        "=====================================================================\n",
        "### 문제 4) 독립 표본 t 검정\n",
        "\n",
        "- 한 연구소에서 두 가지 새로운 다이어트 프로그램의 효과를 비교하려고 합니다.\n",
        "- 연구소는 두 그룹의 참가자들을 대상으로 12주간 다이어트 프로그램을 진행한 후 체중 감소량을 측정했습니다.\n",
        "- 유의수준 5% 에서 두 그룹 간 평균 체중 감소량에 유의미한 차이가 있는지 독립 표본 t-검정을 실시하세요.\n",
        "\n",
        "<aside>\n",
        "💡\n",
        "\n",
        "- 관찰연구에서는  두개의 그룹을 t검정을 할때 등분산성을 검정하게 됩니다.\n",
        "-  `scipy.stats.levene` 문서를 읽고 등분산 검정 후 적절한 검정방법을 적용해보세요.\n",
        "- 등분산 검정에도 역시 귀무가설과 대립가설이 존재합니다.\n",
        "\n",
        "</aside>"
      ],
      "metadata": {
        "id": "b7pv5-KIvmJ2"
      }
    },
    {
      "cell_type": "code",
      "source": [
        "# 귀무가설: 두 집단의 평균 차이는 없다. H0,\n",
        "# 대립가설: 두 집단의 평균 차이는 있다. H1. 양측겁정\n",
        "\n",
        "# 유의수준: 0.05\n",
        "\n",
        "# 등분선 검정, 독립표본 t검정, 결과출력"
      ],
      "metadata": {
        "id": "yaBhKx63vmWt"
      },
      "execution_count": 13,
      "outputs": []
    },
    {
      "cell_type": "code",
      "source": [
        "import numpy as np\n",
        "from scipy import stats\n",
        "\n",
        "# 그룹 A와 B의 체중 감소량 데이터\n",
        "group_A = [5.1, 4.7, 6.2, 4.9, 5.3, 6.1, 5.0, 5.8, 4.8, 5.2]\n",
        "group_B = [4.3, 4.1, 3.8, 4.6, 4.0, 4.5, 3.7, 4.2, 3.9, 4.4, 3.5, 4.3]\n",
        "\n",
        "# 유의수준\n",
        "alpha = 0.05"
      ],
      "metadata": {
        "id": "uiPX42jExQBu"
      },
      "execution_count": 14,
      "outputs": []
    },
    {
      "cell_type": "code",
      "source": [
        "# 1. 등분산성 검정\n",
        "levene_stat, levene_p = stats.levene(group_A, group_B)\n",
        "\n",
        "\n",
        "# scipy.stats.levene(*samples, center='median', proportiontocut=0.05, axis=0, nan_policy='propagate', keepdims=False)\n",
        "# levene_stat   : Levene 검정 통계량\n",
        "# levene_p : p-value 로 등분산 여부 판단 기\n",
        "\n",
        "# 두 집단의 분산이 같은지(등분산성)를 검정하는 Levene 의 등분산성 검정  수행\n",
        "# 독립표본 t-검정을 수행하기 전에 확인 조건\n",
        "\n"
      ],
      "metadata": {
        "id": "nRpysjXIxTIr"
      },
      "execution_count": 15,
      "outputs": []
    },
    {
      "cell_type": "code",
      "source": [
        "# 2. 등분산 여부에 따라 적절한 t-검정 수행\n",
        "equal_var = True if levene_p >= alpha else False\n",
        "\n",
        "t_stat, p_value = stats.ttest_ind(group_A, group_B, equal_var=equal_var)\n",
        "\n",
        "\n",
        "# equal_val : Levene의 등분산성 검정 결과를 기반으로, 독립표본 t-검정에서 사용할\n",
        "#             equal_val 값을 자동 설정하는 조건문\n",
        "# levene_p >= alpha : 귀무가설 채택(등분산)  True\n",
        "# levene_p < alpha  : 귀무가설 기각(이분산)  False\n",
        "\n",
        "\n",
        "# ttest_ind(a, b, *, axis=0, equal_var=True, nan_policy='propagate', permutations=None,\n",
        "#               random_state=None, alternative='two-sided', trim=0, method=None, keepdims=False)\n",
        "# stats.ttest_ind(a, b, equal_var=True)\n",
        "#               equal_var = True  : 두 집단의 분산이 같다고 가정 (등분산 t-검정)\n",
        "#               equal_var = False : 두 집단의 분산이 다르다고 가정 (Welch의 t-검정)\n",
        "\n",
        "\n"
      ],
      "metadata": {
        "id": "bEYYnR92xcp5"
      },
      "execution_count": 16,
      "outputs": []
    },
    {
      "cell_type": "code",
      "source": [
        "# 3. 결과 출력\n",
        "if p_value < alpha:\n",
        "    print(f\"t-값: {t_stat:.4f}, p-value: {p_value:.4f}. \"\n",
        "          \"유의수준 {alpha}에서 귀무가설을 기각합니다. 다이어트 프로그램은 효과가 있습니다.\")\n",
        "else:\n",
        "    print(f\"t-값: {t_stat:.4f}, p-value: {p_value:.4f}. \"\n",
        "           \"유의수준 {alpha}에서 귀무가설을 채택합니다. 다이어트 프로그램은 효과가 없습니다.\")\n"
      ],
      "metadata": {
        "colab": {
          "base_uri": "https://localhost:8080/"
        },
        "id": "TgCZvrDNxTL7",
        "outputId": "0960cfea-69b5-46de-d636-340dda14dd80"
      },
      "execution_count": 17,
      "outputs": [
        {
          "output_type": "stream",
          "name": "stdout",
          "text": [
            "t-값: 6.3898, p-value: 0.0000. 유의수준 {alpha}에서 귀무가설을 기각합니다. 다이어트 프로그램은 효과가 있습니다.\n"
          ]
        }
      ]
    },
    {
      "cell_type": "markdown",
      "source": [
        "=====================================================================\n",
        "### 문제 5) 대응표본 t검정\n",
        "\n",
        "- 대응표본 t-검정은 두 집단간 평균 차이를 비교할 때 사용되는 점은 독립 t검정 동일하나,\n",
        "- 같은 집단에서 두 번 수집할 때 사용되는 검정입니다\n",
        "- ( ex 고혈압 투여 전후 환자 단일 그룹의 혈압의 차)\n",
        "- `scipy.stats` docs에서 적절한 함수를 찾아보고 적용해보세요.\n",
        "\n",
        "</aside>\n",
        "\n",
        "- 운동 프로그램 전후의 체중 변화를 분석하기 위해 10명의 참가자의 체중을 측정했습니다.\n",
        "- 유의수준 5%에서 운동 프로그램이 체중 감소에 효과가 있는지 **대응 표본 t-검정**을 실시하세요.\n",
        "- 또한, 대응표본t검정에서 등분산 검정이 필요한지 고민해봅시다."
      ],
      "metadata": {
        "id": "5_FQN5kp2zVQ"
      }
    },
    {
      "cell_type": "code",
      "source": [],
      "metadata": {
        "id": "EuHWhWoc8fKy"
      },
      "execution_count": null,
      "outputs": []
    },
    {
      "cell_type": "markdown",
      "source": [
        "### 대응표본 t-검정, 독립 t-검정 :\n",
        "- 같은 점 : 두 집단 간 평균차이를 비교\n",
        "\n",
        "### 대응표본 t-검정:\n",
        "- 같은 집단에서 두 번 수집시 사용\n",
        "- before와 after는 같은 그룹의 측정값이므로 → 대응표본 t-검정\n",
        "\n",
        "- 유의수준 alpha = 0.05\n",
        "\n",
        "### 가설:\n",
        "- 귀무가설(H0): 평균 변화가 없다 (전후 체중 차이가 0이다.)\n",
        "- 대립가설(H1): 평균 변화가 있다 (차이 0이 아니다.)\n",
        "\n",
        "### 등분산:\n",
        "- 등분산 검정은 필요 없음\n",
        "- 대응표본은 분산 비교가 아님"
      ],
      "metadata": {
        "id": "nlbYEZMg8qtF"
      }
    },
    {
      "cell_type": "code",
      "source": [
        "import numpy as np\n",
        "from scipy import stats\n",
        "\n",
        "# 운동 전후 체중 데이터\n",
        "before = np.array([70, 80, 65, 90, 75, 85, 78, 82, 68, 73])\n",
        "after = np.array([68, 78, 64, 88, 74, 83, 77, 80, 67, 72])\n",
        "\n",
        "# 유의수준\n",
        "alpha = 0.05"
      ],
      "metadata": {
        "id": "E2rjYi2T20DS"
      },
      "execution_count": 19,
      "outputs": []
    },
    {
      "cell_type": "code",
      "source": [
        "# 대응표본 t-검정(Paired Sample t-test)\n",
        "t_stat, p_value = stats.ttest_rel(before, after)\n",
        "\n",
        "\n",
        "# ttest_rel(a, b, axis=0, nan_policy='propagate', alternative='two-sided', *, keepdims=False)\n",
        "# stats.ttest_rel(before, after)\n",
        "\n",
        "# 같은 대상에서 두 번 측정한 값의 평균 차이가 통계적으로 유의미 한지를 판단할 때 사용\n",
        "\n",
        "# t_stat : t-검정량\n",
        "# 결과를 기반으로 유의수준 alpha 와 비교 : 효과가 있는지 여부 판단\n",
        "\n",
        "\n"
      ],
      "metadata": {
        "id": "ykq61DOU20Gm"
      },
      "execution_count": 23,
      "outputs": []
    },
    {
      "cell_type": "markdown",
      "source": [
        "### 대응표본 t-검정 사용조건:\n",
        "- 같은 실험 대상에게 부 번 측정함\n",
        "- 시간의 흐름(전후), 조건 변화 전후 측정\n",
        "- 관찰값 간에 쌍(pare)이 존재함\n",
        "\n",
        "\n",
        "### 두 집단이 서로 독립인 경우:\n",
        "- ttest_ind() 사용"
      ],
      "metadata": {
        "id": "ROS4iqHBAha4"
      }
    },
    {
      "cell_type": "code",
      "source": [
        "# 결과 출력\n",
        "if p_value < alpha:\n",
        "    print(f\"t-값: {t_stat:.4f}, p-value: {p_value:.4f}. \"\n",
        "           \"유의수준 {alpha}에서 귀무가설을 기각합니다. 고혈압약은 효과가 있습니다.\")\n",
        "else:\n",
        "    print(f\"t-값: {t_stat:.4f}, p-value: {p_value:.4f}.\"\n",
        "           \" 유의수준 {alpha}에서 귀무가설을 채택합니다. 고혈압약은 효과가 없습니다.\")"
      ],
      "metadata": {
        "colab": {
          "base_uri": "https://localhost:8080/"
        },
        "id": "ADln8-kI20NL",
        "outputId": "19e571c6-1168-442a-9f9c-ecd9418a2658"
      },
      "execution_count": 22,
      "outputs": [
        {
          "output_type": "stream",
          "name": "stdout",
          "text": [
            "t-값: 9.0000, p-value: 0.0000. 유의수준 {alpha}에서 귀무가설을 기각합니다. 고혈압약은 효과가 있습니다.\n"
          ]
        }
      ]
    },
    {
      "cell_type": "markdown",
      "source": [
        "=====================================================================\n",
        "### 문제 6) 표본 추출\n",
        "\n",
        "- Quest 05-01의  Online Retail II 데이터에서 표본을 추출하여 모집단의 평균을 추정해보세요.\n",
        "- 영국(United Kingdom)에서 주문된 데이터 에서 30개, 100개, 300개의 샘플을 무작위 추출하여 평균 구매 금액(Total Price)를 계산해보세요.\n",
        "- 표본의 크기가 커질 수록 모집단의 평균과 가까워지는지 확인해보세요.\n",
        "- 데이터 불러오는 코드 & 예상결과"
      ],
      "metadata": {
        "id": "5Qg5rLcs_WtA"
      }
    },
    {
      "cell_type": "markdown",
      "source": [
        "- 데이터\t : Online Retail II (from kagglehub)\n",
        "- 대상\t:  Country == 'United Kingdom' 인 주문만 필터링\n",
        "\n",
        "- 컬럼 :\tTotalPrice (총 구매 금액)\n",
        "- 샘플 수\t : 30, 100, 300개 표본을 무작위 추출\n",
        "- 분석 목적 : 표본 평균 vs 모집단 평균 비교"
      ],
      "metadata": {
        "id": "13VGyzDm_uE1"
      }
    },
    {
      "cell_type": "code",
      "source": [
        "import kagglehub\n",
        "import os\n",
        "\n",
        "import pandas as pd\n",
        "import numpy as np\n",
        "\n",
        "# 데이터 다운로드 및 불러오기\n",
        "path = kagglehub.dataset_download(\"mashlyn/online-retail-ii-uci\")\n",
        "print(\"Path to dataset files:\", path)\n",
        "\n"
      ],
      "metadata": {
        "colab": {
          "base_uri": "https://localhost:8080/"
        },
        "id": "fxe78NGsxTP1",
        "outputId": "8bc44a65-2272-4080-c2eb-fb9201587b9c"
      },
      "execution_count": 36,
      "outputs": [
        {
          "output_type": "stream",
          "name": "stdout",
          "text": [
            "Path to dataset files: /kaggle/input/online-retail-ii-uci\n"
          ]
        }
      ]
    },
    {
      "cell_type": "code",
      "source": [
        "retail = pd.read_csv(path + '/' + os.listdir(path)[0])\n",
        "retail.head(3)"
      ],
      "metadata": {
        "colab": {
          "base_uri": "https://localhost:8080/",
          "height": 230
        },
        "id": "rbol0NoHCd2V",
        "outputId": "ed299247-6592-4ab0-b2a9-fbe96720f278"
      },
      "execution_count": 37,
      "outputs": [
        {
          "output_type": "execute_result",
          "data": {
            "text/plain": [
              "  Invoice StockCode                          Description  Quantity  \\\n",
              "0  489434     85048  15CM CHRISTMAS GLASS BALL 20 LIGHTS        12   \n",
              "1  489434    79323P                   PINK CHERRY LIGHTS        12   \n",
              "2  489434    79323W                  WHITE CHERRY LIGHTS        12   \n",
              "\n",
              "           InvoiceDate  Price  Customer ID         Country  \n",
              "0  2009-12-01 07:45:00   6.95      13085.0  United Kingdom  \n",
              "1  2009-12-01 07:45:00   6.75      13085.0  United Kingdom  \n",
              "2  2009-12-01 07:45:00   6.75      13085.0  United Kingdom  "
            ],
            "text/html": [
              "\n",
              "  <div id=\"df-0e59ea19-5122-4e59-8e37-2dfc458579ee\" class=\"colab-df-container\">\n",
              "    <div>\n",
              "<style scoped>\n",
              "    .dataframe tbody tr th:only-of-type {\n",
              "        vertical-align: middle;\n",
              "    }\n",
              "\n",
              "    .dataframe tbody tr th {\n",
              "        vertical-align: top;\n",
              "    }\n",
              "\n",
              "    .dataframe thead th {\n",
              "        text-align: right;\n",
              "    }\n",
              "</style>\n",
              "<table border=\"1\" class=\"dataframe\">\n",
              "  <thead>\n",
              "    <tr style=\"text-align: right;\">\n",
              "      <th></th>\n",
              "      <th>Invoice</th>\n",
              "      <th>StockCode</th>\n",
              "      <th>Description</th>\n",
              "      <th>Quantity</th>\n",
              "      <th>InvoiceDate</th>\n",
              "      <th>Price</th>\n",
              "      <th>Customer ID</th>\n",
              "      <th>Country</th>\n",
              "    </tr>\n",
              "  </thead>\n",
              "  <tbody>\n",
              "    <tr>\n",
              "      <th>0</th>\n",
              "      <td>489434</td>\n",
              "      <td>85048</td>\n",
              "      <td>15CM CHRISTMAS GLASS BALL 20 LIGHTS</td>\n",
              "      <td>12</td>\n",
              "      <td>2009-12-01 07:45:00</td>\n",
              "      <td>6.95</td>\n",
              "      <td>13085.0</td>\n",
              "      <td>United Kingdom</td>\n",
              "    </tr>\n",
              "    <tr>\n",
              "      <th>1</th>\n",
              "      <td>489434</td>\n",
              "      <td>79323P</td>\n",
              "      <td>PINK CHERRY LIGHTS</td>\n",
              "      <td>12</td>\n",
              "      <td>2009-12-01 07:45:00</td>\n",
              "      <td>6.75</td>\n",
              "      <td>13085.0</td>\n",
              "      <td>United Kingdom</td>\n",
              "    </tr>\n",
              "    <tr>\n",
              "      <th>2</th>\n",
              "      <td>489434</td>\n",
              "      <td>79323W</td>\n",
              "      <td>WHITE CHERRY LIGHTS</td>\n",
              "      <td>12</td>\n",
              "      <td>2009-12-01 07:45:00</td>\n",
              "      <td>6.75</td>\n",
              "      <td>13085.0</td>\n",
              "      <td>United Kingdom</td>\n",
              "    </tr>\n",
              "  </tbody>\n",
              "</table>\n",
              "</div>\n",
              "    <div class=\"colab-df-buttons\">\n",
              "\n",
              "  <div class=\"colab-df-container\">\n",
              "    <button class=\"colab-df-convert\" onclick=\"convertToInteractive('df-0e59ea19-5122-4e59-8e37-2dfc458579ee')\"\n",
              "            title=\"Convert this dataframe to an interactive table.\"\n",
              "            style=\"display:none;\">\n",
              "\n",
              "  <svg xmlns=\"http://www.w3.org/2000/svg\" height=\"24px\" viewBox=\"0 -960 960 960\">\n",
              "    <path d=\"M120-120v-720h720v720H120Zm60-500h600v-160H180v160Zm220 220h160v-160H400v160Zm0 220h160v-160H400v160ZM180-400h160v-160H180v160Zm440 0h160v-160H620v160ZM180-180h160v-160H180v160Zm440 0h160v-160H620v160Z\"/>\n",
              "  </svg>\n",
              "    </button>\n",
              "\n",
              "  <style>\n",
              "    .colab-df-container {\n",
              "      display:flex;\n",
              "      gap: 12px;\n",
              "    }\n",
              "\n",
              "    .colab-df-convert {\n",
              "      background-color: #E8F0FE;\n",
              "      border: none;\n",
              "      border-radius: 50%;\n",
              "      cursor: pointer;\n",
              "      display: none;\n",
              "      fill: #1967D2;\n",
              "      height: 32px;\n",
              "      padding: 0 0 0 0;\n",
              "      width: 32px;\n",
              "    }\n",
              "\n",
              "    .colab-df-convert:hover {\n",
              "      background-color: #E2EBFA;\n",
              "      box-shadow: 0px 1px 2px rgba(60, 64, 67, 0.3), 0px 1px 3px 1px rgba(60, 64, 67, 0.15);\n",
              "      fill: #174EA6;\n",
              "    }\n",
              "\n",
              "    .colab-df-buttons div {\n",
              "      margin-bottom: 4px;\n",
              "    }\n",
              "\n",
              "    [theme=dark] .colab-df-convert {\n",
              "      background-color: #3B4455;\n",
              "      fill: #D2E3FC;\n",
              "    }\n",
              "\n",
              "    [theme=dark] .colab-df-convert:hover {\n",
              "      background-color: #434B5C;\n",
              "      box-shadow: 0px 1px 3px 1px rgba(0, 0, 0, 0.15);\n",
              "      filter: drop-shadow(0px 1px 2px rgba(0, 0, 0, 0.3));\n",
              "      fill: #FFFFFF;\n",
              "    }\n",
              "  </style>\n",
              "\n",
              "    <script>\n",
              "      const buttonEl =\n",
              "        document.querySelector('#df-0e59ea19-5122-4e59-8e37-2dfc458579ee button.colab-df-convert');\n",
              "      buttonEl.style.display =\n",
              "        google.colab.kernel.accessAllowed ? 'block' : 'none';\n",
              "\n",
              "      async function convertToInteractive(key) {\n",
              "        const element = document.querySelector('#df-0e59ea19-5122-4e59-8e37-2dfc458579ee');\n",
              "        const dataTable =\n",
              "          await google.colab.kernel.invokeFunction('convertToInteractive',\n",
              "                                                    [key], {});\n",
              "        if (!dataTable) return;\n",
              "\n",
              "        const docLinkHtml = 'Like what you see? Visit the ' +\n",
              "          '<a target=\"_blank\" href=https://colab.research.google.com/notebooks/data_table.ipynb>data table notebook</a>'\n",
              "          + ' to learn more about interactive tables.';\n",
              "        element.innerHTML = '';\n",
              "        dataTable['output_type'] = 'display_data';\n",
              "        await google.colab.output.renderOutput(dataTable, element);\n",
              "        const docLink = document.createElement('div');\n",
              "        docLink.innerHTML = docLinkHtml;\n",
              "        element.appendChild(docLink);\n",
              "      }\n",
              "    </script>\n",
              "  </div>\n",
              "\n",
              "\n",
              "    <div id=\"df-0eb79f10-beba-488e-aa57-2f92b1285163\">\n",
              "      <button class=\"colab-df-quickchart\" onclick=\"quickchart('df-0eb79f10-beba-488e-aa57-2f92b1285163')\"\n",
              "                title=\"Suggest charts\"\n",
              "                style=\"display:none;\">\n",
              "\n",
              "<svg xmlns=\"http://www.w3.org/2000/svg\" height=\"24px\"viewBox=\"0 0 24 24\"\n",
              "     width=\"24px\">\n",
              "    <g>\n",
              "        <path d=\"M19 3H5c-1.1 0-2 .9-2 2v14c0 1.1.9 2 2 2h14c1.1 0 2-.9 2-2V5c0-1.1-.9-2-2-2zM9 17H7v-7h2v7zm4 0h-2V7h2v10zm4 0h-2v-4h2v4z\"/>\n",
              "    </g>\n",
              "</svg>\n",
              "      </button>\n",
              "\n",
              "<style>\n",
              "  .colab-df-quickchart {\n",
              "      --bg-color: #E8F0FE;\n",
              "      --fill-color: #1967D2;\n",
              "      --hover-bg-color: #E2EBFA;\n",
              "      --hover-fill-color: #174EA6;\n",
              "      --disabled-fill-color: #AAA;\n",
              "      --disabled-bg-color: #DDD;\n",
              "  }\n",
              "\n",
              "  [theme=dark] .colab-df-quickchart {\n",
              "      --bg-color: #3B4455;\n",
              "      --fill-color: #D2E3FC;\n",
              "      --hover-bg-color: #434B5C;\n",
              "      --hover-fill-color: #FFFFFF;\n",
              "      --disabled-bg-color: #3B4455;\n",
              "      --disabled-fill-color: #666;\n",
              "  }\n",
              "\n",
              "  .colab-df-quickchart {\n",
              "    background-color: var(--bg-color);\n",
              "    border: none;\n",
              "    border-radius: 50%;\n",
              "    cursor: pointer;\n",
              "    display: none;\n",
              "    fill: var(--fill-color);\n",
              "    height: 32px;\n",
              "    padding: 0;\n",
              "    width: 32px;\n",
              "  }\n",
              "\n",
              "  .colab-df-quickchart:hover {\n",
              "    background-color: var(--hover-bg-color);\n",
              "    box-shadow: 0 1px 2px rgba(60, 64, 67, 0.3), 0 1px 3px 1px rgba(60, 64, 67, 0.15);\n",
              "    fill: var(--button-hover-fill-color);\n",
              "  }\n",
              "\n",
              "  .colab-df-quickchart-complete:disabled,\n",
              "  .colab-df-quickchart-complete:disabled:hover {\n",
              "    background-color: var(--disabled-bg-color);\n",
              "    fill: var(--disabled-fill-color);\n",
              "    box-shadow: none;\n",
              "  }\n",
              "\n",
              "  .colab-df-spinner {\n",
              "    border: 2px solid var(--fill-color);\n",
              "    border-color: transparent;\n",
              "    border-bottom-color: var(--fill-color);\n",
              "    animation:\n",
              "      spin 1s steps(1) infinite;\n",
              "  }\n",
              "\n",
              "  @keyframes spin {\n",
              "    0% {\n",
              "      border-color: transparent;\n",
              "      border-bottom-color: var(--fill-color);\n",
              "      border-left-color: var(--fill-color);\n",
              "    }\n",
              "    20% {\n",
              "      border-color: transparent;\n",
              "      border-left-color: var(--fill-color);\n",
              "      border-top-color: var(--fill-color);\n",
              "    }\n",
              "    30% {\n",
              "      border-color: transparent;\n",
              "      border-left-color: var(--fill-color);\n",
              "      border-top-color: var(--fill-color);\n",
              "      border-right-color: var(--fill-color);\n",
              "    }\n",
              "    40% {\n",
              "      border-color: transparent;\n",
              "      border-right-color: var(--fill-color);\n",
              "      border-top-color: var(--fill-color);\n",
              "    }\n",
              "    60% {\n",
              "      border-color: transparent;\n",
              "      border-right-color: var(--fill-color);\n",
              "    }\n",
              "    80% {\n",
              "      border-color: transparent;\n",
              "      border-right-color: var(--fill-color);\n",
              "      border-bottom-color: var(--fill-color);\n",
              "    }\n",
              "    90% {\n",
              "      border-color: transparent;\n",
              "      border-bottom-color: var(--fill-color);\n",
              "    }\n",
              "  }\n",
              "</style>\n",
              "\n",
              "      <script>\n",
              "        async function quickchart(key) {\n",
              "          const quickchartButtonEl =\n",
              "            document.querySelector('#' + key + ' button');\n",
              "          quickchartButtonEl.disabled = true;  // To prevent multiple clicks.\n",
              "          quickchartButtonEl.classList.add('colab-df-spinner');\n",
              "          try {\n",
              "            const charts = await google.colab.kernel.invokeFunction(\n",
              "                'suggestCharts', [key], {});\n",
              "          } catch (error) {\n",
              "            console.error('Error during call to suggestCharts:', error);\n",
              "          }\n",
              "          quickchartButtonEl.classList.remove('colab-df-spinner');\n",
              "          quickchartButtonEl.classList.add('colab-df-quickchart-complete');\n",
              "        }\n",
              "        (() => {\n",
              "          let quickchartButtonEl =\n",
              "            document.querySelector('#df-0eb79f10-beba-488e-aa57-2f92b1285163 button');\n",
              "          quickchartButtonEl.style.display =\n",
              "            google.colab.kernel.accessAllowed ? 'block' : 'none';\n",
              "        })();\n",
              "      </script>\n",
              "    </div>\n",
              "\n",
              "    </div>\n",
              "  </div>\n"
            ],
            "application/vnd.google.colaboratory.intrinsic+json": {
              "type": "dataframe",
              "variable_name": "retail"
            }
          },
          "metadata": {},
          "execution_count": 37
        }
      ]
    },
    {
      "cell_type": "code",
      "source": [
        "# 1. 영국 데이터 필터링\n",
        "uk_data = retail[retail['Country'] == 'United Kingdom'].copy()\n",
        "uk_data\n",
        "\n",
        "# Country 열이 'United Kingdom'인 True/False 불리언 시리즈 생성\n",
        "# retail[...]\t해당 조건을 만족하는 행만 필터링 (Boolean Indexing)\n",
        "#.copy()\t새로운 복사본 데이터프레임을 생성 (원본과 연결되지 않음)"
      ],
      "metadata": {
        "colab": {
          "base_uri": "https://localhost:8080/",
          "height": 840
        },
        "id": "0xOnuy_PBq1e",
        "outputId": "c69daa47-aac5-4663-a757-4da32d2bd2ce"
      },
      "execution_count": 38,
      "outputs": [
        {
          "output_type": "execute_result",
          "data": {
            "text/plain": [
              "        Invoice StockCode                          Description  Quantity  \\\n",
              "0        489434     85048  15CM CHRISTMAS GLASS BALL 20 LIGHTS        12   \n",
              "1        489434    79323P                   PINK CHERRY LIGHTS        12   \n",
              "2        489434    79323W                  WHITE CHERRY LIGHTS        12   \n",
              "3        489434     22041         RECORD FRAME 7\" SINGLE SIZE         48   \n",
              "4        489434     21232       STRAWBERRY CERAMIC TRINKET BOX        24   \n",
              "...         ...       ...                                  ...       ...   \n",
              "1067350  581585     22466       FAIRY TALE COTTAGE NIGHT LIGHT        12   \n",
              "1067351  581586     22061  LARGE CAKE STAND  HANGING STRAWBERY         8   \n",
              "1067352  581586     23275     SET OF 3 HANGING OWLS OLLIE BEAK        24   \n",
              "1067353  581586     21217        RED RETROSPOT ROUND CAKE TINS        24   \n",
              "1067354  581586     20685                DOORMAT RED RETROSPOT        10   \n",
              "\n",
              "                 InvoiceDate  Price  Customer ID         Country  \n",
              "0        2009-12-01 07:45:00   6.95      13085.0  United Kingdom  \n",
              "1        2009-12-01 07:45:00   6.75      13085.0  United Kingdom  \n",
              "2        2009-12-01 07:45:00   6.75      13085.0  United Kingdom  \n",
              "3        2009-12-01 07:45:00   2.10      13085.0  United Kingdom  \n",
              "4        2009-12-01 07:45:00   1.25      13085.0  United Kingdom  \n",
              "...                      ...    ...          ...             ...  \n",
              "1067350  2011-12-09 12:31:00   1.95      15804.0  United Kingdom  \n",
              "1067351  2011-12-09 12:49:00   2.95      13113.0  United Kingdom  \n",
              "1067352  2011-12-09 12:49:00   1.25      13113.0  United Kingdom  \n",
              "1067353  2011-12-09 12:49:00   8.95      13113.0  United Kingdom  \n",
              "1067354  2011-12-09 12:49:00   7.08      13113.0  United Kingdom  \n",
              "\n",
              "[981330 rows x 8 columns]"
            ],
            "text/html": [
              "\n",
              "  <div id=\"df-fff416c0-160e-4f12-97fa-72f943af9ab0\" class=\"colab-df-container\">\n",
              "    <div>\n",
              "<style scoped>\n",
              "    .dataframe tbody tr th:only-of-type {\n",
              "        vertical-align: middle;\n",
              "    }\n",
              "\n",
              "    .dataframe tbody tr th {\n",
              "        vertical-align: top;\n",
              "    }\n",
              "\n",
              "    .dataframe thead th {\n",
              "        text-align: right;\n",
              "    }\n",
              "</style>\n",
              "<table border=\"1\" class=\"dataframe\">\n",
              "  <thead>\n",
              "    <tr style=\"text-align: right;\">\n",
              "      <th></th>\n",
              "      <th>Invoice</th>\n",
              "      <th>StockCode</th>\n",
              "      <th>Description</th>\n",
              "      <th>Quantity</th>\n",
              "      <th>InvoiceDate</th>\n",
              "      <th>Price</th>\n",
              "      <th>Customer ID</th>\n",
              "      <th>Country</th>\n",
              "    </tr>\n",
              "  </thead>\n",
              "  <tbody>\n",
              "    <tr>\n",
              "      <th>0</th>\n",
              "      <td>489434</td>\n",
              "      <td>85048</td>\n",
              "      <td>15CM CHRISTMAS GLASS BALL 20 LIGHTS</td>\n",
              "      <td>12</td>\n",
              "      <td>2009-12-01 07:45:00</td>\n",
              "      <td>6.95</td>\n",
              "      <td>13085.0</td>\n",
              "      <td>United Kingdom</td>\n",
              "    </tr>\n",
              "    <tr>\n",
              "      <th>1</th>\n",
              "      <td>489434</td>\n",
              "      <td>79323P</td>\n",
              "      <td>PINK CHERRY LIGHTS</td>\n",
              "      <td>12</td>\n",
              "      <td>2009-12-01 07:45:00</td>\n",
              "      <td>6.75</td>\n",
              "      <td>13085.0</td>\n",
              "      <td>United Kingdom</td>\n",
              "    </tr>\n",
              "    <tr>\n",
              "      <th>2</th>\n",
              "      <td>489434</td>\n",
              "      <td>79323W</td>\n",
              "      <td>WHITE CHERRY LIGHTS</td>\n",
              "      <td>12</td>\n",
              "      <td>2009-12-01 07:45:00</td>\n",
              "      <td>6.75</td>\n",
              "      <td>13085.0</td>\n",
              "      <td>United Kingdom</td>\n",
              "    </tr>\n",
              "    <tr>\n",
              "      <th>3</th>\n",
              "      <td>489434</td>\n",
              "      <td>22041</td>\n",
              "      <td>RECORD FRAME 7\" SINGLE SIZE</td>\n",
              "      <td>48</td>\n",
              "      <td>2009-12-01 07:45:00</td>\n",
              "      <td>2.10</td>\n",
              "      <td>13085.0</td>\n",
              "      <td>United Kingdom</td>\n",
              "    </tr>\n",
              "    <tr>\n",
              "      <th>4</th>\n",
              "      <td>489434</td>\n",
              "      <td>21232</td>\n",
              "      <td>STRAWBERRY CERAMIC TRINKET BOX</td>\n",
              "      <td>24</td>\n",
              "      <td>2009-12-01 07:45:00</td>\n",
              "      <td>1.25</td>\n",
              "      <td>13085.0</td>\n",
              "      <td>United Kingdom</td>\n",
              "    </tr>\n",
              "    <tr>\n",
              "      <th>...</th>\n",
              "      <td>...</td>\n",
              "      <td>...</td>\n",
              "      <td>...</td>\n",
              "      <td>...</td>\n",
              "      <td>...</td>\n",
              "      <td>...</td>\n",
              "      <td>...</td>\n",
              "      <td>...</td>\n",
              "    </tr>\n",
              "    <tr>\n",
              "      <th>1067350</th>\n",
              "      <td>581585</td>\n",
              "      <td>22466</td>\n",
              "      <td>FAIRY TALE COTTAGE NIGHT LIGHT</td>\n",
              "      <td>12</td>\n",
              "      <td>2011-12-09 12:31:00</td>\n",
              "      <td>1.95</td>\n",
              "      <td>15804.0</td>\n",
              "      <td>United Kingdom</td>\n",
              "    </tr>\n",
              "    <tr>\n",
              "      <th>1067351</th>\n",
              "      <td>581586</td>\n",
              "      <td>22061</td>\n",
              "      <td>LARGE CAKE STAND  HANGING STRAWBERY</td>\n",
              "      <td>8</td>\n",
              "      <td>2011-12-09 12:49:00</td>\n",
              "      <td>2.95</td>\n",
              "      <td>13113.0</td>\n",
              "      <td>United Kingdom</td>\n",
              "    </tr>\n",
              "    <tr>\n",
              "      <th>1067352</th>\n",
              "      <td>581586</td>\n",
              "      <td>23275</td>\n",
              "      <td>SET OF 3 HANGING OWLS OLLIE BEAK</td>\n",
              "      <td>24</td>\n",
              "      <td>2011-12-09 12:49:00</td>\n",
              "      <td>1.25</td>\n",
              "      <td>13113.0</td>\n",
              "      <td>United Kingdom</td>\n",
              "    </tr>\n",
              "    <tr>\n",
              "      <th>1067353</th>\n",
              "      <td>581586</td>\n",
              "      <td>21217</td>\n",
              "      <td>RED RETROSPOT ROUND CAKE TINS</td>\n",
              "      <td>24</td>\n",
              "      <td>2011-12-09 12:49:00</td>\n",
              "      <td>8.95</td>\n",
              "      <td>13113.0</td>\n",
              "      <td>United Kingdom</td>\n",
              "    </tr>\n",
              "    <tr>\n",
              "      <th>1067354</th>\n",
              "      <td>581586</td>\n",
              "      <td>20685</td>\n",
              "      <td>DOORMAT RED RETROSPOT</td>\n",
              "      <td>10</td>\n",
              "      <td>2011-12-09 12:49:00</td>\n",
              "      <td>7.08</td>\n",
              "      <td>13113.0</td>\n",
              "      <td>United Kingdom</td>\n",
              "    </tr>\n",
              "  </tbody>\n",
              "</table>\n",
              "<p>981330 rows × 8 columns</p>\n",
              "</div>\n",
              "    <div class=\"colab-df-buttons\">\n",
              "\n",
              "  <div class=\"colab-df-container\">\n",
              "    <button class=\"colab-df-convert\" onclick=\"convertToInteractive('df-fff416c0-160e-4f12-97fa-72f943af9ab0')\"\n",
              "            title=\"Convert this dataframe to an interactive table.\"\n",
              "            style=\"display:none;\">\n",
              "\n",
              "  <svg xmlns=\"http://www.w3.org/2000/svg\" height=\"24px\" viewBox=\"0 -960 960 960\">\n",
              "    <path d=\"M120-120v-720h720v720H120Zm60-500h600v-160H180v160Zm220 220h160v-160H400v160Zm0 220h160v-160H400v160ZM180-400h160v-160H180v160Zm440 0h160v-160H620v160ZM180-180h160v-160H180v160Zm440 0h160v-160H620v160Z\"/>\n",
              "  </svg>\n",
              "    </button>\n",
              "\n",
              "  <style>\n",
              "    .colab-df-container {\n",
              "      display:flex;\n",
              "      gap: 12px;\n",
              "    }\n",
              "\n",
              "    .colab-df-convert {\n",
              "      background-color: #E8F0FE;\n",
              "      border: none;\n",
              "      border-radius: 50%;\n",
              "      cursor: pointer;\n",
              "      display: none;\n",
              "      fill: #1967D2;\n",
              "      height: 32px;\n",
              "      padding: 0 0 0 0;\n",
              "      width: 32px;\n",
              "    }\n",
              "\n",
              "    .colab-df-convert:hover {\n",
              "      background-color: #E2EBFA;\n",
              "      box-shadow: 0px 1px 2px rgba(60, 64, 67, 0.3), 0px 1px 3px 1px rgba(60, 64, 67, 0.15);\n",
              "      fill: #174EA6;\n",
              "    }\n",
              "\n",
              "    .colab-df-buttons div {\n",
              "      margin-bottom: 4px;\n",
              "    }\n",
              "\n",
              "    [theme=dark] .colab-df-convert {\n",
              "      background-color: #3B4455;\n",
              "      fill: #D2E3FC;\n",
              "    }\n",
              "\n",
              "    [theme=dark] .colab-df-convert:hover {\n",
              "      background-color: #434B5C;\n",
              "      box-shadow: 0px 1px 3px 1px rgba(0, 0, 0, 0.15);\n",
              "      filter: drop-shadow(0px 1px 2px rgba(0, 0, 0, 0.3));\n",
              "      fill: #FFFFFF;\n",
              "    }\n",
              "  </style>\n",
              "\n",
              "    <script>\n",
              "      const buttonEl =\n",
              "        document.querySelector('#df-fff416c0-160e-4f12-97fa-72f943af9ab0 button.colab-df-convert');\n",
              "      buttonEl.style.display =\n",
              "        google.colab.kernel.accessAllowed ? 'block' : 'none';\n",
              "\n",
              "      async function convertToInteractive(key) {\n",
              "        const element = document.querySelector('#df-fff416c0-160e-4f12-97fa-72f943af9ab0');\n",
              "        const dataTable =\n",
              "          await google.colab.kernel.invokeFunction('convertToInteractive',\n",
              "                                                    [key], {});\n",
              "        if (!dataTable) return;\n",
              "\n",
              "        const docLinkHtml = 'Like what you see? Visit the ' +\n",
              "          '<a target=\"_blank\" href=https://colab.research.google.com/notebooks/data_table.ipynb>data table notebook</a>'\n",
              "          + ' to learn more about interactive tables.';\n",
              "        element.innerHTML = '';\n",
              "        dataTable['output_type'] = 'display_data';\n",
              "        await google.colab.output.renderOutput(dataTable, element);\n",
              "        const docLink = document.createElement('div');\n",
              "        docLink.innerHTML = docLinkHtml;\n",
              "        element.appendChild(docLink);\n",
              "      }\n",
              "    </script>\n",
              "  </div>\n",
              "\n",
              "\n",
              "    <div id=\"df-76f0dcef-99fa-44e7-866d-085a8dc3eb18\">\n",
              "      <button class=\"colab-df-quickchart\" onclick=\"quickchart('df-76f0dcef-99fa-44e7-866d-085a8dc3eb18')\"\n",
              "                title=\"Suggest charts\"\n",
              "                style=\"display:none;\">\n",
              "\n",
              "<svg xmlns=\"http://www.w3.org/2000/svg\" height=\"24px\"viewBox=\"0 0 24 24\"\n",
              "     width=\"24px\">\n",
              "    <g>\n",
              "        <path d=\"M19 3H5c-1.1 0-2 .9-2 2v14c0 1.1.9 2 2 2h14c1.1 0 2-.9 2-2V5c0-1.1-.9-2-2-2zM9 17H7v-7h2v7zm4 0h-2V7h2v10zm4 0h-2v-4h2v4z\"/>\n",
              "    </g>\n",
              "</svg>\n",
              "      </button>\n",
              "\n",
              "<style>\n",
              "  .colab-df-quickchart {\n",
              "      --bg-color: #E8F0FE;\n",
              "      --fill-color: #1967D2;\n",
              "      --hover-bg-color: #E2EBFA;\n",
              "      --hover-fill-color: #174EA6;\n",
              "      --disabled-fill-color: #AAA;\n",
              "      --disabled-bg-color: #DDD;\n",
              "  }\n",
              "\n",
              "  [theme=dark] .colab-df-quickchart {\n",
              "      --bg-color: #3B4455;\n",
              "      --fill-color: #D2E3FC;\n",
              "      --hover-bg-color: #434B5C;\n",
              "      --hover-fill-color: #FFFFFF;\n",
              "      --disabled-bg-color: #3B4455;\n",
              "      --disabled-fill-color: #666;\n",
              "  }\n",
              "\n",
              "  .colab-df-quickchart {\n",
              "    background-color: var(--bg-color);\n",
              "    border: none;\n",
              "    border-radius: 50%;\n",
              "    cursor: pointer;\n",
              "    display: none;\n",
              "    fill: var(--fill-color);\n",
              "    height: 32px;\n",
              "    padding: 0;\n",
              "    width: 32px;\n",
              "  }\n",
              "\n",
              "  .colab-df-quickchart:hover {\n",
              "    background-color: var(--hover-bg-color);\n",
              "    box-shadow: 0 1px 2px rgba(60, 64, 67, 0.3), 0 1px 3px 1px rgba(60, 64, 67, 0.15);\n",
              "    fill: var(--button-hover-fill-color);\n",
              "  }\n",
              "\n",
              "  .colab-df-quickchart-complete:disabled,\n",
              "  .colab-df-quickchart-complete:disabled:hover {\n",
              "    background-color: var(--disabled-bg-color);\n",
              "    fill: var(--disabled-fill-color);\n",
              "    box-shadow: none;\n",
              "  }\n",
              "\n",
              "  .colab-df-spinner {\n",
              "    border: 2px solid var(--fill-color);\n",
              "    border-color: transparent;\n",
              "    border-bottom-color: var(--fill-color);\n",
              "    animation:\n",
              "      spin 1s steps(1) infinite;\n",
              "  }\n",
              "\n",
              "  @keyframes spin {\n",
              "    0% {\n",
              "      border-color: transparent;\n",
              "      border-bottom-color: var(--fill-color);\n",
              "      border-left-color: var(--fill-color);\n",
              "    }\n",
              "    20% {\n",
              "      border-color: transparent;\n",
              "      border-left-color: var(--fill-color);\n",
              "      border-top-color: var(--fill-color);\n",
              "    }\n",
              "    30% {\n",
              "      border-color: transparent;\n",
              "      border-left-color: var(--fill-color);\n",
              "      border-top-color: var(--fill-color);\n",
              "      border-right-color: var(--fill-color);\n",
              "    }\n",
              "    40% {\n",
              "      border-color: transparent;\n",
              "      border-right-color: var(--fill-color);\n",
              "      border-top-color: var(--fill-color);\n",
              "    }\n",
              "    60% {\n",
              "      border-color: transparent;\n",
              "      border-right-color: var(--fill-color);\n",
              "    }\n",
              "    80% {\n",
              "      border-color: transparent;\n",
              "      border-right-color: var(--fill-color);\n",
              "      border-bottom-color: var(--fill-color);\n",
              "    }\n",
              "    90% {\n",
              "      border-color: transparent;\n",
              "      border-bottom-color: var(--fill-color);\n",
              "    }\n",
              "  }\n",
              "</style>\n",
              "\n",
              "      <script>\n",
              "        async function quickchart(key) {\n",
              "          const quickchartButtonEl =\n",
              "            document.querySelector('#' + key + ' button');\n",
              "          quickchartButtonEl.disabled = true;  // To prevent multiple clicks.\n",
              "          quickchartButtonEl.classList.add('colab-df-spinner');\n",
              "          try {\n",
              "            const charts = await google.colab.kernel.invokeFunction(\n",
              "                'suggestCharts', [key], {});\n",
              "          } catch (error) {\n",
              "            console.error('Error during call to suggestCharts:', error);\n",
              "          }\n",
              "          quickchartButtonEl.classList.remove('colab-df-spinner');\n",
              "          quickchartButtonEl.classList.add('colab-df-quickchart-complete');\n",
              "        }\n",
              "        (() => {\n",
              "          let quickchartButtonEl =\n",
              "            document.querySelector('#df-76f0dcef-99fa-44e7-866d-085a8dc3eb18 button');\n",
              "          quickchartButtonEl.style.display =\n",
              "            google.colab.kernel.accessAllowed ? 'block' : 'none';\n",
              "        })();\n",
              "      </script>\n",
              "    </div>\n",
              "\n",
              "  <div id=\"id_c61258e4-0155-4d77-9eca-b7495bdb724f\">\n",
              "    <style>\n",
              "      .colab-df-generate {\n",
              "        background-color: #E8F0FE;\n",
              "        border: none;\n",
              "        border-radius: 50%;\n",
              "        cursor: pointer;\n",
              "        display: none;\n",
              "        fill: #1967D2;\n",
              "        height: 32px;\n",
              "        padding: 0 0 0 0;\n",
              "        width: 32px;\n",
              "      }\n",
              "\n",
              "      .colab-df-generate:hover {\n",
              "        background-color: #E2EBFA;\n",
              "        box-shadow: 0px 1px 2px rgba(60, 64, 67, 0.3), 0px 1px 3px 1px rgba(60, 64, 67, 0.15);\n",
              "        fill: #174EA6;\n",
              "      }\n",
              "\n",
              "      [theme=dark] .colab-df-generate {\n",
              "        background-color: #3B4455;\n",
              "        fill: #D2E3FC;\n",
              "      }\n",
              "\n",
              "      [theme=dark] .colab-df-generate:hover {\n",
              "        background-color: #434B5C;\n",
              "        box-shadow: 0px 1px 3px 1px rgba(0, 0, 0, 0.15);\n",
              "        filter: drop-shadow(0px 1px 2px rgba(0, 0, 0, 0.3));\n",
              "        fill: #FFFFFF;\n",
              "      }\n",
              "    </style>\n",
              "    <button class=\"colab-df-generate\" onclick=\"generateWithVariable('uk_data')\"\n",
              "            title=\"Generate code using this dataframe.\"\n",
              "            style=\"display:none;\">\n",
              "\n",
              "  <svg xmlns=\"http://www.w3.org/2000/svg\" height=\"24px\"viewBox=\"0 0 24 24\"\n",
              "       width=\"24px\">\n",
              "    <path d=\"M7,19H8.4L18.45,9,17,7.55,7,17.6ZM5,21V16.75L18.45,3.32a2,2,0,0,1,2.83,0l1.4,1.43a1.91,1.91,0,0,1,.58,1.4,1.91,1.91,0,0,1-.58,1.4L9.25,21ZM18.45,9,17,7.55Zm-12,3A5.31,5.31,0,0,0,4.9,8.1,5.31,5.31,0,0,0,1,6.5,5.31,5.31,0,0,0,4.9,4.9,5.31,5.31,0,0,0,6.5,1,5.31,5.31,0,0,0,8.1,4.9,5.31,5.31,0,0,0,12,6.5,5.46,5.46,0,0,0,6.5,12Z\"/>\n",
              "  </svg>\n",
              "    </button>\n",
              "    <script>\n",
              "      (() => {\n",
              "      const buttonEl =\n",
              "        document.querySelector('#id_c61258e4-0155-4d77-9eca-b7495bdb724f button.colab-df-generate');\n",
              "      buttonEl.style.display =\n",
              "        google.colab.kernel.accessAllowed ? 'block' : 'none';\n",
              "\n",
              "      buttonEl.onclick = () => {\n",
              "        google.colab.notebook.generateWithVariable('uk_data');\n",
              "      }\n",
              "      })();\n",
              "    </script>\n",
              "  </div>\n",
              "\n",
              "    </div>\n",
              "  </div>\n"
            ],
            "application/vnd.google.colaboratory.intrinsic+json": {
              "type": "dataframe",
              "variable_name": "uk_data"
            }
          },
          "metadata": {},
          "execution_count": 38
        }
      ]
    },
    {
      "cell_type": "code",
      "source": [
        "uk_data.info()"
      ],
      "metadata": {
        "colab": {
          "base_uri": "https://localhost:8080/"
        },
        "id": "go_xttfrDPXG",
        "outputId": "1ed55ed9-fa21-461c-e2af-47845fcf281a"
      },
      "execution_count": 39,
      "outputs": [
        {
          "output_type": "stream",
          "name": "stdout",
          "text": [
            "<class 'pandas.core.frame.DataFrame'>\n",
            "Index: 981330 entries, 0 to 1067354\n",
            "Data columns (total 8 columns):\n",
            " #   Column       Non-Null Count   Dtype  \n",
            "---  ------       --------------   -----  \n",
            " 0   Invoice      981330 non-null  object \n",
            " 1   StockCode    981330 non-null  object \n",
            " 2   Description  976948 non-null  object \n",
            " 3   Quantity     981330 non-null  int64  \n",
            " 4   InvoiceDate  981330 non-null  object \n",
            " 5   Price        981330 non-null  float64\n",
            " 6   Customer ID  741301 non-null  float64\n",
            " 7   Country      981330 non-null  object \n",
            "dtypes: float64(2), int64(1), object(5)\n",
            "memory usage: 67.4+ MB\n"
          ]
        }
      ]
    },
    {
      "cell_type": "code",
      "source": [
        "uk_data.isnull().sum()"
      ],
      "metadata": {
        "colab": {
          "base_uri": "https://localhost:8080/",
          "height": 335
        },
        "id": "NnvSHsSGJRKl",
        "outputId": "3ea1d50c-6dae-4ff9-de2a-a8da43391173"
      },
      "execution_count": 40,
      "outputs": [
        {
          "output_type": "execute_result",
          "data": {
            "text/plain": [
              "Invoice             0\n",
              "StockCode           0\n",
              "Description      4382\n",
              "Quantity            0\n",
              "InvoiceDate         0\n",
              "Price               0\n",
              "Customer ID    240029\n",
              "Country             0\n",
              "dtype: int64"
            ],
            "text/html": [
              "<div>\n",
              "<style scoped>\n",
              "    .dataframe tbody tr th:only-of-type {\n",
              "        vertical-align: middle;\n",
              "    }\n",
              "\n",
              "    .dataframe tbody tr th {\n",
              "        vertical-align: top;\n",
              "    }\n",
              "\n",
              "    .dataframe thead th {\n",
              "        text-align: right;\n",
              "    }\n",
              "</style>\n",
              "<table border=\"1\" class=\"dataframe\">\n",
              "  <thead>\n",
              "    <tr style=\"text-align: right;\">\n",
              "      <th></th>\n",
              "      <th>0</th>\n",
              "    </tr>\n",
              "  </thead>\n",
              "  <tbody>\n",
              "    <tr>\n",
              "      <th>Invoice</th>\n",
              "      <td>0</td>\n",
              "    </tr>\n",
              "    <tr>\n",
              "      <th>StockCode</th>\n",
              "      <td>0</td>\n",
              "    </tr>\n",
              "    <tr>\n",
              "      <th>Description</th>\n",
              "      <td>4382</td>\n",
              "    </tr>\n",
              "    <tr>\n",
              "      <th>Quantity</th>\n",
              "      <td>0</td>\n",
              "    </tr>\n",
              "    <tr>\n",
              "      <th>InvoiceDate</th>\n",
              "      <td>0</td>\n",
              "    </tr>\n",
              "    <tr>\n",
              "      <th>Price</th>\n",
              "      <td>0</td>\n",
              "    </tr>\n",
              "    <tr>\n",
              "      <th>Customer ID</th>\n",
              "      <td>240029</td>\n",
              "    </tr>\n",
              "    <tr>\n",
              "      <th>Country</th>\n",
              "      <td>0</td>\n",
              "    </tr>\n",
              "  </tbody>\n",
              "</table>\n",
              "</div><br><label><b>dtype:</b> int64</label>"
            ]
          },
          "metadata": {},
          "execution_count": 40
        }
      ]
    },
    {
      "cell_type": "code",
      "source": [
        "# 3. TotalPrice 생성 (단가 * 수량)\n",
        "uk_data['TotalPrice'] = uk_data['Quantity'] * uk_data['Price']\n",
        "\n"
      ],
      "metadata": {
        "id": "iYLIOlFxIaIL"
      },
      "execution_count": 42,
      "outputs": []
    },
    {
      "cell_type": "code",
      "source": [
        "# 4. 모집단 평균 계산\n",
        "population_mean = uk_data['TotalPrice'].mean()\n",
        "\n",
        "print(f\"Population Mean TotalPrice: {population_mean:.2f}\")\n",
        "\n"
      ],
      "metadata": {
        "colab": {
          "base_uri": "https://localhost:8080/"
        },
        "id": "N-YDGoiZBq-9",
        "outputId": "63302385-84fb-4380-940a-6a1e68c192bb"
      },
      "execution_count": 43,
      "outputs": [
        {
          "output_type": "stream",
          "name": "stdout",
          "text": [
            "Population Mean TotalPrice: 16.69\n"
          ]
        }
      ]
    },
    {
      "cell_type": "code",
      "source": [
        "# 5. 표본 추출 및 평균 계산\n",
        "for size in [30, 100, 300]:\n",
        "    sample = uk_data.sample(n=size, random_state=42)\n",
        "\n",
        "    sample_mean = sample['TotalPrice'].mean()\n",
        "    print(f\"Sample size: {size}, Mean TotalPrice: {sample_mean:.2f}\")\n"
      ],
      "metadata": {
        "colab": {
          "base_uri": "https://localhost:8080/"
        },
        "id": "4mLLiKgJBrCj",
        "outputId": "64babd57-ebad-48c5-f37b-bc52f82e52ef"
      },
      "execution_count": 44,
      "outputs": [
        {
          "output_type": "stream",
          "name": "stdout",
          "text": [
            "Sample size: 30, Mean TotalPrice: 11.88\n",
            "Sample size: 100, Mean TotalPrice: 16.09\n",
            "Sample size: 300, Mean TotalPrice: 13.34\n"
          ]
        }
      ]
    },
    {
      "cell_type": "markdown",
      "source": [
        "=====================================================================\n",
        "### 문제 7) 신뢰구간\n",
        "\n",
        "- 영국 데이터에서 TotalPrice를 사용하여 95% 신뢰 구간을 계산하세요.\n",
        "- 또한 표본의 크기가 30,100, 300으로 변하면서 신뢰구간이 변하는 형태를 확인해 보세요.\n",
        "- Hint) `stats` 모듈에서 신뢰구간을 바로 구하는 함수를 확인해보세요."
      ],
      "metadata": {
        "id": "L4aAtI1MMTmE"
      }
    },
    {
      "cell_type": "markdown",
      "source": [
        "- 대상:\tuk_data['TotalPrice'] (영국 주문 데이터 중 TotalPrice 컬럼)\n",
        "- 목적 : 각 표본에 대해 95% 신뢰구간 계산\n",
        "\n",
        "- 비교 대상 : 샘플 크기별 CI: n = 30, 100, 300\n",
        "- 결과 해석\t: 표본이 커질수록 신뢰구간이 변하는 형태 확인"
      ],
      "metadata": {
        "id": "Dmjz6CMYMdoN"
      }
    },
    {
      "cell_type": "code",
      "source": [
        "uk_data. info()"
      ],
      "metadata": {
        "colab": {
          "base_uri": "https://localhost:8080/"
        },
        "id": "sAGBmFqtBrFu",
        "outputId": "a5b574c0-fb6b-4e5e-aeba-a63ed3b1e0c6"
      },
      "execution_count": 45,
      "outputs": [
        {
          "output_type": "stream",
          "name": "stdout",
          "text": [
            "<class 'pandas.core.frame.DataFrame'>\n",
            "Index: 981330 entries, 0 to 1067354\n",
            "Data columns (total 9 columns):\n",
            " #   Column       Non-Null Count   Dtype  \n",
            "---  ------       --------------   -----  \n",
            " 0   Invoice      981330 non-null  object \n",
            " 1   StockCode    981330 non-null  object \n",
            " 2   Description  976948 non-null  object \n",
            " 3   Quantity     981330 non-null  int64  \n",
            " 4   InvoiceDate  981330 non-null  object \n",
            " 5   Price        981330 non-null  float64\n",
            " 6   Customer ID  741301 non-null  float64\n",
            " 7   Country      981330 non-null  object \n",
            " 8   TotalPrice   981330 non-null  float64\n",
            "dtypes: float64(3), int64(1), object(5)\n",
            "memory usage: 74.9+ MB\n"
          ]
        }
      ]
    },
    {
      "cell_type": "code",
      "source": [
        "# 1. 신뢰구간 계산 함수 정의\n",
        "def confidence_interval(data, confidence=0.95):\n",
        "\n",
        "    mean = data.mean()\n",
        "    std_err = stats.sem(data)  # 표준오차\n",
        "\n",
        "    interval = stats.t.interval(confidence, len(data)-1, loc=mean, scale=std_err)\n",
        "    return mean, interval\n",
        "\n",
        "\n",
        "# confidence\t신뢰수준 :  0.95는 95% 신뢰수준\n",
        "# len(data)-1\t: 자유도(degrees of freedom), 표본 수 – 1\n",
        "# loc = mean :분포의 평균 위치 (표본 평균)\n",
        "\n",
        "# t = <scipy.stats._continuous_distns.t_gen object>\n",
        "# SciPy의 t.interval() 함수를 사용하여 신뢰구간을 계산하는 명령\n",
        "# 표본 평균 mean을 기준으로 주어진 신뢰수준(confidence level, 95%)에 해당하는 신뢰구간(CI)을 계산\n",
        "\n"
      ],
      "metadata": {
        "id": "ArULcOa0M9wM"
      },
      "execution_count": 46,
      "outputs": []
    },
    {
      "cell_type": "code",
      "source": [
        "# 2. 표본 크기에 따른 신뢰구간 계산\n",
        "sample_sizes = [30, 100, 300]\n",
        "\n",
        "for size in sample_sizes:\n",
        "    sample = uk_data['TotalPrice'].sample(n=size, random_state=42)\n",
        "\n",
        "    mean, interval = confidence_interval(sample)\n",
        "\n",
        "    print(f\"Sample size: {size}, Mean: {mean:.2f}, 95% CI: {interval}\")"
      ],
      "metadata": {
        "colab": {
          "base_uri": "https://localhost:8080/"
        },
        "id": "3aYJkIN-M9zb",
        "outputId": "42e23558-875f-43d9-c51f-a2a2ec4dfda9"
      },
      "execution_count": 47,
      "outputs": [
        {
          "output_type": "stream",
          "name": "stdout",
          "text": [
            "Sample size: 30, Mean: 11.88, 95% CI: (np.float64(6.37841466090658), np.float64(17.38425200576009))\n",
            "Sample size: 100, Mean: 16.09, 95% CI: (np.float64(11.142955150004974), np.float64(21.02784484999502))\n",
            "Sample size: 300, Mean: 13.34, 95% CI: (np.float64(11.264027626023802), np.float64(15.424439040642865))\n"
          ]
        }
      ]
    },
    {
      "cell_type": "code",
      "source": [
        "uk_data['TotalPrice'].mean()"
      ],
      "metadata": {
        "colab": {
          "base_uri": "https://localhost:8080/"
        },
        "id": "ESxCds40Quee",
        "outputId": "c4b9314f-7e51-45db-b65c-a6c635d66b15"
      },
      "execution_count": 48,
      "outputs": [
        {
          "output_type": "execute_result",
          "data": {
            "text/plain": [
              "np.float64(16.69426584023722)"
            ]
          },
          "metadata": {},
          "execution_count": 48
        }
      ]
    },
    {
      "cell_type": "markdown",
      "source": [
        "### TotalPrice 평균이 16.7\n",
        "\n",
        "\n",
        "sample Size\t/ Sample Mean\t /Population Mean\t /차이\n",
        "\n",
        "- 30개 샘풀 : 11.88\t/16.69\t/-4.81\n",
        "- 100개 샘플 : 16.09\t/16.69\t/-0.60\n",
        "-  300개 샘플 : 13.34\t/16.69\t/-3.35\n",
        "\n",
        "\n",
        "## 표본이 커지는 경우:\n",
        "- 반드시 평균이 모집단에 가까워지는 것은 확률적으로 보장되지만,\n",
        "- 특정 샘플에서는 오히려 편차가 클 수 있음 (무작위성의 본질)\n",
        "\n",
        "- 표본이 작으면\t신뢰구간이 넓어져 모평균을 포함할 가능성은 높아짐\n",
        "- 표본이 크면\t신뢰구간이 좁아져 정확도는 높지만, 편향된 샘플일 경우 모평균을 포함하지 못할 수 있음\n",
        "- 모집단 평균이 16.69일 때\tSample size 30, 100은 CI에 포함되지만, size 300은 포함하지 않음\n",
        "\n",
        "==============================================="
      ],
      "metadata": {
        "id": "P4JFqFiZPtX0"
      }
    },
    {
      "cell_type": "markdown",
      "source": [
        "### 문제 8 가설검정 t-test\n",
        "\n",
        "- 영국과 독일의 고객의 평균 구매금액(Total Price)가 동일한지 검정해보세요.\n",
        "- 귀무가설과 대립가설을 세우고 통계검정을 통해 결과를 해석하세요\n",
        "- 영국과 독일의 분포는 등분산성은 따른다고 가정"
      ],
      "metadata": {
        "id": "7AOKaSVbR0Zz"
      }
    },
    {
      "cell_type": "markdown",
      "source": [
        "=========\n",
        "- 데이터 :\tCountry가 'United Kingdom' 또는 'Germany' 인 데이터\n",
        "- 분석 대상 :\tTotalPrice = Quantity × Price\n",
        "- 검정 방법 :\t독립표본 t-검정 (scipy.stats.ttest_ind)\n",
        "- 등분산성 :  가정\t다르다고 가정 → equal_var=False 사용 (Welch's t-test)\n",
        "- 유의수준 :\t0.05\n",
        "\n",
        "- 귀무가설 H0 :\t영국과 독일의 평균 구매 금액은 같다\n",
        "- 대립가설 H1\t: 영국과 독일의 평균 구매 금액은 다르다"
      ],
      "metadata": {
        "id": "GTl5mSLVTqc4"
      }
    },
    {
      "cell_type": "code",
      "source": [
        "#기존 데이터 확인\n",
        "\n",
        "uk_data.info()"
      ],
      "metadata": {
        "colab": {
          "base_uri": "https://localhost:8080/"
        },
        "id": "yUXTq1VBM92r",
        "outputId": "c1f91707-e738-484d-ba29-6588faca78f6"
      },
      "execution_count": 49,
      "outputs": [
        {
          "output_type": "stream",
          "name": "stdout",
          "text": [
            "<class 'pandas.core.frame.DataFrame'>\n",
            "Index: 981330 entries, 0 to 1067354\n",
            "Data columns (total 9 columns):\n",
            " #   Column       Non-Null Count   Dtype  \n",
            "---  ------       --------------   -----  \n",
            " 0   Invoice      981330 non-null  object \n",
            " 1   StockCode    981330 non-null  object \n",
            " 2   Description  976948 non-null  object \n",
            " 3   Quantity     981330 non-null  int64  \n",
            " 4   InvoiceDate  981330 non-null  object \n",
            " 5   Price        981330 non-null  float64\n",
            " 6   Customer ID  741301 non-null  float64\n",
            " 7   Country      981330 non-null  object \n",
            " 8   TotalPrice   981330 non-null  float64\n",
            "dtypes: float64(3), int64(1), object(5)\n",
            "memory usage: 74.9+ MB\n"
          ]
        }
      ]
    },
    {
      "cell_type": "code",
      "source": [
        "uk_data['Country'].unique()"
      ],
      "metadata": {
        "colab": {
          "base_uri": "https://localhost:8080/"
        },
        "id": "5BRokNK6M95_",
        "outputId": "6d6c3232-a96b-4131-a025-4e2d73b104bf"
      },
      "execution_count": 51,
      "outputs": [
        {
          "output_type": "execute_result",
          "data": {
            "text/plain": [
              "array(['United Kingdom'], dtype=object)"
            ]
          },
          "metadata": {},
          "execution_count": 51
        }
      ]
    },
    {
      "cell_type": "code",
      "source": [
        "import kagglehub\n",
        "import os\n",
        "\n",
        "import pandas as pd\n",
        "import numpy as np\n",
        "\n",
        "# 데이터 다운로드 및 불러오기\n",
        "#path = kagglehub.dataset_download(\"mashlyn/online-retail-ii-uci\")\n",
        "#print(\"Path to dataset files:\", path)\n",
        "#retail = pd.read_csv(path + '/' + os.listdir(path)[0])\n",
        "#retail.head(3)\n",
        "\n",
        "\n",
        "# 1. KaggleHub를 통해 데이터 다운로드\n",
        "path = kagglehub.dataset_download(\"mashlyn/online-retail-ii-uci\")\n",
        "print(\"Dataset path:\", path)\n",
        "\n",
        "# 2. 다운로드된 CSV 파일 경로 가져오기\n",
        "file_path = os.path.join(path, os.listdir(path)[0])\n",
        "\n",
        "# 3. 데이터프레임에 저장\n",
        "df = pd.read_csv(file_path)\n",
        "\n",
        "# 4. 상위 3개 행 확인\n",
        "df.head(3)"
      ],
      "metadata": {
        "colab": {
          "base_uri": "https://localhost:8080/",
          "height": 248
        },
        "id": "TGun6QpMM99U",
        "outputId": "d59d4b10-58ea-4780-82a4-225006b5298e"
      },
      "execution_count": 81,
      "outputs": [
        {
          "output_type": "stream",
          "name": "stdout",
          "text": [
            "Dataset path: /kaggle/input/online-retail-ii-uci\n"
          ]
        },
        {
          "output_type": "execute_result",
          "data": {
            "text/plain": [
              "  Invoice StockCode                          Description  Quantity  \\\n",
              "0  489434     85048  15CM CHRISTMAS GLASS BALL 20 LIGHTS        12   \n",
              "1  489434    79323P                   PINK CHERRY LIGHTS        12   \n",
              "2  489434    79323W                  WHITE CHERRY LIGHTS        12   \n",
              "\n",
              "           InvoiceDate  Price  Customer ID         Country  \n",
              "0  2009-12-01 07:45:00   6.95      13085.0  United Kingdom  \n",
              "1  2009-12-01 07:45:00   6.75      13085.0  United Kingdom  \n",
              "2  2009-12-01 07:45:00   6.75      13085.0  United Kingdom  "
            ],
            "text/html": [
              "\n",
              "  <div id=\"df-86213d46-3a4d-4250-8fa5-cb60608e841d\" class=\"colab-df-container\">\n",
              "    <div>\n",
              "<style scoped>\n",
              "    .dataframe tbody tr th:only-of-type {\n",
              "        vertical-align: middle;\n",
              "    }\n",
              "\n",
              "    .dataframe tbody tr th {\n",
              "        vertical-align: top;\n",
              "    }\n",
              "\n",
              "    .dataframe thead th {\n",
              "        text-align: right;\n",
              "    }\n",
              "</style>\n",
              "<table border=\"1\" class=\"dataframe\">\n",
              "  <thead>\n",
              "    <tr style=\"text-align: right;\">\n",
              "      <th></th>\n",
              "      <th>Invoice</th>\n",
              "      <th>StockCode</th>\n",
              "      <th>Description</th>\n",
              "      <th>Quantity</th>\n",
              "      <th>InvoiceDate</th>\n",
              "      <th>Price</th>\n",
              "      <th>Customer ID</th>\n",
              "      <th>Country</th>\n",
              "    </tr>\n",
              "  </thead>\n",
              "  <tbody>\n",
              "    <tr>\n",
              "      <th>0</th>\n",
              "      <td>489434</td>\n",
              "      <td>85048</td>\n",
              "      <td>15CM CHRISTMAS GLASS BALL 20 LIGHTS</td>\n",
              "      <td>12</td>\n",
              "      <td>2009-12-01 07:45:00</td>\n",
              "      <td>6.95</td>\n",
              "      <td>13085.0</td>\n",
              "      <td>United Kingdom</td>\n",
              "    </tr>\n",
              "    <tr>\n",
              "      <th>1</th>\n",
              "      <td>489434</td>\n",
              "      <td>79323P</td>\n",
              "      <td>PINK CHERRY LIGHTS</td>\n",
              "      <td>12</td>\n",
              "      <td>2009-12-01 07:45:00</td>\n",
              "      <td>6.75</td>\n",
              "      <td>13085.0</td>\n",
              "      <td>United Kingdom</td>\n",
              "    </tr>\n",
              "    <tr>\n",
              "      <th>2</th>\n",
              "      <td>489434</td>\n",
              "      <td>79323W</td>\n",
              "      <td>WHITE CHERRY LIGHTS</td>\n",
              "      <td>12</td>\n",
              "      <td>2009-12-01 07:45:00</td>\n",
              "      <td>6.75</td>\n",
              "      <td>13085.0</td>\n",
              "      <td>United Kingdom</td>\n",
              "    </tr>\n",
              "  </tbody>\n",
              "</table>\n",
              "</div>\n",
              "    <div class=\"colab-df-buttons\">\n",
              "\n",
              "  <div class=\"colab-df-container\">\n",
              "    <button class=\"colab-df-convert\" onclick=\"convertToInteractive('df-86213d46-3a4d-4250-8fa5-cb60608e841d')\"\n",
              "            title=\"Convert this dataframe to an interactive table.\"\n",
              "            style=\"display:none;\">\n",
              "\n",
              "  <svg xmlns=\"http://www.w3.org/2000/svg\" height=\"24px\" viewBox=\"0 -960 960 960\">\n",
              "    <path d=\"M120-120v-720h720v720H120Zm60-500h600v-160H180v160Zm220 220h160v-160H400v160Zm0 220h160v-160H400v160ZM180-400h160v-160H180v160Zm440 0h160v-160H620v160ZM180-180h160v-160H180v160Zm440 0h160v-160H620v160Z\"/>\n",
              "  </svg>\n",
              "    </button>\n",
              "\n",
              "  <style>\n",
              "    .colab-df-container {\n",
              "      display:flex;\n",
              "      gap: 12px;\n",
              "    }\n",
              "\n",
              "    .colab-df-convert {\n",
              "      background-color: #E8F0FE;\n",
              "      border: none;\n",
              "      border-radius: 50%;\n",
              "      cursor: pointer;\n",
              "      display: none;\n",
              "      fill: #1967D2;\n",
              "      height: 32px;\n",
              "      padding: 0 0 0 0;\n",
              "      width: 32px;\n",
              "    }\n",
              "\n",
              "    .colab-df-convert:hover {\n",
              "      background-color: #E2EBFA;\n",
              "      box-shadow: 0px 1px 2px rgba(60, 64, 67, 0.3), 0px 1px 3px 1px rgba(60, 64, 67, 0.15);\n",
              "      fill: #174EA6;\n",
              "    }\n",
              "\n",
              "    .colab-df-buttons div {\n",
              "      margin-bottom: 4px;\n",
              "    }\n",
              "\n",
              "    [theme=dark] .colab-df-convert {\n",
              "      background-color: #3B4455;\n",
              "      fill: #D2E3FC;\n",
              "    }\n",
              "\n",
              "    [theme=dark] .colab-df-convert:hover {\n",
              "      background-color: #434B5C;\n",
              "      box-shadow: 0px 1px 3px 1px rgba(0, 0, 0, 0.15);\n",
              "      filter: drop-shadow(0px 1px 2px rgba(0, 0, 0, 0.3));\n",
              "      fill: #FFFFFF;\n",
              "    }\n",
              "  </style>\n",
              "\n",
              "    <script>\n",
              "      const buttonEl =\n",
              "        document.querySelector('#df-86213d46-3a4d-4250-8fa5-cb60608e841d button.colab-df-convert');\n",
              "      buttonEl.style.display =\n",
              "        google.colab.kernel.accessAllowed ? 'block' : 'none';\n",
              "\n",
              "      async function convertToInteractive(key) {\n",
              "        const element = document.querySelector('#df-86213d46-3a4d-4250-8fa5-cb60608e841d');\n",
              "        const dataTable =\n",
              "          await google.colab.kernel.invokeFunction('convertToInteractive',\n",
              "                                                    [key], {});\n",
              "        if (!dataTable) return;\n",
              "\n",
              "        const docLinkHtml = 'Like what you see? Visit the ' +\n",
              "          '<a target=\"_blank\" href=https://colab.research.google.com/notebooks/data_table.ipynb>data table notebook</a>'\n",
              "          + ' to learn more about interactive tables.';\n",
              "        element.innerHTML = '';\n",
              "        dataTable['output_type'] = 'display_data';\n",
              "        await google.colab.output.renderOutput(dataTable, element);\n",
              "        const docLink = document.createElement('div');\n",
              "        docLink.innerHTML = docLinkHtml;\n",
              "        element.appendChild(docLink);\n",
              "      }\n",
              "    </script>\n",
              "  </div>\n",
              "\n",
              "\n",
              "    <div id=\"df-f4c27ae8-e638-4ed6-9f56-b8aa0c32c547\">\n",
              "      <button class=\"colab-df-quickchart\" onclick=\"quickchart('df-f4c27ae8-e638-4ed6-9f56-b8aa0c32c547')\"\n",
              "                title=\"Suggest charts\"\n",
              "                style=\"display:none;\">\n",
              "\n",
              "<svg xmlns=\"http://www.w3.org/2000/svg\" height=\"24px\"viewBox=\"0 0 24 24\"\n",
              "     width=\"24px\">\n",
              "    <g>\n",
              "        <path d=\"M19 3H5c-1.1 0-2 .9-2 2v14c0 1.1.9 2 2 2h14c1.1 0 2-.9 2-2V5c0-1.1-.9-2-2-2zM9 17H7v-7h2v7zm4 0h-2V7h2v10zm4 0h-2v-4h2v4z\"/>\n",
              "    </g>\n",
              "</svg>\n",
              "      </button>\n",
              "\n",
              "<style>\n",
              "  .colab-df-quickchart {\n",
              "      --bg-color: #E8F0FE;\n",
              "      --fill-color: #1967D2;\n",
              "      --hover-bg-color: #E2EBFA;\n",
              "      --hover-fill-color: #174EA6;\n",
              "      --disabled-fill-color: #AAA;\n",
              "      --disabled-bg-color: #DDD;\n",
              "  }\n",
              "\n",
              "  [theme=dark] .colab-df-quickchart {\n",
              "      --bg-color: #3B4455;\n",
              "      --fill-color: #D2E3FC;\n",
              "      --hover-bg-color: #434B5C;\n",
              "      --hover-fill-color: #FFFFFF;\n",
              "      --disabled-bg-color: #3B4455;\n",
              "      --disabled-fill-color: #666;\n",
              "  }\n",
              "\n",
              "  .colab-df-quickchart {\n",
              "    background-color: var(--bg-color);\n",
              "    border: none;\n",
              "    border-radius: 50%;\n",
              "    cursor: pointer;\n",
              "    display: none;\n",
              "    fill: var(--fill-color);\n",
              "    height: 32px;\n",
              "    padding: 0;\n",
              "    width: 32px;\n",
              "  }\n",
              "\n",
              "  .colab-df-quickchart:hover {\n",
              "    background-color: var(--hover-bg-color);\n",
              "    box-shadow: 0 1px 2px rgba(60, 64, 67, 0.3), 0 1px 3px 1px rgba(60, 64, 67, 0.15);\n",
              "    fill: var(--button-hover-fill-color);\n",
              "  }\n",
              "\n",
              "  .colab-df-quickchart-complete:disabled,\n",
              "  .colab-df-quickchart-complete:disabled:hover {\n",
              "    background-color: var(--disabled-bg-color);\n",
              "    fill: var(--disabled-fill-color);\n",
              "    box-shadow: none;\n",
              "  }\n",
              "\n",
              "  .colab-df-spinner {\n",
              "    border: 2px solid var(--fill-color);\n",
              "    border-color: transparent;\n",
              "    border-bottom-color: var(--fill-color);\n",
              "    animation:\n",
              "      spin 1s steps(1) infinite;\n",
              "  }\n",
              "\n",
              "  @keyframes spin {\n",
              "    0% {\n",
              "      border-color: transparent;\n",
              "      border-bottom-color: var(--fill-color);\n",
              "      border-left-color: var(--fill-color);\n",
              "    }\n",
              "    20% {\n",
              "      border-color: transparent;\n",
              "      border-left-color: var(--fill-color);\n",
              "      border-top-color: var(--fill-color);\n",
              "    }\n",
              "    30% {\n",
              "      border-color: transparent;\n",
              "      border-left-color: var(--fill-color);\n",
              "      border-top-color: var(--fill-color);\n",
              "      border-right-color: var(--fill-color);\n",
              "    }\n",
              "    40% {\n",
              "      border-color: transparent;\n",
              "      border-right-color: var(--fill-color);\n",
              "      border-top-color: var(--fill-color);\n",
              "    }\n",
              "    60% {\n",
              "      border-color: transparent;\n",
              "      border-right-color: var(--fill-color);\n",
              "    }\n",
              "    80% {\n",
              "      border-color: transparent;\n",
              "      border-right-color: var(--fill-color);\n",
              "      border-bottom-color: var(--fill-color);\n",
              "    }\n",
              "    90% {\n",
              "      border-color: transparent;\n",
              "      border-bottom-color: var(--fill-color);\n",
              "    }\n",
              "  }\n",
              "</style>\n",
              "\n",
              "      <script>\n",
              "        async function quickchart(key) {\n",
              "          const quickchartButtonEl =\n",
              "            document.querySelector('#' + key + ' button');\n",
              "          quickchartButtonEl.disabled = true;  // To prevent multiple clicks.\n",
              "          quickchartButtonEl.classList.add('colab-df-spinner');\n",
              "          try {\n",
              "            const charts = await google.colab.kernel.invokeFunction(\n",
              "                'suggestCharts', [key], {});\n",
              "          } catch (error) {\n",
              "            console.error('Error during call to suggestCharts:', error);\n",
              "          }\n",
              "          quickchartButtonEl.classList.remove('colab-df-spinner');\n",
              "          quickchartButtonEl.classList.add('colab-df-quickchart-complete');\n",
              "        }\n",
              "        (() => {\n",
              "          let quickchartButtonEl =\n",
              "            document.querySelector('#df-f4c27ae8-e638-4ed6-9f56-b8aa0c32c547 button');\n",
              "          quickchartButtonEl.style.display =\n",
              "            google.colab.kernel.accessAllowed ? 'block' : 'none';\n",
              "        })();\n",
              "      </script>\n",
              "    </div>\n",
              "\n",
              "    </div>\n",
              "  </div>\n"
            ],
            "application/vnd.google.colaboratory.intrinsic+json": {
              "type": "dataframe",
              "variable_name": "df"
            }
          },
          "metadata": {},
          "execution_count": 81
        }
      ]
    },
    {
      "cell_type": "code",
      "source": [
        "df['Country'].unique()"
      ],
      "metadata": {
        "colab": {
          "base_uri": "https://localhost:8080/"
        },
        "id": "oiVjZ8YYX4OA",
        "outputId": "8edfceaa-fc86-47d2-f0b7-ef4b9402b166"
      },
      "execution_count": 82,
      "outputs": [
        {
          "output_type": "execute_result",
          "data": {
            "text/plain": [
              "array(['United Kingdom', 'France', 'USA', 'Belgium', 'Australia', 'EIRE',\n",
              "       'Germany', 'Portugal', 'Japan', 'Denmark', 'Nigeria',\n",
              "       'Netherlands', 'Poland', 'Spain', 'Channel Islands', 'Italy',\n",
              "       'Cyprus', 'Greece', 'Norway', 'Austria', 'Sweden',\n",
              "       'United Arab Emirates', 'Finland', 'Switzerland', 'Unspecified',\n",
              "       'Malta', 'Bahrain', 'RSA', 'Bermuda', 'Hong Kong', 'Singapore',\n",
              "       'Thailand', 'Israel', 'Lithuania', 'West Indies', 'Lebanon',\n",
              "       'Korea', 'Brazil', 'Canada', 'Iceland', 'Saudi Arabia',\n",
              "       'Czech Republic', 'European Community'], dtype=object)"
            ]
          },
          "metadata": {},
          "execution_count": 82
        }
      ]
    },
    {
      "cell_type": "code",
      "source": [
        "sorted(df['Country'].unique())\n"
      ],
      "metadata": {
        "colab": {
          "base_uri": "https://localhost:8080/"
        },
        "id": "SrTDnq6qZEns",
        "outputId": "b7cdb170-fd23-45ec-b954-17b37ff3e73f"
      },
      "execution_count": 83,
      "outputs": [
        {
          "output_type": "execute_result",
          "data": {
            "text/plain": [
              "['Australia',\n",
              " 'Austria',\n",
              " 'Bahrain',\n",
              " 'Belgium',\n",
              " 'Bermuda',\n",
              " 'Brazil',\n",
              " 'Canada',\n",
              " 'Channel Islands',\n",
              " 'Cyprus',\n",
              " 'Czech Republic',\n",
              " 'Denmark',\n",
              " 'EIRE',\n",
              " 'European Community',\n",
              " 'Finland',\n",
              " 'France',\n",
              " 'Germany',\n",
              " 'Greece',\n",
              " 'Hong Kong',\n",
              " 'Iceland',\n",
              " 'Israel',\n",
              " 'Italy',\n",
              " 'Japan',\n",
              " 'Korea',\n",
              " 'Lebanon',\n",
              " 'Lithuania',\n",
              " 'Malta',\n",
              " 'Netherlands',\n",
              " 'Nigeria',\n",
              " 'Norway',\n",
              " 'Poland',\n",
              " 'Portugal',\n",
              " 'RSA',\n",
              " 'Saudi Arabia',\n",
              " 'Singapore',\n",
              " 'Spain',\n",
              " 'Sweden',\n",
              " 'Switzerland',\n",
              " 'Thailand',\n",
              " 'USA',\n",
              " 'United Arab Emirates',\n",
              " 'United Kingdom',\n",
              " 'Unspecified',\n",
              " 'West Indies']"
            ]
          },
          "metadata": {},
          "execution_count": 83
        }
      ]
    },
    {
      "cell_type": "code",
      "source": [
        "df['Country'].value_counts()"
      ],
      "metadata": {
        "colab": {
          "base_uri": "https://localhost:8080/",
          "height": 1000
        },
        "id": "gmerseY1ZKlz",
        "outputId": "339f4247-bb47-45f4-ef61-a2b31f79e074"
      },
      "execution_count": 84,
      "outputs": [
        {
          "output_type": "execute_result",
          "data": {
            "text/plain": [
              "Country\n",
              "United Kingdom          981330\n",
              "EIRE                     17866\n",
              "Germany                  17624\n",
              "France                   14330\n",
              "Netherlands               5140\n",
              "Spain                     3811\n",
              "Switzerland               3189\n",
              "Belgium                   3123\n",
              "Portugal                  2620\n",
              "Australia                 1913\n",
              "Channel Islands           1664\n",
              "Italy                     1534\n",
              "Norway                    1455\n",
              "Sweden                    1364\n",
              "Cyprus                    1176\n",
              "Finland                   1049\n",
              "Austria                    938\n",
              "Denmark                    817\n",
              "Unspecified                756\n",
              "Greece                     663\n",
              "Japan                      582\n",
              "Poland                     535\n",
              "USA                        535\n",
              "United Arab Emirates       500\n",
              "Israel                     371\n",
              "Hong Kong                  364\n",
              "Singapore                  346\n",
              "Malta                      299\n",
              "Iceland                    253\n",
              "Canada                     228\n",
              "Lithuania                  189\n",
              "RSA                        169\n",
              "Bahrain                    126\n",
              "Brazil                      94\n",
              "Thailand                    76\n",
              "Korea                       63\n",
              "European Community          61\n",
              "Lebanon                     58\n",
              "West Indies                 54\n",
              "Bermuda                     34\n",
              "Nigeria                     32\n",
              "Czech Republic              30\n",
              "Saudi Arabia                10\n",
              "Name: count, dtype: int64"
            ],
            "text/html": [
              "<div>\n",
              "<style scoped>\n",
              "    .dataframe tbody tr th:only-of-type {\n",
              "        vertical-align: middle;\n",
              "    }\n",
              "\n",
              "    .dataframe tbody tr th {\n",
              "        vertical-align: top;\n",
              "    }\n",
              "\n",
              "    .dataframe thead th {\n",
              "        text-align: right;\n",
              "    }\n",
              "</style>\n",
              "<table border=\"1\" class=\"dataframe\">\n",
              "  <thead>\n",
              "    <tr style=\"text-align: right;\">\n",
              "      <th></th>\n",
              "      <th>count</th>\n",
              "    </tr>\n",
              "    <tr>\n",
              "      <th>Country</th>\n",
              "      <th></th>\n",
              "    </tr>\n",
              "  </thead>\n",
              "  <tbody>\n",
              "    <tr>\n",
              "      <th>United Kingdom</th>\n",
              "      <td>981330</td>\n",
              "    </tr>\n",
              "    <tr>\n",
              "      <th>EIRE</th>\n",
              "      <td>17866</td>\n",
              "    </tr>\n",
              "    <tr>\n",
              "      <th>Germany</th>\n",
              "      <td>17624</td>\n",
              "    </tr>\n",
              "    <tr>\n",
              "      <th>France</th>\n",
              "      <td>14330</td>\n",
              "    </tr>\n",
              "    <tr>\n",
              "      <th>Netherlands</th>\n",
              "      <td>5140</td>\n",
              "    </tr>\n",
              "    <tr>\n",
              "      <th>Spain</th>\n",
              "      <td>3811</td>\n",
              "    </tr>\n",
              "    <tr>\n",
              "      <th>Switzerland</th>\n",
              "      <td>3189</td>\n",
              "    </tr>\n",
              "    <tr>\n",
              "      <th>Belgium</th>\n",
              "      <td>3123</td>\n",
              "    </tr>\n",
              "    <tr>\n",
              "      <th>Portugal</th>\n",
              "      <td>2620</td>\n",
              "    </tr>\n",
              "    <tr>\n",
              "      <th>Australia</th>\n",
              "      <td>1913</td>\n",
              "    </tr>\n",
              "    <tr>\n",
              "      <th>Channel Islands</th>\n",
              "      <td>1664</td>\n",
              "    </tr>\n",
              "    <tr>\n",
              "      <th>Italy</th>\n",
              "      <td>1534</td>\n",
              "    </tr>\n",
              "    <tr>\n",
              "      <th>Norway</th>\n",
              "      <td>1455</td>\n",
              "    </tr>\n",
              "    <tr>\n",
              "      <th>Sweden</th>\n",
              "      <td>1364</td>\n",
              "    </tr>\n",
              "    <tr>\n",
              "      <th>Cyprus</th>\n",
              "      <td>1176</td>\n",
              "    </tr>\n",
              "    <tr>\n",
              "      <th>Finland</th>\n",
              "      <td>1049</td>\n",
              "    </tr>\n",
              "    <tr>\n",
              "      <th>Austria</th>\n",
              "      <td>938</td>\n",
              "    </tr>\n",
              "    <tr>\n",
              "      <th>Denmark</th>\n",
              "      <td>817</td>\n",
              "    </tr>\n",
              "    <tr>\n",
              "      <th>Unspecified</th>\n",
              "      <td>756</td>\n",
              "    </tr>\n",
              "    <tr>\n",
              "      <th>Greece</th>\n",
              "      <td>663</td>\n",
              "    </tr>\n",
              "    <tr>\n",
              "      <th>Japan</th>\n",
              "      <td>582</td>\n",
              "    </tr>\n",
              "    <tr>\n",
              "      <th>Poland</th>\n",
              "      <td>535</td>\n",
              "    </tr>\n",
              "    <tr>\n",
              "      <th>USA</th>\n",
              "      <td>535</td>\n",
              "    </tr>\n",
              "    <tr>\n",
              "      <th>United Arab Emirates</th>\n",
              "      <td>500</td>\n",
              "    </tr>\n",
              "    <tr>\n",
              "      <th>Israel</th>\n",
              "      <td>371</td>\n",
              "    </tr>\n",
              "    <tr>\n",
              "      <th>Hong Kong</th>\n",
              "      <td>364</td>\n",
              "    </tr>\n",
              "    <tr>\n",
              "      <th>Singapore</th>\n",
              "      <td>346</td>\n",
              "    </tr>\n",
              "    <tr>\n",
              "      <th>Malta</th>\n",
              "      <td>299</td>\n",
              "    </tr>\n",
              "    <tr>\n",
              "      <th>Iceland</th>\n",
              "      <td>253</td>\n",
              "    </tr>\n",
              "    <tr>\n",
              "      <th>Canada</th>\n",
              "      <td>228</td>\n",
              "    </tr>\n",
              "    <tr>\n",
              "      <th>Lithuania</th>\n",
              "      <td>189</td>\n",
              "    </tr>\n",
              "    <tr>\n",
              "      <th>RSA</th>\n",
              "      <td>169</td>\n",
              "    </tr>\n",
              "    <tr>\n",
              "      <th>Bahrain</th>\n",
              "      <td>126</td>\n",
              "    </tr>\n",
              "    <tr>\n",
              "      <th>Brazil</th>\n",
              "      <td>94</td>\n",
              "    </tr>\n",
              "    <tr>\n",
              "      <th>Thailand</th>\n",
              "      <td>76</td>\n",
              "    </tr>\n",
              "    <tr>\n",
              "      <th>Korea</th>\n",
              "      <td>63</td>\n",
              "    </tr>\n",
              "    <tr>\n",
              "      <th>European Community</th>\n",
              "      <td>61</td>\n",
              "    </tr>\n",
              "    <tr>\n",
              "      <th>Lebanon</th>\n",
              "      <td>58</td>\n",
              "    </tr>\n",
              "    <tr>\n",
              "      <th>West Indies</th>\n",
              "      <td>54</td>\n",
              "    </tr>\n",
              "    <tr>\n",
              "      <th>Bermuda</th>\n",
              "      <td>34</td>\n",
              "    </tr>\n",
              "    <tr>\n",
              "      <th>Nigeria</th>\n",
              "      <td>32</td>\n",
              "    </tr>\n",
              "    <tr>\n",
              "      <th>Czech Republic</th>\n",
              "      <td>30</td>\n",
              "    </tr>\n",
              "    <tr>\n",
              "      <th>Saudi Arabia</th>\n",
              "      <td>10</td>\n",
              "    </tr>\n",
              "  </tbody>\n",
              "</table>\n",
              "</div><br><label><b>dtype:</b> int64</label>"
            ]
          },
          "metadata": {},
          "execution_count": 84
        }
      ]
    },
    {
      "cell_type": "code",
      "source": [
        "# TotalPrice 열 생성\n",
        "df['TotalPrice'] = df['Quantity'] * df['Price']\n"
      ],
      "metadata": {
        "id": "5QemJWEDV6IP"
      },
      "execution_count": 85,
      "outputs": []
    },
    {
      "cell_type": "code",
      "source": [
        "# 국가별 비교 데이터 분리\n",
        "uk = df[df['Country'] == 'United Kingdom']['TotalPrice'].dropna()\n",
        "de = df[df['Country'] == 'Germany']['TotalPrice'].dropna()\n",
        "\n",
        "\n",
        "#dropna() : 결측값(NA, NaN)이 있는 행 또는 열을 제거하는 함수"
      ],
      "metadata": {
        "id": "3F-hadP8Yqa9"
      },
      "execution_count": 86,
      "outputs": []
    },
    {
      "cell_type": "code",
      "source": [
        "# Welch's t-test\n",
        "from scipy import stats\n",
        "t_stat, p_value = stats.ttest_ind(uk, de, equal_var=False)\n"
      ],
      "metadata": {
        "id": "-2vERgXUYqrM"
      },
      "execution_count": 87,
      "outputs": []
    },
    {
      "cell_type": "code",
      "source": [
        "# 결과 해석\n",
        "if p_value < 0.05:\n",
        "    print(\"영국과 독일 고객의 평균 구매 금액에 유의한 차이가 있습니다.\")\n",
        "else:\n",
        "    print(\"영국과 독일 고객의 평균 구매 금액에 유의한 차이가 없습니다.\")\n"
      ],
      "metadata": {
        "colab": {
          "base_uri": "https://localhost:8080/"
        },
        "id": "7GcSourJV6Kj",
        "outputId": "cfb8f0fc-b295-439e-d34e-f39a01cff559"
      },
      "execution_count": 88,
      "outputs": [
        {
          "output_type": "stream",
          "name": "stdout",
          "text": [
            "영국과 독일 고객의 평균 구매 금액에 유의한 차이가 있습니다.\n"
          ]
        }
      ]
    },
    {
      "cell_type": "markdown",
      "source": [
        "===================================================\n",
        "# 2. A/B 테스트\n",
        "\n",
        "문제 9~ 10) A/B test스타트업A에서 새로운 여행 패키지 상품 판매를 진행하고자 합니다.\n",
        "\n",
        "- 패키지 판매 기획자는 새로운 패키지의 상품 판매 효율을 높이고 싶어하며,\n",
        "- 이를 위해 기존에 상품이 판매되던 웹 페이지 (페이지 A) 가 아닌 새로운 웹 페이지 (페이지 B)를 통해 판매하고자 합니다.\n",
        "- 패키지 판매 기획자는 신규 웹페이지 (페이지 B) 가 기존 (페이지 A) 대비 효과가 좋은 지 확인하기 위해 A/B 테스트를 진행하였습니다.\n",
        "\n",
        "- 페이지 A: 기존에 운영하던 패키지 판매 웹 페이지\n",
        "- 페이지 B: 새롭게 생성한 패키지 판매 웹 페이지\n",
        "\n",
        "-- 두 페이지는 스타트업A 패키지 판매 사이트에 접속하는 유저에게 랜덤으로 노출되었고, 테스트 결과는 다음과 같습니다.\n",
        "\n",
        "|  | **노출 수** | **구매 수** |\n",
        "| --- | --- | --- |\n",
        "| **페이지 A** | 1000 | 80 |\n",
        "| **페이지 B** | 200 | 22 |\n",
        "\n"
      ],
      "metadata": {
        "id": "bHmbnODgZyKi"
      }
    },
    {
      "cell_type": "markdown",
      "source": [
        "- 목적 :\t페이지 B(신규 웹 페이지)가 기존 페이지 A보다 더 효과적인지 통계적으로 확인\n",
        "- 방법 :\tA/B 테스트 (이항 비율 검정)\n",
        "- 사용 데이터 :\tabtestguide.com 에 입력하여 효과 해석\n",
        "- 해석해야 할 것 :\tp-value 기반으로 귀무가설 기각 여부 결정 → 실제로 효과가 있는지 통계적으로 유의한지 판단"
      ],
      "metadata": {
        "id": "6qE_Fm9DZyph"
      }
    },
    {
      "cell_type": "markdown",
      "source": [
        "=================================================\n",
        "## 문제 9.\n",
        "- 결과를 바탕으로 패키지 기획자는 페이지 B의 효과에 대해 어떤 결정을 해야 할지 서술해 주세요.\n",
        "- Hint) https://abtestguide.com/calc/ 를 사용하여 해석해보세요"
      ],
      "metadata": {
        "id": "G_jKjkD7iRwL"
      }
    },
    {
      "cell_type": "markdown",
      "source": [
        "구분\t:  페이지 A (기존)\t/페이지 B (신규)\n",
        "- 노출 수(Visitors) : 1000명\t/80명\n",
        "- 구매 수(Conversions): 80건\t/22건\n",
        "- 전환율\t: 8.00% /27.50%"
      ],
      "metadata": {
        "id": "B41hzwuOisAo"
      }
    },
    {
      "cell_type": "markdown",
      "source": [
        "![ScreenHunter 14528.png](data:image/png;base64,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)"
      ],
      "metadata": {
        "id": "QOTAt12UjRF6"
      }
    },
    {
      "cell_type": "code",
      "source": [],
      "metadata": {
        "id": "tAEkb3opiqy5"
      },
      "execution_count": null,
      "outputs": []
    },
    {
      "cell_type": "markdown",
      "source": [
        "- p-value\t0.0001\t: 0.05보다 작음 → 귀무가설 기각 → 통계적으로 유의함\n",
        "- Z-score\t3.8497\t: 정규분포 기준으로도 매우 큰 차이\n",
        "- Conversin Rate전환율 차이\t: 27.50% vs 8.00%\t페이지 B가 A보다 243.75% 더 높은 전환율\n",
        "-  결과 해석 : 신뢰수준 95%에서 페이지 B의 변화는 실질적 효과로 볼 수 있음\n",
        "\n",
        "- A(1000)와 B(80)의 노출비율이 너무 다름 : 표본 할당 오류 가능성"
      ],
      "metadata": {
        "id": "7M-E24v9k-Nk"
      }
    },
    {
      "cell_type": "markdown",
      "source": [
        "======\n",
        "### 문제 9번을 코딩해 보면 ~"
      ],
      "metadata": {
        "id": "I3vxAuKKmM_K"
      }
    },
    {
      "cell_type": "code",
      "source": [
        "# 전환율 (Conversion Rate)\n",
        "# 페이지 A : 80/1000 = 8.00%\n",
        "# 페이지 B :  22/200 = 11.00%\n",
        "\n",
        "# 페이지 B가 높아 보이나, 통계적으로 유의미 한 차이인지 확인 필요"
      ],
      "metadata": {
        "id": "hZKiRFFLZzKK"
      },
      "execution_count": null,
      "outputs": []
    },
    {
      "cell_type": "markdown",
      "source": [
        "- 귀무가설 H0 :\t페이지 A와 B의 전환율은 같다\n",
        "- 대립가설 H1 :\t페이지 B의 전환율은 다르다 (양측검정 기준)"
      ],
      "metadata": {
        "id": "de9gyGl9d5_7"
      }
    },
    {
      "cell_type": "code",
      "source": [
        "import numpy as np\n",
        "from statsmodels.stats.proportion import proportions_ztest\n",
        "\n",
        "# A/B 테스트 데이터\n",
        "visitors_A = 1000\n",
        "conversions_A = 80\n",
        "\n",
        "visitors_B = 200\n",
        "conversions_B = 22"
      ],
      "metadata": {
        "id": "tpO6_NsoZzPK"
      },
      "execution_count": 89,
      "outputs": []
    },
    {
      "cell_type": "code",
      "source": [
        "# 성공 횟수 (구매 수), 총 시도 횟수 (노출 수)\n",
        "successes = np.array([conversions_A, conversions_B])\n",
        "successes\n"
      ],
      "metadata": {
        "colab": {
          "base_uri": "https://localhost:8080/"
        },
        "id": "VLx6VYszZzRy",
        "outputId": "78dd59e3-9835-4846-ec02-e8bd4a44d109"
      },
      "execution_count": 91,
      "outputs": [
        {
          "output_type": "execute_result",
          "data": {
            "text/plain": [
              "array([80, 22])"
            ]
          },
          "metadata": {},
          "execution_count": 91
        }
      ]
    },
    {
      "cell_type": "code",
      "source": [
        "samples = np.array([visitors_A, visitors_B])\n",
        "samples"
      ],
      "metadata": {
        "colab": {
          "base_uri": "https://localhost:8080/"
        },
        "id": "5mj3H2g5fByH",
        "outputId": "9e713d98-b58a-4bdb-9f5c-00f798ccf363"
      },
      "execution_count": 92,
      "outputs": [
        {
          "output_type": "execute_result",
          "data": {
            "text/plain": [
              "array([1000,  200])"
            ]
          },
          "metadata": {},
          "execution_count": 92
        }
      ]
    },
    {
      "cell_type": "code",
      "source": [
        "# z-test for proportions (양측 검정)\n",
        "stat, p_value = proportions_ztest(count=successes, nobs=samples, alternative='two-sided')\n",
        "p_value\n",
        "\n",
        "\n",
        "#statsmodels.stats.proportion.proportions_ztest(\n",
        "  # count, nobs, value=None, alternative='two-sided', prop_var=False)[source]\n",
        "# 두 집단의 비율 차이를 비교하는 z-검정\n",
        "# A/B테스트에서 두 그룹의 전환율(성공비율)을 비교할 때 사용"
      ],
      "metadata": {
        "colab": {
          "base_uri": "https://localhost:8080/"
        },
        "id": "w5WMX0ONZzaX",
        "outputId": "95e967b1-b1b4-4860-bad6-e0fac4931d34"
      },
      "execution_count": 94,
      "outputs": [
        {
          "output_type": "execute_result",
          "data": {
            "text/plain": [
              "np.float64(0.16490727875464484)"
            ]
          },
          "metadata": {},
          "execution_count": 94
        }
      ]
    },
    {
      "cell_type": "code",
      "source": [
        "# 결과 출력\n",
        "print(f\"z-통계량: {stat:.4f}\")\n",
        "print(f\"p-value: {p_value:.4f}\")\n",
        "\n",
        "# 유의수준 0.05 기준 해석\n",
        "alpha = 0.05\n",
        "if p_value < alpha:\n",
        "    print(\"페이지 B는 통계적으로 유의미하게 더 높은 전환율을 보입니다.\")\n",
        "else:\n",
        "    print(\"페이지 B는 통계적으로 유의미하게 더 높은 전환율을 보인다고 할 수 없습니다.\")\n"
      ],
      "metadata": {
        "colab": {
          "base_uri": "https://localhost:8080/"
        },
        "id": "AumO-Qr7Zzc7",
        "outputId": "2ee95236-4689-4edd-a6ef-df30922a0f60"
      },
      "execution_count": 95,
      "outputs": [
        {
          "output_type": "stream",
          "name": "stdout",
          "text": [
            "z-통계량: -1.3888\n",
            "p-value: 0.1649\n",
            "페이지 B는 통계적으로 유의미하게 더 높은 전환율을 보인다고 할 수 없습니다.\n"
          ]
        }
      ]
    },
    {
      "cell_type": "markdown",
      "source": [
        "=================================================================\n",
        "## **문제 10)**\n",
        "\n",
        "- A/B 테스트의 결과가 통계적으로 유의하나 효과의 차이 자체는 매우 작은 경우,\n",
        "- 어떤 의사결정을 할 수 있을지 사례를 통해 설명해 주세요.\n",
        "- Hint) A/B 관련 자료를 찾아보세요. (추천 문헌 [요즘IT](https://yozm.wishket.com/))"
      ],
      "metadata": {
        "id": "Ad-tX5z9fSQA"
      }
    },
    {
      "cell_type": "code",
      "source": [
        "#"
      ],
      "metadata": {
        "id": "Jd5eAJNrfS6O"
      },
      "execution_count": null,
      "outputs": []
    },
    {
      "cell_type": "markdown",
      "source": [
        "[링크](https://yozm.wishket.com/magazine/detail/1309/)\n",
        "\n",
        "## 실패를 통해 배우는 AB테스트\n",
        "\n",
        "\n",
        "### 1차 실험 -시행착오의 시작\n",
        "- 문제사항 정의\n",
        "- 마케팅을 통해 유저를 많이 모집했지만, 회원가입 창에서의 이탈이 많아 회가입으로 아루어지지 않았다.\n",
        "\n",
        "###가설 설정\n",
        "- 기존 회워가입/로그인 화면(Control)에서 정보 양이 너무 적어 유저가 다운로드 한 앱이무슨 앱인지 파악하기 어려워 전환이되지 않은 것이라고 가정\n",
        "\n",
        "### 결론 도출\n",
        "- 앱에 대한 정보를 제공해 전환율을 높이려 한다.\n"
      ],
      "metadata": {
        "id": "l2TxGuPgtTk6"
      }
    },
    {
      "cell_type": "markdown",
      "source": [
        "### 사례 요약:\n",
        "- 이벤트 강조 vs. 콘텐츠 강조 실험\n",
        "- 한 서비스에서 이벤트 강조형(A안)과 콘텐츠 강조형(B안) 두 가지 디자인을 비교하는 A/B 테스트를 진행\n",
        "\n",
        "- A안: 이벤트 배너를 강조하여 사용자 참여를 유도\n",
        "- B안: 콘텐츠를 중심으로 구성하여 정보 전달에 초점​\n",
        "\n",
        "### 실험 결과 :\n",
        "- 전환율 차이: A안이 B안보다 약간 높은 전환율을 보였으나, 그 차이는 매우 작음\n",
        "\n",
        "- p-value: 0.04로 통계적으로 유의함"
      ],
      "metadata": {
        "id": "bfasYg2hvKfM"
      }
    },
    {
      "cell_type": "markdown",
      "source": [
        "### 의사결정 고려사항\n",
        "- 효과 크기: 실질적인 전환율 증가가 미미하다면, 변경의 필요성이 낮을 수 있습니다.\n",
        "\n",
        "- 브랜드 일관성: 이벤트 강조형이 브랜드의 기존 커뮤니케이션 방식과 일치하는지 검토해야 합니다.\n",
        "\n",
        "- 사용자 선호도: 일부 사용자들은 콘텐츠 중심의 구성을 더 선호할 수 있습니다.\n",
        "\n",
        "- 장기적 영향: 작은 변화라도 장기적으로 누적되면 의미 있는 차이를 만들 수 있습니다."
      ],
      "metadata": {
        "id": "OPrCuxycykRr"
      }
    },
    {
      "cell_type": "markdown",
      "source": [
        "========\n",
        "### 소감\n",
        "- 아직 해야할 것이 산처럼 크게 보이고, 모른 것은 더 크게 보이고 있습니다만, 이제 통계를 하는 것 같습니다.\n",
        "- 데이터분석의 짭짭한 맛도 보고, 앞으로 더 짭쪼름 할 것 같습니다.^^\n",
        "- 넘 짭쪼름 하여,  완주를 잘 할 수 있을지 염려가 되긴 하지만, 그래도 모두연을 만나 넘 감사할 뿐입니다.\n",
        "- 임정강사님의 명강의를 듣게 되어 더 감사합니다."
      ],
      "metadata": {
        "id": "cGaMCCHBnTzd"
      }
    }
  ]
}