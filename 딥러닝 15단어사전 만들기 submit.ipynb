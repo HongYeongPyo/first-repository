{
 "cells": [
  {
   "cell_type": "markdown",
   "id": "9efbc9ad",
   "metadata": {},
   "source": [
    "# KoNLPY  중 MeCab 클래스 실습환경\n"
   ]
  },
  {
   "cell_type": "code",
   "execution_count": 1,
   "id": "7bfea056",
   "metadata": {},
   "outputs": [
    {
     "name": "stdout",
     "output_type": "stream",
     "text": [
      "['자연어', '처리', '가', '너무', '재밌', '어서', '밥', '먹', '는', '것', '도', '가끔', '까먹', '어요']\n"
     ]
    }
   ],
   "source": [
    "from konlpy.tag import Mecab\n",
    "\n",
    "mecab = Mecab()\n",
    "print(mecab.morphs('자연어처리가너무재밌어서밥먹는것도가끔까먹어요'))"
   ]
  },
  {
   "cell_type": "markdown",
   "id": "abccc360",
   "metadata": {},
   "source": [
    "# 15-2.  데이터 다운로드 및 전처리"
   ]
  },
  {
   "cell_type": "code",
   "execution_count": 2,
   "id": "81369e06",
   "metadata": {},
   "outputs": [],
   "source": [
    "import os\n",
    "\n",
    "import matplotlib.pyplot as plt\n",
    "import tensorflow as tf\n",
    "import numpy as np\n",
    "\n",
    "%matplotlib inline"
   ]
  },
  {
   "cell_type": "code",
   "execution_count": 3,
   "id": "bb6b5ef7",
   "metadata": {},
   "outputs": [
    {
     "name": "stdout",
     "output_type": "stream",
     "text": [
      "Data Size: 94123\n",
      "Example:\n",
      ">> 개인용 컴퓨터 사용의 상당 부분은 \"이것보다 뛰어날 수 있느냐?\"\n",
      ">> 북한의 핵무기 계획을 포기하도록 하려는 압력이 거세지고 있는 가운데, 일본과 북한의 외교관들이 외교 관계를 정상화하려는 회담을 재개했다.\n",
      ">> \"경호 로보트가 침입자나 화재를 탐지하기 위해서 개인적으로, 그리고 전문적으로 사용되고 있습니다.\"\n",
      ">> 수자원부 당국은 논란이 되고 있고, 막대한 비용이 드는 이 사업에 대해 내년에 건설을 시작할 계획이다.\n",
      ">> 또한 근력 운동은 활발하게 걷는 것이나 최소한 20분 동안 뛰는 것과 같은 유산소 활동에서 얻는 운동 효과를 심장과 폐에 주지 않기 때문에, 연구학자들은 근력 운동이 심장에 큰 영향을 미치는지 여부에 대해 논쟁을 해왔다.\n"
     ]
    }
   ],
   "source": [
    "import os\n",
    "path_to_file = os.getenv('HOME')+'/aiffel/sp_tokenizer/data/korean-english-park.train.ko'\n",
    "\n",
    "with open(path_to_file, \"r\") as f:\n",
    "    raw = f.read().splitlines()\n",
    "\n",
    "print(\"Data Size:\", len(raw))\n",
    "\n",
    "print(\"Example:\")\n",
    "for sen in raw[0:100][::20]: print(\">>\", sen)"
   ]
  },
  {
   "cell_type": "code",
   "execution_count": 4,
   "id": "4d2adf57",
   "metadata": {},
   "outputs": [
    {
     "name": "stdout",
     "output_type": "stream",
     "text": [
      "문장의 최단 길이: 1\n",
      "문장의 최장 길이: 377\n",
      "문장의 평균 길이: 60\n"
     ]
    },
    {
     "data": {
      "image/png": "[encoded data removed]",
      "text/plain": [
       "<Figure size 432x288 with 1 Axes>"
      ]
     },
     "metadata": {
      "needs_background": "light"
     },
     "output_type": "display_data"
    }
   ],
   "source": [
    "min_len = 999\n",
    "max_len = 0\n",
    "sum_len = 0\n",
    "\n",
    "for sen in raw:\n",
    "    length = len(sen)\n",
    "    if min_len > length: min_len = length\n",
    "    if max_len < length: max_len = length\n",
    "    sum_len += length\n",
    "\n",
    "print(\"문장의 최단 길이:\", min_len)\n",
    "print(\"문장의 최장 길이:\", max_len)\n",
    "print(\"문장의 평균 길이:\", sum_len // len(raw))\n",
    "\n",
    "sentence_length = np.zeros((max_len), dtype=int)\n",
    "\n",
    "for sen in raw:\n",
    "    sentence_length[len(sen)-1] += 1\n",
    "\n",
    "plt.bar(range(max_len), sentence_length, width=1.0)\n",
    "plt.title(\"Sentence Length Distribution\")\n",
    "plt.show()"
   ]
  },
  {
   "cell_type": "code",
   "execution_count": 5,
   "id": "725e0622",
   "metadata": {},
   "outputs": [
    {
     "name": "stdout",
     "output_type": "stream",
     "text": [
      "’\n"
     ]
    }
   ],
   "source": [
    "def check_sentence_with_length(raw, length):\n",
    "    count = 0\n",
    "    \n",
    "    for sen in raw:\n",
    "        if len(sen) == length:\n",
    "            print(sen)\n",
    "            count += 1\n",
    "            if count > 100: return\n",
    "\n",
    "check_sentence_with_length(raw, 1)"
   ]
  },
  {
   "cell_type": "code",
   "execution_count": 6,
   "id": "3ade5447",
   "metadata": {},
   "outputs": [
    {
     "name": "stdout",
     "output_type": "stream",
     "text": [
      "Outlier Index: 11\n",
      "Outlier Index: 19\n",
      "Outlier Index: 21\n"
     ]
    }
   ],
   "source": [
    "for idx, _sum in enumerate(sentence_length):\n",
    "    # 문장의 수가 1500을 초과하는 문장 길이를 추출합니다.\n",
    "    if _sum > 1500:\n",
    "        print(\"Outlier Index:\", idx+1)"
   ]
  },
  {
   "cell_type": "code",
   "execution_count": 7,
   "id": "6e871a40",
   "metadata": {},
   "outputs": [
    {
     "name": "stdout",
     "output_type": "stream",
     "text": [
      "라고 조던이 말했다.\n",
      "- 모르고 있습니다.\n",
      "- 네, 보이는군요.\n",
      "디즈니사만이 아니다.\n",
      "큰 파티는 아니지요.\n",
      "의자는 비어 있었다.\n",
      "이 일은 계속됩니다.\n",
      "나는 크게 실망했다.\n",
      "그 이유는 간단하다.\n",
      "이력서와 자기 소개서\n",
      "시대가 변하고 있다.\n",
      "는 돌발질문을 했다.\n",
      "9. 몇 분간의 명상\n",
      "하와이, 빅 아일랜드\n",
      "키스를 잘 하는 방법\n",
      "키스를 잘 하는 방법\n",
      "스피어스가 뚱뚱한가?\n",
      "산 위를 나는 느낌.\n",
      "세 시간쯤 걸었을까?\n",
      "(아직 읽고있습니까?\n",
      "처음에는 장난이었다.\n",
      "우리는 운이 좋았다.\n",
      "아기가 숨을 멈출 때\n",
      "건물 전체 무너져내려\n",
      "그녀의 아름다운 눈.\n",
      "대답은 다음과 같다.\n",
      "\"사과할 것이 없다.\n",
      "폭탄테러가 공포 유발\n",
      "그는 \"잘 모르겠다.\n",
      "그는 \"잘 모르겠다.\n",
      "그는 \"잘 모르겠다.\n",
      "그는 \"잘 모르겠다.\n",
      "그는 \"잘 모르겠다.\n",
      "그는 \"잘 모르겠다.\n",
      "그는 \"잘 모르겠다.\n",
      "그는 \"잘 모르겠다.\n",
      "그는 \"잘 모르겠다.\n",
      "케냐 야생동물 고아원\n",
      "경유 1200원대로…\n",
      "더 내려야 하는 이유\n",
      "케냐 야생동물 고아원\n",
      "경유 1200원대로…\n",
      "더 내려야 하는 이유\n",
      "케냐 야생동물 고아원\n",
      "경유 1200원대로…\n",
      "더 내려야 하는 이유\n",
      "케냐 야생동물 고아원\n",
      "경유 1200원대로…\n",
      "더 내려야 하는 이유\n",
      "케냐 야생동물 고아원\n",
      "경유 1200원대로…\n",
      "더 내려야 하는 이유\n",
      "케냐 야생동물 고아원\n",
      "경유 1200원대로…\n",
      "더 내려야 하는 이유\n",
      "케냐 야생동물 고아원\n",
      "경유 1200원대로…\n",
      "더 내려야 하는 이유\n",
      "케냐 야생동물 고아원\n",
      "경유 1200원대로…\n",
      "더 내려야 하는 이유\n",
      "케냐 야생동물 고아원\n",
      "경유 1200원대로…\n",
      "더 내려야 하는 이유\n",
      "케냐 야생동물 고아원\n",
      "경유 1200원대로…\n",
      "더 내려야 하는 이유\n",
      "케냐 야생동물 고아원\n",
      "경유 1200원대로…\n",
      "더 내려야 하는 이유\n",
      "케냐 야생동물 고아원\n",
      "경유 1200원대로…\n",
      "더 내려야 하는 이유\n",
      "케냐 야생동물 고아원\n",
      "경유 1200원대로…\n",
      "더 내려야 하는 이유\n",
      "케냐 야생동물 고아원\n",
      "경유 1200원대로…\n",
      "더 내려야 하는 이유\n",
      "케냐 야생동물 고아원\n",
      "경유 1200원대로…\n",
      "더 내려야 하는 이유\n",
      "케냐 야생동물 고아원\n",
      "경유 1200원대로…\n",
      "더 내려야 하는 이유\n",
      "케냐 야생동물 고아원\n",
      "경유 1200원대로…\n",
      "더 내려야 하는 이유\n",
      "케냐 야생동물 고아원\n",
      "경유 1200원대로…\n",
      "더 내려야 하는 이유\n",
      "케냐 야생동물 고아원\n",
      "경유 1200원대로…\n",
      "더 내려야 하는 이유\n",
      "케냐 야생동물 고아원\n",
      "경유 1200원대로…\n",
      "더 내려야 하는 이유\n",
      "조금은 새침한 샬롯？\n",
      "조금은 새침한 샬롯？\n",
      "케냐 야생동물 고아원\n",
      "경유 1200원대로…\n"
     ]
    }
   ],
   "source": [
    "check_sentence_with_length(raw, 11)"
   ]
  },
  {
   "cell_type": "code",
   "execution_count": 8,
   "id": "2b7fef5b",
   "metadata": {},
   "outputs": [
    {
     "name": "stdout",
     "output_type": "stream",
     "text": [
      "Data Size: 77591\n",
      "문장의 최단 길이: 1\n",
      "문장의 최장 길이: 377\n",
      "문장의 평균 길이: 64\n"
     ]
    },
    {
     "data": {
      "image/png": "[encoded data removed]",
      "text/plain": [
       "<Figure size 432x288 with 1 Axes>"
      ]
     },
     "metadata": {
      "needs_background": "light"
     },
     "output_type": "display_data"
    }
   ],
   "source": [
    "min_len = 999\n",
    "max_len = 0\n",
    "sum_len = 0\n",
    "\n",
    "cleaned_corpus = list(set(raw))  # set를 사용해서 중복을 제거합니다.\n",
    "print(\"Data Size:\", len(cleaned_corpus))\n",
    "\n",
    "for sen in cleaned_corpus:\n",
    "    length = len(sen)\n",
    "    if min_len > length: min_len = length\n",
    "    if max_len < length: max_len = length\n",
    "    sum_len += length\n",
    "\n",
    "print(\"문장의 최단 길이:\", min_len)\n",
    "print(\"문장의 최장 길이:\", max_len)\n",
    "print(\"문장의 평균 길이:\", sum_len // len(cleaned_corpus))\n",
    "\n",
    "sentence_length = np.zeros((max_len), dtype=int)\n",
    "\n",
    "for sen in cleaned_corpus:   # 중복이 제거된 코퍼스 기준\n",
    "    sentence_length[len(sen)-1] += 1\n",
    "\n",
    "plt.bar(range(max_len), sentence_length, width=1.0)\n",
    "plt.title(\"Sentence Length Distribution\")\n",
    "plt.show()"
   ]
  },
  {
   "cell_type": "code",
   "execution_count": 9,
   "id": "e7c4fb77",
   "metadata": {},
   "outputs": [
    {
     "data": {
      "image/png": "[encoded data removed]",
      "text/plain": [
       "<Figure size 432x288 with 1 Axes>"
      ]
     },
     "metadata": {
      "needs_background": "light"
     },
     "output_type": "display_data"
    }
   ],
   "source": [
    "max_len = 150\n",
    "min_len = 10\n",
    "\n",
    "# 길이 조건에 맞는 문장만 선택합니다.\n",
    "filtered_corpus = [s for s in cleaned_corpus if (len(s) < max_len) & (len(s) >= min_len)]\n",
    "\n",
    "# 분포도를 다시 그려봅니다.\n",
    "sentence_length = np.zeros((max_len), dtype=int)\n",
    "\n",
    "for sen in filtered_corpus:\n",
    "    sentence_length[len(sen)-1] += 1\n",
    "\n",
    "plt.bar(range(max_len), sentence_length, width=1.0)\n",
    "plt.title(\"Sentence Length Distribution\")\n",
    "plt.show()"
   ]
  },
  {
   "cell_type": "markdown",
   "id": "8ce9084d",
   "metadata": {},
   "source": [
    "# 15-3. 공백기반 토큰화"
   ]
  },
  {
   "cell_type": "code",
   "execution_count": 10,
   "id": "f3aa8cf0",
   "metadata": {},
   "outputs": [],
   "source": [
    "def tokenize(corpus):                # corpus: Tokenized Sentence's List \n",
    "    \n",
    "    tokenizer = tf.keras.preprocessing.text.Tokenizer(filters='')\n",
    "    tokenizer.fit_on_texts(corpus)\n",
    "\n",
    "    tensor = tokenizer.texts_to_sequences(corpus)\n",
    "\n",
    "    tensor = tf.keras.preprocessing.sequence.pad_sequences(tensor, padding='post')\n",
    "\n",
    "    return tensor, tokenizer"
   ]
  },
  {
   "cell_type": "code",
   "execution_count": 11,
   "id": "fbcdef52",
   "metadata": {},
   "outputs": [],
   "source": [
    "# 문제 3-1\n",
    "# 정제된 데이터 filtered_corpus를 공백 기반으로 토큰화하여 저장하는 코드를 직접 작성해 보세요.\n",
    "split_corpus = []\n",
    "\n",
    "for kor in filtered_corpus:\n",
    "     # 코드를 작성하세요\n",
    "     split_corpus.append(kor.split())\n",
    "\n",
    "\n"
   ]
  },
  {
   "cell_type": "code",
   "execution_count": 12,
   "id": "829afbe0",
   "metadata": {},
   "outputs": [
    {
     "name": "stdout",
     "output_type": "stream",
     "text": [
      "Split Vocab Size: 237435\n"
     ]
    }
   ],
   "source": [
    "split_tensor, split_tokenizer = tokenize(split_corpus)\n",
    "\n",
    "print(\"Split Vocab Size:\", len(split_tokenizer.index_word))"
   ]
  },
  {
   "cell_type": "code",
   "execution_count": 13,
   "id": "38c4d1e3",
   "metadata": {},
   "outputs": [
    {
     "name": "stdout",
     "output_type": "stream",
     "text": [
      "0 : 이\n",
      "1 : 밝혔다.\n",
      "2 : 있다.\n",
      "3 : 말했다.\n",
      "4 : 수\n",
      "5 : 있는\n",
      "6 : 그는\n",
      "7 : 대한\n",
      "8 : 위해\n",
      "9 : 전했다.\n",
      "10 : 지난\n",
      "11 : 이번\n"
     ]
    }
   ],
   "source": [
    "for idx, word in enumerate(split_tokenizer.word_index):\n",
    "    print(idx, \":\", word)\n",
    "\n",
    "    if idx > 10: break"
   ]
  },
  {
   "cell_type": "markdown",
   "id": "f1b578f7",
   "metadata": {},
   "source": [
    "# 15-4 형태소 기반 토큰화"
   ]
  },
  {
   "cell_type": "code",
   "execution_count": 14,
   "id": "0c833530",
   "metadata": {},
   "outputs": [],
   "source": [
    "# 문제 4-1\n",
    "# 위에서 사용한 코드를 활용해 MeCab 단어 사전을 만들어보세요. \n",
    "# Hint : mecab.morphs()를 사용해서 형태소분석을 합니다.\n",
    "\n",
    "def mecab_split(sentence):\n",
    "    # 코드를 작성하세요\n",
    "    return mecab.morphs(sentence)\n",
    "\n",
    "mecab_corpus = []\n",
    "\n",
    "for kor in filtered_corpus:\n",
    "    # 코드를 작성하세요\n",
    "    mecab_corpus.append(mecab_split(kor))\n",
    "    \n",
    "    \n"
   ]
  },
  {
   "cell_type": "code",
   "execution_count": 15,
   "id": "4ab5756f",
   "metadata": {},
   "outputs": [
    {
     "name": "stdout",
     "output_type": "stream",
     "text": [
      "MeCab Vocab Size: 52279\n"
     ]
    }
   ],
   "source": [
    "mecab_tensor, mecab_tokenizer = tokenize(mecab_corpus)\n",
    "\n",
    "print(\"MeCab Vocab Size:\", len(mecab_tokenizer.index_word))\n"
   ]
  },
  {
   "cell_type": "code",
   "execution_count": 16,
   "id": "a992ad3a",
   "metadata": {},
   "outputs": [
    {
     "name": "stdout",
     "output_type": "stream",
     "text": [
      "['목격자 의 진술 에 따라 경찰 은 열 명 의 청년 이 세 명 의 북한 사람 을 공격 하 여 그 중 한 명 이 칼 에 찔려 사망 한 것 으로 보 고 있 다 .']\n"
     ]
    }
   ],
   "source": [
    "# 문제 4-2\n",
    "# Case 1 : tokenizer.sequences_to_texts()\n",
    "# 여기에 코드를 작성하세요.\n",
    "\n",
    "\n",
    "print(mecab_tokenizer.sequences_to_texts([mecab_tensor[100]]))\n",
    "\n",
    "\n"
   ]
  },
  {
   "cell_type": "code",
   "execution_count": 17,
   "id": "51c4a2fd",
   "metadata": {},
   "outputs": [
    {
     "name": "stdout",
     "output_type": "stream",
     "text": [
      "목격자 의 진술 에 따라 경찰 은 열 명 의 청년 이 세 명 의 북한 사람 을 공격 하 여 그 중 한 명 이 칼 에 찔려 사망 한 것 으로 보 고 있 다 . \n"
     ]
    }
   ],
   "source": [
    "# 문제 4-3\n",
    "# Case 2 : tokenizer.index_word\n",
    "# 여기에 코드를 작성하세요.\n",
    "\n",
    "\n",
    "sentence = \"\"\n",
    "\n",
    "for w in mecab_tensor[100]:\n",
    "    if w == 0: continue         \n",
    "    sentence += mecab_tokenizer.index_word[w] + \" \"\n",
    "\n",
    "print(sentence)\n",
    "\n",
    "\n",
    "# =====\n",
    "# mecab_tensor[100]: Mecab 토크나이저로 전처리된 101번째 문장의 Tensor 형태\n",
    "# w == 0: padding 처리된 부분은 무시\n",
    "# mecab_tokenizer.index_word[w]: ID를 실제 단어로 변환\n",
    "# \" \": 단어들 사이에 공백 삽입\n",
    "#sentence: 최종적으로 복원된 원문(또는 형태소 시퀀스)"
   ]
  },
  {
   "cell_type": "markdown",
   "id": "652f6e96",
   "metadata": {},
   "source": [
    "# 프로젝트 루브릭 "
   ]
  },
  {
   "cell_type": "markdown",
   "id": "d0739eae",
   "metadata": {},
   "source": [
    "### 1. SentencePiece를 이용하여 모델을 만들기까지의 과정이 정상적으로 진행되었는가?\n",
    "- 말뭉치 분석, 전처리, SentencePiece 적용, 토크나이저 구현 및 동작이 빠짐없이 이루어졌는가?"
   ]
  },
  {
   "cell_type": "code",
   "execution_count": 24,
   "id": "9301333b",
   "metadata": {},
   "outputs": [],
   "source": [
    "# 1. 말뭉치 저장\n",
    "# filtered_corpus를 한 줄씩 저장\n",
    "\n",
    "with open(\"corpus.txt\", \"w\", encoding=\"utf-8\") as f:\n",
    "    for line in filtered_corpus:\n",
    "        f.write(line.strip() + \"\\n\")\n"
   ]
  },
  {
   "cell_type": "code",
   "execution_count": 25,
   "id": "93acc93c",
   "metadata": {},
   "outputs": [
    {
     "name": "stderr",
     "output_type": "stream",
     "text": [
      "sentencepiece_trainer.cc(77) LOG(INFO) Starts training with : \n",
      "trainer_spec {\n",
      "  input: corpus.txt\n",
      "  input_format: \n",
      "  model_prefix: spm\n",
      "  model_type: UNIGRAM\n",
      "  vocab_size: 8000\n",
      "  self_test_sample_size: 0\n",
      "  character_coverage: 1\n",
      "  input_sentence_size: 0\n",
      "  shuffle_input_sentence: 1\n",
      "  seed_sentencepiece_size: 1000000\n",
      "  shrinking_factor: 0.75\n",
      "  max_sentence_length: 4192\n",
      "  num_threads: 16\n",
      "  num_sub_iterations: 2\n",
      "  max_sentencepiece_length: 16\n",
      "  split_by_unicode_script: 1\n",
      "  split_by_number: 1\n",
      "  split_by_whitespace: 1\n",
      "  split_digits: 0\n",
      "  treat_whitespace_as_suffix: 0\n",
      "  allow_whitespace_only_pieces: 0\n",
      "  required_chars: \n",
      "  byte_fallback: 0\n",
      "  vocabulary_output_piece_score: 1\n",
      "  train_extremely_large_corpus: 0\n",
      "  hard_vocab_limit: 1\n",
      "  use_all_vocab: 0\n",
      "  unk_id: 1\n",
      "  bos_id: 2\n",
      "  eos_id: 3\n",
      "  pad_id: 0\n",
      "  unk_piece: <unk>\n",
      "  bos_piece: <s>\n",
      "  eos_piece: </s>\n",
      "  pad_piece: <pad>\n",
      "  unk_surface:  ⁇ \n",
      "}\n",
      "normalizer_spec {\n",
      "  name: nmt_nfkc\n",
      "  add_dummy_prefix: 1\n",
      "  remove_extra_whitespaces: 1\n",
      "  escape_whitespaces: 1\n",
      "  normalization_rule_tsv: \n",
      "}\n",
      "denormalizer_spec {}\n",
      "trainer_interface.cc(329) LOG(INFO) SentenceIterator is not specified. Using MultiFileSentenceIterator.\n",
      "trainer_interface.cc(178) LOG(INFO) Loading corpus: corpus.txt\n",
      "trainer_interface.cc(385) LOG(INFO) Loaded all 76908 sentences\n",
      "trainer_interface.cc(400) LOG(INFO) Adding meta_piece: <pad>\n",
      "trainer_interface.cc(400) LOG(INFO) Adding meta_piece: <unk>\n",
      "trainer_interface.cc(400) LOG(INFO) Adding meta_piece: <s>\n",
      "trainer_interface.cc(400) LOG(INFO) Adding meta_piece: </s>\n",
      "trainer_interface.cc(405) LOG(INFO) Normalizing sentences...\n",
      "trainer_interface.cc(466) LOG(INFO) all chars count=4996369\n",
      "trainer_interface.cc(487) LOG(INFO) Alphabet size=2161\n",
      "trainer_interface.cc(488) LOG(INFO) Final character coverage=1\n",
      "trainer_interface.cc(520) LOG(INFO) Done! preprocessed 76908 sentences.\n",
      "unigram_model_trainer.cc(139) LOG(INFO) Making suffix array...\n",
      "unigram_model_trainer.cc(143) LOG(INFO) Extracting frequent sub strings...\n",
      "unigram_model_trainer.cc(194) LOG(INFO) Initialized 175917 seed sentencepieces\n",
      "trainer_interface.cc(526) LOG(INFO) Tokenizing input sentences with whitespace: 76908\n",
      "trainer_interface.cc(537) LOG(INFO) Done! 238189\n",
      "unigram_model_trainer.cc(489) LOG(INFO) Using 238189 sentences for EM training\n",
      "unigram_model_trainer.cc(505) LOG(INFO) EM sub_iter=0 size=93619 obj=14.821 num_tokens=522726 num_tokens/piece=5.58355\n",
      "unigram_model_trainer.cc(505) LOG(INFO) EM sub_iter=1 size=83119 obj=13.4775 num_tokens=525154 num_tokens/piece=6.3181\n",
      "unigram_model_trainer.cc(505) LOG(INFO) EM sub_iter=0 size=62328 obj=13.517 num_tokens=546427 num_tokens/piece=8.76696\n",
      "unigram_model_trainer.cc(505) LOG(INFO) EM sub_iter=1 size=62293 obj=13.4741 num_tokens=546849 num_tokens/piece=8.77866\n",
      "unigram_model_trainer.cc(505) LOG(INFO) EM sub_iter=0 size=46715 obj=13.6632 num_tokens=575444 num_tokens/piece=12.3182\n",
      "unigram_model_trainer.cc(505) LOG(INFO) EM sub_iter=1 size=46713 obj=13.6192 num_tokens=575563 num_tokens/piece=12.3213\n",
      "unigram_model_trainer.cc(505) LOG(INFO) EM sub_iter=0 size=35034 obj=13.8706 num_tokens=606916 num_tokens/piece=17.3236\n",
      "unigram_model_trainer.cc(505) LOG(INFO) EM sub_iter=1 size=35034 obj=13.8187 num_tokens=606923 num_tokens/piece=17.3238\n",
      "unigram_model_trainer.cc(505) LOG(INFO) EM sub_iter=0 size=26275 obj=14.1197 num_tokens=639363 num_tokens/piece=24.3335\n",
      "unigram_model_trainer.cc(505) LOG(INFO) EM sub_iter=1 size=26275 obj=14.0626 num_tokens=639415 num_tokens/piece=24.3355\n",
      "unigram_model_trainer.cc(505) LOG(INFO) EM sub_iter=0 size=19706 obj=14.4126 num_tokens=673746 num_tokens/piece=34.1899\n",
      "unigram_model_trainer.cc(505) LOG(INFO) EM sub_iter=1 size=19706 obj=14.3478 num_tokens=673795 num_tokens/piece=34.1924\n",
      "unigram_model_trainer.cc(505) LOG(INFO) EM sub_iter=0 size=14779 obj=14.7467 num_tokens=710406 num_tokens/piece=48.0686\n",
      "unigram_model_trainer.cc(505) LOG(INFO) EM sub_iter=1 size=14779 obj=14.6707 num_tokens=710398 num_tokens/piece=48.0681\n",
      "unigram_model_trainer.cc(505) LOG(INFO) EM sub_iter=0 size=11084 obj=15.1437 num_tokens=748265 num_tokens/piece=67.5086\n",
      "unigram_model_trainer.cc(505) LOG(INFO) EM sub_iter=1 size=11084 obj=15.0557 num_tokens=748653 num_tokens/piece=67.5436\n",
      "unigram_model_trainer.cc(505) LOG(INFO) EM sub_iter=0 size=8800 obj=15.4839 num_tokens=780315 num_tokens/piece=88.6722\n",
      "unigram_model_trainer.cc(505) LOG(INFO) EM sub_iter=1 size=8800 obj=15.4016 num_tokens=780323 num_tokens/piece=88.6731\n",
      "trainer_interface.cc(615) LOG(INFO) Saving model: spm.model\n",
      "trainer_interface.cc(626) LOG(INFO) Saving vocabs: spm.vocab\n"
     ]
    }
   ],
   "source": [
    "# 2. SentencePiece 모델 학습\n",
    "\n",
    "import sentencepiece as spm\n",
    "\n",
    "# 학습 실행\n",
    "spm.SentencePieceTrainer.train(\n",
    "    input='corpus.txt',\n",
    "    model_prefix='spm',\n",
    "    vocab_size=8000,\n",
    "    model_type='unigram',         # 또는 'bpe'\n",
    "    character_coverage=1.0,       # 한글은 1.0 권장\n",
    "    pad_id=0,\n",
    "    unk_id=1,\n",
    "    bos_id=2,\n",
    "    eos_id=3\n",
    ")\n"
   ]
  },
  {
   "cell_type": "code",
   "execution_count": 26,
   "id": "c4837f6c",
   "metadata": {},
   "outputs": [
    {
     "name": "stdout",
     "output_type": "stream",
     "text": [
      "✅ 입력 문장: 나는 자연어처리를 공부합니다.\n",
      "🧱 서브워드: ['▁나는', '▁자연', '어', '처', '리', '를', '▁공', '부', '합니다', '.']\n",
      "🔢 토큰 ID: [2027, 2699, 69, 767, 41, 10, 273, 106, 1332, 5]\n",
      "📝 복원된 문장: 나는 자연어처리를 공부합니다.\n"
     ]
    }
   ],
   "source": [
    "# 3: 학습된 모델 로드 및 테스트\n",
    "\n",
    "import sentencepiece as spm\n",
    "\n",
    "sp = spm.SentencePieceProcessor()\n",
    "sp.load(\"spm.model\")\n",
    "\n",
    "sample = \"나는 자연어처리를 공부합니다.\"\n",
    "print(\"✅ 입력 문장:\", sample)\n",
    "print(\"🧱 서브워드:\", sp.encode(sample, out_type=str))\n",
    "print(\"🔢 토큰 ID:\", sp.encode(sample, out_type=int))\n",
    "print(\"📝 복원된 문장:\", sp.decode(sp.encode(sample, out_type=int)))\n",
    "\n"
   ]
  },
  {
   "cell_type": "code",
   "execution_count": 28,
   "id": "8e2891cc",
   "metadata": {},
   "outputs": [
    {
     "name": "stdout",
     "output_type": "stream",
     "text": [
      "🧾 Tensor shape: (76908, 100)\n"
     ]
    }
   ],
   "source": [
    "# 4: 전체 코퍼스 토큰화 → 텐서로 변환\n",
    "\n",
    "from tensorflow.keras.preprocessing.sequence import pad_sequences\n",
    "\n",
    "token_ids = [sp.encode(line, out_type=int) for line in filtered_corpus]\n",
    "padded_ids = pad_sequences(token_ids, padding='post')\n",
    "\n",
    "print(\"🧾 Tensor shape:\", padded_ids.shape)\n"
   ]
  },
  {
   "cell_type": "code",
   "execution_count": null,
   "id": "e4e12538",
   "metadata": {},
   "outputs": [],
   "source": []
  },
  {
   "cell_type": "markdown",
   "id": "ae543bc6",
   "metadata": {},
   "source": [
    "### 2. SentencePiece를 통해 만든 Tokenizer가 자연어처리 모델과 결합하여 동작하는가?\n",
    "- SentencePiece 토크나이저가 적용된 Text Classifier 모델이 정상적으로 수렴하여 80% 이상의 test accuracy가 확인되었다.\n"
   ]
  },
  {
   "cell_type": "markdown",
   "id": "5bda86ab",
   "metadata": {},
   "source": [
    "### 웹에서 실제 데이터셋 사용: 네이버 영화 리뷰 감정 분석 (Naver Sentiment Movie Corpus)\n",
    "\n",
    "https://github.com/e9t/nsmc\n",
    "\n",
    "라벨: 0 = 부정, 1 = 긍정\n",
    "\n",
    "전체 리뷰 텍스트를 SentencePiece로 토큰화하고 분류 모델 학습"
   ]
  },
  {
   "cell_type": "code",
   "execution_count": 41,
   "id": "50ccb9cb",
   "metadata": {},
   "outputs": [],
   "source": [
    "# SentencePiece + Text Classification (with NSMC)\n",
    "\n",
    "# Step 1. NSMC 데이터 불러오기\n",
    "import pandas as pd\n",
    "import urllib.request\n",
    "\n",
    "train_url = \"https://raw.githubusercontent.com/e9t/nsmc/master/ratings_train.txt\"\n",
    "test_url = \"https://raw.githubusercontent.com/e9t/nsmc/master/ratings_test.txt\"\n",
    "\n",
    "train_df = pd.read_csv(train_url, sep='\\t').dropna()\n",
    "test_df = pd.read_csv(test_url, sep='\\t').dropna()\n",
    "\n",
    "train_texts = train_df['document'].astype(str).tolist()\n",
    "train_labels = train_df['label'].tolist()\n",
    "test_texts = test_df['document'].astype(str).tolist()\n",
    "test_labels = test_df['label'].tolist()\n"
   ]
  },
  {
   "cell_type": "code",
   "execution_count": 42,
   "id": "1ea72e36",
   "metadata": {},
   "outputs": [
    {
     "name": "stderr",
     "output_type": "stream",
     "text": [
      "sentencepiece_trainer.cc(77) LOG(INFO) Starts training with : \n",
      "trainer_spec {\n",
      "  input: corpus.txt\n",
      "  input_format: \n",
      "  model_prefix: spm\n",
      "  model_type: UNIGRAM\n",
      "  vocab_size: 8000\n",
      "  self_test_sample_size: 0\n",
      "  character_coverage: 1\n",
      "  input_sentence_size: 0\n",
      "  shuffle_input_sentence: 1\n",
      "  seed_sentencepiece_size: 1000000\n",
      "  shrinking_factor: 0.75\n",
      "  max_sentence_length: 4192\n",
      "  num_threads: 16\n",
      "  num_sub_iterations: 2\n",
      "  max_sentencepiece_length: 16\n",
      "  split_by_unicode_script: 1\n",
      "  split_by_number: 1\n",
      "  split_by_whitespace: 1\n",
      "  split_digits: 0\n",
      "  treat_whitespace_as_suffix: 0\n",
      "  allow_whitespace_only_pieces: 0\n",
      "  required_chars: \n",
      "  byte_fallback: 0\n",
      "  vocabulary_output_piece_score: 1\n",
      "  train_extremely_large_corpus: 0\n",
      "  hard_vocab_limit: 1\n",
      "  use_all_vocab: 0\n",
      "  unk_id: 1\n",
      "  bos_id: 2\n",
      "  eos_id: 3\n",
      "  pad_id: 0\n",
      "  unk_piece: <unk>\n",
      "  bos_piece: <s>\n",
      "  eos_piece: </s>\n",
      "  pad_piece: <pad>\n",
      "  unk_surface:  ⁇ \n",
      "}\n",
      "normalizer_spec {\n",
      "  name: nmt_nfkc\n",
      "  add_dummy_prefix: 1\n",
      "  remove_extra_whitespaces: 1\n",
      "  escape_whitespaces: 1\n",
      "  normalization_rule_tsv: \n",
      "}\n",
      "denormalizer_spec {}\n",
      "trainer_interface.cc(329) LOG(INFO) SentenceIterator is not specified. Using MultiFileSentenceIterator.\n",
      "trainer_interface.cc(178) LOG(INFO) Loading corpus: corpus.txt\n",
      "trainer_interface.cc(385) LOG(INFO) Loaded all 149995 sentences\n",
      "trainer_interface.cc(400) LOG(INFO) Adding meta_piece: <pad>\n",
      "trainer_interface.cc(400) LOG(INFO) Adding meta_piece: <unk>\n",
      "trainer_interface.cc(400) LOG(INFO) Adding meta_piece: <s>\n",
      "trainer_interface.cc(400) LOG(INFO) Adding meta_piece: </s>\n",
      "trainer_interface.cc(405) LOG(INFO) Normalizing sentences...\n",
      "trainer_interface.cc(466) LOG(INFO) all chars count=5430559\n",
      "trainer_interface.cc(487) LOG(INFO) Alphabet size=2979\n",
      "trainer_interface.cc(488) LOG(INFO) Final character coverage=1\n",
      "trainer_interface.cc(520) LOG(INFO) Done! preprocessed 149995 sentences.\n",
      "unigram_model_trainer.cc(139) LOG(INFO) Making suffix array...\n",
      "unigram_model_trainer.cc(143) LOG(INFO) Extracting frequent sub strings...\n",
      "unigram_model_trainer.cc(194) LOG(INFO) Initialized 311082 seed sentencepieces\n",
      "trainer_interface.cc(526) LOG(INFO) Tokenizing input sentences with whitespace: 149995\n",
      "trainer_interface.cc(537) LOG(INFO) Done! 357808\n",
      "unigram_model_trainer.cc(489) LOG(INFO) Using 357808 sentences for EM training\n",
      "unigram_model_trainer.cc(505) LOG(INFO) EM sub_iter=0 size=159447 obj=15.4103 num_tokens=842494 num_tokens/piece=5.28385\n",
      "unigram_model_trainer.cc(505) LOG(INFO) EM sub_iter=1 size=147637 obj=14.3359 num_tokens=847926 num_tokens/piece=5.74332\n",
      "unigram_model_trainer.cc(505) LOG(INFO) EM sub_iter=0 size=110665 obj=14.4403 num_tokens=883721 num_tokens/piece=7.98555\n",
      "unigram_model_trainer.cc(505) LOG(INFO) EM sub_iter=1 size=110479 obj=14.3843 num_tokens=884257 num_tokens/piece=8.00385\n",
      "unigram_model_trainer.cc(505) LOG(INFO) EM sub_iter=0 size=82857 obj=14.6248 num_tokens=929158 num_tokens/piece=11.214\n",
      "unigram_model_trainer.cc(505) LOG(INFO) EM sub_iter=1 size=82849 obj=14.5613 num_tokens=929278 num_tokens/piece=11.2165\n",
      "unigram_model_trainer.cc(505) LOG(I"
     ]
    }
   ],
   "source": [
    "# Step 2. corpus.txt 저장 후 SentencePiece 학습\n",
    "with open(\"corpus.txt\", \"w\", encoding=\"utf-8\") as f:\n",
    "    for line in train_texts:\n",
    "        f.write(line.strip() + \"\\n\")\n",
    "        \n",
    "        \n",
    "import sentencepiece as spm\n",
    "\n",
    "spm.SentencePieceTrainer.train(\n",
    "    input='corpus.txt',\n",
    "    model_prefix='spm',\n",
    "    vocab_size=8000,\n",
    "    model_type='unigram',\n",
    "    character_coverage=1.0,\n",
    "    pad_id=0, unk_id=1, bos_id=2, eos_id=3\n",
    ")\n",
    "\n"
   ]
  },
  {
   "cell_type": "code",
   "execution_count": 43,
   "id": "3c7cb02c",
   "metadata": {},
   "outputs": [
    {
     "name": "stderr",
     "output_type": "stream",
     "text": [
      "NFO) EM sub_iter=0 size=62136 obj=14.8286 num_tokens=971838 num_tokens/piece=15.6405\n",
      "unigram_model_trainer.cc(505) LOG(INFO) EM sub_iter=1 size=62134 obj=14.7674 num_tokens=971875 num_tokens/piece=15.6416\n",
      "unigram_model_trainer.cc(505) LOG(INFO) EM sub_iter=0 size=46600 obj=15.0649 num_tokens=1017777 num_tokens/piece=21.8407\n",
      "unigram_model_trainer.cc(505) LOG(INFO) EM sub_iter=1 size=46600 obj=14.9994 num_tokens=1017773 num_tokens/piece=21.8406\n",
      "unigram_model_trainer.cc(505) LOG(INFO) EM sub_iter=0 size=34950 obj=15.335 num_tokens=1065519 num_tokens/piece=30.487\n",
      "unigram_model_trainer.cc(505) LOG(INFO) EM sub_iter=1 size=34950 obj=15.266 num_tokens=1065518 num_tokens/piece=30.4869\n",
      "unigram_model_trainer.cc(505) LOG(INFO) EM sub_iter=0 size=26212 obj=15.6388 num_tokens=1115420 num_tokens/piece=42.5538\n",
      "unigram_model_trainer.cc(505) LOG(INFO) EM sub_iter=1 size=26212 obj=15.5631 num_tokens=1115434 num_tokens/piece=42.5543\n",
      "unigram_model_trainer.cc(505) LOG(INFO) EM sub_iter=0 size=19659 obj=15.9763 num_tokens=1169225 num_tokens/piece=59.4753\n",
      "unigram_model_trainer.cc(505) LOG(INFO) EM sub_iter=1 size=19659 obj=15.8901 num_tokens=1169238 num_tokens/piece=59.476\n",
      "unigram_model_trainer.cc(505) LOG(INFO) EM sub_iter=0 size=14744 obj=16.3483 num_tokens=1226829 num_tokens/piece=83.2087\n",
      "unigram_model_trainer.cc(505) LOG(INFO) EM sub_iter=1 size=14744 obj=16.2475 num_tokens=1226874 num_tokens/piece=83.2117\n",
      "unigram_model_trainer.cc(505) LOG(INFO) EM sub_iter=0 size=11058 obj=16.78 num_tokens=1291216 num_tokens/piece=116.768\n",
      "unigram_model_trainer.cc(505) LOG(INFO) EM sub_iter=1 size=11058 obj=16.6633 num_tokens=1291247 num_tokens/piece=116.77\n",
      "unigram_model_trainer.cc(505) LOG(INFO) EM sub_iter=0 size=8800 obj=17.1474 num_tokens=1346923 num_tokens/piece=153.059\n",
      "unigram_model_trainer.cc(505) LOG(INFO) EM sub_iter=1 size=8800 obj=17.0423 num_tokens=1347400 num_tokens/piece=153.114\n",
      "trainer_interface.cc(615) LOG(INFO) Saving model: spm.model\n",
      "trainer_interface.cc(626) LOG(INFO) Saving vocabs: spm.vocab\n"
     ]
    }
   ],
   "source": [
    "# Step 3. 토크나이저 로드 및 문장 → 시퀀스 변환\n",
    "import sentencepiece as spm\n",
    "from tensorflow.keras.preprocessing.sequence import pad_sequences\n",
    "\n",
    "sp = spm.SentencePieceProcessor()\n",
    "sp.load(\"spm.model\")\n",
    "\n",
    "X_train = [sp.encode(line, out_type=int) for line in train_texts]\n",
    "X_test = [sp.encode(line, out_type=int) for line in test_texts]\n",
    "\n",
    "maxlen = 50\n",
    "X_train_pad = pad_sequences(X_train, padding='post', maxlen=maxlen)\n",
    "X_test_pad = pad_sequences(X_test, padding='post', maxlen=maxlen)\n"
   ]
  },
  {
   "cell_type": "code",
   "execution_count": 44,
   "id": "3a4df47c",
   "metadata": {},
   "outputs": [
    {
     "name": "stdout",
     "output_type": "stream",
     "text": [
      "Epoch 1/5\n",
      "938/938 [==============================] - 22s 3ms/step - loss: 0.4280 - accuracy: 0.8014 - val_loss: 0.3500 - val_accuracy: 0.8500\n",
      "Epoch 2/5\n",
      "938/938 [==============================] - 3s 3ms/step - loss: 0.3345 - accuracy: 0.8559 - val_loss: 0.3436 - val_accuracy: 0.8532\n",
      "Epoch 3/5\n",
      "938/938 [==============================] - 3s 3ms/step - loss: 0.3207 - accuracy: 0.8608 - val_loss: 0.3418 - val_accuracy: 0.8517\n",
      "Epoch 4/5\n",
      "938/938 [==============================] - 3s 3ms/step - loss: 0.3098 - accuracy: 0.8651 - val_loss: 0.3443 - val_accuracy: 0.8486\n",
      "Epoch 5/5\n",
      "938/938 [==============================] - 3s 3ms/step - loss: 0.2996 - accuracy: 0.8684 - val_loss: 0.3477 - val_accuracy: 0.8479\n"
     ]
    },
    {
     "data": {
      "text/plain": [
       "<keras.callbacks.History at 0x76bd6b8e8e20>"
      ]
     },
     "execution_count": 44,
     "metadata": {},
     "output_type": "execute_result"
    }
   ],
   "source": [
    "# Step 4. 모델 구성 및 학습\n",
    "import numpy as np\n",
    "import tensorflow as tf\n",
    "from tensorflow.keras.models import Sequential\n",
    "from tensorflow.keras.layers import Embedding, GlobalAveragePooling1D, Dense\n",
    "\n",
    "# numpy 배열로 변환 (오류 방지)\n",
    "train_labels = np.array(train_labels)\n",
    "test_labels = np.array(test_labels)\n",
    "\n",
    "vocab_size = 8000\n",
    "\n",
    "model = Sequential([\n",
    "    Embedding(input_dim=vocab_size, output_dim=128, input_length=maxlen),\n",
    "    GlobalAveragePooling1D(),\n",
    "    Dense(64, activation='relu'),\n",
    "    Dense(1, activation='sigmoid')\n",
    "])\n",
    "\n",
    "model.compile(loss='binary_crossentropy', optimizer='adam', metrics=['accuracy'])\n",
    "\n",
    "model.fit(X_train_pad, train_labels, epochs=5, batch_size=128, validation_split=0.2)\n"
   ]
  },
  {
   "cell_type": "code",
   "execution_count": 45,
   "id": "4fd62134",
   "metadata": {},
   "outputs": [
    {
     "name": "stdout",
     "output_type": "stream",
     "text": [
      "1563/1563 [==============================] - 2s 1ms/step - loss: 0.3619 - accuracy: 0.8417\n",
      "✅ Test Accuracy: 0.8417\n"
     ]
    }
   ],
   "source": [
    "# Step 5. 평가\n",
    "loss, acc = model.evaluate(X_test_pad, test_labels)\n",
    "print(f\"✅ Test Accuracy: {acc:.4f}\")\n"
   ]
  },
  {
   "cell_type": "markdown",
   "id": "f1b0603d",
   "metadata": {},
   "source": [
    "###  루브릭 2번 항목 충족 여부\n",
    "\n",
    "- SentencePiece 토크나이저로 NSMC 감성 데이터셋을 서브워드 단위로 변환하였고,\n",
    "- 변환된 텍스트를 기반으로 딥러닝 분류 모델을 학습하였으며,\n",
    "- 모델은 정상적으로 수렴하여 **Test Accuracy가 80% 이상**임을 확인하였다.\n",
    "\n"
   ]
  },
  {
   "cell_type": "code",
   "execution_count": null,
   "id": "9ae6f20f",
   "metadata": {},
   "outputs": [],
   "source": []
  },
  {
   "cell_type": "markdown",
   "id": "fd2f711d",
   "metadata": {},
   "source": [
    "### 3. SentencePiece의 성능을 다각도로 비교분석하였는가?\n",
    "- SentencePiece 토크나이저를 활용했을 때의 성능을 다른 토크나이저 혹은 SentencePiece의 다른 옵션의 경우와 비교하여 분석을 체계적으로 진행하였다."
   ]
  },
  {
   "cell_type": "code",
   "execution_count": 46,
   "id": "8b607c59",
   "metadata": {},
   "outputs": [],
   "source": [
    "# STEP 1. 데이터 불러오기 (NSMC)\n",
    "import pandas as pd\n",
    "import urllib.request\n",
    "\n",
    "train_df = pd.read_csv(\"https://raw.githubusercontent.com/e9t/nsmc/master/ratings_train.txt\", sep='\\t').dropna()\n",
    "test_df = pd.read_csv(\"https://raw.githubusercontent.com/e9t/nsmc/master/ratings_test.txt\", sep='\\t').dropna()\n",
    "\n",
    "train_texts = train_df['document'].astype(str).tolist()\n",
    "train_labels = train_df['label'].tolist()\n",
    "test_texts = test_df['document'].astype(str).tolist()\n",
    "test_labels = test_df['label'].tolist()\n",
    "\n"
   ]
  },
  {
   "cell_type": "code",
   "execution_count": 47,
   "id": "639531d2",
   "metadata": {},
   "outputs": [],
   "source": [
    "# STEP 2. corpus.txt 저장\n",
    "with open(\"corpus.txt\", \"w\", encoding=\"utf-8\") as f:\n",
    "    for line in train_texts:\n",
    "        f.write(line.strip() + \"\\n\")\n",
    "\n"
   ]
  },
  {
   "cell_type": "code",
   "execution_count": 48,
   "id": "834da5cd",
   "metadata": {},
   "outputs": [
    {
     "name": "stderr",
     "output_type": "stream",
     "text": [
      "sentencepiece_trainer.cc(77) LOG(INFO) Starts training with : \n",
      "trainer_spec {\n",
      "  input: corpus.txt\n",
      "  input_format: \n",
      "  model_prefix: spm_unigram\n",
      "  model_type: UNIGRAM\n",
      "  vocab_size: 8000\n",
      "  self_test_sample_size: 0\n",
      "  character_coverage: 1\n",
      "  input_sentence_size: 0\n",
      "  shuffle_input_sentence: 1\n",
      "  seed_sentencepiece_size: 1000000\n",
      "  shrinking_factor: 0.75\n",
      "  max_sentence_length: 4192\n",
      "  num_threads: 16\n",
      "  num_sub_iterations: 2\n",
      "  max_sentencepiece_length: 16\n",
      "  split_by_unicode_script: 1\n",
      "  split_by_number: 1\n",
      "  split_by_whitespace: 1\n",
      "  split_digits: 0\n",
      "  treat_whitespace_as_suffix: 0\n",
      "  allow_whitespace_only_pieces: 0\n",
      "  required_chars: \n",
      "  byte_fallback: 0\n",
      "  vocabulary_output_piece_score: 1\n",
      "  train_extremely_large_corpus: 0\n",
      "  hard_vocab_limit: 1\n",
      "  use_all_vocab: 0\n",
      "  unk_id: 0\n",
      "  bos_id: 1\n",
      "  eos_id: 2\n",
      "  pad_id: -1\n",
      "  unk_piece: <unk>\n",
      "  bos_piece: <s>\n",
      "  eos_piece: </s>\n",
      "  pad_piece: <pad>\n",
      "  unk_surface:  ⁇ \n",
      "}\n",
      "normalizer_spec {\n",
      "  name: nmt_nfkc\n",
      "  add_dummy_prefix: 1\n",
      "  remove_extra_whitespaces: 1\n",
      "  escape_whitespaces: 1\n",
      "  normalization_rule_tsv: \n",
      "}\n",
      "denormalizer_spec {}\n",
      "trainer_interface.cc(329) LOG(INFO) SentenceIterator is not specified. Using MultiFileSentenceIterator.\n",
      "trainer_interface.cc(178) LOG(INFO) Loading corpus: corpus.txt\n",
      "trainer_interface.cc(385) LOG(INFO) Loaded all 149995 sentences\n",
      "trainer_interface.cc(400) LOG(INFO) Adding meta_piece: <unk>\n",
      "trainer_interface.cc(400) LOG(INFO) Adding meta_piece: <s>\n",
      "trainer_interface.cc(400) LOG(INFO) Adding meta_piece: </s>\n",
      "trainer_interface.cc(405) LOG(INFO) Normalizing sentences...\n",
      "trainer_interface.cc(466) LOG(INFO) all chars count=5430559\n",
      "trainer_interface.cc(487) LOG(INFO) Alphabet size=2979\n",
      "trainer_interface.cc(488) LOG(INFO) Final character coverage=1\n",
      "trainer_interface.cc(520) LOG(INFO) Done! preprocessed 149995 sentences.\n",
      "unigram_model_trainer.cc(139) LOG(INFO) Making suffix array...\n",
      "unigram_model_trainer.cc(143) LOG(INFO) Extracting frequent sub strings...\n",
      "unigram_model_trainer.cc(194) LOG(INFO) Initialized 311082 seed sentencepieces\n",
      "trainer_interface.cc(526) LOG(INFO) Tokenizing input sentences with whitespace: 149995\n",
      "trainer_interface.cc(537) LOG(INFO) Done! 357808\n",
      "unigram_model_trainer.cc(489) LOG(INFO) Using 357808 sentences for EM training\n",
      "unigram_model_trainer.cc(505) LOG(INFO) EM sub_iter=0 size=159447 obj=15.4103 num_tokens=842494 num_tokens/piece=5.28385\n",
      "unigram_model_trainer.cc(505) LOG(INFO) EM sub_iter=1 size=147637 obj=14.3359 num_tokens=847926 num_tokens/piece=5.74332\n",
      "unigram_model_trainer.cc(505) LOG(INFO) EM sub_iter=0 size=110665 obj=14.4403 num_tokens=883721 num_tokens/piece=7.98555\n",
      "unigram_model_trainer.cc(505) LOG(INFO) EM sub_iter=1 size=110479 obj=14.3843 num_tokens=884257 num_tokens/piece=8.00385\n",
      "unigram_model_trainer.cc(505) LOG(INFO) EM sub_iter=0 size=82857 obj=14.6248 num_tokens=929158 num_tokens/piece=11.214\n",
      "unigram_model_trainer.cc(505) LOG(INFO) EM sub_iter=1 size=82849 obj=14.5613 num_tokens=929278 num_tokens/piece=11.2165\n",
      "unigram_model_trainer.cc(505) LOG(INFO) EM sub_iter=0 size=62136 obj=14.8286 num_tokens=971838 num_tokens/piece=15.6405\n",
      "unigram_model_trainer.cc(505) LOG(INFO) EM sub_iter=1 size=62134 obj=14.7674 num_tokens=971875 num_tokens/piece=15.6416\n",
      "unigram_model_trainer.cc(505) LOG(INFO) EM sub_iter=0 size=46600 obj=15.0649 num_tokens=1017777 num_tokens/piece=21.8407\n",
      "unigram_model_trainer.cc(505) LOG(INFO) EM sub_iter=1 size=46600 obj=14.9994 num_tokens=1017773 num_tokens/piece=21.8406\n",
      "unigram_model_trainer.cc(505) LOG(INFO) EM sub_iter=0 size=34950 obj=15.335 num_tokens=1065519 num_tokens/piece=30.487\n",
      "unigram_model_trainer.cc(505) LOG(INFO) EM sub_iter=1 size=34950 obj=15.266 num_tokens=1065518 num_tokens/piece=30.4869\n",
      "unigram_model_trainer.cc(505) LOG(INFO) EM sub_iter=0 size=26212 obj=15.6388 num_tokens=1115420 num_tokens/piece=42.5538\n",
      "unigram_model_trainer.cc(505) LOG(INFO) EM sub_iter=1 size=26212 obj=15.5631 num_tokens=1115434 num_tokens/piece=42.5543\n",
      "unigram_model_trainer.cc(505) LOG(INFO) EM sub_iter=0 size=19659 obj=15.9763 num_tokens=1169225 num_tokens/piece=59.4753\n",
      "unigram_model_trainer.cc(505) LOG(INFO) EM sub_iter=1 size=19659 obj=15.8901 num_tokens=1169238 num_tokens/piece=59.476\n",
      "unigram_model_trainer.cc(505) LOG(INFO) EM sub_iter=0 size=14744 obj=16.3483 num_tokens=1226829 num_tokens/piece=83.2087\n",
      "unigram_model_trainer.cc(505) LOG(INFO) EM sub_iter=1 size=14744 obj=16.2475 num_tokens=1226874 num_tokens/piece=83.2117\n",
      "unigram_model_trainer.cc(505) LOG(INFO) EM sub_iter=0 size=11058 obj=16.78 num_tokens=1291216 num_tokens/piece=116.768\n",
      "unigram_model_trainer.cc(505) LOG(INFO) EM sub_iter=1 size=11058 obj=16.6633 num_tokens=1291247 num_tokens/piece=116.77\n",
      "unigram_model_trainer.cc(505) LOG(INFO) EM sub_iter=0 size=8800 obj=17.1474 num_tokens=1346923 num_tokens/piece=153.059\n",
      "unigram_model_trainer.cc(505) LOG(INFO) EM sub_iter=1 size=8800 obj=17.0423 num_tokens=1347400 num_tokens/piece=153.114\n",
      "trainer_interface.cc(615) LOG(INFO) Saving model: spm_unigram.model\n",
      "trainer_interface.cc(626) LOG(INFO) Saving vocabs: spm_unigram.vocab\n",
      "sentencepiece_trainer.cc(77) LOG(INFO) Starts training with : \n",
      "trainer_spec {\n",
      "  input: corpus.txt\n",
      "  input_format: \n",
      "  model_prefix: spm_bpe\n",
      "  model_type: BPE\n",
      "  vocab_size: 8000\n",
      "  self_test_sample_size: 0\n",
      "  character_coverage: 1\n",
      "  input_sentence_size: 0\n",
      "  shuffle_input_sentence: 1\n",
      "  seed_sentencepiece_size: 1000000\n",
      "  shrinking_factor: 0.75\n",
      "  max_sentence_length: 4192\n",
      "  num_threads: 16\n",
      "  num_sub_iterations: 2\n",
      "  max_sentencepiece_length: 16\n",
      "  split_by_unicode_script: 1\n",
      "  split_by_number: 1\n",
      "  split_by_whitespace: 1\n",
      "  split_digits: 0\n",
      "  treat_whitespace_as_suffix: 0\n",
      "  allow_whitespace_only_pieces: 0\n",
      "  required_chars: \n",
      "  byte_fallback: 0\n",
      "  vocabulary_output_piece_score: 1\n",
      "  train_extremely_large_corpus: 0\n",
      "  hard_vocab_limit: 1\n",
      "  use_all_vocab: 0\n",
      "  unk_id: 0\n",
      "  bos_id: 1\n",
      "  eos_id: 2\n",
      "  pad_id: -1\n",
      "  unk_piece: <unk>\n",
      "  bos_piece: <s>\n",
      "  eos_piece: </s>\n",
      "  pad_piece: <pad>\n",
      "  unk_surface:  ⁇ \n",
      "}\n",
      "normalizer_spec {\n",
      "  name: nmt_nfkc\n",
      "  add_dummy_prefix: 1\n",
      "  remove_extra_whitespaces: 1\n",
      "  escape_whitespaces: 1\n",
      "  normalization_rule_tsv: \n",
      "}\n",
      "denormalizer_spec {}\n",
      "trainer_interface.cc(329) LOG(INFO) SentenceIterator is not specified. Using MultiFileSentenceIterator.\n",
      "trainer_interface.cc(178) LOG(INFO) Loading corpus: corpus.txt\n",
      "trainer_interface.cc(385) LOG(INFO) Loaded all 149995 sentences\n",
      "trainer_interface.cc(400) LOG(INFO) Adding meta_piece: <unk>\n",
      "trainer_interface.cc(400) LOG(INFO) Adding meta_piece: <s>\n",
      "trainer_interface.cc(400) LOG(INFO) Adding meta_piece: </s>\n",
      "trainer_interface.cc(405) LOG(INFO) Normalizing sentences...\n",
      "trainer_interface.cc(466) LOG(INFO) all chars count=5430559\n",
      "trainer_interface.cc(487) LOG(INFO) Alphabet size=2979\n",
      "trainer_interface.cc(488) LOG(INFO) Final character coverage=1\n",
      "trainer_interface.cc(520) LOG(INFO) Done! preprocessed 149995 sentences.\n",
      "trainer_interface.cc(526) LOG(INFO) Tokenizing input sentences with whitespace: 149995\n",
      "trainer_interface.cc(537) LOG(INFO) Done! 357808\n",
      "bpe_model_trainer.cc(167) LOG(INFO) Updating active symbols. max_freq=73192 min_freq=83\n",
      "bpe_model_trainer.cc(258) LOG(INFO) Added: freq=10912 size=20 all=115412 active=10865 piece=▁어\n",
      "bpe_model_trainer.cc(258) LOG(INFO) Added: freq=8938 size=40 all=119940 active=15393 piece=▁정말\n",
      "bpe_model_trainer.cc(258) LOG(INFO) Added: freq=6288 size=60 all=123570 active=19023 piece=▁생\n",
      "bpe_model_trainer.cc(258) LOG(INFO) Added: freq=5282 size=80 all=127600 active=23053 piece=드라마\n",
      "bpe_model_trainer.cc(258) LOG(INFO) Added: freq=4218 size=100 all=130978 active=26431 piece=하게\n",
      "bpe_model_trainer.cc(167) LOG(INFO) Updating active symbols. max_freq=4185 min_freq=69\n",
      "bpe_model_trainer.cc(258) LOG(INFO) Added: freq=3617 size=120 all=134384 active=9509 piece=~~\n",
      "bpe_model_trainer.cc(258) LOG(INFO) Added: freq=3206 size=140 all=136919 active=12044 piece=▁좀\n",
      "bpe_model_trainer.cc(258) LOG(INFO) Added: freq=2840 size=160 all=139251 active=14376 piece=^^\n",
      "bpe_model_trainer.cc(258) LOG(INFO) Added: freq=2644 size=180 all=141956 active=17081 piece=▁처\n",
      "bpe_model_trainer.cc(258) LOG(INFO) Added: freq=2388 size=200 al"
     ]
    }
   ],
   "source": [
    "\n",
    "# STEP 3. SentencePiece 모델 학습 - unigram + bpe\n",
    "import sentencepiece as spm\n",
    "\n",
    "# Unigram\n",
    "spm.SentencePieceTrainer.train(\n",
    "    input='corpus.txt',\n",
    "    model_prefix='spm_unigram',\n",
    "    vocab_size=8000,\n",
    "    model_type='unigram',\n",
    "    character_coverage=1.0\n",
    ")\n",
    "\n",
    "# BPE\n",
    "spm.SentencePieceTrainer.train(\n",
    "    input='corpus.txt',\n",
    "    model_prefix='spm_bpe',\n",
    "    vocab_size=8000,\n",
    "    model_type='bpe',\n",
    "    character_coverage=1.0\n",
    ")\n",
    "\n"
   ]
  },
  {
   "cell_type": "code",
   "execution_count": 54,
   "id": "41186951",
   "metadata": {},
   "outputs": [],
   "source": [
    "\n",
    "# STEP 4. 토크나이저 로딩 및 인코딩 함수\n",
    "import numpy as np\n",
    "from tensorflow.keras.preprocessing.sequence import pad_sequences\n",
    "\n",
    "def encode_with_sp(model_path, texts, maxlen=50):\n",
    "    sp = spm.SentencePieceProcessor()\n",
    "    sp.load(model_path)\n",
    "    sequences = [sp.encode(t, out_type=int) for t in texts]\n",
    "    padded = pad_sequences(sequences, padding='post', maxlen=maxlen)\n",
    "    return padded, sp\n",
    "\n"
   ]
  },
  {
   "cell_type": "code",
   "execution_count": 55,
   "id": "4116d80c",
   "metadata": {},
   "outputs": [],
   "source": [
    "\n",
    "# STEP 5. 텐서 변환\n",
    "X_train_uni, sp_uni = encode_with_sp(\"spm_unigram.model\", train_texts)\n",
    "X_test_uni, _ = encode_with_sp(\"spm_unigram.model\", test_texts)\n",
    "\n",
    "X_train_bpe, sp_bpe = encode_with_sp(\"spm_bpe.model\", train_texts)\n",
    "X_test_bpe, _ = encode_with_sp(\"spm_bpe.model\", test_texts)\n",
    "\n",
    "y_train = np.array(train_labels)\n",
    "y_test = np.array(test_labels)\n",
    "\n"
   ]
  },
  {
   "cell_type": "code",
   "execution_count": 56,
   "id": "5a4ae596",
   "metadata": {},
   "outputs": [],
   "source": [
    "\n",
    "# STEP 6. 모델 정의 및 학습 함수\n",
    "import tensorflow as tf\n",
    "from tensorflow.keras.models import Sequential\n",
    "from tensorflow.keras.layers import Embedding, GlobalAveragePooling1D, Dense\n",
    "\n",
    "def build_model(vocab_size, input_length):\n",
    "    model = Sequential([\n",
    "        Embedding(input_dim=vocab_size, output_dim=128, input_length=input_length),\n",
    "        GlobalAveragePooling1D(),\n",
    "        Dense(64, activation='relu'),\n",
    "        Dense(1, activation='sigmoid')\n",
    "    ])\n",
    "    model.compile(loss='binary_crossentropy', optimizer='adam', metrics=['accuracy'])\n",
    "    return model\n",
    "\n",
    "def train_and_evaluate(X_train, y_train, X_test, y_test, name='model'):\n",
    "    model = build_model(vocab_size=8000, input_length=X_train.shape[1])\n",
    "    print(f\"\\n📘 Training {name}...\")\n",
    "    model.fit(X_train, y_train, epochs=3, batch_size=128, validation_split=0.2, verbose=0)\n",
    "    loss, acc = model.evaluate(X_test, y_test, verbose=0)\n",
    "    print(f\"✅ {name} Test Accuracy: {acc:.4f}\")\n",
    "    return acc\n",
    "\n"
   ]
  },
  {
   "cell_type": "code",
   "execution_count": 57,
   "id": "f8f31421",
   "metadata": {},
   "outputs": [
    {
     "name": "stdout",
     "output_type": "stream",
     "text": [
      "\n",
      "📘 Training SentencePiece-Unigram...\n",
      "✅ SentencePiece-Unigram Test Accuracy: 0.8438\n",
      "\n",
      "📘 Training SentencePiece-BPE...\n",
      "✅ SentencePiece-BPE Test Accuracy: 0.8442\n"
     ]
    }
   ],
   "source": [
    "\n",
    "# STEP 7. 학습 및 정확도 비교\n",
    "acc_uni = train_and_evaluate(X_train_uni, y_train, X_test_uni, y_test, name=\"SentencePiece-Unigram\")\n",
    "acc_bpe = train_and_evaluate(X_train_bpe, y_train, X_test_bpe, y_test, name=\"SentencePiece-BPE\")\n",
    "\n"
   ]
  },
  {
   "cell_type": "code",
   "execution_count": 58,
   "id": "5278d24c",
   "metadata": {},
   "outputs": [
    {
     "name": "stdout",
     "output_type": "stream",
     "text": [
      "\n",
      "📊 Accuracy 비교:\n",
      "• SentencePiece-Unigram: 0.8438\n",
      "• SentencePiece-BPE    : 0.8442\n"
     ]
    }
   ],
   "source": [
    "\n",
    "print(\"\\n📊 Accuracy 비교:\")\n",
    "print(f\"• SentencePiece-Unigram: {acc_uni:.4f}\")\n",
    "print(f\"• SentencePiece-BPE    : {acc_bpe:.4f}\")\n",
    "\n"
   ]
  },
  {
   "cell_type": "code",
   "execution_count": 60,
   "id": "ddca6b69",
   "metadata": {},
   "outputs": [
    {
     "data": {
      "image/png": "[encoded data removed]",
      "text/plain": [
       "<Figure size 432x288 with 1 Axes>"
      ]
     },
     "metadata": {
      "needs_background": "light"
     },
     "output_type": "display_data"
    }
   ],
   "source": [
    "\n",
    "import matplotlib.pyplot as plt\n",
    "\n",
    "labels = ['Unigram', 'BPE']\n",
    "scores = [acc_uni, acc_bpe]\n",
    "\n",
    "plt.bar(labels, scores)\n",
    "plt.ylim(0.5, 1.0)\n",
    "plt.title(\"Accuracy by SentencePiece model type\")\n",
    "plt.ylabel(\"Test Accuracy\")\n",
    "plt.show()\n",
    "\n",
    "\n"
   ]
  },
  {
   "cell_type": "markdown",
   "id": "8eb7f265",
   "metadata": {},
   "source": [
    "- Unigram과 BPE는 감성 분류 정확도에서 거의 동일한 성능을 보임.\n",
    "\n",
    "- 정확도 외에도 모델 구조, 속도, 언어적 특성(예: 한국어의 형태소 구조) 등을 종합적으로 고려해야 함."
   ]
  },
  {
   "cell_type": "markdown",
   "id": "99d5883d",
   "metadata": {},
   "source": [
    "### SentencePiece Unigram과 BPE 모델을 비교하여 성능 외에,\n",
    "### 모델 구조, 속도, 한국어 특성까지 종합적으로 고려한 분석"
   ]
  },
  {
   "cell_type": "markdown",
   "id": "1cf7b5e8",
   "metadata": {},
   "source": [
    "데이터: [Naver 영화 리뷰 감성 분석 데이터셋 (https://github.com/e9t/nsmc)] 사용\n",
    "\n",
    "토크나이징: SentencePiece (Unigram, BPE 각각 학습)\n",
    "\n",
    "모델 성능 비교: 정확도, 학습 시간, 평균 토큰 길이\n",
    "\n",
    "언어 특성 고려: 한국어 어절/형태소 기반 구조 분석 포함"
   ]
  },
  {
   "cell_type": "code",
   "execution_count": null,
   "id": "b5154839",
   "metadata": {},
   "outputs": [],
   "source": [
    "import os\n",
    "import urllib.request\n",
    "import pandas as pd\n",
    "import sentencepiece as spm\n",
    "import time\n",
    "import matplotlib.pyplot as plt\n",
    "from sklearn.feature_extraction.text import TfidfVectorizer\n",
    "from sklearn.linear_model import LogisticRegression\n",
    "from sklearn.metrics import accuracy_score\n",
    "from sklearn.model_selection import train_test_split"
   ]
  },
  {
   "cell_type": "code",
   "execution_count": null,
   "id": "f1c33c59",
   "metadata": {},
   "outputs": [],
   "source": [
    "# Step 1: Download dataset\n",
    "\n",
    "print(\"[Step 1] Downloading NSMC dataset...\")\n",
    "\n",
    "def download_nsmc():\n",
    "    url = \"https://raw.githubusercontent.com/e9t/nsmc/master/ratings_train.txt\"\n",
    "    save_path = \"nsmc_train.txt\"\n",
    "    if not os.path.exists(save_path):\n",
    "        urllib.request.urlretrieve(url, save_path)\n",
    "    return save_path\n",
    "\n",
    "corpus_path = download_nsmc()\n",
    "\n",
    "print(\"[Step 1] Completed.\\n\")"
   ]
  },
  {
   "cell_type": "code",
   "execution_count": null,
   "id": "f168d581",
   "metadata": {},
   "outputs": [],
   "source": [
    "# Step 2: Load dataset\n",
    "print(\"[Step 2] Loading dataset...\")\n",
    "\n",
    "df = pd.read_csv(corpus_path, sep='\\t').dropna()\n",
    "\n",
    "sentences = df['document'].astype(str).tolist()\n",
    "labels = df['label'].tolist()\n",
    "\n",
    "print(f\"[Step 2] Loaded {len(sentences)} sentences.\\n\")\n"
   ]
  },
  {
   "cell_type": "code",
   "execution_count": null,
   "id": "73c96f78",
   "metadata": {},
   "outputs": [],
   "source": [
    "# Step 3: Save corpus to file\n",
    "print(\"[Step 3] Saving corpus to corpus.txt...\")\n",
    "\n",
    "with open(\"corpus.txt\", \"w\", encoding=\"utf-8\") as f:\n",
    "    for line in sentences:\n",
    "        f.write(line.strip().replace('\\n', '') + '\\n')\n",
    "        \n",
    "print(\"[Step 3] Done.\\n\")\n"
   ]
  },
  {
   "cell_type": "code",
   "execution_count": null,
   "id": "4bbb2945",
   "metadata": {},
   "outputs": [],
   "source": [
    "# Step 4: Train SentencePiece models\n",
    "\n",
    "def train_spm(model_type, prefix):\n",
    "    print(f\"[Step 4] Training SentencePiece model ({model_type})...\")\n",
    "    \n",
    "    spm.SentencePieceTrainer.train(\n",
    "        input='corpus.txt',\n",
    "        model_prefix=prefix,\n",
    "        vocab_size=8000,\n",
    "        character_coverage=1.0,\n",
    "        model_type=model_type\n",
    "    )\n",
    "    print(f\"[Step 4] {model_type} model training completed.\\n\")\n",
    "\n",
    "train_spm(\"unigram\", \"spm_uni\")\n",
    "train_spm(\"bpe\", \"spm_bpe\")\n"
   ]
  },
  {
   "cell_type": "code",
   "execution_count": null,
   "id": "84cb53ee",
   "metadata": {},
   "outputs": [],
   "source": [
    "# Step 5: Load trained models\n",
    "print(\"[Step 5] Loading trained models...\")\n",
    "\n",
    "sp_uni = spm.SentencePieceProcessor(model_file=\"spm_uni.model\")\n",
    "sp_bpe = spm.SentencePieceProcessor(model_file=\"spm_bpe.model\")\n",
    "\n",
    "print(\"[Step 5] Models loaded.\\n\")\n"
   ]
  },
  {
   "cell_type": "code",
   "execution_count": null,
   "id": "3a7b08fc",
   "metadata": {},
   "outputs": [],
   "source": [
    "# Step 6: Define tokenization function\n",
    "print(\"[Step 6] Defining tokenization function...\")\n",
    "\n",
    "def tokenize_and_join(sentences, tokenizer):\n",
    "    return [\" \".join(tokenizer.encode(s, out_type=str)) for s in sentences]\n",
    "\n",
    "print(\"[Step 6] Function ready.\\n\")\n"
   ]
  },
  {
   "cell_type": "code",
   "execution_count": null,
   "id": "52564f80",
   "metadata": {},
   "outputs": [],
   "source": [
    "# Step 7: Split train/test data\n",
    "print(\"[Step 7] Splitting train/test data...\")\n",
    "\n",
    "X_train_raw, X_test_raw, y_train, y_test = train_test_split(sentences, labels, test_size=0.2, random_state=42)\n",
    "\n",
    "print(f\"[Step 7] Training set: {len(X_train_raw)}, Test set: {len(X_test_raw)}\\n\")\n"
   ]
  },
  {
   "cell_type": "code",
   "execution_count": null,
   "id": "b95b2d21",
   "metadata": {},
   "outputs": [],
   "source": [
    "# Step 8: Define train and evaluate function\n",
    "print(\"[Step 8] Defining training and evaluation function...\")\n",
    "\n",
    "def train_and_evaluate(tokenizer, X_train, X_test, y_train, y_test):\n",
    "    X_train_tok = tokenize_and_join(X_train, tokenizer)\n",
    "    X_test_tok = tokenize_and_join(X_test, tokenizer)\n",
    "\n",
    "    vectorizer = TfidfVectorizer()\n",
    "    X_train_vec = vectorizer.fit_transform(X_train_tok)\n",
    "    X_test_vec = vectorizer.transform(X_test_tok)\n",
    "\n",
    "    model = LogisticRegression(max_iter=1000)\n",
    "    \n",
    "    start = time.time()\n",
    "    model.fit(X_train_vec, y_train)\n",
    "    elapsed = time.time() - start\n",
    "    \n",
    "    preds = model.predict(X_test_vec)\n",
    "    acc = accuracy_score(y_test, preds)\n",
    "    avg_len = sum(len(t.split()) for t in X_test_tok) / len(X_test_tok)\n",
    "\n",
    "    return acc, elapsed, avg_len\n",
    "\n",
    "print(\"[Step 8] Function defined.\\n\")\n",
    "\n",
    "    "
   ]
  },
  {
   "cell_type": "code",
   "execution_count": null,
   "id": "1f2722a2",
   "metadata": {},
   "outputs": [],
   "source": [
    "# Step 9: Run training and evaluation\n",
    "print(\"[Step 9] Running training and evaluation...\")\n",
    "\n",
    "acc_uni, time_uni, len_uni = train_and_evaluate(sp_uni, X_train_raw, X_test_raw, y_train, y_test)\n",
    "acc_bpe, time_bpe, len_bpe = train_and_evaluate(sp_bpe, X_train_raw, X_test_raw, y_train, y_test)\n",
    "\n",
    "print(\"[Step 9] Evaluation completed.\\n\")\n"
   ]
  },
  {
   "cell_type": "code",
   "execution_count": null,
   "id": "6ed8e495",
   "metadata": {},
   "outputs": [],
   "source": [
    "# Step 10: Display results\n",
    "print(\"[Step 10] Printing summary results...\")\n",
    "\n",
    "df_result = pd.DataFrame({\n",
    "    'Model': ['Unigram', 'BPE'],\n",
    "    'Accuracy': [acc_uni, acc_bpe],\n",
    "    'Training Time (sec)': [time_uni, time_bpe],\n",
    "    'Avg Token Length': [len_uni, len_bpe]\n",
    "})\n",
    "\n",
    "print(df_result)\n",
    "print(\"[Step 10] Done.\\n\")"
   ]
  },
  {
   "cell_type": "code",
   "execution_count": null,
   "id": "e69a28cf",
   "metadata": {},
   "outputs": [],
   "source": [
    "# Step 11: Visualize results\n",
    "print(\"[Step 11] Visualizing comparison results...\")\n",
    "\n",
    "fig, axes = plt.subplots(1, 3, figsize=(15, 4))\n",
    "\n",
    "df_result.plot(x=\"Model\", y=\"Accuracy\", kind=\"bar\", ax=axes[0], title=\"Accuracy\", legend=False)\n",
    "df_result.plot(x=\"Model\", y=\"Training Time (sec)\", kind=\"bar\", ax=axes[1], title=\"Training Time\", legend=False)\n",
    "df_result.plot(x=\"Model\", y=\"Avg Token Length\", kind=\"bar\", ax=axes[2], title=\"Avg Token Length\", legend=False)\n",
    "\n",
    "for ax in axes:\n",
    "    ax.set_ylim(bottom=0)\n",
    "    ax.grid(axis='y')\n",
    "\n",
    "plt.tight_layout()\n",
    "plt.show()\n",
    "print(\"[Step 11] Visualization complete.\")"
   ]
  }
 ],
 "metadata": {
  "kernelspec": {
   "display_name": "Python 3 (ipykernel)",
   "language": "python",
   "name": "python3"
  },
  "language_info": {
   "codemirror_mode": {
    "name": "ipython",
    "version": 3
   },
   "file_extension": ".py",
   "mimetype": "text/x-python",
   "name": "python",
   "nbconvert_exporter": "python",
   "pygments_lexer": "ipython3",
   "version": "3.9.7"
  }
 },
 "nbformat": 4,
 "nbformat_minor": 5
}
