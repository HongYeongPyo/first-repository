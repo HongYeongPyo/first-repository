{
  "nbformat": 4,
  "nbformat_minor": 0,
  "metadata": {
    "colab": {
      "provenance": [],
      "authorship_tag": "ABX9TyMWFwdjow1punScvgBQw2Rk",
      "include_colab_link": true
    },
    "kernelspec": {
      "name": "python3",
      "display_name": "Python 3"
    },
    "language_info": {
      "name": "python"
    }
  },
  "cells": [
    {
      "cell_type": "markdown",
      "metadata": {
        "id": "view-in-github",
        "colab_type": "text"
      },
      "source": [
        "<a href=\"https://colab.research.google.com/github/HongYeongPyo/first-repository/blob/Dataton/Dataton01_250530.ipynb\" target=\"_parent\"><img src=\"https://colab.research.google.com/assets/colab-badge.svg\" alt=\"Open In Colab\"/></a>"
      ]
    },
    {
      "cell_type": "code",
      "execution_count": null,
      "metadata": {
        "id": "H7HLCDNXRS22"
      },
      "outputs": [],
      "source": []
    },
    {
      "cell_type": "markdown",
      "source": [
        "### 문제 분석 과정\n",
        "1. 문제 정의 및 가설검정\n",
        "2. 데이터 준비 및 전처리\n",
        "3. 라이프스타일 변수 분석\n",
        "4. 정신건강 지표분석\n",
        "5. 가설별 정량적 검정\n",
        "6. 예측 모델링(선택)\n",
        "7. 시각화 및 해석\n",
        "8. 결론 도출 및 보고서 작성\n"
      ],
      "metadata": {
        "id": "UaObnsqcRfs9"
      }
    },
    {
      "cell_type": "code",
      "source": [
        "import os\n",
        "import pandas as pd\n",
        "import numpy as np\n",
        "import matplotlib.pyplot as plt\n",
        "\n",
        "from tqdm import tqdm\n",
        "\n",
        "import warnings\n",
        "warnings.filterwarnings('ignore')"
      ],
      "metadata": {
        "id": "jDmPvo18Rgji"
      },
      "execution_count": 1,
      "outputs": []
    },
    {
      "cell_type": "code",
      "source": [
        "# [1] 라이브러리 불러오기\n",
        "import os\n",
        "import pandas as pd\n",
        "import matplotlib.pyplot as plt\n",
        "from google.colab import drive\n",
        "\n",
        "# [2] Google Drive 마운트\n",
        "drive.mount('/content/drive')\n",
        "\n",
        "# [3] 실제 경로 설정 (공백 포함 주의, 오타 수정)\n",
        "DATA_PATH = '/content/drive/MyDrive/Colab Notebooks/Dataton/playground-series-s4e11'\n",
        "\n",
        "# [4] 데이터 불러오기\n",
        "train_df = pd.read_csv(\n",
        "    os.path.join(DATA_PATH, 'train.csv'),\n",
        "    index_col=0,\n",
        "    parse_dates=True\n",
        ")\n"
      ],
      "metadata": {
        "colab": {
          "base_uri": "https://localhost:8080/"
        },
        "id": "8mSgZdJwTmzL",
        "outputId": "f35cc1a0-e1e8-4704-f67f-bd3b0f4f0c0c"
      },
      "execution_count": 28,
      "outputs": [
        {
          "output_type": "stream",
          "name": "stdout",
          "text": [
            "Drive already mounted at /content/drive; to attempt to forcibly remount, call drive.mount(\"/content/drive\", force_remount=True).\n"
          ]
        }
      ]
    },
    {
      "cell_type": "code",
      "source": [
        "train_df.info()\n"
      ],
      "metadata": {
        "colab": {
          "base_uri": "https://localhost:8080/"
        },
        "id": "uBriQFe3TrwI",
        "outputId": "c0a1307c-3141-40e5-af3b-22fc10bb8ec9"
      },
      "execution_count": 30,
      "outputs": [
        {
          "output_type": "stream",
          "name": "stdout",
          "text": [
            "<class 'pandas.core.frame.DataFrame'>\n",
            "Index: 140700 entries, 0 to 140699\n",
            "Data columns (total 19 columns):\n",
            " #   Column                                 Non-Null Count   Dtype  \n",
            "---  ------                                 --------------   -----  \n",
            " 0   Name                                   140700 non-null  object \n",
            " 1   Gender                                 140700 non-null  object \n",
            " 2   Age                                    140700 non-null  float64\n",
            " 3   City                                   140700 non-null  object \n",
            " 4   Working Professional or Student        140700 non-null  object \n",
            " 5   Profession                             104070 non-null  object \n",
            " 6   Academic Pressure                      27897 non-null   float64\n",
            " 7   Work Pressure                          112782 non-null  float64\n",
            " 8   CGPA                                   27898 non-null   float64\n",
            " 9   Study Satisfaction                     27897 non-null   float64\n",
            " 10  Job Satisfaction                       112790 non-null  float64\n",
            " 11  Sleep Duration                         140700 non-null  object \n",
            " 12  Dietary Habits                         140696 non-null  object \n",
            " 13  Degree                                 140698 non-null  object \n",
            " 14  Have you ever had suicidal thoughts ?  140700 non-null  object \n",
            " 15  Work/Study Hours                       140700 non-null  float64\n",
            " 16  Financial Stress                       140696 non-null  float64\n",
            " 17  Family History of Mental Illness       140700 non-null  object \n",
            " 18  Depression                             140700 non-null  int64  \n",
            "dtypes: float64(8), int64(1), object(10)\n",
            "memory usage: 21.5+ MB\n"
          ]
        }
      ]
    },
    {
      "cell_type": "markdown",
      "source": [
        "##  각 컬럼 설명\n",
        "| 컬럼명                                    | 설명            | 예시 값                   | 데이터 타입  | 비고                            |\n",
        "| -------------------------------------- | ------------- | ---------------------- | ------- | ----------------------------- |\n",
        "| `Name`                                 | 응답자 이름 또는 식별자 | John                   | object  | 분석엔 불필요하면 제거 가능               |\n",
        "| `Gender`                               | 성별            | Male / Female          | object  | 범주형                           |\n",
        "| `Age`                                  | 나이            | 19.0                   | float64 | 수치형 (정수로 변환 가능)               |\n",
        "| `City`                                 | 거주 도시         | Seoul, Mumbai          | object  | 범주형                           |\n",
        "| `Working Professional or Student`      | 직업 상태         | Student / Professional | object  | 범주형                           |\n",
        "| `Profession`                           | 직업 (선택 응답)    | Engineer / None        | object  | 결측 있음                         |\n",
        "| `Academic Pressure`                    | 학업 스트레스 정도    | 1.0 \\~ 10.0            | float64 | 일부 결측 있음                      |\n",
        "| `Work Pressure`                        | 업무 스트레스 정도    | 1.0 \\~ 10.0            | float64 | 일부 결측                         |\n",
        "| `CGPA`                                 | 학점 (평균 성적)    | 6.8                    | float64 | 일부 결측                         |\n",
        "| `Study Satisfaction`                   | 학업 만족도        | 1.0 \\~ 10.0            | float64 | 일부 결측                         |\n",
        "| `Job Satisfaction`                     | 직업 만족도        | 1.0 \\~ 10.0            | float64 | 일부 결측                         |\n",
        "| `Sleep Duration`                       | 하루 평균 수면 시간   | 7 hours                | object  | 수치로 변환 필요                     |\n",
        "| `Dietary Habits`                       | 식습관           | Balanced / Junk        | object  | 범주형                           |\n",
        "| `Degree`                               | 학위 수준         | Bachelor / None        | object  | 범주형                           |\n",
        "| `Have you ever had suicidal thoughts?` | 자살 충동 경험 유무   | Yes / No               | object  | 민감 변수                         |\n",
        "| `Work/Study Hours`                     | 일/공부 시간       | 4.0                    | float64 | 연속형 변수                        |\n",
        "| `Financial Stress`                     | 경제적 스트레스 정도   | 1.0 \\~ 10.0            | float64 | 일부 결측                         |\n",
        "| `Family History of Mental Illness`     | 정신질환 가족력 여부   | Yes / No               | object  | 범주형                           |\n",
        "| `Depression`                           | 우울증 여부 (라벨)   | 0 / 1                  | int64   | 종속 변수 (binary classification) |\n"
      ],
      "metadata": {
        "id": "Adx6-SnjpmZI"
      }
    },
    {
      "cell_type": "code",
      "source": [
        "train_df.head()"
      ],
      "metadata": {
        "colab": {
          "base_uri": "https://localhost:8080/",
          "height": 466
        },
        "id": "Srtqd_ve81Oe",
        "outputId": "8e6d6daa-72fb-4643-c3cd-535d347fef7c"
      },
      "execution_count": 33,
      "outputs": [
        {
          "output_type": "execute_result",
          "data": {
            "text/plain": [
              "        Name  Gender   Age           City Working Professional or Student  \\\n",
              "id                                                                          \n",
              "0   Aaradhya  Female  49.0       Ludhiana            Working Professional   \n",
              "1      Vivan    Male  26.0       Varanasi            Working Professional   \n",
              "2     Yuvraj    Male  33.0  Visakhapatnam                         Student   \n",
              "3     Yuvraj    Male  22.0         Mumbai            Working Professional   \n",
              "4       Rhea  Female  30.0         Kanpur            Working Professional   \n",
              "\n",
              "          Profession  Academic Pressure  Work Pressure  CGPA  \\\n",
              "id                                                             \n",
              "0               Chef                NaN            5.0   NaN   \n",
              "1            Teacher                NaN            4.0   NaN   \n",
              "2                NaN                5.0            NaN  8.97   \n",
              "3            Teacher                NaN            5.0   NaN   \n",
              "4   Business Analyst                NaN            1.0   NaN   \n",
              "\n",
              "    Study Satisfaction  Job Satisfaction     Sleep Duration Dietary Habits  \\\n",
              "id                                                                           \n",
              "0                  NaN               2.0  More than 8 hours        Healthy   \n",
              "1                  NaN               3.0  Less than 5 hours      Unhealthy   \n",
              "2                  2.0               NaN          5-6 hours        Healthy   \n",
              "3                  NaN               1.0  Less than 5 hours       Moderate   \n",
              "4                  NaN               1.0          5-6 hours      Unhealthy   \n",
              "\n",
              "     Degree Have you ever had suicidal thoughts ?  Work/Study Hours  \\\n",
              "id                                                                    \n",
              "0       BHM                                    No               1.0   \n",
              "1       LLB                                   Yes               7.0   \n",
              "2   B.Pharm                                   Yes               3.0   \n",
              "3       BBA                                   Yes              10.0   \n",
              "4       BBA                                   Yes               9.0   \n",
              "\n",
              "    Financial Stress Family History of Mental Illness  Depression  \n",
              "id                                                                 \n",
              "0                2.0                               No           0  \n",
              "1                3.0                               No           1  \n",
              "2                1.0                               No           1  \n",
              "3                1.0                              Yes           1  \n",
              "4                4.0                              Yes           0  "
            ],
            "text/html": [
              "\n",
              "  <div id=\"df-61267c48-9624-4af5-ba98-b89c59bb7a32\" class=\"colab-df-container\">\n",
              "    <div>\n",
              "<style scoped>\n",
              "    .dataframe tbody tr th:only-of-type {\n",
              "        vertical-align: middle;\n",
              "    }\n",
              "\n",
              "    .dataframe tbody tr th {\n",
              "        vertical-align: top;\n",
              "    }\n",
              "\n",
              "    .dataframe thead th {\n",
              "        text-align: right;\n",
              "    }\n",
              "</style>\n",
              "<table border=\"1\" class=\"dataframe\">\n",
              "  <thead>\n",
              "    <tr style=\"text-align: right;\">\n",
              "      <th></th>\n",
              "      <th>Name</th>\n",
              "      <th>Gender</th>\n",
              "      <th>Age</th>\n",
              "      <th>City</th>\n",
              "      <th>Working Professional or Student</th>\n",
              "      <th>Profession</th>\n",
              "      <th>Academic Pressure</th>\n",
              "      <th>Work Pressure</th>\n",
              "      <th>CGPA</th>\n",
              "      <th>Study Satisfaction</th>\n",
              "      <th>Job Satisfaction</th>\n",
              "      <th>Sleep Duration</th>\n",
              "      <th>Dietary Habits</th>\n",
              "      <th>Degree</th>\n",
              "      <th>Have you ever had suicidal thoughts ?</th>\n",
              "      <th>Work/Study Hours</th>\n",
              "      <th>Financial Stress</th>\n",
              "      <th>Family History of Mental Illness</th>\n",
              "      <th>Depression</th>\n",
              "    </tr>\n",
              "    <tr>\n",
              "      <th>id</th>\n",
              "      <th></th>\n",
              "      <th></th>\n",
              "      <th></th>\n",
              "      <th></th>\n",
              "      <th></th>\n",
              "      <th></th>\n",
              "      <th></th>\n",
              "      <th></th>\n",
              "      <th></th>\n",
              "      <th></th>\n",
              "      <th></th>\n",
              "      <th></th>\n",
              "      <th></th>\n",
              "      <th></th>\n",
              "      <th></th>\n",
              "      <th></th>\n",
              "      <th></th>\n",
              "      <th></th>\n",
              "      <th></th>\n",
              "    </tr>\n",
              "  </thead>\n",
              "  <tbody>\n",
              "    <tr>\n",
              "      <th>0</th>\n",
              "      <td>Aaradhya</td>\n",
              "      <td>Female</td>\n",
              "      <td>49.0</td>\n",
              "      <td>Ludhiana</td>\n",
              "      <td>Working Professional</td>\n",
              "      <td>Chef</td>\n",
              "      <td>NaN</td>\n",
              "      <td>5.0</td>\n",
              "      <td>NaN</td>\n",
              "      <td>NaN</td>\n",
              "      <td>2.0</td>\n",
              "      <td>More than 8 hours</td>\n",
              "      <td>Healthy</td>\n",
              "      <td>BHM</td>\n",
              "      <td>No</td>\n",
              "      <td>1.0</td>\n",
              "      <td>2.0</td>\n",
              "      <td>No</td>\n",
              "      <td>0</td>\n",
              "    </tr>\n",
              "    <tr>\n",
              "      <th>1</th>\n",
              "      <td>Vivan</td>\n",
              "      <td>Male</td>\n",
              "      <td>26.0</td>\n",
              "      <td>Varanasi</td>\n",
              "      <td>Working Professional</td>\n",
              "      <td>Teacher</td>\n",
              "      <td>NaN</td>\n",
              "      <td>4.0</td>\n",
              "      <td>NaN</td>\n",
              "      <td>NaN</td>\n",
              "      <td>3.0</td>\n",
              "      <td>Less than 5 hours</td>\n",
              "      <td>Unhealthy</td>\n",
              "      <td>LLB</td>\n",
              "      <td>Yes</td>\n",
              "      <td>7.0</td>\n",
              "      <td>3.0</td>\n",
              "      <td>No</td>\n",
              "      <td>1</td>\n",
              "    </tr>\n",
              "    <tr>\n",
              "      <th>2</th>\n",
              "      <td>Yuvraj</td>\n",
              "      <td>Male</td>\n",
              "      <td>33.0</td>\n",
              "      <td>Visakhapatnam</td>\n",
              "      <td>Student</td>\n",
              "      <td>NaN</td>\n",
              "      <td>5.0</td>\n",
              "      <td>NaN</td>\n",
              "      <td>8.97</td>\n",
              "      <td>2.0</td>\n",
              "      <td>NaN</td>\n",
              "      <td>5-6 hours</td>\n",
              "      <td>Healthy</td>\n",
              "      <td>B.Pharm</td>\n",
              "      <td>Yes</td>\n",
              "      <td>3.0</td>\n",
              "      <td>1.0</td>\n",
              "      <td>No</td>\n",
              "      <td>1</td>\n",
              "    </tr>\n",
              "    <tr>\n",
              "      <th>3</th>\n",
              "      <td>Yuvraj</td>\n",
              "      <td>Male</td>\n",
              "      <td>22.0</td>\n",
              "      <td>Mumbai</td>\n",
              "      <td>Working Professional</td>\n",
              "      <td>Teacher</td>\n",
              "      <td>NaN</td>\n",
              "      <td>5.0</td>\n",
              "      <td>NaN</td>\n",
              "      <td>NaN</td>\n",
              "      <td>1.0</td>\n",
              "      <td>Less than 5 hours</td>\n",
              "      <td>Moderate</td>\n",
              "      <td>BBA</td>\n",
              "      <td>Yes</td>\n",
              "      <td>10.0</td>\n",
              "      <td>1.0</td>\n",
              "      <td>Yes</td>\n",
              "      <td>1</td>\n",
              "    </tr>\n",
              "    <tr>\n",
              "      <th>4</th>\n",
              "      <td>Rhea</td>\n",
              "      <td>Female</td>\n",
              "      <td>30.0</td>\n",
              "      <td>Kanpur</td>\n",
              "      <td>Working Professional</td>\n",
              "      <td>Business Analyst</td>\n",
              "      <td>NaN</td>\n",
              "      <td>1.0</td>\n",
              "      <td>NaN</td>\n",
              "      <td>NaN</td>\n",
              "      <td>1.0</td>\n",
              "      <td>5-6 hours</td>\n",
              "      <td>Unhealthy</td>\n",
              "      <td>BBA</td>\n",
              "      <td>Yes</td>\n",
              "      <td>9.0</td>\n",
              "      <td>4.0</td>\n",
              "      <td>Yes</td>\n",
              "      <td>0</td>\n",
              "    </tr>\n",
              "  </tbody>\n",
              "</table>\n",
              "</div>\n",
              "    <div class=\"colab-df-buttons\">\n",
              "\n",
              "  <div class=\"colab-df-container\">\n",
              "    <button class=\"colab-df-convert\" onclick=\"convertToInteractive('df-61267c48-9624-4af5-ba98-b89c59bb7a32')\"\n",
              "            title=\"Convert this dataframe to an interactive table.\"\n",
              "            style=\"display:none;\">\n",
              "\n",
              "  <svg xmlns=\"http://www.w3.org/2000/svg\" height=\"24px\" viewBox=\"0 -960 960 960\">\n",
              "    <path d=\"M120-120v-720h720v720H120Zm60-500h600v-160H180v160Zm220 220h160v-160H400v160Zm0 220h160v-160H400v160ZM180-400h160v-160H180v160Zm440 0h160v-160H620v160ZM180-180h160v-160H180v160Zm440 0h160v-160H620v160Z\"/>\n",
              "  </svg>\n",
              "    </button>\n",
              "\n",
              "  <style>\n",
              "    .colab-df-container {\n",
              "      display:flex;\n",
              "      gap: 12px;\n",
              "    }\n",
              "\n",
              "    .colab-df-convert {\n",
              "      background-color: #E8F0FE;\n",
              "      border: none;\n",
              "      border-radius: 50%;\n",
              "      cursor: pointer;\n",
              "      display: none;\n",
              "      fill: #1967D2;\n",
              "      height: 32px;\n",
              "      padding: 0 0 0 0;\n",
              "      width: 32px;\n",
              "    }\n",
              "\n",
              "    .colab-df-convert:hover {\n",
              "      background-color: #E2EBFA;\n",
              "      box-shadow: 0px 1px 2px rgba(60, 64, 67, 0.3), 0px 1px 3px 1px rgba(60, 64, 67, 0.15);\n",
              "      fill: #174EA6;\n",
              "    }\n",
              "\n",
              "    .colab-df-buttons div {\n",
              "      margin-bottom: 4px;\n",
              "    }\n",
              "\n",
              "    [theme=dark] .colab-df-convert {\n",
              "      background-color: #3B4455;\n",
              "      fill: #D2E3FC;\n",
              "    }\n",
              "\n",
              "    [theme=dark] .colab-df-convert:hover {\n",
              "      background-color: #434B5C;\n",
              "      box-shadow: 0px 1px 3px 1px rgba(0, 0, 0, 0.15);\n",
              "      filter: drop-shadow(0px 1px 2px rgba(0, 0, 0, 0.3));\n",
              "      fill: #FFFFFF;\n",
              "    }\n",
              "  </style>\n",
              "\n",
              "    <script>\n",
              "      const buttonEl =\n",
              "        document.querySelector('#df-61267c48-9624-4af5-ba98-b89c59bb7a32 button.colab-df-convert');\n",
              "      buttonEl.style.display =\n",
              "        google.colab.kernel.accessAllowed ? 'block' : 'none';\n",
              "\n",
              "      async function convertToInteractive(key) {\n",
              "        const element = document.querySelector('#df-61267c48-9624-4af5-ba98-b89c59bb7a32');\n",
              "        const dataTable =\n",
              "          await google.colab.kernel.invokeFunction('convertToInteractive',\n",
              "                                                    [key], {});\n",
              "        if (!dataTable) return;\n",
              "\n",
              "        const docLinkHtml = 'Like what you see? Visit the ' +\n",
              "          '<a target=\"_blank\" href=https://colab.research.google.com/notebooks/data_table.ipynb>data table notebook</a>'\n",
              "          + ' to learn more about interactive tables.';\n",
              "        element.innerHTML = '';\n",
              "        dataTable['output_type'] = 'display_data';\n",
              "        await google.colab.output.renderOutput(dataTable, element);\n",
              "        const docLink = document.createElement('div');\n",
              "        docLink.innerHTML = docLinkHtml;\n",
              "        element.appendChild(docLink);\n",
              "      }\n",
              "    </script>\n",
              "  </div>\n",
              "\n",
              "\n",
              "    <div id=\"df-0422802c-ba86-4f8c-b8ef-3055016602c6\">\n",
              "      <button class=\"colab-df-quickchart\" onclick=\"quickchart('df-0422802c-ba86-4f8c-b8ef-3055016602c6')\"\n",
              "                title=\"Suggest charts\"\n",
              "                style=\"display:none;\">\n",
              "\n",
              "<svg xmlns=\"http://www.w3.org/2000/svg\" height=\"24px\"viewBox=\"0 0 24 24\"\n",
              "     width=\"24px\">\n",
              "    <g>\n",
              "        <path d=\"M19 3H5c-1.1 0-2 .9-2 2v14c0 1.1.9 2 2 2h14c1.1 0 2-.9 2-2V5c0-1.1-.9-2-2-2zM9 17H7v-7h2v7zm4 0h-2V7h2v10zm4 0h-2v-4h2v4z\"/>\n",
              "    </g>\n",
              "</svg>\n",
              "      </button>\n",
              "\n",
              "<style>\n",
              "  .colab-df-quickchart {\n",
              "      --bg-color: #E8F0FE;\n",
              "      --fill-color: #1967D2;\n",
              "      --hover-bg-color: #E2EBFA;\n",
              "      --hover-fill-color: #174EA6;\n",
              "      --disabled-fill-color: #AAA;\n",
              "      --disabled-bg-color: #DDD;\n",
              "  }\n",
              "\n",
              "  [theme=dark] .colab-df-quickchart {\n",
              "      --bg-color: #3B4455;\n",
              "      --fill-color: #D2E3FC;\n",
              "      --hover-bg-color: #434B5C;\n",
              "      --hover-fill-color: #FFFFFF;\n",
              "      --disabled-bg-color: #3B4455;\n",
              "      --disabled-fill-color: #666;\n",
              "  }\n",
              "\n",
              "  .colab-df-quickchart {\n",
              "    background-color: var(--bg-color);\n",
              "    border: none;\n",
              "    border-radius: 50%;\n",
              "    cursor: pointer;\n",
              "    display: none;\n",
              "    fill: var(--fill-color);\n",
              "    height: 32px;\n",
              "    padding: 0;\n",
              "    width: 32px;\n",
              "  }\n",
              "\n",
              "  .colab-df-quickchart:hover {\n",
              "    background-color: var(--hover-bg-color);\n",
              "    box-shadow: 0 1px 2px rgba(60, 64, 67, 0.3), 0 1px 3px 1px rgba(60, 64, 67, 0.15);\n",
              "    fill: var(--button-hover-fill-color);\n",
              "  }\n",
              "\n",
              "  .colab-df-quickchart-complete:disabled,\n",
              "  .colab-df-quickchart-complete:disabled:hover {\n",
              "    background-color: var(--disabled-bg-color);\n",
              "    fill: var(--disabled-fill-color);\n",
              "    box-shadow: none;\n",
              "  }\n",
              "\n",
              "  .colab-df-spinner {\n",
              "    border: 2px solid var(--fill-color);\n",
              "    border-color: transparent;\n",
              "    border-bottom-color: var(--fill-color);\n",
              "    animation:\n",
              "      spin 1s steps(1) infinite;\n",
              "  }\n",
              "\n",
              "  @keyframes spin {\n",
              "    0% {\n",
              "      border-color: transparent;\n",
              "      border-bottom-color: var(--fill-color);\n",
              "      border-left-color: var(--fill-color);\n",
              "    }\n",
              "    20% {\n",
              "      border-color: transparent;\n",
              "      border-left-color: var(--fill-color);\n",
              "      border-top-color: var(--fill-color);\n",
              "    }\n",
              "    30% {\n",
              "      border-color: transparent;\n",
              "      border-left-color: var(--fill-color);\n",
              "      border-top-color: var(--fill-color);\n",
              "      border-right-color: var(--fill-color);\n",
              "    }\n",
              "    40% {\n",
              "      border-color: transparent;\n",
              "      border-right-color: var(--fill-color);\n",
              "      border-top-color: var(--fill-color);\n",
              "    }\n",
              "    60% {\n",
              "      border-color: transparent;\n",
              "      border-right-color: var(--fill-color);\n",
              "    }\n",
              "    80% {\n",
              "      border-color: transparent;\n",
              "      border-right-color: var(--fill-color);\n",
              "      border-bottom-color: var(--fill-color);\n",
              "    }\n",
              "    90% {\n",
              "      border-color: transparent;\n",
              "      border-bottom-color: var(--fill-color);\n",
              "    }\n",
              "  }\n",
              "</style>\n",
              "\n",
              "      <script>\n",
              "        async function quickchart(key) {\n",
              "          const quickchartButtonEl =\n",
              "            document.querySelector('#' + key + ' button');\n",
              "          quickchartButtonEl.disabled = true;  // To prevent multiple clicks.\n",
              "          quickchartButtonEl.classList.add('colab-df-spinner');\n",
              "          try {\n",
              "            const charts = await google.colab.kernel.invokeFunction(\n",
              "                'suggestCharts', [key], {});\n",
              "          } catch (error) {\n",
              "            console.error('Error during call to suggestCharts:', error);\n",
              "          }\n",
              "          quickchartButtonEl.classList.remove('colab-df-spinner');\n",
              "          quickchartButtonEl.classList.add('colab-df-quickchart-complete');\n",
              "        }\n",
              "        (() => {\n",
              "          let quickchartButtonEl =\n",
              "            document.querySelector('#df-0422802c-ba86-4f8c-b8ef-3055016602c6 button');\n",
              "          quickchartButtonEl.style.display =\n",
              "            google.colab.kernel.accessAllowed ? 'block' : 'none';\n",
              "        })();\n",
              "      </script>\n",
              "    </div>\n",
              "\n",
              "    </div>\n",
              "  </div>\n"
            ],
            "application/vnd.google.colaboratory.intrinsic+json": {
              "type": "dataframe",
              "variable_name": "train_df"
            }
          },
          "metadata": {},
          "execution_count": 33
        }
      ]
    },
    {
      "cell_type": "code",
      "source": [
        "train_df.shape\n"
      ],
      "metadata": {
        "colab": {
          "base_uri": "https://localhost:8080/"
        },
        "id": "noRPT3BRT4yT",
        "outputId": "cd5461e5-438e-45bd-c8fb-847bc789e9d6"
      },
      "execution_count": 35,
      "outputs": [
        {
          "output_type": "execute_result",
          "data": {
            "text/plain": [
              "(140700, 19)"
            ]
          },
          "metadata": {},
          "execution_count": 35
        }
      ]
    },
    {
      "cell_type": "code",
      "source": [
        "# 결측치 개수 및 비율 계산\n",
        "missing_df = train_df.isnull().sum().to_frame(name='MissingCount')\n",
        "missing_df['MissingRatio (%)'] = (missing_df['MissingCount'] / len(train_df)) * 100\n",
        "\n",
        "# 결측치가 있는 컬럼만 필터링\n",
        "missing_df = missing_df[missing_df['MissingCount'] > 0]\n",
        "\n",
        "# 결측치 많은 순으로 정렬\n",
        "missing_df.sort_values(by='MissingCount', ascending=False, inplace=True)\n",
        "\n",
        "# 결과 출력\n",
        "print(missing_df)\n"
      ],
      "metadata": {
        "colab": {
          "base_uri": "https://localhost:8080/"
        },
        "id": "qylhn1tyvJmS",
        "outputId": "c9fc5dee-add4-4a0c-9d18-6702167eb2b7"
      },
      "execution_count": 36,
      "outputs": [
        {
          "output_type": "stream",
          "name": "stdout",
          "text": [
            "                    MissingCount  MissingRatio (%)\n",
            "Academic Pressure         112803         80.172708\n",
            "Study Satisfaction        112803         80.172708\n",
            "CGPA                      112802         80.171997\n",
            "Profession                 36630         26.034115\n",
            "Work Pressure              27918         19.842217\n",
            "Job Satisfaction           27910         19.836532\n",
            "Dietary Habits                 4          0.002843\n",
            "Financial Stress               4          0.002843\n",
            "Degree                         2          0.001421\n"
          ]
        }
      ]
    },
    {
      "cell_type": "markdown",
      "source": [
        "### 분석 관점에서의 ‘대도시’ 정의 기준\n"
      ],
      "metadata": {
        "id": "PodulbDcHlZB"
      }
    },
    {
      "cell_type": "code",
      "source": [
        "# 1. city 컬럼에 존재하는 고유 도시 목록과 빈도 확인\n",
        "city_counts = train_df['City'].value_counts()\n",
        "print(city_counts.head(20))"
      ],
      "metadata": {
        "colab": {
          "base_uri": "https://localhost:8080/"
        },
        "id": "WMGqgF4uT48t",
        "outputId": "b81e6df9-964c-48a2-a000-ecb7e54f5d1a"
      },
      "execution_count": 37,
      "outputs": [
        {
          "output_type": "stream",
          "name": "stdout",
          "text": [
            "City\n",
            "Kalyan           6591\n",
            "Patna            5924\n",
            "Vasai-Virar      5765\n",
            "Kolkata          5689\n",
            "Ahmedabad        5613\n",
            "Meerut           5528\n",
            "Ludhiana         5226\n",
            "Pune             5210\n",
            "Rajkot           5207\n",
            "Visakhapatnam    5176\n",
            "Srinagar         5074\n",
            "Mumbai           4966\n",
            "Indore           4872\n",
            "Agra             4684\n",
            "Surat            4636\n",
            "Varanasi         4606\n",
            "Vadodara         4568\n",
            "Hyderabad        4496\n",
            "Kanpur           4398\n",
            "Jaipur           4328\n",
            "Name: count, dtype: int64\n"
          ]
        }
      ]
    },
    {
      "cell_type": "code",
      "source": [
        "train_df['City'].unique()\n"
      ],
      "metadata": {
        "colab": {
          "base_uri": "https://localhost:8080/"
        },
        "id": "Odo5wt34zoDC",
        "outputId": "51cf618b-6b7b-427d-abd3-14502a371c88"
      },
      "execution_count": 38,
      "outputs": [
        {
          "output_type": "execute_result",
          "data": {
            "text/plain": [
              "array(['Ludhiana', 'Varanasi', 'Visakhapatnam', 'Mumbai', 'Kanpur',\n",
              "       'Ahmedabad', 'Thane', 'Nashik', 'Bangalore', 'Patna', 'Rajkot',\n",
              "       'Jaipur', 'Pune', 'Lucknow', 'Meerut', 'Agra', 'Surat',\n",
              "       'Faridabad', 'Hyderabad', 'Srinagar', 'Ghaziabad', 'Kolkata',\n",
              "       'Chennai', 'Kalyan', 'Nagpur', 'Vadodara', 'Vasai-Virar', 'Delhi',\n",
              "       'Bhopal', 'Indore', 'Ishanabad', 'Vidhi', 'Ayush', 'Gurgaon',\n",
              "       'Krishna', 'Aishwarya', 'Keshav', 'Harsha', 'Nalini', 'Aditya',\n",
              "       'Malyansh', 'Raghavendra', 'Saanvi', 'M.Tech', 'Bhavna',\n",
              "       'Less Delhi', 'Nandini', 'M.Com', 'Plata', 'Atharv', 'Pratyush',\n",
              "       'City', '3.0', 'Less than 5 Kalyan', 'MCA', 'Mira', 'Moreadhyay',\n",
              "       'Morena', 'Ishkarsh', 'Kashk', 'Mihir', 'Vidya', 'Tolkata', 'Anvi',\n",
              "       'Krinda', 'Ayansh', 'Shrey', 'Ivaan', 'Vaanya', 'Gaurav', 'Harsh',\n",
              "       'Reyansh', 'Kashish', 'Kibara', 'Vaishnavi', 'Chhavi', 'Parth',\n",
              "       'Mahi', 'Tushar', 'MSc', 'No', 'Rashi', 'ME', 'Molkata',\n",
              "       'Researcher', 'Kagan', 'Armaan', 'Ithal', 'Nalyan', 'Dhruv',\n",
              "       'Galesabad', 'Itheg', 'Aaradhya', 'Pooja', 'Khushi', 'Khaziabad',\n",
              "       'Jhanvi', 'Unirar'], dtype=object)"
            ]
          },
          "metadata": {},
          "execution_count": 38
        }
      ]
    },
    {
      "cell_type": "code",
      "source": [
        "import pandas as pd\n",
        "\n",
        "# [1] train 데이터 로드\n",
        "# traib_df = pd.read_csv('train.csv')\n",
        "\n",
        "# [2] 외부 도시 통계 데이터 로드\n",
        "city_info_df = pd.read_csv('city_population_gdp.csv')\n",
        "\n",
        "# [3] 대도시 조건 필터링 (인구 ≥ 1,000,000 또는 GDP ≥ 50)\n",
        "megacities = city_info_df[\n",
        "    (city_info_df['Population'] >= 1_000_000) |\n",
        "    (city_info_df['GDP (Billion USD)'] >= 50)\n",
        "]['City'].tolist()\n",
        "\n",
        "# [4] train 데이터에서 해당 도시만 필터링\n",
        "filtered_train = train_df[train_df['City'].isin(megacities)]\n",
        "\n",
        "# [5] 결과 확인\n",
        "print(filtered_train['City'].value_counts())\n",
        "print(f\"✅ 추출된 도시 수: {filtered_train['City'].nunique()}\")\n",
        "print(f\"✅ 추출된 데이터 수: {len(filtered_train)}\")\n",
        "\n",
        "\n"
      ],
      "metadata": {
        "colab": {
          "base_uri": "https://localhost:8080/"
        },
        "id": "NNvpTTjj6Ulz",
        "outputId": "81465fb9-4062-481c-8070-5699be1c3f4a"
      },
      "execution_count": 39,
      "outputs": [
        {
          "output_type": "stream",
          "name": "stdout",
          "text": [
            "City\n",
            "Patna        5924\n",
            "Kolkata      5689\n",
            "Ahmedabad    5613\n",
            "Pune         5210\n",
            "Mumbai       4966\n",
            "Indore       4872\n",
            "Surat        4636\n",
            "Hyderabad    4496\n",
            "Kanpur       4398\n",
            "Jaipur       4328\n",
            "Lucknow      4280\n",
            "Nagpur       4209\n",
            "Bangalore    4123\n",
            "Chennai      4044\n",
            "Delhi        3593\n",
            "Bhopal       3475\n",
            "Name: count, dtype: int64\n",
            "✅ 추출된 도시 수: 16\n",
            "✅ 추출된 데이터 수: 73856\n"
          ]
        }
      ]
    },
    {
      "cell_type": "code",
      "source": [
        "import pandas as pd\n",
        "\n",
        "# [1] 데이터 불러오기\n",
        "# df = pd.read_csv('train.csv')\n",
        "city_info_df = pd.read_csv('city_population_gdp.csv')\n",
        "\n",
        "# [2] 중소도시 조건 필터링: 인구 < 1,000,000 AND GDP < 50\n",
        "small_cities = city_info_df[\n",
        "    (city_info_df['Population'] < 1_000_000) &\n",
        "    (city_info_df['GDP (Billion USD)'] < 50)\n",
        "]['City'].tolist()\n",
        "\n",
        "# [3] train.csv에서 중소도시 데이터 추출\n",
        "filtered_small_city_df = train_df[train_df['City'].isin(small_cities)]\n",
        "\n",
        "# [4] 결과 확인\n",
        "print(filtered_small_city_df['City'].value_counts())\n",
        "print(f\"추출된 중소도시 수: {filtered_small_city_df['City'].nunique()}\")\n",
        "print(f\" 추출된 데이터 수: {len(filtered_small_city_df)}\")\n"
      ],
      "metadata": {
        "colab": {
          "base_uri": "https://localhost:8080/"
        },
        "id": "obUMYb4G8RlN",
        "outputId": "12c8de42-a25a-4616-95db-84d61ad1aa59"
      },
      "execution_count": 40,
      "outputs": [
        {
          "output_type": "stream",
          "name": "stdout",
          "text": [
            "Series([], Name: count, dtype: int64)\n",
            "추출된 중소도시 수: 0\n",
            " 추출된 데이터 수: 0\n"
          ]
        }
      ]
    },
    {
      "cell_type": "markdown",
      "source": [
        "###  train 데이터 셋의 도시가 중소도시로 분류되지 않음:\n",
        "-  train.csv 데이터에는 존재하지만, city_population_gdp.csv의 중소도시 목록에는 포함되지 않은 경우가 발생했을 가능성이 매우 높습니다.\n",
        "- train.csv에는 중소도시 도시명이 존재하지만, 외부 파일에서 그 도시들이 중소도시로 분류되지 않았거나, 도시명이 일치하지 않아 매칭이 안 된 것입니다."
      ],
      "metadata": {
        "id": "ki1HoVdi-0-Q"
      }
    },
    {
      "cell_type": "code",
      "source": [
        "print(train_df['City'].unique())        # 고유 도시 목록\n",
        "print(len(train_df['City'].unique()))   # 도시 개수\n"
      ],
      "metadata": {
        "colab": {
          "base_uri": "https://localhost:8080/"
        },
        "id": "U7gVrWP098ia",
        "outputId": "25873267-42b3-470c-c274-15167c66e781"
      },
      "execution_count": 41,
      "outputs": [
        {
          "output_type": "stream",
          "name": "stdout",
          "text": [
            "['Ludhiana' 'Varanasi' 'Visakhapatnam' 'Mumbai' 'Kanpur' 'Ahmedabad'\n",
            " 'Thane' 'Nashik' 'Bangalore' 'Patna' 'Rajkot' 'Jaipur' 'Pune' 'Lucknow'\n",
            " 'Meerut' 'Agra' 'Surat' 'Faridabad' 'Hyderabad' 'Srinagar' 'Ghaziabad'\n",
            " 'Kolkata' 'Chennai' 'Kalyan' 'Nagpur' 'Vadodara' 'Vasai-Virar' 'Delhi'\n",
            " 'Bhopal' 'Indore' 'Ishanabad' 'Vidhi' 'Ayush' 'Gurgaon' 'Krishna'\n",
            " 'Aishwarya' 'Keshav' 'Harsha' 'Nalini' 'Aditya' 'Malyansh' 'Raghavendra'\n",
            " 'Saanvi' 'M.Tech' 'Bhavna' 'Less Delhi' 'Nandini' 'M.Com' 'Plata'\n",
            " 'Atharv' 'Pratyush' 'City' '3.0' 'Less than 5 Kalyan' 'MCA' 'Mira'\n",
            " 'Moreadhyay' 'Morena' 'Ishkarsh' 'Kashk' 'Mihir' 'Vidya' 'Tolkata' 'Anvi'\n",
            " 'Krinda' 'Ayansh' 'Shrey' 'Ivaan' 'Vaanya' 'Gaurav' 'Harsh' 'Reyansh'\n",
            " 'Kashish' 'Kibara' 'Vaishnavi' 'Chhavi' 'Parth' 'Mahi' 'Tushar' 'MSc'\n",
            " 'No' 'Rashi' 'ME' 'Molkata' 'Researcher' 'Kagan' 'Armaan' 'Ithal'\n",
            " 'Nalyan' 'Dhruv' 'Galesabad' 'Itheg' 'Aaradhya' 'Pooja' 'Khushi'\n",
            " 'Khaziabad' 'Jhanvi' 'Unirar']\n",
            "98\n"
          ]
        }
      ]
    },
    {
      "cell_type": "code",
      "source": [
        "# 도시명을 소문자로 정규화 후 비교\n",
        "train_df['City_clean'] = train_df['City'].str.strip().str.lower()\n",
        "city_info_df['City_clean'] = city_info_df['City'].str.strip().str.lower()\n",
        "\n",
        "# 중소도시 추출 (정규화된 도시명 기준)\n",
        "small_cities = city_info_df[\n",
        "    (city_info_df['Population'] < 1_000_000) &\n",
        "    (city_info_df['GDP (Billion USD)'] < 50)\n",
        "]['City_clean'].tolist()\n",
        "\n",
        "# train.csv에서 중소도시만 필터링\n",
        "filtered_small_city_df = train_df[train_df['City_clean'].isin(small_cities)]\n"
      ],
      "metadata": {
        "id": "T16mr8IC-C1i"
      },
      "execution_count": 42,
      "outputs": []
    },
    {
      "cell_type": "code",
      "source": [
        "print(\"중소도시 후보 (외부 파일 기준):\", small_cities)\n",
        "\n",
        "print(\"train.csv에 있는 중소도시:\", set(train_df['City_clean']) & set(small_cities))\n",
        "\n"
      ],
      "metadata": {
        "colab": {
          "base_uri": "https://localhost:8080/"
        },
        "id": "bhNDxVnb-IIq",
        "outputId": "bf8f2ab1-03ab-47f2-fa2d-7958ffe3a197"
      },
      "execution_count": 43,
      "outputs": [
        {
          "output_type": "stream",
          "name": "stdout",
          "text": [
            "중소도시 후보 (외부 파일 기준): []\n",
            "train.csv에 있는 중소도시: set()\n"
          ]
        }
      ]
    },
    {
      "cell_type": "markdown",
      "source": [
        "## 중소도시도 포함된 확장된 외부 파일을 작성해야 함"
      ],
      "metadata": {
        "id": "PgIiqe40-_2H"
      }
    },
    {
      "cell_type": "code",
      "source": [
        "import pandas as pd\n",
        "\n",
        "# 인구 및 GDP 기준으로 대도시 + 중소도시 포함\n",
        "data = {\n",
        "    'City': [\n",
        "        # 대도시 (인구 ≥ 1,000,000 or GDP ≥ 50B)\n",
        "        'Mumbai', 'Delhi', 'Bangalore', 'Hyderabad', 'Ahmedabad',\n",
        "        'Chennai', 'Kolkata', 'Pune', 'Surat', 'Jaipur',\n",
        "\n",
        "        # 중소도시 (인구 < 1,000,000 and GDP < 50B)\n",
        "        'Bhopal', 'Patna', 'Indore', 'Nagpur', 'Kanpur',\n",
        "        'Ludhiana', 'Vadodara', 'Varanasi', 'Ranchi', 'Raipur',\n",
        "        'Gwalior', 'Amritsar', 'Jodhpur', 'Guwahati', 'Bhubaneswar',\n",
        "        'Mysore', 'Noida'\n",
        "    ],\n",
        "    'Population': [\n",
        "        # 대도시\n",
        "        20411000, 16787941, 8443675, 6809970, 5570585,\n",
        "        7090000, 4486679, 3124458, 4467797, 3073350,\n",
        "\n",
        "        # 중소도시\n",
        "        1798218, 1684222, 1964086, 2405665, 2767031,\n",
        "        1610000, 2065771, 1201815, 1120000, 1070000,\n",
        "        1050000, 1130000, 1140000, 957352, 881988,\n",
        "        920550, 642381\n",
        "    ],\n",
        "    'GDP (Billion USD)': [\n",
        "        # 대도시\n",
        "        368, 293, 110, 74, 68,\n",
        "        78, 150, 69, 59, 45,\n",
        "\n",
        "        # 중소도시\n",
        "        21, 20, 23, 28, 25,\n",
        "        18, 20, 15, 16, 14,\n",
        "        13, 12, 15, 13, 12,\n",
        "        11, 10\n",
        "    ]\n",
        "}\n",
        "\n",
        "# 데이터프레임 생성\n",
        "city_info_df = pd.DataFrame(data)\n",
        "\n",
        "# CSV 파일 저장\n",
        "city_info_df.to_csv('city_population_gdp.csv', index=False)\n",
        "\n",
        "print(\"✅ 'city_population_gdp.csv' 파일이 확장 버전으로 생성되었습니다.\")\n"
      ],
      "metadata": {
        "colab": {
          "base_uri": "https://localhost:8080/"
        },
        "id": "tCHcAiIA-Vvh",
        "outputId": "e043eff1-8625-4b9a-bc5e-a324e788cba9"
      },
      "execution_count": 44,
      "outputs": [
        {
          "output_type": "stream",
          "name": "stdout",
          "text": [
            "✅ 'city_population_gdp.csv' 파일이 확장 버전으로 생성되었습니다.\n"
          ]
        }
      ]
    },
    {
      "cell_type": "code",
      "source": [
        "city_info_df = pd.read_csv('city_population_gdp.csv')\n",
        "\n",
        "# 중소도시 필터링\n",
        "small_cities = city_info_df[\n",
        "    (city_info_df['Population'] < 1_000_000) &\n",
        "    (city_info_df['GDP (Billion USD)'] < 50)\n",
        "]['City'].tolist()\n"
      ],
      "metadata": {
        "id": "tWak_wA0_Ziq"
      },
      "execution_count": 45,
      "outputs": []
    },
    {
      "cell_type": "code",
      "source": [],
      "metadata": {
        "id": "sOk28dM7_mAG"
      },
      "execution_count": null,
      "outputs": []
    },
    {
      "cell_type": "markdown",
      "source": [],
      "metadata": {
        "id": "MdnoGr3T-WYV"
      }
    },
    {
      "cell_type": "code",
      "source": [],
      "metadata": {
        "id": "lSCCo0HA01dY"
      },
      "execution_count": null,
      "outputs": []
    }
  ]
}