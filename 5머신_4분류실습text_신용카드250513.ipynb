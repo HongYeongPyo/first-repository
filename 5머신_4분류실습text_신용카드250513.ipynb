{
  "nbformat": 4,
  "nbformat_minor": 0,
  "metadata": {
    "colab": {
      "provenance": [],
      "authorship_tag": "ABX9TyPqzP/tcAkEnqL+SVfubzp/",
      "include_colab_link": true
    },
    "kernelspec": {
      "name": "python3",
      "display_name": "Python 3"
    },
    "language_info": {
      "name": "python"
    }
  },
  "cells": [
    {
      "cell_type": "markdown",
      "metadata": {
        "id": "view-in-github",
        "colab_type": "text"
      },
      "source": [
        "<a href=\"https://colab.research.google.com/github/HongYeongPyo/first-repository/blob/%EB%A8%B8%EC%8B%A0%EB%9F%AC%EB%8B%9D/5%EB%A8%B8%EC%8B%A0_4%EB%B6%84%EB%A5%98%EC%8B%A4%EC%8A%B5text_%EC%8B%A0%EC%9A%A9%EC%B9%B4%EB%93%9C250513.ipynb\" target=\"_parent\"><img src=\"https://colab.research.google.com/assets/colab-badge.svg\" alt=\"Open In Colab\"/></a>"
      ]
    },
    {
      "cell_type": "code",
      "execution_count": 1,
      "metadata": {
        "colab": {
          "base_uri": "https://localhost:8080/"
        },
        "id": "77UgOPL11C-p",
        "outputId": "6dae69aa-9448-45dc-f99a-f868d683b1a4"
      },
      "outputs": [
        {
          "output_type": "stream",
          "name": "stdout",
          "text": [
            "Drive already mounted at /content/machine; to attempt to forcibly remount, call drive.mount(\"/content/machine\", force_remount=True).\n"
          ]
        }
      ],
      "source": [
        "from google.colab import drive\n",
        "drive.mount('/content/machine')"
      ]
    },
    {
      "cell_type": "markdown",
      "source": [
        "# 데이터 일차 가공 및 모델 학습/예측 평가"
      ],
      "metadata": {
        "id": "92TQCAwnZGZG"
      }
    },
    {
      "cell_type": "code",
      "source": [
        "import pandas as pd\n",
        "import numpy as np\n",
        "import matplotlib.pyplot as plt\n",
        "\n",
        "import warnings\n",
        "warnings.filterwarnings(\"ignore\")\n",
        "\n",
        "%matplotlib inline"
      ],
      "metadata": {
        "id": "TvPVbWnBZOA_"
      },
      "execution_count": 2,
      "outputs": []
    },
    {
      "cell_type": "code",
      "source": [
        "card_df = pd.read_csv('/content/machine/MyDrive/content/machine/creditcard.csv')\n",
        "card_df.head()"
      ],
      "metadata": {
        "colab": {
          "base_uri": "https://localhost:8080/",
          "height": 255
        },
        "id": "uqJDf9kSZOhK",
        "outputId": "73ad8623-640a-4fd6-8adf-0a635ad6f0b9"
      },
      "execution_count": 3,
      "outputs": [
        {
          "output_type": "execute_result",
          "data": {
            "text/plain": [
              "   Time        V1        V2        V3        V4        V5        V6        V7  \\\n",
              "0   0.0 -1.359807 -0.072781  2.536347  1.378155 -0.338321  0.462388  0.239599   \n",
              "1   0.0  1.191857  0.266151  0.166480  0.448154  0.060018 -0.082361 -0.078803   \n",
              "2   1.0 -1.358354 -1.340163  1.773209  0.379780 -0.503198  1.800499  0.791461   \n",
              "3   1.0 -0.966272 -0.185226  1.792993 -0.863291 -0.010309  1.247203  0.237609   \n",
              "4   2.0 -1.158233  0.877737  1.548718  0.403034 -0.407193  0.095921  0.592941   \n",
              "\n",
              "         V8        V9  ...       V21       V22       V23       V24       V25  \\\n",
              "0  0.098698  0.363787  ... -0.018307  0.277838 -0.110474  0.066928  0.128539   \n",
              "1  0.085102 -0.255425  ... -0.225775 -0.638672  0.101288 -0.339846  0.167170   \n",
              "2  0.247676 -1.514654  ...  0.247998  0.771679  0.909412 -0.689281 -0.327642   \n",
              "3  0.377436 -1.387024  ... -0.108300  0.005274 -0.190321 -1.175575  0.647376   \n",
              "4 -0.270533  0.817739  ... -0.009431  0.798278 -0.137458  0.141267 -0.206010   \n",
              "\n",
              "        V26       V27       V28  Amount  Class  \n",
              "0 -0.189115  0.133558 -0.021053  149.62      0  \n",
              "1  0.125895 -0.008983  0.014724    2.69      0  \n",
              "2 -0.139097 -0.055353 -0.059752  378.66      0  \n",
              "3 -0.221929  0.062723  0.061458  123.50      0  \n",
              "4  0.502292  0.219422  0.215153   69.99      0  \n",
              "\n",
              "[5 rows x 31 columns]"
            ],
            "text/html": [
              "\n",
              "  <div id=\"df-1a889838-4981-4a69-9b65-0f78eddd436f\" class=\"colab-df-container\">\n",
              "    <div>\n",
              "<style scoped>\n",
              "    .dataframe tbody tr th:only-of-type {\n",
              "        vertical-align: middle;\n",
              "    }\n",
              "\n",
              "    .dataframe tbody tr th {\n",
              "        vertical-align: top;\n",
              "    }\n",
              "\n",
              "    .dataframe thead th {\n",
              "        text-align: right;\n",
              "    }\n",
              "</style>\n",
              "<table border=\"1\" class=\"dataframe\">\n",
              "  <thead>\n",
              "    <tr style=\"text-align: right;\">\n",
              "      <th></th>\n",
              "      <th>Time</th>\n",
              "      <th>V1</th>\n",
              "      <th>V2</th>\n",
              "      <th>V3</th>\n",
              "      <th>V4</th>\n",
              "      <th>V5</th>\n",
              "      <th>V6</th>\n",
              "      <th>V7</th>\n",
              "      <th>V8</th>\n",
              "      <th>V9</th>\n",
              "      <th>...</th>\n",
              "      <th>V21</th>\n",
              "      <th>V22</th>\n",
              "      <th>V23</th>\n",
              "      <th>V24</th>\n",
              "      <th>V25</th>\n",
              "      <th>V26</th>\n",
              "      <th>V27</th>\n",
              "      <th>V28</th>\n",
              "      <th>Amount</th>\n",
              "      <th>Class</th>\n",
              "    </tr>\n",
              "  </thead>\n",
              "  <tbody>\n",
              "    <tr>\n",
              "      <th>0</th>\n",
              "      <td>0.0</td>\n",
              "      <td>-1.359807</td>\n",
              "      <td>-0.072781</td>\n",
              "      <td>2.536347</td>\n",
              "      <td>1.378155</td>\n",
              "      <td>-0.338321</td>\n",
              "      <td>0.462388</td>\n",
              "      <td>0.239599</td>\n",
              "      <td>0.098698</td>\n",
              "      <td>0.363787</td>\n",
              "      <td>...</td>\n",
              "      <td>-0.018307</td>\n",
              "      <td>0.277838</td>\n",
              "      <td>-0.110474</td>\n",
              "      <td>0.066928</td>\n",
              "      <td>0.128539</td>\n",
              "      <td>-0.189115</td>\n",
              "      <td>0.133558</td>\n",
              "      <td>-0.021053</td>\n",
              "      <td>149.62</td>\n",
              "      <td>0</td>\n",
              "    </tr>\n",
              "    <tr>\n",
              "      <th>1</th>\n",
              "      <td>0.0</td>\n",
              "      <td>1.191857</td>\n",
              "      <td>0.266151</td>\n",
              "      <td>0.166480</td>\n",
              "      <td>0.448154</td>\n",
              "      <td>0.060018</td>\n",
              "      <td>-0.082361</td>\n",
              "      <td>-0.078803</td>\n",
              "      <td>0.085102</td>\n",
              "      <td>-0.255425</td>\n",
              "      <td>...</td>\n",
              "      <td>-0.225775</td>\n",
              "      <td>-0.638672</td>\n",
              "      <td>0.101288</td>\n",
              "      <td>-0.339846</td>\n",
              "      <td>0.167170</td>\n",
              "      <td>0.125895</td>\n",
              "      <td>-0.008983</td>\n",
              "      <td>0.014724</td>\n",
              "      <td>2.69</td>\n",
              "      <td>0</td>\n",
              "    </tr>\n",
              "    <tr>\n",
              "      <th>2</th>\n",
              "      <td>1.0</td>\n",
              "      <td>-1.358354</td>\n",
              "      <td>-1.340163</td>\n",
              "      <td>1.773209</td>\n",
              "      <td>0.379780</td>\n",
              "      <td>-0.503198</td>\n",
              "      <td>1.800499</td>\n",
              "      <td>0.791461</td>\n",
              "      <td>0.247676</td>\n",
              "      <td>-1.514654</td>\n",
              "      <td>...</td>\n",
              "      <td>0.247998</td>\n",
              "      <td>0.771679</td>\n",
              "      <td>0.909412</td>\n",
              "      <td>-0.689281</td>\n",
              "      <td>-0.327642</td>\n",
              "      <td>-0.139097</td>\n",
              "      <td>-0.055353</td>\n",
              "      <td>-0.059752</td>\n",
              "      <td>378.66</td>\n",
              "      <td>0</td>\n",
              "    </tr>\n",
              "    <tr>\n",
              "      <th>3</th>\n",
              "      <td>1.0</td>\n",
              "      <td>-0.966272</td>\n",
              "      <td>-0.185226</td>\n",
              "      <td>1.792993</td>\n",
              "      <td>-0.863291</td>\n",
              "      <td>-0.010309</td>\n",
              "      <td>1.247203</td>\n",
              "      <td>0.237609</td>\n",
              "      <td>0.377436</td>\n",
              "      <td>-1.387024</td>\n",
              "      <td>...</td>\n",
              "      <td>-0.108300</td>\n",
              "      <td>0.005274</td>\n",
              "      <td>-0.190321</td>\n",
              "      <td>-1.175575</td>\n",
              "      <td>0.647376</td>\n",
              "      <td>-0.221929</td>\n",
              "      <td>0.062723</td>\n",
              "      <td>0.061458</td>\n",
              "      <td>123.50</td>\n",
              "      <td>0</td>\n",
              "    </tr>\n",
              "    <tr>\n",
              "      <th>4</th>\n",
              "      <td>2.0</td>\n",
              "      <td>-1.158233</td>\n",
              "      <td>0.877737</td>\n",
              "      <td>1.548718</td>\n",
              "      <td>0.403034</td>\n",
              "      <td>-0.407193</td>\n",
              "      <td>0.095921</td>\n",
              "      <td>0.592941</td>\n",
              "      <td>-0.270533</td>\n",
              "      <td>0.817739</td>\n",
              "      <td>...</td>\n",
              "      <td>-0.009431</td>\n",
              "      <td>0.798278</td>\n",
              "      <td>-0.137458</td>\n",
              "      <td>0.141267</td>\n",
              "      <td>-0.206010</td>\n",
              "      <td>0.502292</td>\n",
              "      <td>0.219422</td>\n",
              "      <td>0.215153</td>\n",
              "      <td>69.99</td>\n",
              "      <td>0</td>\n",
              "    </tr>\n",
              "  </tbody>\n",
              "</table>\n",
              "<p>5 rows × 31 columns</p>\n",
              "</div>\n",
              "    <div class=\"colab-df-buttons\">\n",
              "\n",
              "  <div class=\"colab-df-container\">\n",
              "    <button class=\"colab-df-convert\" onclick=\"convertToInteractive('df-1a889838-4981-4a69-9b65-0f78eddd436f')\"\n",
              "            title=\"Convert this dataframe to an interactive table.\"\n",
              "            style=\"display:none;\">\n",
              "\n",
              "  <svg xmlns=\"http://www.w3.org/2000/svg\" height=\"24px\" viewBox=\"0 -960 960 960\">\n",
              "    <path d=\"M120-120v-720h720v720H120Zm60-500h600v-160H180v160Zm220 220h160v-160H400v160Zm0 220h160v-160H400v160ZM180-400h160v-160H180v160Zm440 0h160v-160H620v160ZM180-180h160v-160H180v160Zm440 0h160v-160H620v160Z\"/>\n",
              "  </svg>\n",
              "    </button>\n",
              "\n",
              "  <style>\n",
              "    .colab-df-container {\n",
              "      display:flex;\n",
              "      gap: 12px;\n",
              "    }\n",
              "\n",
              "    .colab-df-convert {\n",
              "      background-color: #E8F0FE;\n",
              "      border: none;\n",
              "      border-radius: 50%;\n",
              "      cursor: pointer;\n",
              "      display: none;\n",
              "      fill: #1967D2;\n",
              "      height: 32px;\n",
              "      padding: 0 0 0 0;\n",
              "      width: 32px;\n",
              "    }\n",
              "\n",
              "    .colab-df-convert:hover {\n",
              "      background-color: #E2EBFA;\n",
              "      box-shadow: 0px 1px 2px rgba(60, 64, 67, 0.3), 0px 1px 3px 1px rgba(60, 64, 67, 0.15);\n",
              "      fill: #174EA6;\n",
              "    }\n",
              "\n",
              "    .colab-df-buttons div {\n",
              "      margin-bottom: 4px;\n",
              "    }\n",
              "\n",
              "    [theme=dark] .colab-df-convert {\n",
              "      background-color: #3B4455;\n",
              "      fill: #D2E3FC;\n",
              "    }\n",
              "\n",
              "    [theme=dark] .colab-df-convert:hover {\n",
              "      background-color: #434B5C;\n",
              "      box-shadow: 0px 1px 3px 1px rgba(0, 0, 0, 0.15);\n",
              "      filter: drop-shadow(0px 1px 2px rgba(0, 0, 0, 0.3));\n",
              "      fill: #FFFFFF;\n",
              "    }\n",
              "  </style>\n",
              "\n",
              "    <script>\n",
              "      const buttonEl =\n",
              "        document.querySelector('#df-1a889838-4981-4a69-9b65-0f78eddd436f button.colab-df-convert');\n",
              "      buttonEl.style.display =\n",
              "        google.colab.kernel.accessAllowed ? 'block' : 'none';\n",
              "\n",
              "      async function convertToInteractive(key) {\n",
              "        const element = document.querySelector('#df-1a889838-4981-4a69-9b65-0f78eddd436f');\n",
              "        const dataTable =\n",
              "          await google.colab.kernel.invokeFunction('convertToInteractive',\n",
              "                                                    [key], {});\n",
              "        if (!dataTable) return;\n",
              "\n",
              "        const docLinkHtml = 'Like what you see? Visit the ' +\n",
              "          '<a target=\"_blank\" href=https://colab.research.google.com/notebooks/data_table.ipynb>data table notebook</a>'\n",
              "          + ' to learn more about interactive tables.';\n",
              "        element.innerHTML = '';\n",
              "        dataTable['output_type'] = 'display_data';\n",
              "        await google.colab.output.renderOutput(dataTable, element);\n",
              "        const docLink = document.createElement('div');\n",
              "        docLink.innerHTML = docLinkHtml;\n",
              "        element.appendChild(docLink);\n",
              "      }\n",
              "    </script>\n",
              "  </div>\n",
              "\n",
              "\n",
              "    <div id=\"df-320777b5-54b1-407a-9e09-9692ad3ef0fb\">\n",
              "      <button class=\"colab-df-quickchart\" onclick=\"quickchart('df-320777b5-54b1-407a-9e09-9692ad3ef0fb')\"\n",
              "                title=\"Suggest charts\"\n",
              "                style=\"display:none;\">\n",
              "\n",
              "<svg xmlns=\"http://www.w3.org/2000/svg\" height=\"24px\"viewBox=\"0 0 24 24\"\n",
              "     width=\"24px\">\n",
              "    <g>\n",
              "        <path d=\"M19 3H5c-1.1 0-2 .9-2 2v14c0 1.1.9 2 2 2h14c1.1 0 2-.9 2-2V5c0-1.1-.9-2-2-2zM9 17H7v-7h2v7zm4 0h-2V7h2v10zm4 0h-2v-4h2v4z\"/>\n",
              "    </g>\n",
              "</svg>\n",
              "      </button>\n",
              "\n",
              "<style>\n",
              "  .colab-df-quickchart {\n",
              "      --bg-color: #E8F0FE;\n",
              "      --fill-color: #1967D2;\n",
              "      --hover-bg-color: #E2EBFA;\n",
              "      --hover-fill-color: #174EA6;\n",
              "      --disabled-fill-color: #AAA;\n",
              "      --disabled-bg-color: #DDD;\n",
              "  }\n",
              "\n",
              "  [theme=dark] .colab-df-quickchart {\n",
              "      --bg-color: #3B4455;\n",
              "      --fill-color: #D2E3FC;\n",
              "      --hover-bg-color: #434B5C;\n",
              "      --hover-fill-color: #FFFFFF;\n",
              "      --disabled-bg-color: #3B4455;\n",
              "      --disabled-fill-color: #666;\n",
              "  }\n",
              "\n",
              "  .colab-df-quickchart {\n",
              "    background-color: var(--bg-color);\n",
              "    border: none;\n",
              "    border-radius: 50%;\n",
              "    cursor: pointer;\n",
              "    display: none;\n",
              "    fill: var(--fill-color);\n",
              "    height: 32px;\n",
              "    padding: 0;\n",
              "    width: 32px;\n",
              "  }\n",
              "\n",
              "  .colab-df-quickchart:hover {\n",
              "    background-color: var(--hover-bg-color);\n",
              "    box-shadow: 0 1px 2px rgba(60, 64, 67, 0.3), 0 1px 3px 1px rgba(60, 64, 67, 0.15);\n",
              "    fill: var(--button-hover-fill-color);\n",
              "  }\n",
              "\n",
              "  .colab-df-quickchart-complete:disabled,\n",
              "  .colab-df-quickchart-complete:disabled:hover {\n",
              "    background-color: var(--disabled-bg-color);\n",
              "    fill: var(--disabled-fill-color);\n",
              "    box-shadow: none;\n",
              "  }\n",
              "\n",
              "  .colab-df-spinner {\n",
              "    border: 2px solid var(--fill-color);\n",
              "    border-color: transparent;\n",
              "    border-bottom-color: var(--fill-color);\n",
              "    animation:\n",
              "      spin 1s steps(1) infinite;\n",
              "  }\n",
              "\n",
              "  @keyframes spin {\n",
              "    0% {\n",
              "      border-color: transparent;\n",
              "      border-bottom-color: var(--fill-color);\n",
              "      border-left-color: var(--fill-color);\n",
              "    }\n",
              "    20% {\n",
              "      border-color: transparent;\n",
              "      border-left-color: var(--fill-color);\n",
              "      border-top-color: var(--fill-color);\n",
              "    }\n",
              "    30% {\n",
              "      border-color: transparent;\n",
              "      border-left-color: var(--fill-color);\n",
              "      border-top-color: var(--fill-color);\n",
              "      border-right-color: var(--fill-color);\n",
              "    }\n",
              "    40% {\n",
              "      border-color: transparent;\n",
              "      border-right-color: var(--fill-color);\n",
              "      border-top-color: var(--fill-color);\n",
              "    }\n",
              "    60% {\n",
              "      border-color: transparent;\n",
              "      border-right-color: var(--fill-color);\n",
              "    }\n",
              "    80% {\n",
              "      border-color: transparent;\n",
              "      border-right-color: var(--fill-color);\n",
              "      border-bottom-color: var(--fill-color);\n",
              "    }\n",
              "    90% {\n",
              "      border-color: transparent;\n",
              "      border-bottom-color: var(--fill-color);\n",
              "    }\n",
              "  }\n",
              "</style>\n",
              "\n",
              "      <script>\n",
              "        async function quickchart(key) {\n",
              "          const quickchartButtonEl =\n",
              "            document.querySelector('#' + key + ' button');\n",
              "          quickchartButtonEl.disabled = true;  // To prevent multiple clicks.\n",
              "          quickchartButtonEl.classList.add('colab-df-spinner');\n",
              "          try {\n",
              "            const charts = await google.colab.kernel.invokeFunction(\n",
              "                'suggestCharts', [key], {});\n",
              "          } catch (error) {\n",
              "            console.error('Error during call to suggestCharts:', error);\n",
              "          }\n",
              "          quickchartButtonEl.classList.remove('colab-df-spinner');\n",
              "          quickchartButtonEl.classList.add('colab-df-quickchart-complete');\n",
              "        }\n",
              "        (() => {\n",
              "          let quickchartButtonEl =\n",
              "            document.querySelector('#df-320777b5-54b1-407a-9e09-9692ad3ef0fb button');\n",
              "          quickchartButtonEl.style.display =\n",
              "            google.colab.kernel.accessAllowed ? 'block' : 'none';\n",
              "        })();\n",
              "      </script>\n",
              "    </div>\n",
              "\n",
              "    </div>\n",
              "  </div>\n"
            ],
            "application/vnd.google.colaboratory.intrinsic+json": {
              "type": "dataframe",
              "variable_name": "card_df"
            }
          },
          "metadata": {},
          "execution_count": 3
        }
      ]
    },
    {
      "cell_type": "markdown",
      "source": [],
      "metadata": {
        "id": "fTPMplx0aQXQ"
      }
    },
    {
      "cell_type": "code",
      "source": [
        "card_df.info()"
      ],
      "metadata": {
        "colab": {
          "base_uri": "https://localhost:8080/"
        },
        "id": "pL4w-hexaaMa",
        "outputId": "a3b4a9ab-47c9-4784-b192-2fa7fc64ddc4"
      },
      "execution_count": 4,
      "outputs": [
        {
          "output_type": "stream",
          "name": "stdout",
          "text": [
            "<class 'pandas.core.frame.DataFrame'>\n",
            "RangeIndex: 284807 entries, 0 to 284806\n",
            "Data columns (total 31 columns):\n",
            " #   Column  Non-Null Count   Dtype  \n",
            "---  ------  --------------   -----  \n",
            " 0   Time    284807 non-null  float64\n",
            " 1   V1      284807 non-null  float64\n",
            " 2   V2      284807 non-null  float64\n",
            " 3   V3      284807 non-null  float64\n",
            " 4   V4      284807 non-null  float64\n",
            " 5   V5      284807 non-null  float64\n",
            " 6   V6      284807 non-null  float64\n",
            " 7   V7      284807 non-null  float64\n",
            " 8   V8      284807 non-null  float64\n",
            " 9   V9      284807 non-null  float64\n",
            " 10  V10     284807 non-null  float64\n",
            " 11  V11     284807 non-null  float64\n",
            " 12  V12     284807 non-null  float64\n",
            " 13  V13     284807 non-null  float64\n",
            " 14  V14     284807 non-null  float64\n",
            " 15  V15     284807 non-null  float64\n",
            " 16  V16     284807 non-null  float64\n",
            " 17  V17     284807 non-null  float64\n",
            " 18  V18     284807 non-null  float64\n",
            " 19  V19     284807 non-null  float64\n",
            " 20  V20     284807 non-null  float64\n",
            " 21  V21     284807 non-null  float64\n",
            " 22  V22     284807 non-null  float64\n",
            " 23  V23     284807 non-null  float64\n",
            " 24  V24     284807 non-null  float64\n",
            " 25  V25     284807 non-null  float64\n",
            " 26  V26     284807 non-null  float64\n",
            " 27  V27     284807 non-null  float64\n",
            " 28  V28     284807 non-null  float64\n",
            " 29  Amount  284807 non-null  float64\n",
            " 30  Class   284807 non-null  int64  \n",
            "dtypes: float64(30), int64(1)\n",
            "memory usage: 67.4 MB\n"
          ]
        }
      ]
    },
    {
      "cell_type": "markdown",
      "source": [
        "### V로 시작하는 피커들의 의미는 모른다.\n",
        "- time 피처 : 데이터 생성 관련한작업용 속성 - 제거함\n",
        "- amount 피처 : 신용카드 트랜잭션 금액\n",
        "- class : 레이블, 0의 경우은 정상, 1의 경우는 사기 트랜잭션\n",
        "- 전체 레코드 수 : 284,807개. 결측치는 없다.\n",
        "- Class 레이블만 int형, 나머지 피쳐는 floar형\n",
        "\n"
      ],
      "metadata": {
        "id": "9jxRdQFraQnK"
      }
    },
    {
      "cell_type": "markdown",
      "source": [
        "### 데이터 사전 가공 수행과 예측 성능 비교\n",
        "- 인자로 입력된 DataFrame 복사한 후,\n",
        "- 가공하여 get_preprocessed_df() 함수와,\n",
        "- 데이터 가공 후 학습/테스트 데이터 세트를 반환하는get_train_test_df() 함수 생성\n"
      ],
      "metadata": {
        "id": "9gl-iiQxbWUh"
      }
    },
    {
      "cell_type": "code",
      "source": [
        "### 1. get_preprocessed_df()함수에서 불필요한 Time 픽처만 삭제\n",
        "\n",
        "from sklearn.model_selection import train_test_split\n",
        "\n",
        "# 인자로 입력받은 DataFrame을 복사한 뒤 Time 칼럼먼 삭제하고 복사된 DataFrame 반환\n",
        "def get_preprocessed_df(df=None):\n",
        "  df_copy = df.copy()\n",
        "  df_copy.drop('Time', axis=1,inplace=True)\n",
        "  return df_copy\n"
      ],
      "metadata": {
        "id": "-jFHtQgk1ntH"
      },
      "execution_count": 5,
      "outputs": []
    },
    {
      "cell_type": "markdown",
      "source": [
        "### get—train—test_dataset( ):\n",
        "- ge_preprocessed—elf( )를 호출한 뒤 학습 피치/레이불 데이터 세트,테스트 피처/레이블 데이터 세트를 반환합니다.\n",
        "\n",
        "### get_train_test_dataset()\n",
        "-  내부에서 train—test_split( ) 합수를 호출하며,\n",
        "- 테스트 데이터 세트를 전체의 30%인 Stratified 방식으로 추출해\n",
        "- 학습 데이터 세트와 데스트 데이터 세트의 레이블 값 분포도를 서로 동일하게 만듭니다.\n"
      ],
      "metadata": {
        "id": "KbxGbuSucGeJ"
      }
    },
    {
      "cell_type": "code",
      "source": [
        "from re import X\n",
        "def get_train_test_dataset(df=None ):       # 사전 데이터 가공 후 학습과 테스트 데이터 세트를 반환하는 함수.\n",
        "    df_copy = get_preprocessed_df(df)       # 인자로 입력된 Da aFrame 의 사전 데이터 가공이 완료된 복사 Dat aFrame 반환\n",
        "    X_features = df_copy. iloc[: , :-1]     # DataFrame 의 맨 마지막 칼럼이 레이블, 나머지는 피처들\n",
        "    y_target = df_copy. iloc[: , -1]\n",
        "\n",
        "# train_test_split( ）으로 학습과 테스트 데이터 분할. stratify=y_traget으로 Stratified 기반 분할\n",
        "    X_train, X_test, y_train, y_test = \\\n",
        "    train_test_split(X_features, y_target, test_size=0.3, random_state=0, stratify=y_target)\n",
        "\n",
        "    return X_train, X_test, y_train, y_test   # 학습과 테스트 데이터 세트 반환\n",
        "\n",
        "X_train, X_test, y_train, y_test = get_train_test_dataset(card_df)\n"
      ],
      "metadata": {
        "id": "vuuuMJeM1nwQ"
      },
      "execution_count": 6,
      "outputs": []
    },
    {
      "cell_type": "markdown",
      "source": [
        "- 생성한 학습 데이터 세트와 테스트 세트의 레이블 값 비율을 백분율로 환산\n",
        "- 서로 비슷하게 분활되었는지 확인"
      ],
      "metadata": {
        "id": "CsrbWSeQg1Tz"
      }
    },
    {
      "cell_type": "code",
      "source": [
        "print('학습 데이터 레이블 값 비율ㅇ')\n",
        "print(y_train.value_counts()/y_train.shape[0]*100)\n",
        "\n",
        "print('테스트 데이너 레이블 값 비율')\n",
        "print(y_test.value_counts() / y_test.shape[0]*100)"
      ],
      "metadata": {
        "id": "evulTbfY1n2O",
        "colab": {
          "base_uri": "https://localhost:8080/"
        },
        "outputId": "b35705c9-58ca-4b76-9884-753417da0d40"
      },
      "execution_count": 7,
      "outputs": [
        {
          "output_type": "stream",
          "name": "stdout",
          "text": [
            "학습 데이터 레이블 값 비율ㅇ\n",
            "Class\n",
            "0    99.827451\n",
            "1     0.172549\n",
            "Name: count, dtype: float64\n",
            "테스트 데이너 레이블 값 비율\n",
            "Class\n",
            "0    99.826785\n",
            "1     0.173215\n",
            "Name: count, dtype: float64\n"
          ]
        }
      ]
    },
    {
      "cell_type": "markdown",
      "source": [
        "- 학습 데이터 레이블의 경우 : 1 값이 약 0.172%\n",
        "- 테스트 데이터 레이블의 경우 : 1 값이 약 0.173%\n",
        "- 차이 없이 잘 분할되었다."
      ],
      "metadata": {
        "id": "tlYp9LhThmPN"
      }
    },
    {
      "cell_type": "markdown",
      "source": [
        "### 데이터 가공을 수행하면서 예측 성능이 어떻게 변화하는가?\n",
        "- 로지스틱 회귀 기반의 모델 : 3장에서 생성한 get_clf_eval() 함수 사용\n",
        "- LightGBM 기반의 모델"
      ],
      "metadata": {
        "id": "rzpmq8gih2hC"
      }
    },
    {
      "cell_type": "code",
      "source": [
        "# 1. 로지스틱 회귀를 이용한 신용카드 사기 여부 예측\n",
        "\n",
        "from sklearn.linear_model import LogisticRegression\n",
        "\n",
        "lr_clf = LogisticRegression(max_iter=1000)\n",
        "lr_clf.fit(X_train, y_train)\n",
        "\n",
        "lr_pred = lr_clf.predict(X_test)\n",
        "lr_pred_proba = lr_clf.predict_proba(X_test)[:, 1]"
      ],
      "metadata": {
        "id": "VWtjBIGv1n5x"
      },
      "execution_count": 8,
      "outputs": []
    },
    {
      "cell_type": "markdown",
      "source": [
        "## 3장에서 사용한 get_clf_eval() 함수 작성p.156(174)\n",
        "\n",
        "\n",
        "\n"
      ],
      "metadata": {
        "id": "ol6uJCIgjYti"
      }
    },
    {
      "cell_type": "code",
      "source": [
        "# 3장에서 사용한 get_clf_aval()\n",
        "from sklearn.metrics import accuracy_score, precision_score, recall_score, confusion_matrix\n",
        "\n",
        "def get_clf_eval(y_test, pred):\n",
        "    confusion = confusion_matrix(y_test, pred)\n",
        "    accuracy = accuracy_score(y_test, pred)\n",
        "    precision = precision_score(y_test, pred)\n",
        "    recall = recall_score(y_test, pred)\n",
        "\n",
        "    print('오차 행렬')\n",
        "    print(confusion)\n",
        "    print('정확도 : {0:.4f}, 정밀도 : {1:.4f}, 재현율 : {2:.4f}'.format(accuracy, precision, recall))\n"
      ],
      "metadata": {
        "id": "S1J3P_SgnSwj"
      },
      "execution_count": 9,
      "outputs": []
    },
    {
      "cell_type": "markdown",
      "source": [
        "## 3장에서 사용한 get_clf_eval() 함수를 10장 실습에 맞게 변경\n",
        "- 함수 인자 2개에서 3개. roc_auc_score 추가\n",
        "- 인자 이름 변경"
      ],
      "metadata": {
        "id": "p9CVq4l1sAIh"
      }
    },
    {
      "cell_type": "code",
      "source": [
        "# 3장에서 사용한 get_clf_eval() 함수 변형 작성 : roc_auc_score 추가. 이름 변경\n",
        "from sklearn.metrics import accuracy_score, precision_score, recall_score, confusion_matrix, roc_auc_score\n",
        "\n",
        "def get_clf_eval(y_test, pred, pred_proba):\n",
        "    confusion = confusion_matrix(y_test, pred)\n",
        "    accuracy = accuracy_score(y_test, pred)\n",
        "    precision = precision_score(y_test, pred)\n",
        "    recall = recall_score(y_test, pred)\n",
        "    roc_auc = roc_auc_score(y_test, pred_proba)\n",
        "\n",
        "    print('오차 행렬')\n",
        "    print(confusion)\n",
        "    print('정확도 : {0:.4f}, 정밀도 : {1:.4f}, 재현율 : {2:.4f}, AUC : {3:.4f}'.format(\n",
        "        accuracy, precision, recall, roc_auc))\n"
      ],
      "metadata": {
        "id": "_foDCVBZrfoT"
      },
      "execution_count": 10,
      "outputs": []
    },
    {
      "cell_type": "code",
      "source": [
        "get_clf_eval(y_test, lr_pred, lr_pred_proba)\n"
      ],
      "metadata": {
        "colab": {
          "base_uri": "https://localhost:8080/"
        },
        "id": "_iJ6HIo7i-iY",
        "outputId": "c8961aeb-98a7-4f83-bc50-5790f4b302d4"
      },
      "execution_count": 11,
      "outputs": [
        {
          "output_type": "stream",
          "name": "stdout",
          "text": [
            "오차 행렬\n",
            "[[85281    14]\n",
            " [   57    91]]\n",
            "정확도 : 0.9992, 정밀도 : 0.8667, 재현율 : 0.6149, AUC : 0.9741\n"
          ]
        }
      ]
    },
    {
      "cell_type": "markdown",
      "source": [
        "### 테스트 데이터 세트로 측정시:\n",
        "- 재현율(recall)은 0.62149\n",
        "- RCO-AUC 는 0.9741"
      ],
      "metadata": {
        "id": "ivF8NuMlsmu6"
      }
    },
    {
      "cell_type": "markdown",
      "source": [
        "# 2. LightGBM 을 이용한 모델"
      ],
      "metadata": {
        "id": "UEXF1s5KpBiS"
      }
    },
    {
      "cell_type": "markdown",
      "source": [
        "- 수행 예제 코드에서 반복적으로 모델을 변경해 학습/예측/평가-> - 별도 함수 생성\n",
        "- get_model_train_eval() 인자로 사이킷런의 Estimator 객체와 학습/테스트 데이터 셑를 입력 받아서 학습/예측/평가를 수행하는 함수"
      ],
      "metadata": {
        "id": "UyWfrSj-pJJY"
      }
    },
    {
      "cell_type": "markdown",
      "source": [
        "### 인자\n",
        "- 사이킷런의 Estimator 객체\n",
        "- 데이터 세트를 입력 받아서 학습/예측/평사 수행"
      ],
      "metadata": {
        "id": "FEv1lbadtHVc"
      }
    },
    {
      "cell_type": "code",
      "source": [
        "# 인자 : 사이킷런의 Estimator 객체.  학습/테스트 데이터 세트를 입력 받아서 학습/예측/평가 수행\n",
        "\n",
        "def get_model_train_eval(model, ftr_train=None, ftr_test=None, tgt_train=None, tgt_test=None):\n",
        "    model.fit(ftr_train, tgt_train)\n",
        "    pred = model.predict(ftr_test)\n",
        "\n",
        "    pred_proba = model.predict_proba(ftr_test)[:, 1]\n",
        "    get_clf_eval(tgt_test, pred, pred_proba)"
      ],
      "metadata": {
        "id": "1Fbn6jZoi-lI"
      },
      "execution_count": 12,
      "outputs": []
    },
    {
      "cell_type": "markdown",
      "source": [
        "### 데이터 세트 : 극도로 불균형한 레이블 값 분포도\n",
        "- LGBMClassifier 객체 생성시,\n",
        "- boost_from_average=False 로 파라미터 설정"
      ],
      "metadata": {
        "id": "v0j3rH9_uZd7"
      }
    },
    {
      "cell_type": "markdown",
      "source": [
        "### _LightGBM 버전업 되면서 변경 사항\n",
        "- boot_from_average 파라미터의 디폴드 값이 False -> True\n"
      ],
      "metadata": {
        "id": "aef3h4Ye_CUJ"
      }
    },
    {
      "cell_type": "markdown",
      "source": [
        "### 본 예제와 같이 극도로 불균형한 분포를 이루는 경우\n",
        "- boost_from_average = True 설정은,\n",
        "- 재현율 및 ROC-AUC 성능을 매우 크게 저하시킨다.\n",
        "\n",
        "### LightGBM 2,1,0 이상의 버젼이 설치되어 있거나, 불균형한 데이터 세트에서 예측 성능이 매우 저조할 경우\n",
        "- LGBMClassifier 객체 생성시 boost_from_average = False 로 파라미터 설정\n",
        "- 질의와 답변 사이트 : https://github.com/Microsoft/LightGBM/issues/1487"
      ],
      "metadata": {
        "id": "xCewfoTc_bbs"
      }
    },
    {
      "cell_type": "markdown",
      "source": [
        "# LightGBM 으로 모델 학습한 뒤, 별도의 테스트 데이터 세트에서 예측 평가 수행"
      ],
      "metadata": {
        "id": "KN91lqdtAVmC"
      }
    },
    {
      "cell_type": "code",
      "source": [
        "# LightGMB 모델 학습. 별도의 테스트 세트에서 예측 평가 (교재 코딩 p.284)\n",
        "import warnings\n",
        "warnings.filterwarnings('ignore')  # Python 경고 메시지 억제\n",
        "\n",
        "\n",
        "\n",
        "from lightgbm import LGBMClassifier\n",
        "\n",
        "lgbm_clf = LGBMClassifier(\n",
        "    n_estimators=1000,\n",
        "    num_leaves=64,\n",
        "    n_jobs=-1,\n",
        "    boost_from_average=False,\n",
        "    verbosity=-1)               # 핵심 옵션: warning 포함 모든 로그 억제\n",
        "\n",
        "get_model_train_eval(\n",
        "    lgbm_clf,\n",
        "    ftr_train = X_train,\n",
        "    ftr_test = X_test,\n",
        "\n",
        "    tgt_train = y_train,\n",
        "    tgt_test=y_test)"
      ],
      "metadata": {
        "colab": {
          "base_uri": "https://localhost:8080/"
        },
        "id": "QH5lSjCXi-nz",
        "outputId": "b9a80c55-b1ed-4597-ba2d-f153d1331c65"
      },
      "execution_count": 13,
      "outputs": [
        {
          "output_type": "stream",
          "name": "stdout",
          "text": [
            "오차 행렬\n",
            "[[85290     5]\n",
            " [   36   112]]\n",
            "정확도 : 0.9995, 정밀도 : 0.9573, 재현율 : 0.7568, AUC : 0.9790\n"
          ]
        }
      ]
    },
    {
      "cell_type": "markdown",
      "source": [
        "# 앞의 로지스틱 회귀 보다 높은 수치\n",
        "- 재현율 0.7568\n",
        "- ROC-AUC 0.979"
      ],
      "metadata": {
        "id": "s0G6g0WgMv4n"
      }
    },
    {
      "cell_type": "markdown",
      "source": [
        "# 데이터 분포도 변환 후 모델 학습/예측/평가"
      ],
      "metadata": {
        "id": "C3-5tAPBIuog"
      }
    },
    {
      "cell_type": "markdown",
      "source": [
        "### 왜곡된 분포도를 가지는 데이터를 재가공한 뒤에 모델을 다시 테스트\n",
        "- creditcard.csv 의 중요 피처 값의 분포도를 살펴본다.\n",
        "- 로지스틱 회귀는 선형 모델 : 5장에서 다시 설명\n",
        "- 대부분 선형 모델은 중요 피처들의 값이 정규 분포 형태 유지하는 것을 선호\n",
        "\n",
        "- Amount 피처 : 신용카드 사용 금액으로 정상/사기 트랜잭션을 결정하는데 매우 유용한 속성일 가능성이 높다."
      ],
      "metadata": {
        "id": "JwtX7XWOJDsB"
      }
    },
    {
      "cell_type": "code",
      "source": [
        "# Amount 피처의 분포도 학인\n",
        "\n",
        "import seaborn as sns\n",
        "\n",
        "plt.figure(figsize = (8, 4))\n",
        "plt.xticks(range(0, 30000, 1000), rotation = 60)\n",
        "sns.histplot(card_df['Amount'], bins = 100, kde = True)\n",
        "\n",
        "plt.show()\n"
      ],
      "metadata": {
        "colab": {
          "base_uri": "https://localhost:8080/",
          "height": 419
        },
        "id": "DwV2kKvti-qq",
        "outputId": "8e1a6e22-2eef-4d58-c02f-8f195a92e580"
      },
      "execution_count": 14,
      "outputs": [
        {
          "output_type": "display_data",
          "data": {
            "text/plain": [
              "<Figure size 800x400 with 1 Axes>"
            ],
            "image/png": "[encoded data removed]"
          },
          "metadata": {}
        }
      ]
    },
    {
      "cell_type": "markdown",
      "source": [
        "- Amount, 즉 카드 사용금액이 1,000불 이하인 데이터가 대부분\n",
        "- 26,000불까지 드물지만 많은 금액을 사용한 경우가 발생 - 꼬리가 긴 형태의 분포 곡성\n"
      ],
      "metadata": {
        "id": "vJfTmjwhN-C6"
      }
    },
    {
      "cell_type": "markdown",
      "source": [
        "###  Amount를 표준정규 분포 형태로 변환한 뒤에 로지스택 회귀의 예측 성능을 측정\n",
        "- get_processed_df() 함수를 다음과 간이 사이킷런의 StandardScaler 클래스를 이용\n",
        "- Amount 피처를 정규 분포 형태로 변환"
      ],
      "metadata": {
        "id": "nz-HPjwbOzZv"
      }
    },
    {
      "cell_type": "code",
      "source": [
        "# 사이킷런의 StandardScasler를 이용해 정규 분포 형태로 Amount 피처 값 변환하는 로직으로 수정\n",
        "from sklearn.preprocessing import StandardScaler\n",
        "\n",
        "def get_preprocessed_df(df=None):\n",
        "    df_copy = df.copy()\n",
        "\n",
        "    scaler = StandardScaler()\n",
        "    amount_n = scaler.fit_transform(df_copy['Amount'].values.reshape(-1, 1))  # ✅ 수정됨\n",
        "\n",
        "    df_copy.insert(0, 'Amount_Scaled', amount_n)             #변환된 Amoun_Scaled로 피처명 변환후, DataFrame 맨 앞 컬럼으로 입력\n",
        "    df_copy.drop(['Time', 'Amount'], axis=1, inplace=True)   # 기존 Time, AMount 피처 삭제\n",
        "\n",
        "    return df_copy\n"
      ],
      "metadata": {
        "id": "BbH_NjKiZKNF"
      },
      "execution_count": 15,
      "outputs": []
    },
    {
      "cell_type": "markdown",
      "source": [
        "# 로지스틱 회귀와 LIghtGBM 모델을 각각 학습/예축/평가\n",
        "- 함수 수정한 후,\n",
        "- get_train_test_dataset를 호출하여,\n",
        "- 학습/테스트 데이터 세트를 생성한 후\n",
        "- get_model_train_eval()를 이용해 평가"
      ],
      "metadata": {
        "id": "bbeUBRkbRApi"
      }
    },
    {
      "cell_type": "code",
      "source": [
        "# Amount를 정규분포 형태로 변환 후, 로지스텍 회귀 및 LightGBM 수행\n",
        "X_train, X_test, y_train, y_test = get_train_test_dataset(card_df)\n",
        "\n",
        "print('### 로지스틱 회귀 예측 성능 ###')\n",
        "lr_clf = LogisticRegression(max_iter= 1000)\n",
        "get_model_train_eval(\n",
        "    lr_clf,\n",
        "    ftr_train = X_train,\n",
        "    ftr_test = X_test,\n",
        "    tgt_train = y_train,\n",
        "    tgt_test = y_test)\n",
        "\n",
        "print('### LightGBM 예측 성능 ###')\n",
        "lgbm_clf = LGBMClassifier(\n",
        "    n_estimators = 1000,\n",
        "    num_leaves = 64,\n",
        "    n_jobs = -1,\n",
        "    boost_from_average = False)\n",
        "\n",
        "get_model_train_eval(\n",
        "    lgbm_clf,\n",
        "    ftr_train = X_train,\n",
        "    ftr_test = X_test,\n",
        "    tgt_train = y_train,\n",
        "    tgt_test=y_test)"
      ],
      "metadata": {
        "colab": {
          "base_uri": "https://localhost:8080/"
        },
        "id": "WcsdcLueN_FC",
        "outputId": "15a78e3a-e3b4-4277-e7d9-934e10937c1c"
      },
      "execution_count": 16,
      "outputs": [
        {
          "output_type": "stream",
          "name": "stdout",
          "text": [
            "### 로지스틱 회귀 예측 성능 ###\n",
            "오차 행렬\n",
            "[[85281    14]\n",
            " [   55    93]]\n",
            "정확도 : 0.9992, 정밀도 : 0.8692, 재현율 : 0.6284, AUC : 0.9706\n",
            "### LightGBM 예측 성능 ###\n",
            "오차 행렬\n",
            "[[85290     5]\n",
            " [   37   111]]\n",
            "정확도 : 0.9995, 정밀도 : 0.9569, 재현율 : 0.7500, AUC : 0.9779\n"
          ]
        }
      ]
    },
    {
      "cell_type": "markdown",
      "source": [
        "### 정규분포 형태로 AMount 피처 값을 변환 한 후, 데이터 세트에 적용한 로지스틱 회귀 경우\n",
        "- 정밀도와 재현율이 오히려 조금식 저하되었고,\n",
        "\n",
        "### LightGBM의 경우\n",
        "- 약간 정밀도와 재현율이 저하되었지만 성능상으로는 큰 변경이 없다"
      ],
      "metadata": {
        "id": "Q5iXVB4yYmXR"
      }
    },
    {
      "cell_type": "markdown",
      "source": [],
      "metadata": {
        "id": "ZQoVwrQkaHJH"
      }
    },
    {
      "cell_type": "markdown",
      "source": [
        "# < 로그 변환 수행 >"
      ],
      "metadata": {
        "id": "PnYtrLCVaHdv"
      }
    },
    {
      "cell_type": "markdown",
      "source": [
        "- 데이터 분포도가 심하게 왜곡되어 있을 경우 적용하는 중요 기법 중이 하나이며,\n",
        "- 원래 값을 log 갑으로 변환하여 원래 큰 값을 상대적으로 작은 값으로 변환하여,\n",
        "- 데이터 분포도의 왜곡을 상당 수준 개선해 준다"
      ],
      "metadata": {
        "id": "xCoCKW6saRCJ"
      }
    },
    {
      "cell_type": "markdown",
      "source": [
        "- 로그 변환은 넘파이의 log1p() 함수 이용하여 간단히 변환 가능\n",
        "- 데이터 가공 함수인 get_preprocessed_df()를 다음과 같이 로그 변환 로직으로 변경한다."
      ],
      "metadata": {
        "id": "P8Uit6jyarSm"
      }
    },
    {
      "cell_type": "code",
      "source": [
        "def get_preprocessed_df(df=None):\n",
        "    df_copy= df.copy()\n",
        "    amount_n = np.log1p(df_copy['Amount'])            # 넘파이의 loglp()를 이용해 Amount를 로그 변환\n",
        "\n",
        "    df_copy.insert(0,'Amount_Scaled', amount_n)\n",
        "    df_copy.drop(['Time', 'Amount'], axis = 1, inplace = True)\n",
        "    return df_copy\n"
      ],
      "metadata": {
        "id": "V_mXb6NWN_Jx"
      },
      "execution_count": 17,
      "outputs": []
    },
    {
      "cell_type": "markdown",
      "source": [
        "## Amount 피처를 로그 변환 후, 다시 로지스틱 회귀와 LightGBM 모델을 적용 한 후  예측 성능 확인"
      ],
      "metadata": {
        "id": "iTdTNdqmcAn5"
      }
    },
    {
      "cell_type": "code",
      "source": [
        "# Amount 피처를 로그 변환 후, 다시 로지스틱 회귀와 LightGBM 모델을 적용 한 후  예측 성능 확인\n",
        "X_train, X_test, y_train, y_test = get_train_test_dataset(card_df)\n",
        "\n",
        "print('### 로지스틱 회귀 예측 성능 ###')\n",
        "get_model_train_eval(\n",
        "    lr_clf,\n",
        "    ftr_train = X_train,\n",
        "    ftr_test = X_test,\n",
        "    tgt_train = y_train,\n",
        "    tgt_test = y_test)\n",
        "\n",
        "print('### LightGBM 예측 성능 ###')\n",
        "get_model_train_eval(\n",
        "    lgbm_clf,\n",
        "    ftr_train = X_train,\n",
        "    ftr_test = X_test,\n",
        "    tgt_train = y_train,\n",
        "    tgt_test=y_test)"
      ],
      "metadata": {
        "colab": {
          "base_uri": "https://localhost:8080/"
        },
        "id": "yGRvq1g7N_Mt",
        "outputId": "5959fe01-46e1-4405-d2d4-20c2bd0f7573"
      },
      "execution_count": 18,
      "outputs": [
        {
          "output_type": "stream",
          "name": "stdout",
          "text": [
            "### 로지스틱 회귀 예측 성능 ###\n",
            "오차 행렬\n",
            "[[85282    13]\n",
            " [   59    89]]\n",
            "정확도 : 0.9992, 정밀도 : 0.8725, 재현율 : 0.6014, AUC : 0.9734\n",
            "### LightGBM 예측 성능 ###\n",
            "오차 행렬\n",
            "[[85290     5]\n",
            " [   35   113]]\n",
            "정확도 : 0.9995, 정밀도 : 0.9576, 재현율 : 0.7635, AUC : 0.9796\n"
          ]
        }
      ]
    },
    {
      "cell_type": "markdown",
      "source": [
        "- 로지스틱 회귀의 경우 : 원본 데이터 대비 정밀도는 향상 되었지만, 재현율은 저하\n",
        "- 레이블이 극도로 불균일한 데이터 세트에서의 로지스틱 회귀는 데이터 변환 시 약간은 불안정한 성능 결과를 보여 주고 있다.\n",
        "- LoghtGBM 경우: 재현율 향상\n",
        "\n",
        "\n",
        "\n"
      ],
      "metadata": {
        "id": "aFfaAbbXdb95"
      }
    },
    {
      "cell_type": "markdown",
      "source": [
        "# 이상치 데이터 제거 후 모델 학습/예측/평가\n",
        "- IQR 이용 제거\n",
        "\n",
        "1. 어떤 피처이 이상치 데이터를 검출할 것인지 선택 필요\n",
        " - 결정 값(즉 레이블)과가장 상관성이 높은 피처들을 위주로 이상치를 검출\n",
        " - 모든 피처들이 이상피를 검출하는 것은 시간소모가 많다\n",
        " - 결정값과 상관성이 높지 않은 피처들의 경우는 이상치를 제거하더라도 성능 향상에 크게 기여 하지 않는다.\n"
      ],
      "metadata": {
        "id": "cO9ajmZMeNHm"
      }
    },
    {
      "cell_type": "markdown",
      "source": [
        "- DataFrame() 의 corr()를 이용하여 각 픽퍼별로 상관도를 구한 뒤\n",
        "- 시본의 heatmap을 통해 시각하"
      ],
      "metadata": {
        "id": "smANmoJTgLPi"
      }
    },
    {
      "cell_type": "code",
      "source": [
        "import seaborn as sns\n",
        "\n",
        "plt.figure(figsize = (9,9))\n",
        "corr = card_df.corr()\n",
        "sns.heatmap(corr, cmap='RdBu')\n"
      ],
      "metadata": {
        "colab": {
          "base_uri": "https://localhost:8080/",
          "height": 818
        },
        "id": "U-_tRrgZN_PP",
        "outputId": "ea70816d-31ed-4fd7-b709-f4653a3e645d"
      },
      "execution_count": 19,
      "outputs": [
        {
          "output_type": "execute_result",
          "data": {
            "text/plain": [
              "<Axes: >"
            ]
          },
          "metadata": {},
          "execution_count": 19
        },
        {
          "output_type": "display_data",
          "data": {
            "text/plain": [
              "<Figure size 900x900 with 2 Axes>"
            ],
            "image/png": "[encoded data removed]"
          },
          "metadata": {}
        }
      ]
    },
    {
      "cell_type": "markdown",
      "source": [
        "### 상관관계 히트맵에서\n",
        "- cmap을 'RuBu'로 설정해\n",
        "- 양의 상관관계가 높을수로 색깔이 진한 파란색에 가까우며,\n",
        "- 음의 상관관계가 높을수록 색깔이 진한 빨간색에 가깝게 표현\n",
        "- 맨 아래에 위치한 결정 레이블인 Class 파처와 음의 상관 관계가 가장 높은 피처는 V14와 V17"
      ],
      "metadata": {
        "id": "fgW5bZ1ug1uX"
      }
    },
    {
      "cell_type": "markdown",
      "source": [
        "### V14 이상치 제거\n",
        "- IQR을 이용해 이상치를 검출하는 함수 생성한 뒤, 검출된 이상치 삭제\n",
        "- get_outlier() 함수 : 인자로 DataFrame과 이상치를 검출한 칼럼을 입력 받는다\n",
        "\n",
        "### 함수 내에서 넘파이의 percentile()을 이용하여,\n",
        "- 1/4분위와 3/4 분의를 구하고, 이에 기반해 IQR을 계산\n",
        "- 계산된 IQR에 1.5를 곱해서 최댓값고 ㅏ최솟값 지점을 구한 뒤,\n",
        "- 최댓값보다 크거나 최솟값보다 작은 값을 이상치로 설정하고,\n",
        "- 해당 이상치가 있는 DataFrame Index를 반환\n"
      ],
      "metadata": {
        "id": "86N_TFj7kNqv"
      }
    },
    {
      "cell_type": "code",
      "source": [
        "import numpy as np\n",
        "\n",
        "def get_outlier(df= None, column= None, weight=1.5):\n",
        "  fraud = df[df['Class']==1][column]                # fraud에 해당하는  column 데이터만 추출\n",
        "  quantile_25 = np.percentile(fraud.values, 25)      # 1/4분위 지점을 np.percdntile로 구함\n",
        "  quantile_75 = np.percentile(fraud.values, 75)      # 3/4분위 지점\n",
        "\n",
        "  iqr = quantile_75 - quantile_25\n",
        "  iqr_weight = iqr * weight\n",
        "\n",
        "  lowest_val = quantile_25 - iqr_weight           # 최솟값\n",
        "  highest_val = quantile_75 + iqr_weight          # 최댓값\n",
        "\n",
        "  outlier_index = fraud[(fraud < lowest_val) | (fraud > highest_val)].index   # 설정된 이상치를 DataFrame index반환\n",
        "  return outlier_index\n"
      ],
      "metadata": {
        "id": "SbUoBfacN_T7"
      },
      "execution_count": 20,
      "outputs": []
    },
    {
      "cell_type": "markdown",
      "source": [
        "- get_outlier() 함수를 이용해서 V14 칼럼에서 이상치 데이터를 찾는다.\n"
      ],
      "metadata": {
        "id": "83CMtfVKqIoJ"
      }
    },
    {
      "cell_type": "code",
      "source": [
        "# V14 컬럼 이상치 찾기\n",
        "outlier_index = get_outlier(df=card_df, column= 'V14', weight= 1.5)\n",
        "print('이상치 데이터 인덱스', outlier_index)"
      ],
      "metadata": {
        "colab": {
          "base_uri": "https://localhost:8080/"
        },
        "id": "NcX1WRUgn-mn",
        "outputId": "f5cbeb08-4a65-4bd7-f5f4-89cb75913c80"
      },
      "execution_count": 21,
      "outputs": [
        {
          "output_type": "stream",
          "name": "stdout",
          "text": [
            "이상치 데이터 인덱스 Index([8296, 8615, 9035, 9252], dtype='int64')\n"
          ]
        }
      ]
    },
    {
      "cell_type": "markdown",
      "source": [
        "- 총 4개의 데이터 : 8296, 8615, 9035, 9252 의 index가 이상치로 추출\n"
      ],
      "metadata": {
        "id": "UbySlkM8sST4"
      }
    },
    {
      "cell_type": "markdown",
      "source": [
        "### 데이터를 가공한 후, 데이터 세트를 이용해 로지스틱 회귀와 LightGBM 모델을 다시 적용\n",
        "- get_outlier() 를 이용해 이상치를 추출하고,\n",
        "- 이를 삭제하는 로직을 get_processed_df() 함수에 추가하여\n",
        "- 데이터를 가공한다."
      ],
      "metadata": {
        "id": "71KTKi8qtJNh"
      }
    },
    {
      "cell_type": "code",
      "source": [
        "# get_prodessed()를 로그 변환 후, V14 피처의 이상치 데이터를 삭제하는 로직으로 변경\n",
        "def get_preprocessed_df(df= None) :\n",
        "  df_copy = df.copy()\n",
        "  amount_n = np.log1p(df_copy['Amount'])\n",
        "  df_copy.drop(['Time', 'Amount'], axis = 1, inplace = True)\n",
        "\n",
        "  #이상치 데이ㅓ 삭제하는 로직 추가\n",
        "  outlier_index = get_outlier(df=df_copy, column= 'V14', weight= 1.5)\n",
        "  df_copy.drop(outlier_index, axis= 0, inplace= True)\n",
        "  return df_copy\n"
      ],
      "metadata": {
        "id": "ksXetF2mn-qu"
      },
      "execution_count": 22,
      "outputs": []
    },
    {
      "cell_type": "code",
      "source": [
        "# 로지스틱 회귀와 LightGBM 모델을 적용 한 후  예측 성능 확인\n",
        "X_train, X_test, y_train, y_test = get_train_test_dataset(card_df)\n",
        "\n",
        "print('### 로지스틱 회귀 예측 성능 ###')\n",
        "get_model_train_eval(\n",
        "    lr_clf,\n",
        "    ftr_train = X_train,\n",
        "    ftr_test = X_test,\n",
        "    tgt_train = y_train,\n",
        "    tgt_test = y_test)\n",
        "\n",
        "print('### LightGBM 예측 성능 ###')\n",
        "get_model_train_eval(\n",
        "    lgbm_clf,\n",
        "    ftr_train = X_train,\n",
        "    ftr_test = X_test,\n",
        "    tgt_train = y_train,\n",
        "    tgt_test=y_test)"
      ],
      "metadata": {
        "id": "7oezZ4LFn-vA",
        "colab": {
          "base_uri": "https://localhost:8080/"
        },
        "outputId": "20256b5e-392e-4613-c5f8-2b175f424ac4"
      },
      "execution_count": 23,
      "outputs": [
        {
          "output_type": "stream",
          "name": "stdout",
          "text": [
            "### 로지스틱 회귀 예측 성능 ###\n",
            "오차 행렬\n",
            "[[85280    15]\n",
            " [   49    97]]\n",
            "정확도 : 0.9993, 정밀도 : 0.8661, 재현율 : 0.6644, AUC : 0.9758\n",
            "### LightGBM 예측 성능 ###\n",
            "오차 행렬\n",
            "[[85290     5]\n",
            " [   26   120]]\n",
            "정확도 : 0.9996, 정밀도 : 0.9600, 재현율 : 0.8219, AUC : 0.9765\n"
          ]
        }
      ]
    },
    {
      "cell_type": "markdown",
      "source": [
        "- 이상치 데이터를 제거한 뒤, 로지스틱 회귀와 KightGBM 모두 예측 성능이 크게 향상\n",
        "- 로지스틱 회귀 경우, 재현율이 60.14%에서 66.44%로\n",
        "- LightGBM 경우, 재현율이 76.35%에서 82.19%로 크게 향상"
      ],
      "metadata": {
        "id": "yoaMyZVNvaFU"
      }
    },
    {
      "cell_type": "markdown",
      "source": [
        "# SMOTE 오버 샘플링 적용 후 모델 학습/예측/평가\n",
        "- 앞에서 설치한 imbalanced-learn 패키지의 SMOTE 클래스를 이용해 간단히 구현가능\n",
        "- SMOTE를 적용할 때는 반드시 학습 데이터 세트만 오버 셈플링을 해야한다."
      ],
      "metadata": {
        "id": "_3bMdtqkwG0v"
      }
    },
    {
      "cell_type": "markdown",
      "source": [
        "### 검증 데이터 세트나 테스트 데이터 세트를 오버 샘플링할 경우\n",
        "- 결국은 원본 데이터 세트가 아닌 데이터 세트에서 검증 또는 데스트를 수행하기 떄문에 올바른 검증/테스트가 될 수 없다.\n",
        "\n",
        "### 데이터를 증식 전과 비교\n",
        "- 앞 예제에서 생성한 학습 피처/레이블 데이터를\n",
        "- SMOTE 객체의 fir_resample() 메서드를 이용하여 증식한 뒤 비교한다."
      ],
      "metadata": {
        "id": "-JXZSQomwUzG"
      }
    },
    {
      "cell_type": "code",
      "source": [
        "from imblearn.over_sampling import SMOTE\n",
        "\n",
        "smote = SMOTE(random_state= 0)\n",
        "X_train_over, y_train_over = smote.fit_resample(X_train, y_train)\n",
        "\n",
        "print('SMOTE 적용 전 학습용 피처/레이블 데이터 세트:', X_train.shape, y_train.shape)\n",
        "print('SMOTE 적용 후 학습용 피처/레이블 데이터 세트:', X_train_over.shape, y_train_over.shape)\n",
        "\n",
        "print('SMOTE 적용 후 레이블 값 분포:\\n', pd.Series(y_train_over).value_counts())\n"
      ],
      "metadata": {
        "id": "sW5g98p2n-zO",
        "colab": {
          "base_uri": "https://localhost:8080/"
        },
        "outputId": "38d898ec-0999-40d0-91fe-7c36fb15e78f"
      },
      "execution_count": 24,
      "outputs": [
        {
          "output_type": "stream",
          "name": "stdout",
          "text": [
            "SMOTE 적용 전 학습용 피처/레이블 데이터 세트: (199362, 28) (199362,)\n",
            "SMOTE 적용 후 학습용 피처/레이블 데이터 세트: (398040, 28) (398040,)\n",
            "SMOTE 적용 후 레이블 값 분포:\n",
            " Class\n",
            "0    199020\n",
            "1    199020\n",
            "Name: count, dtype: int64\n"
          ]
        }
      ]
    },
    {
      "cell_type": "markdown",
      "source": [
        "- SMOTE 적용 전 학습 데이터 세트 : 199,362 건\n",
        "- SMOTE 적용 후 학습 데이터 세트 : 398,040 건  (2배 가깝게 증식)\n",
        "- SMOTE 적용 후 레이블 값이 0과 1의 분포가 동일하게 199,020 건으로 생성\n",
        "\n",
        "### 생성된 학습 데이터 세트를 기반으로 우선 로지스틱 회귀 모델을 학습 한 뒤 성능 평가"
      ],
      "metadata": {
        "id": "bQ169OTkzaa_"
      }
    },
    {
      "cell_type": "code",
      "source": [
        "# ftr_train과 tgt_train 인자 값이 SMOTE 증식된 X_train_over아 y_train_over 로 변경됨에 유의\n",
        "\n",
        "print('### 로지스틱 회귀 예측 성능 ###')\n",
        "\n",
        "lr_clf = LogisticRegression(max_iter= 1000)\n",
        "get_model_train_eval(\n",
        "    lr_clf,\n",
        "    ftr_train = X_train_over,\n",
        "    ftr_test = X_test,\n",
        "    tgt_train = y_train_over,\n",
        "    tgt_test = y_test)\n"
      ],
      "metadata": {
        "colab": {
          "base_uri": "https://localhost:8080/"
        },
        "id": "NyFGLeU-zB2M",
        "outputId": "761de6c4-7c45-46fc-d29e-cef31ed3a2d4"
      },
      "execution_count": 25,
      "outputs": [
        {
          "output_type": "stream",
          "name": "stdout",
          "text": [
            "### 로지스틱 회귀 예측 성능 ###\n",
            "오차 행렬\n",
            "[[82887  2408]\n",
            " [   11   135]]\n",
            "정확도 : 0.9717, 정밀도 : 0.0531, 재현율 : 0.9247, AUC : 0.9735\n"
          ]
        }
      ]
    },
    {
      "cell_type": "markdown",
      "source": [
        "### 로지스틱 회귀 모델 : SMOTE로 오버 샘플링된 데이터로 학습할 경우\n",
        "- 재현율 : 66.44%에서 92.47%로 크게 증가\n",
        "- 정밀도 : 96.00%에서 5.31%로 급격하게 저하\n",
        "- 재현율이 높더라도 이 정도로 저조한 정밀도로는 현실 업무네 적용할 수 없다\n",
        "### 정밀도가 급격하게 저하된 이유:\n",
        "- 오버 셈플링으로 인해 실제 원본 데이터의 유형보다 너무나 많은 Class= 1 데이터를 학습하면서,\n",
        "- 실제 테스트 데이터 세트에서 예측을 지난치게 Class=1로 적용해 정밀도가 급격히 떨어지게 된 것"
      ],
      "metadata": {
        "id": "tcjROxGxwTmA"
      }
    },
    {
      "cell_type": "markdown",
      "source": [
        "### SMOTE로 학습된 로지스틱 회귀 모델에 어떠한 문제가 발생하고 있는지 시각적으로 확인p.293(311)\n",
        "- 분류 결정 임계값에 따른 정밀도와 재현율 곡선을 통해 확인\n",
        "- 3장에서 사용한 precision_recall_curve_plot()  함수 이용 p.163(181)\n"
      ],
      "metadata": {
        "id": "lKLWilTQ3fwQ"
      }
    },
    {
      "cell_type": "code",
      "source": [
        "# from sklearn.model_selection import train_test_split\n",
        "# from sklearn.linear_model import LogisticRegression\n",
        "# from sklearn.metrics import precision_recall_curve\n",
        "# import pandas as pd\n",
        "\n",
        "# # 예시용 데이터 준비 (card_df는 데이터프레임)\n",
        "# X = card_df.drop('Class', axis=1)\n",
        "# y = card_df['Class']\n",
        "\n",
        "# # 학습/테스트 분리\n",
        "# X_train, X_test, y_train, y_test = train_test_split(X, y, test_size=0.2, stratify=y, random_state=42)\n",
        "\n",
        "# # 모델 학습\n",
        "# lr_clf = LogisticRegression(max_iter=1000)\n",
        "# lr_clf.fit(X_train, y_train)\n",
        "\n",
        "# # 예측 확률 추출\n",
        "# probas_pred = lr_clf.predict_proba(X_test)[:, 1]  # Positive 클래스 확률\n",
        "# y_true = y_test                                   # 실제 정답 레이블\n",
        "\n",
        "# # Precision-Recall Curve 계산\n",
        "# precisions, recalls, thresholds = precision_recall_curve(y_true, probas_pred)\n"
      ],
      "metadata": {
        "id": "w3EMtjbmfmXo"
      },
      "execution_count": 26,
      "outputs": []
    },
    {
      "cell_type": "code",
      "source": [
        "# # p.163(180)\n",
        "# from sklearn.metrics import precision_recall_curve\n",
        "# import matplotlib.pyplot as plt\n",
        "# import numpy as np\n",
        "\n",
        "# def precision_recall_curve_plot(y_test, pred_proba_c1):\n",
        "#     # 정밀도, 재현율, 임계값 추출\n",
        "#     precisions, recalls, thresholds = precision_recall_curve(y_test, pred_proba_c1)\n",
        "#     threshold_boundary = thresholds.shape[0]\n",
        "\n",
        "#     # 그래프 설정\n",
        "#     plt.figure(figsize=(8, 6))\n",
        "#     plt.plot(thresholds, precisions[:threshold_boundary], linestyle='--', label='precision')  # 점선\n",
        "#     #plt.plot(thresholds, precisions[0: threshold_boundary], linedstyle= '--', label= 'precision')\n",
        "\n",
        "#     plt.plot(thresholds, recalls[:threshold_boundary], label='recall')  # 실선\n",
        "\n",
        "#     # x축 눈금 설정\n",
        "#     start, end = plt.xlim()\n",
        "#     plt.xticks(np.round(np.arange(start, end, 0.1), 2))\n",
        "\n",
        "#     # 라벨, 범례, 그리드 설정\n",
        "#     plt.xlabel('Threshold value')\n",
        "#     plt.ylabel('Precision and Recall value')\n",
        "#     plt.legend()\n",
        "#     plt.grid()\n",
        "#     plt.show()\n",
        "\n",
        "# # 함수 호출 예시\n",
        "# precision_recall_curve_plot(y_test, lr_clf.predict_proba(X_test)[:, 1])\n"
      ],
      "metadata": {
        "id": "JfTchwmApJ68"
      },
      "execution_count": 27,
      "outputs": []
    },
    {
      "cell_type": "markdown",
      "source": [
        "# p.164(183) precision_recall_curve_plot\n",
        "- 정밀도는 점선, 재현율은 실선\n",
        "- 임곗값이 낮을수록 많은 수의 양성 예측으로 인해 재현율 값이 극도로 높아지고, 정밀도 값이 극도로 낮아진다.\n",
        "- 임곗값을 계속 증가시킬수록 재현율 값이 낮아지고 정밀도 값이 높아지는 반대의 양상\n"
      ],
      "metadata": {
        "id": "iRQk0jEEp9iA"
      }
    },
    {
      "cell_type": "markdown",
      "source": [
        "### p.293(311)  \n",
        "- 분류 결정 임곗값에 따른 정밀도와 재현율 곡선을 통해,\n",
        "- SMOTE로 학습된 로지스틱 회귀 모델에 어떠한 문제가 발생하고 있는지 시각적으로 확인"
      ],
      "metadata": {
        "id": "uPAOIAzM3e4h"
      }
    },
    {
      "cell_type": "code",
      "source": [
        "from sklearn.metrics import precision_recall_curve\n",
        "import matplotlib.pyplot as plt\n",
        "import numpy as np\n",
        "\n",
        "def precision_recall_curve_plot(y_test, pred_proba_c1):\n",
        "    # 정밀도, 재현율, 임계값 추출\n",
        "    precisions, recalls, thresholds = precision_recall_curve(y_test, pred_proba_c1)\n",
        "    threshold_boundary = thresholds.shape[0]\n",
        "\n",
        "    # 흑백 스타일 설정\n",
        "    plt.figure(figsize=(8, 6))\n",
        "    plt.plot(thresholds, precisions[:threshold_boundary], linestyle='--', color='gray', label='precision')  # 점선 회색\n",
        "    plt.plot(thresholds, recalls[:threshold_boundary], linestyle='-', color='gray', label='recall')          # 실선 회색\n",
        "\n",
        "    # x축 눈금 설정\n",
        "    start, end = plt.xlim()\n",
        "    plt.xticks(np.round(np.arange(start, end, 0.1), 2))\n",
        "\n",
        "    # 라벨, 범례, 그리드\n",
        "    plt.xlabel('Threshold value')\n",
        "    plt.ylabel('Precision and Recall value')\n",
        "    plt.legend(loc='best')   # 범례 위치 자동\n",
        "    plt.grid()\n",
        "    plt.show()\n",
        "\n",
        "# 사용 예시\n",
        "precision_recall_curve_plot(y_test, lr_clf.predict_proba(X_test)[:, 1])\n"
      ],
      "metadata": {
        "colab": {
          "base_uri": "https://localhost:8080/",
          "height": 542
        },
        "id": "iEwfzYsD1Zn5",
        "outputId": "420911d6-5602-49db-bd9e-bad59f24d4b3"
      },
      "execution_count": 28,
      "outputs": [
        {
          "output_type": "display_data",
          "data": {
            "text/plain": [
              "<Figure size 800x600 with 1 Axes>"
            ],
            "image/png": "[encoded data removed]"
          },
          "metadata": {}
        }
      ]
    },
    {
      "cell_type": "code",
      "source": [],
      "metadata": {
        "id": "lLmP0m_k1ZrM"
      },
      "execution_count": 28,
      "outputs": []
    },
    {
      "cell_type": "markdown",
      "source": [],
      "metadata": {
        "id": "9aYWzMeptgoP"
      }
    },
    {
      "cell_type": "code",
      "source": [
        "lgbm_clf =LGBMClassifier(\n",
        "    n_estimators= 1000\n",
        ")"
      ],
      "metadata": {
        "id": "7hjfwZ4RtjKj"
      },
      "execution_count": 29,
      "outputs": []
    }
  ]
}