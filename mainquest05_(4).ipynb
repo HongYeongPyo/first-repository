{
  "metadata": {
    "kernelspec": {
      "language": "python",
      "display_name": "Python 3",
      "name": "python3"
    },
    "language_info": {
      "name": "python",
      "version": "3.11.11",
      "mimetype": "text/x-python",
      "codemirror_mode": {
        "name": "ipython",
        "version": 3
      },
      "pygments_lexer": "ipython3",
      "nbconvert_exporter": "python",
      "file_extension": ".py"
    },
    "kaggle": {
      "accelerator": "none",
      "dataSources": [
        {
          "sourceId": 101520,
          "databundleVersionId": 12222871,
          "sourceType": "competition"
        }
      ],
      "dockerImageVersionId": 31012,
      "isInternetEnabled": true,
      "language": "python",
      "sourceType": "notebook",
      "isGpuEnabled": false
    },
    "colab": {
      "provenance": [],
      "include_colab_link": true
    }
  },
  "nbformat_minor": 0,
  "nbformat": 4,
  "cells": [
    {
      "cell_type": "markdown",
      "metadata": {
        "id": "view-in-github",
        "colab_type": "text"
      },
      "source": [
        "<a href=\"https://colab.research.google.com/github/HongYeongPyo/first-repository/blob/master/mainquest05_(4).ipynb\" target=\"_parent\"><img src=\"https://colab.research.google.com/assets/colab-badge.svg\" alt=\"Open In Colab\"/></a>"
      ]
    },
    {
      "cell_type": "code",
      "source": [
        "!pip install -U scikit-learn==1.4.2 imbalanced-learn==0.12.0"
      ],
      "metadata": {
        "trusted": true,
        "execution": {
          "iopub.status.busy": "2025-05-13T14:26:39.655756Z",
          "iopub.execute_input": "2025-05-13T14:26:39.656184Z",
          "iopub.status.idle": "2025-05-13T14:26:43.941012Z",
          "shell.execute_reply.started": "2025-05-13T14:26:39.656161Z",
          "shell.execute_reply": "2025-05-13T14:26:43.939822Z"
        },
        "id": "vpzMb0Za7Nyu",
        "outputId": "d2aff765-3737-4c80-acbb-72693ff53782"
      },
      "outputs": [
        {
          "name": "stdout",
          "text": "Requirement already satisfied: scikit-learn==1.4.2 in /usr/local/lib/python3.11/dist-packages (1.4.2)\nRequirement already satisfied: imbalanced-learn==0.12.0 in /usr/local/lib/python3.11/dist-packages (0.12.0)\nRequirement already satisfied: numpy>=1.19.5 in /usr/local/lib/python3.11/dist-packages (from scikit-learn==1.4.2) (1.26.4)\nRequirement already satisfied: scipy>=1.6.0 in /usr/local/lib/python3.11/dist-packages (from scikit-learn==1.4.2) (1.15.2)\nRequirement already satisfied: joblib>=1.2.0 in /usr/local/lib/python3.11/dist-packages (from scikit-learn==1.4.2) (1.4.2)\nRequirement already satisfied: threadpoolctl>=2.0.0 in /usr/local/lib/python3.11/dist-packages (from scikit-learn==1.4.2) (3.6.0)\nRequirement already satisfied: mkl_fft in /usr/local/lib/python3.11/dist-packages (from numpy>=1.19.5->scikit-learn==1.4.2) (1.3.8)\nRequirement already satisfied: mkl_random in /usr/local/lib/python3.11/dist-packages (from numpy>=1.19.5->scikit-learn==1.4.2) (1.2.4)\nRequirement already satisfied: mkl_umath in /usr/local/lib/python3.11/dist-packages (from numpy>=1.19.5->scikit-learn==1.4.2) (0.1.1)\nRequirement already satisfied: mkl in /usr/local/lib/python3.11/dist-packages (from numpy>=1.19.5->scikit-learn==1.4.2) (2025.1.0)\nRequirement already satisfied: tbb4py in /usr/local/lib/python3.11/dist-packages (from numpy>=1.19.5->scikit-learn==1.4.2) (2022.1.0)\nRequirement already satisfied: mkl-service in /usr/local/lib/python3.11/dist-packages (from numpy>=1.19.5->scikit-learn==1.4.2) (2.4.1)\nRequirement already satisfied: intel-openmp<2026,>=2024 in /usr/local/lib/python3.11/dist-packages (from mkl->numpy>=1.19.5->scikit-learn==1.4.2) (2024.2.0)\nRequirement already satisfied: tbb==2022.* in /usr/local/lib/python3.11/dist-packages (from mkl->numpy>=1.19.5->scikit-learn==1.4.2) (2022.1.0)\nRequirement already satisfied: tcmlib==1.* in /usr/local/lib/python3.11/dist-packages (from tbb==2022.*->mkl->numpy>=1.19.5->scikit-learn==1.4.2) (1.2.0)\nRequirement already satisfied: intel-cmplr-lib-rt in /usr/local/lib/python3.11/dist-packages (from mkl_umath->numpy>=1.19.5->scikit-learn==1.4.2) (2024.2.0)\nRequirement already satisfied: intel-cmplr-lib-ur==2024.2.0 in /usr/local/lib/python3.11/dist-packages (from intel-openmp<2026,>=2024->mkl->numpy>=1.19.5->scikit-learn==1.4.2) (2024.2.0)\n",
          "output_type": "stream"
        }
      ],
      "execution_count": null
    },
    {
      "cell_type": "code",
      "source": [
        "from sklearn.model_selection import train_test_split\n",
        "from sklearn.linear_model import LogisticRegression\n",
        "from sklearn.metrics import accuracy_score, precision_score, recall_score, confusion_matrix, f1_score, roc_auc_score\n",
        "from lightgbm import LGBMClassifier\n",
        "from imblearn.over_sampling import SMOTE\n",
        "import os\n",
        "\n",
        "import pandas as pd\n",
        "import numpy as np\n",
        "import matplotlib.pyplot as plt\n",
        "import seaborn as sns\n",
        "\n",
        "import warnings\n",
        "warnings.filterwarnings(\"ignore\")"
      ],
      "metadata": {
        "trusted": true,
        "execution": {
          "iopub.status.busy": "2025-05-13T14:26:51.138581Z",
          "iopub.execute_input": "2025-05-13T14:26:51.138879Z",
          "iopub.status.idle": "2025-05-13T14:26:51.145812Z",
          "shell.execute_reply.started": "2025-05-13T14:26:51.138860Z",
          "shell.execute_reply": "2025-05-13T14:26:51.144264Z"
        },
        "id": "myTxWxfJ7Nyv"
      },
      "outputs": [],
      "execution_count": null
    },
    {
      "cell_type": "code",
      "source": [
        "card_train = train =pd.read_csv(\"/kaggle/input/modu-ds-4-credit-card-fraud-detection/train.csv\")\n",
        "card_test = test= pd.read_csv(\"/kaggle/input/modu-ds-4-credit-card-fraud-detection/test.csv\")"
      ],
      "metadata": {
        "trusted": true,
        "execution": {
          "iopub.status.busy": "2025-05-13T14:57:39.802290Z",
          "iopub.execute_input": "2025-05-13T14:57:39.802964Z",
          "iopub.status.idle": "2025-05-13T14:57:42.497111Z",
          "shell.execute_reply.started": "2025-05-13T14:57:39.802942Z",
          "shell.execute_reply": "2025-05-13T14:57:42.495838Z"
        },
        "id": "Cflyo-BV7Nyw"
      },
      "outputs": [],
      "execution_count": null
    },
    {
      "cell_type": "code",
      "source": [
        "train.head()"
      ],
      "metadata": {
        "trusted": true,
        "execution": {
          "iopub.status.busy": "2025-05-13T14:27:40.787008Z",
          "iopub.execute_input": "2025-05-13T14:27:40.787360Z",
          "iopub.status.idle": "2025-05-13T14:27:40.814111Z",
          "shell.execute_reply.started": "2025-05-13T14:27:40.787321Z",
          "shell.execute_reply": "2025-05-13T14:27:40.813146Z"
        },
        "id": "1biz698L7Nyw",
        "outputId": "e8fb20ec-2951-4e44-c19a-ffda7c3dbd24"
      },
      "outputs": [
        {
          "execution_count": 45,
          "output_type": "execute_result",
          "data": {
            "text/plain": "   id  Time        V1        V2        V3        V4        V5        V6  \\\n0   0   0.0 -1.359807 -0.072781  2.536347  1.378155 -0.338321  0.462388   \n1   1   0.0  1.191857  0.266151  0.166480  0.448154  0.060018 -0.082361   \n2   2   1.0 -1.358354 -1.340163  1.773209  0.379780 -0.503198  1.800499   \n3   3   1.0 -0.966272 -0.185226  1.792993 -0.863291 -0.010309  1.247203   \n4   4   2.0 -1.158233  0.877737  1.548718  0.403034 -0.407193  0.095921   \n\n         V7        V8  ...       V21       V22       V23       V24       V25  \\\n0  0.239599  0.098698  ... -0.018307  0.277838 -0.110474  0.066928  0.128539   \n1 -0.078803  0.085102  ... -0.225775 -0.638672  0.101288 -0.339846  0.167170   \n2  0.791461  0.247676  ...  0.247998  0.771679  0.909412 -0.689281 -0.327642   \n3  0.237609  0.377436  ... -0.108300  0.005274 -0.190321 -1.175575  0.647376   \n4  0.592941 -0.270533  ... -0.009431  0.798278 -0.137458  0.141267 -0.206010   \n\n        V26       V27       V28  Amount  Class  \n0 -0.189115  0.133558 -0.021053  149.62      0  \n1  0.125895 -0.008983  0.014724    2.69      0  \n2 -0.139097 -0.055353 -0.059752  378.66      0  \n3 -0.221929  0.062723  0.061458  123.50      0  \n4  0.502292  0.219422  0.215153   69.99      0  \n\n[5 rows x 32 columns]",
            "text/html": "<div>\n<style scoped>\n    .dataframe tbody tr th:only-of-type {\n        vertical-align: middle;\n    }\n\n    .dataframe tbody tr th {\n        vertical-align: top;\n    }\n\n    .dataframe thead th {\n        text-align: right;\n    }\n</style>\n<table border=\"1\" class=\"dataframe\">\n  <thead>\n    <tr style=\"text-align: right;\">\n      <th></th>\n      <th>id</th>\n      <th>Time</th>\n      <th>V1</th>\n      <th>V2</th>\n      <th>V3</th>\n      <th>V4</th>\n      <th>V5</th>\n      <th>V6</th>\n      <th>V7</th>\n      <th>V8</th>\n      <th>...</th>\n      <th>V21</th>\n      <th>V22</th>\n      <th>V23</th>\n      <th>V24</th>\n      <th>V25</th>\n      <th>V26</th>\n      <th>V27</th>\n      <th>V28</th>\n      <th>Amount</th>\n      <th>Class</th>\n    </tr>\n  </thead>\n  <tbody>\n    <tr>\n      <th>0</th>\n      <td>0</td>\n      <td>0.0</td>\n      <td>-1.359807</td>\n      <td>-0.072781</td>\n      <td>2.536347</td>\n      <td>1.378155</td>\n      <td>-0.338321</td>\n      <td>0.462388</td>\n      <td>0.239599</td>\n      <td>0.098698</td>\n      <td>...</td>\n      <td>-0.018307</td>\n      <td>0.277838</td>\n      <td>-0.110474</td>\n      <td>0.066928</td>\n      <td>0.128539</td>\n      <td>-0.189115</td>\n      <td>0.133558</td>\n      <td>-0.021053</td>\n      <td>149.62</td>\n      <td>0</td>\n    </tr>\n    <tr>\n      <th>1</th>\n      <td>1</td>\n      <td>0.0</td>\n      <td>1.191857</td>\n      <td>0.266151</td>\n      <td>0.166480</td>\n      <td>0.448154</td>\n      <td>0.060018</td>\n      <td>-0.082361</td>\n      <td>-0.078803</td>\n      <td>0.085102</td>\n      <td>...</td>\n      <td>-0.225775</td>\n      <td>-0.638672</td>\n      <td>0.101288</td>\n      <td>-0.339846</td>\n      <td>0.167170</td>\n      <td>0.125895</td>\n      <td>-0.008983</td>\n      <td>0.014724</td>\n      <td>2.69</td>\n      <td>0</td>\n    </tr>\n    <tr>\n      <th>2</th>\n      <td>2</td>\n      <td>1.0</td>\n      <td>-1.358354</td>\n      <td>-1.340163</td>\n      <td>1.773209</td>\n      <td>0.379780</td>\n      <td>-0.503198</td>\n      <td>1.800499</td>\n      <td>0.791461</td>\n      <td>0.247676</td>\n      <td>...</td>\n      <td>0.247998</td>\n      <td>0.771679</td>\n      <td>0.909412</td>\n      <td>-0.689281</td>\n      <td>-0.327642</td>\n      <td>-0.139097</td>\n      <td>-0.055353</td>\n      <td>-0.059752</td>\n      <td>378.66</td>\n      <td>0</td>\n    </tr>\n    <tr>\n      <th>3</th>\n      <td>3</td>\n      <td>1.0</td>\n      <td>-0.966272</td>\n      <td>-0.185226</td>\n      <td>1.792993</td>\n      <td>-0.863291</td>\n      <td>-0.010309</td>\n      <td>1.247203</td>\n      <td>0.237609</td>\n      <td>0.377436</td>\n      <td>...</td>\n      <td>-0.108300</td>\n      <td>0.005274</td>\n      <td>-0.190321</td>\n      <td>-1.175575</td>\n      <td>0.647376</td>\n      <td>-0.221929</td>\n      <td>0.062723</td>\n      <td>0.061458</td>\n      <td>123.50</td>\n      <td>0</td>\n    </tr>\n    <tr>\n      <th>4</th>\n      <td>4</td>\n      <td>2.0</td>\n      <td>-1.158233</td>\n      <td>0.877737</td>\n      <td>1.548718</td>\n      <td>0.403034</td>\n      <td>-0.407193</td>\n      <td>0.095921</td>\n      <td>0.592941</td>\n      <td>-0.270533</td>\n      <td>...</td>\n      <td>-0.009431</td>\n      <td>0.798278</td>\n      <td>-0.137458</td>\n      <td>0.141267</td>\n      <td>-0.206010</td>\n      <td>0.502292</td>\n      <td>0.219422</td>\n      <td>0.215153</td>\n      <td>69.99</td>\n      <td>0</td>\n    </tr>\n  </tbody>\n</table>\n<p>5 rows × 32 columns</p>\n</div>"
          },
          "metadata": {}
        }
      ],
      "execution_count": null
    },
    {
      "cell_type": "code",
      "source": [
        "train.info()"
      ],
      "metadata": {
        "trusted": true,
        "execution": {
          "iopub.status.busy": "2025-05-13T14:27:44.609175Z",
          "iopub.execute_input": "2025-05-13T14:27:44.609574Z",
          "iopub.status.idle": "2025-05-13T14:27:44.645464Z",
          "shell.execute_reply.started": "2025-05-13T14:27:44.609548Z",
          "shell.execute_reply": "2025-05-13T14:27:44.644541Z"
        },
        "id": "-M2-OSGJ7Nyw",
        "outputId": "25e99bf1-ea65-4041-97f0-d6ecef9b25dc"
      },
      "outputs": [
        {
          "name": "stdout",
          "text": "<class 'pandas.core.frame.DataFrame'>\nRangeIndex: 170883 entries, 0 to 170882\nData columns (total 32 columns):\n #   Column  Non-Null Count   Dtype  \n---  ------  --------------   -----  \n 0   id      170883 non-null  int64  \n 1   Time    170883 non-null  float64\n 2   V1      170883 non-null  float64\n 3   V2      170883 non-null  float64\n 4   V3      170883 non-null  float64\n 5   V4      170883 non-null  float64\n 6   V5      170883 non-null  float64\n 7   V6      170883 non-null  float64\n 8   V7      170883 non-null  float64\n 9   V8      170883 non-null  float64\n 10  V9      170883 non-null  float64\n 11  V10     170883 non-null  float64\n 12  V11     170883 non-null  float64\n 13  V12     170883 non-null  float64\n 14  V13     170883 non-null  float64\n 15  V14     170883 non-null  float64\n 16  V15     170883 non-null  float64\n 17  V16     170883 non-null  float64\n 18  V17     170883 non-null  float64\n 19  V18     170883 non-null  float64\n 20  V19     170883 non-null  float64\n 21  V20     170883 non-null  float64\n 22  V21     170883 non-null  float64\n 23  V22     170883 non-null  float64\n 24  V23     170883 non-null  float64\n 25  V24     170883 non-null  float64\n 26  V25     170883 non-null  float64\n 27  V26     170883 non-null  float64\n 28  V27     170883 non-null  float64\n 29  V28     170883 non-null  float64\n 30  Amount  170883 non-null  float64\n 31  Class   170883 non-null  int64  \ndtypes: float64(30), int64(2)\nmemory usage: 41.7 MB\n",
          "output_type": "stream"
        }
      ],
      "execution_count": null
    },
    {
      "cell_type": "code",
      "source": [
        "test.head()"
      ],
      "metadata": {
        "trusted": true,
        "execution": {
          "iopub.status.busy": "2025-05-13T14:28:03.564209Z",
          "iopub.execute_input": "2025-05-13T14:28:03.565311Z",
          "iopub.status.idle": "2025-05-13T14:28:03.592207Z",
          "shell.execute_reply.started": "2025-05-13T14:28:03.565272Z",
          "shell.execute_reply": "2025-05-13T14:28:03.591087Z"
        },
        "id": "QpPW-AbF7Nyw",
        "outputId": "de3f51f6-9c64-4f5f-8e00-665629395e31"
      },
      "outputs": [
        {
          "execution_count": 47,
          "output_type": "execute_result",
          "data": {
            "text/plain": "       id      Time        V1        V2        V3        V4        V5  \\\n0  170883  120396.0 -2.410892 -1.264333 -0.787460 -0.212152  1.139859   \n1  170884  120396.0 -1.394526  0.284790  2.979226  0.362345 -1.344546   \n2  170885  120396.0  0.140378  0.989574 -0.506447  0.480553  1.407763   \n3  170886  120396.0 -1.303150  0.187865  0.944395 -1.277834  1.236744   \n4  170887  120396.0  1.947883 -1.095332 -1.392121 -0.600598 -0.320840   \n\n         V6        V7        V8  ...       V20       V21       V22       V23  \\\n0 -2.030200  0.533818 -0.194852  ... -0.558831 -0.076699  0.054816 -1.243901   \n1  2.278858 -1.836101 -1.797895  ... -0.807798  1.945416 -0.539926 -0.446763   \n2  0.371637  0.811775  0.067702  ...  0.120841  0.385872  1.302941 -0.177157   \n3 -1.301696  1.402234 -0.558914  ... -0.251346 -0.274175 -0.656826 -0.164985   \n4  0.048953 -0.443486 -0.081011  ... -0.293448 -0.250594 -0.385151  0.099030   \n\n        V24       V25       V26       V27       V28  Amount  \n0  0.147148  0.974330  1.309377  0.083660 -0.611166  124.98  \n1 -0.521142  0.405680 -0.149237  0.458944 -0.071516   50.00  \n2 -0.192410 -0.724567 -0.433276  0.540947  0.323866    8.69  \n3  0.001284 -0.001842 -0.024050 -0.436872  0.051705   59.99  \n4  0.221922 -0.212846  0.586637 -0.071616 -0.045475  119.97  \n\n[5 rows x 31 columns]",
            "text/html": "<div>\n<style scoped>\n    .dataframe tbody tr th:only-of-type {\n        vertical-align: middle;\n    }\n\n    .dataframe tbody tr th {\n        vertical-align: top;\n    }\n\n    .dataframe thead th {\n        text-align: right;\n    }\n</style>\n<table border=\"1\" class=\"dataframe\">\n  <thead>\n    <tr style=\"text-align: right;\">\n      <th></th>\n      <th>id</th>\n      <th>Time</th>\n      <th>V1</th>\n      <th>V2</th>\n      <th>V3</th>\n      <th>V4</th>\n      <th>V5</th>\n      <th>V6</th>\n      <th>V7</th>\n      <th>V8</th>\n      <th>...</th>\n      <th>V20</th>\n      <th>V21</th>\n      <th>V22</th>\n      <th>V23</th>\n      <th>V24</th>\n      <th>V25</th>\n      <th>V26</th>\n      <th>V27</th>\n      <th>V28</th>\n      <th>Amount</th>\n    </tr>\n  </thead>\n  <tbody>\n    <tr>\n      <th>0</th>\n      <td>170883</td>\n      <td>120396.0</td>\n      <td>-2.410892</td>\n      <td>-1.264333</td>\n      <td>-0.787460</td>\n      <td>-0.212152</td>\n      <td>1.139859</td>\n      <td>-2.030200</td>\n      <td>0.533818</td>\n      <td>-0.194852</td>\n      <td>...</td>\n      <td>-0.558831</td>\n      <td>-0.076699</td>\n      <td>0.054816</td>\n      <td>-1.243901</td>\n      <td>0.147148</td>\n      <td>0.974330</td>\n      <td>1.309377</td>\n      <td>0.083660</td>\n      <td>-0.611166</td>\n      <td>124.98</td>\n    </tr>\n    <tr>\n      <th>1</th>\n      <td>170884</td>\n      <td>120396.0</td>\n      <td>-1.394526</td>\n      <td>0.284790</td>\n      <td>2.979226</td>\n      <td>0.362345</td>\n      <td>-1.344546</td>\n      <td>2.278858</td>\n      <td>-1.836101</td>\n      <td>-1.797895</td>\n      <td>...</td>\n      <td>-0.807798</td>\n      <td>1.945416</td>\n      <td>-0.539926</td>\n      <td>-0.446763</td>\n      <td>-0.521142</td>\n      <td>0.405680</td>\n      <td>-0.149237</td>\n      <td>0.458944</td>\n      <td>-0.071516</td>\n      <td>50.00</td>\n    </tr>\n    <tr>\n      <th>2</th>\n      <td>170885</td>\n      <td>120396.0</td>\n      <td>0.140378</td>\n      <td>0.989574</td>\n      <td>-0.506447</td>\n      <td>0.480553</td>\n      <td>1.407763</td>\n      <td>0.371637</td>\n      <td>0.811775</td>\n      <td>0.067702</td>\n      <td>...</td>\n      <td>0.120841</td>\n      <td>0.385872</td>\n      <td>1.302941</td>\n      <td>-0.177157</td>\n      <td>-0.192410</td>\n      <td>-0.724567</td>\n      <td>-0.433276</td>\n      <td>0.540947</td>\n      <td>0.323866</td>\n      <td>8.69</td>\n    </tr>\n    <tr>\n      <th>3</th>\n      <td>170886</td>\n      <td>120396.0</td>\n      <td>-1.303150</td>\n      <td>0.187865</td>\n      <td>0.944395</td>\n      <td>-1.277834</td>\n      <td>1.236744</td>\n      <td>-1.301696</td>\n      <td>1.402234</td>\n      <td>-0.558914</td>\n      <td>...</td>\n      <td>-0.251346</td>\n      <td>-0.274175</td>\n      <td>-0.656826</td>\n      <td>-0.164985</td>\n      <td>0.001284</td>\n      <td>-0.001842</td>\n      <td>-0.024050</td>\n      <td>-0.436872</td>\n      <td>0.051705</td>\n      <td>59.99</td>\n    </tr>\n    <tr>\n      <th>4</th>\n      <td>170887</td>\n      <td>120396.0</td>\n      <td>1.947883</td>\n      <td>-1.095332</td>\n      <td>-1.392121</td>\n      <td>-0.600598</td>\n      <td>-0.320840</td>\n      <td>0.048953</td>\n      <td>-0.443486</td>\n      <td>-0.081011</td>\n      <td>...</td>\n      <td>-0.293448</td>\n      <td>-0.250594</td>\n      <td>-0.385151</td>\n      <td>0.099030</td>\n      <td>0.221922</td>\n      <td>-0.212846</td>\n      <td>0.586637</td>\n      <td>-0.071616</td>\n      <td>-0.045475</td>\n      <td>119.97</td>\n    </tr>\n  </tbody>\n</table>\n<p>5 rows × 31 columns</p>\n</div>"
          },
          "metadata": {}
        }
      ],
      "execution_count": null
    },
    {
      "cell_type": "code",
      "source": [
        "test.info()"
      ],
      "metadata": {
        "trusted": true,
        "execution": {
          "iopub.status.busy": "2025-05-13T14:28:25.306727Z",
          "iopub.execute_input": "2025-05-13T14:28:25.307060Z",
          "iopub.status.idle": "2025-05-13T14:28:25.332981Z",
          "shell.execute_reply.started": "2025-05-13T14:28:25.307040Z",
          "shell.execute_reply": "2025-05-13T14:28:25.332011Z"
        },
        "id": "TepUlwIh7Nyw",
        "outputId": "b29560ac-6864-41f7-c53c-2ccd3666f26b"
      },
      "outputs": [
        {
          "name": "stdout",
          "text": "<class 'pandas.core.frame.DataFrame'>\nRangeIndex: 113923 entries, 0 to 113922\nData columns (total 31 columns):\n #   Column  Non-Null Count   Dtype  \n---  ------  --------------   -----  \n 0   id      113923 non-null  int64  \n 1   Time    113923 non-null  float64\n 2   V1      113923 non-null  float64\n 3   V2      113923 non-null  float64\n 4   V3      113923 non-null  float64\n 5   V4      113923 non-null  float64\n 6   V5      113923 non-null  float64\n 7   V6      113923 non-null  float64\n 8   V7      113923 non-null  float64\n 9   V8      113923 non-null  float64\n 10  V9      113923 non-null  float64\n 11  V10     113923 non-null  float64\n 12  V11     113923 non-null  float64\n 13  V12     113923 non-null  float64\n 14  V13     113923 non-null  float64\n 15  V14     113923 non-null  float64\n 16  V15     113923 non-null  float64\n 17  V16     113923 non-null  float64\n 18  V17     113923 non-null  float64\n 19  V18     113923 non-null  float64\n 20  V19     113923 non-null  float64\n 21  V20     113923 non-null  float64\n 22  V21     113923 non-null  float64\n 23  V22     113923 non-null  float64\n 24  V23     113923 non-null  float64\n 25  V24     113923 non-null  float64\n 26  V25     113923 non-null  float64\n 27  V26     113923 non-null  float64\n 28  V27     113923 non-null  float64\n 29  V28     113923 non-null  float64\n 30  Amount  113923 non-null  float64\ndtypes: float64(30), int64(1)\nmemory usage: 26.9 MB\n",
          "output_type": "stream"
        }
      ],
      "execution_count": null
    },
    {
      "cell_type": "markdown",
      "source": [
        "### train.csv, test.csv  \n",
        "- V로 시작하는 피커들의 의미는 모른다.\n",
        "- time 피처 : 데이터 생성 관련한 작업용 속성 - 제거함\n",
        "- amount 피처 : 신용카드 트랜잭션 금액\n",
        "- class : 레이블, 0의 경우은 정상, 1의 경우는 사기 트랜잭션\n",
        "  \n",
        "- 전체 레코드 수 : 170,883개. 결측치는 없다.\n",
        "- total columns : 32개\n",
        "- id, Class 레이블은 int형, 나머지 피쳐는 floar형"
      ],
      "metadata": {
        "id": "owZ3r1-B7Nyw"
      }
    },
    {
      "cell_type": "code",
      "source": [
        "# 170882 를 기점으로 그 뒤 시점으로 자름\n",
        "\n",
        "train[\"id\"].max(), test[\"id\"].min()\n"
      ],
      "metadata": {
        "trusted": true,
        "execution": {
          "iopub.status.busy": "2025-05-13T14:28:38.504123Z",
          "iopub.execute_input": "2025-05-13T14:28:38.504474Z",
          "iopub.status.idle": "2025-05-13T14:28:38.512331Z",
          "shell.execute_reply.started": "2025-05-13T14:28:38.504453Z",
          "shell.execute_reply": "2025-05-13T14:28:38.511308Z"
        },
        "id": "2ETIb-nO7Nyx",
        "outputId": "62e9eb16-3e4c-42bf-8056-9d99a886c75f"
      },
      "outputs": [
        {
          "execution_count": 49,
          "output_type": "execute_result",
          "data": {
            "text/plain": "(170882, 170883)"
          },
          "metadata": {}
        }
      ],
      "execution_count": null
    },
    {
      "cell_type": "code",
      "source": [
        "train.head()"
      ],
      "metadata": {
        "trusted": true,
        "execution": {
          "iopub.status.busy": "2025-05-13T13:35:19.881660Z",
          "iopub.execute_input": "2025-05-13T13:35:19.882015Z",
          "iopub.status.idle": "2025-05-13T13:35:19.903529Z",
          "shell.execute_reply.started": "2025-05-13T13:35:19.881995Z",
          "shell.execute_reply": "2025-05-13T13:35:19.902143Z"
        },
        "id": "EMP-23CS7Nyx",
        "outputId": "78a80b6b-5fbc-44d7-fe96-3c4e38dd3a86"
      },
      "outputs": [
        {
          "execution_count": 17,
          "output_type": "execute_result",
          "data": {
            "text/plain": "   id  Time        V1        V2        V3        V4        V5        V6  \\\n0   0   0.0 -1.359807 -0.072781  2.536347  1.378155 -0.338321  0.462388   \n1   1   0.0  1.191857  0.266151  0.166480  0.448154  0.060018 -0.082361   \n2   2   1.0 -1.358354 -1.340163  1.773209  0.379780 -0.503198  1.800499   \n3   3   1.0 -0.966272 -0.185226  1.792993 -0.863291 -0.010309  1.247203   \n4   4   2.0 -1.158233  0.877737  1.548718  0.403034 -0.407193  0.095921   \n\n         V7        V8  ...       V21       V22       V23       V24       V25  \\\n0  0.239599  0.098698  ... -0.018307  0.277838 -0.110474  0.066928  0.128539   \n1 -0.078803  0.085102  ... -0.225775 -0.638672  0.101288 -0.339846  0.167170   \n2  0.791461  0.247676  ...  0.247998  0.771679  0.909412 -0.689281 -0.327642   \n3  0.237609  0.377436  ... -0.108300  0.005274 -0.190321 -1.175575  0.647376   \n4  0.592941 -0.270533  ... -0.009431  0.798278 -0.137458  0.141267 -0.206010   \n\n        V26       V27       V28  Amount  Class  \n0 -0.189115  0.133558 -0.021053  149.62      0  \n1  0.125895 -0.008983  0.014724    2.69      0  \n2 -0.139097 -0.055353 -0.059752  378.66      0  \n3 -0.221929  0.062723  0.061458  123.50      0  \n4  0.502292  0.219422  0.215153   69.99      0  \n\n[5 rows x 32 columns]",
            "text/html": "<div>\n<style scoped>\n    .dataframe tbody tr th:only-of-type {\n        vertical-align: middle;\n    }\n\n    .dataframe tbody tr th {\n        vertical-align: top;\n    }\n\n    .dataframe thead th {\n        text-align: right;\n    }\n</style>\n<table border=\"1\" class=\"dataframe\">\n  <thead>\n    <tr style=\"text-align: right;\">\n      <th></th>\n      <th>id</th>\n      <th>Time</th>\n      <th>V1</th>\n      <th>V2</th>\n      <th>V3</th>\n      <th>V4</th>\n      <th>V5</th>\n      <th>V6</th>\n      <th>V7</th>\n      <th>V8</th>\n      <th>...</th>\n      <th>V21</th>\n      <th>V22</th>\n      <th>V23</th>\n      <th>V24</th>\n      <th>V25</th>\n      <th>V26</th>\n      <th>V27</th>\n      <th>V28</th>\n      <th>Amount</th>\n      <th>Class</th>\n    </tr>\n  </thead>\n  <tbody>\n    <tr>\n      <th>0</th>\n      <td>0</td>\n      <td>0.0</td>\n      <td>-1.359807</td>\n      <td>-0.072781</td>\n      <td>2.536347</td>\n      <td>1.378155</td>\n      <td>-0.338321</td>\n      <td>0.462388</td>\n      <td>0.239599</td>\n      <td>0.098698</td>\n      <td>...</td>\n      <td>-0.018307</td>\n      <td>0.277838</td>\n      <td>-0.110474</td>\n      <td>0.066928</td>\n      <td>0.128539</td>\n      <td>-0.189115</td>\n      <td>0.133558</td>\n      <td>-0.021053</td>\n      <td>149.62</td>\n      <td>0</td>\n    </tr>\n    <tr>\n      <th>1</th>\n      <td>1</td>\n      <td>0.0</td>\n      <td>1.191857</td>\n      <td>0.266151</td>\n      <td>0.166480</td>\n      <td>0.448154</td>\n      <td>0.060018</td>\n      <td>-0.082361</td>\n      <td>-0.078803</td>\n      <td>0.085102</td>\n      <td>...</td>\n      <td>-0.225775</td>\n      <td>-0.638672</td>\n      <td>0.101288</td>\n      <td>-0.339846</td>\n      <td>0.167170</td>\n      <td>0.125895</td>\n      <td>-0.008983</td>\n      <td>0.014724</td>\n      <td>2.69</td>\n      <td>0</td>\n    </tr>\n    <tr>\n      <th>2</th>\n      <td>2</td>\n      <td>1.0</td>\n      <td>-1.358354</td>\n      <td>-1.340163</td>\n      <td>1.773209</td>\n      <td>0.379780</td>\n      <td>-0.503198</td>\n      <td>1.800499</td>\n      <td>0.791461</td>\n      <td>0.247676</td>\n      <td>...</td>\n      <td>0.247998</td>\n      <td>0.771679</td>\n      <td>0.909412</td>\n      <td>-0.689281</td>\n      <td>-0.327642</td>\n      <td>-0.139097</td>\n      <td>-0.055353</td>\n      <td>-0.059752</td>\n      <td>378.66</td>\n      <td>0</td>\n    </tr>\n    <tr>\n      <th>3</th>\n      <td>3</td>\n      <td>1.0</td>\n      <td>-0.966272</td>\n      <td>-0.185226</td>\n      <td>1.792993</td>\n      <td>-0.863291</td>\n      <td>-0.010309</td>\n      <td>1.247203</td>\n      <td>0.237609</td>\n      <td>0.377436</td>\n      <td>...</td>\n      <td>-0.108300</td>\n      <td>0.005274</td>\n      <td>-0.190321</td>\n      <td>-1.175575</td>\n      <td>0.647376</td>\n      <td>-0.221929</td>\n      <td>0.062723</td>\n      <td>0.061458</td>\n      <td>123.50</td>\n      <td>0</td>\n    </tr>\n    <tr>\n      <th>4</th>\n      <td>4</td>\n      <td>2.0</td>\n      <td>-1.158233</td>\n      <td>0.877737</td>\n      <td>1.548718</td>\n      <td>0.403034</td>\n      <td>-0.407193</td>\n      <td>0.095921</td>\n      <td>0.592941</td>\n      <td>-0.270533</td>\n      <td>...</td>\n      <td>-0.009431</td>\n      <td>0.798278</td>\n      <td>-0.137458</td>\n      <td>0.141267</td>\n      <td>-0.206010</td>\n      <td>0.502292</td>\n      <td>0.219422</td>\n      <td>0.215153</td>\n      <td>69.99</td>\n      <td>0</td>\n    </tr>\n  </tbody>\n</table>\n<p>5 rows × 32 columns</p>\n</div>"
          },
          "metadata": {}
        }
      ],
      "execution_count": null
    },
    {
      "cell_type": "code",
      "source": [
        "train[\"Class\"].value_counts(normalize=True)*100\n"
      ],
      "metadata": {
        "trusted": true,
        "execution": {
          "iopub.status.busy": "2025-05-13T14:29:08.006069Z",
          "iopub.execute_input": "2025-05-13T14:29:08.006461Z",
          "iopub.status.idle": "2025-05-13T14:29:08.017812Z",
          "shell.execute_reply.started": "2025-05-13T14:29:08.006436Z",
          "shell.execute_reply": "2025-05-13T14:29:08.016723Z"
        },
        "id": "i5o0lJTY7Nyx",
        "outputId": "f96fa1f0-1b56-47c0-a86c-1db86b42f860"
      },
      "outputs": [
        {
          "execution_count": 50,
          "output_type": "execute_result",
          "data": {
            "text/plain": "Class\n0    99.78933\n1     0.21067\nName: proportion, dtype: float64"
          },
          "metadata": {}
        }
      ],
      "execution_count": null
    },
    {
      "cell_type": "markdown",
      "source": [
        "### train 데이터프레임의 Class 컬럼값의 분포를 백분율로 확인\n",
        "- Class=0 (정상거래) : 전체 데이터의 약 99.79%\n",
        "- Class=1 (사기거래) : 전체 데이터의 약 0.21%"
      ],
      "metadata": {
        "id": "wd78UtZ37Nyy"
      }
    },
    {
      "cell_type": "markdown",
      "source": [
        "- Amount, 즉 카드 사용금액이 1,000불 이하인 데이터가 대부분\n",
        "- 20,000불까지 드물지만 많은 금액을 사용한 경우가 발생 - 꼬리가 긴 형태의 분포 곡성"
      ],
      "metadata": {
        "id": "ybH5i-pM7Nyy"
      }
    },
    {
      "cell_type": "markdown",
      "source": [
        "### V14 이상치 제거\n",
        "- IQR을 이용해 이상치를 검출하는 get_outlier()함수 생성\n",
        "- get_outlier() 함수 : 인자로 DataFrame과 이상치를 검출한 칼럼을 입력 받는다\n",
        "  "
      ],
      "metadata": {
        "execution": {
          "iopub.status.busy": "2025-05-13T15:08:21.412052Z",
          "iopub.execute_input": "2025-05-13T15:08:21.412404Z",
          "iopub.status.idle": "2025-05-13T15:08:21.420647Z",
          "shell.execute_reply.started": "2025-05-13T15:08:21.412369Z",
          "shell.execute_reply": "2025-05-13T15:08:21.419430Z"
        },
        "id": "Xinst6ng7Nyy"
      }
    },
    {
      "cell_type": "markdown",
      "source": [
        "###  [ get_outlier 함수 작성 ]"
      ],
      "metadata": {
        "id": "4M205FF87Nyy"
      }
    },
    {
      "cell_type": "code",
      "source": [
        "# get_outlier 함수\n",
        "\n",
        "import numpy as np\n",
        "\n",
        "def get_outlier(df= None, column= None, weight=1.5):\n",
        "  fraud = df[df['Class']==1][column]                # fraud에 해당하는  column 데이터만 추출\n",
        "  quantile_25 = np.percentile(fraud.values, 25)      # 1/4분위 지점을 np.percdntile로 구함\n",
        "  quantile_75 = np.percentile(fraud.values, 75)      # 3/4분위 지점\n",
        "\n",
        "  iqr = quantile_75 - quantile_25\n",
        "  iqr_weight = iqr * weight\n",
        "\n",
        "  lowest_val = quantile_25 - iqr_weight           # 최솟값\n",
        "  highest_val = quantile_75 + iqr_weight          # 최댓값\n",
        "\n",
        "  outlier_index = fraud[(fraud < lowest_val) | (fraud > highest_val)].index   # 설정된 이상치를 DataFrame index반환\n",
        "  return outlier_index\n"
      ],
      "metadata": {
        "trusted": true,
        "execution": {
          "iopub.status.busy": "2025-05-13T15:12:29.845708Z",
          "iopub.execute_input": "2025-05-13T15:12:29.846140Z",
          "iopub.status.idle": "2025-05-13T15:12:29.853839Z",
          "shell.execute_reply.started": "2025-05-13T15:12:29.846117Z",
          "shell.execute_reply": "2025-05-13T15:12:29.852568Z"
        },
        "id": "s7yB3u647Nyy"
      },
      "outputs": [],
      "execution_count": null
    },
    {
      "cell_type": "code",
      "source": [
        "# get_outlier() 함수를 이용해서 V14 칼럼에서 이상치 데이터 찾기\n",
        "outlier_index = get_outlier(df=card_train, column= 'V14', weight= 1.5)\n",
        "print('이상치 데이터 인덱스', outlier_index)"
      ],
      "metadata": {
        "trusted": true,
        "execution": {
          "iopub.status.busy": "2025-05-13T15:12:34.588644Z",
          "iopub.execute_input": "2025-05-13T15:12:34.589070Z",
          "iopub.status.idle": "2025-05-13T15:12:34.600398Z",
          "shell.execute_reply.started": "2025-05-13T15:12:34.589044Z",
          "shell.execute_reply": "2025-05-13T15:12:34.599383Z"
        },
        "id": "ta5c1ou57Nyy",
        "outputId": "c43f79aa-c045-4f6d-9506-6d9111fca1d5"
      },
      "outputs": [
        {
          "name": "stdout",
          "text": "이상치 데이터 인덱스 Index([8296, 8615, 9035], dtype='int64')\n",
          "output_type": "stream"
        }
      ],
      "execution_count": null
    },
    {
      "cell_type": "markdown",
      "source": [
        "- 총 3개의 데이터 : 8296, 8615, 9035의 index가 이상치로 추출\n"
      ],
      "metadata": {
        "id": "eN1yPEPn7Nyy"
      }
    },
    {
      "cell_type": "markdown",
      "source": [
        " ### get_prodessed()를 로그 변환 후, V14 피처의 이상치 데이터를 삭제하는 로직으로 변경\n",
        " - get_outlier() 를 이용해 이상치를 추출하고,\n",
        " - 이를 삭제하는 로직을 get_processed_df() 함수에 추가하여 데이터 가공"
      ],
      "metadata": {
        "id": "ZnyeEN2M7Nyy"
      }
    },
    {
      "cell_type": "code",
      "source": [
        "# 전처리항 DataFrame: 학습 데이터(train)일 경우만 이상치 제거\n",
        "def get_preprocessed_df(df=None, train=True):\n",
        "\n",
        "    df_copy = df.copy()                                      # 원본 손상을 방지하기 위해 복사본 생성\n",
        "    amount_n = np.log1p(df_copy[\"Amount\"])                   # 거래금액의 편차가 커서 로그 변환\n",
        "\n",
        "    df_copy.insert(0, \"Amount_Scaled\", amount_n)             # 새컬럼 삽입\n",
        "    df_copy.drop([\"Time\", \"Amount\"], axis=1, inplace=True)   # 불필요한 컬럼 제거\n",
        "\n",
        "    outlier_index = get_outlier(df=df_copy, column=\"V14\", weight=1.5)  # V14기준으로 IQR 방식 이상치를 찾고 거거\n",
        "    df_copy.drop(outlier_index, axis=0, inplace=True)\n",
        "\n",
        "    return df_copy"
      ],
      "metadata": {
        "trusted": true,
        "execution": {
          "iopub.status.busy": "2025-05-13T15:28:30.309320Z",
          "iopub.execute_input": "2025-05-13T15:28:30.309789Z",
          "iopub.status.idle": "2025-05-13T15:28:30.316624Z",
          "shell.execute_reply.started": "2025-05-13T15:28:30.309761Z",
          "shell.execute_reply": "2025-05-13T15:28:30.315583Z"
        },
        "id": "IYsxcj4T7Nyy"
      },
      "outputs": [],
      "execution_count": null
    },
    {
      "cell_type": "code",
      "source": [
        "# 전처리 함수 실행 (df_copy는 함수 반환값으로 받아야 함)\n",
        "processed_train = get_preprocessed_df(df=card_train, train=True)\n",
        "\n",
        "# 전처리된 데이터프레임에서 'Class' 개수 출력\n",
        "print(processed_train['Class'].value_counts())\n"
      ],
      "metadata": {
        "trusted": true,
        "execution": {
          "iopub.status.busy": "2025-05-13T15:29:02.304942Z",
          "iopub.execute_input": "2025-05-13T15:29:02.305357Z",
          "iopub.status.idle": "2025-05-13T15:29:02.403758Z",
          "shell.execute_reply.started": "2025-05-13T15:29:02.305317Z",
          "shell.execute_reply": "2025-05-13T15:29:02.402689Z"
        },
        "id": "DRGZbVmT7Nyz",
        "outputId": "94527d20-d3b2-44fe-8eed-5da71b417293"
      },
      "outputs": [
        {
          "name": "stdout",
          "text": "Class\n0    170523\n1       357\nName: count, dtype: int64\n",
          "output_type": "stream"
        }
      ],
      "execution_count": null
    },
    {
      "cell_type": "code",
      "source": [
        "# 전처리된 데이터프레임에서 클래스 비율 출력\n",
        "card_train[\"Class\"].value_counts(normalize=True)*100"
      ],
      "metadata": {
        "trusted": true,
        "execution": {
          "iopub.status.busy": "2025-05-13T15:30:40.930673Z",
          "iopub.execute_input": "2025-05-13T15:30:40.931033Z",
          "iopub.status.idle": "2025-05-13T15:30:40.941405Z",
          "shell.execute_reply.started": "2025-05-13T15:30:40.931010Z",
          "shell.execute_reply": "2025-05-13T15:30:40.940449Z"
        },
        "id": "6Hanoixq7Nyz",
        "outputId": "29b4748b-fe06-415c-bb49-af74488b58a8"
      },
      "outputs": [
        {
          "execution_count": 76,
          "output_type": "execute_result",
          "data": {
            "text/plain": "Class\n0    99.78933\n1     0.21067\nName: proportion, dtype: float64"
          },
          "metadata": {}
        }
      ],
      "execution_count": null
    },
    {
      "cell_type": "markdown",
      "source": [
        "- 초기 데이터 건수 : 170,883 건\n",
        "- 이상치 3개 전처리한 후 : 170.523+357 = 170,880 건"
      ],
      "metadata": {
        "id": "HTq3kYb57Nyz"
      }
    },
    {
      "cell_type": "code",
      "source": [
        "# 사전 데이터 가공 후 학습과 테스트 데이터 세트를 반환하는 함수\n",
        "from re import X\n",
        "def get_train_test_dataset(df=None ):       # 사전 데이터 가공 후 학습과 테스트 데이터 세트를 반환하는 함수.\n",
        "    df_copy = get_preprocessed_df(df)       # 인자로 입력된 Da aFrame 의 사전 데이터 가공이 완료된 복사 Dat aFrame 반환\n",
        "\n",
        "    X_features = df_copy. iloc[: , :-1]     # DataFrame 의 맨 마지막 칼럼이 레이블, 나머지는 피처들\n",
        "    y_target = df_copy. iloc[: , -1]\n",
        "\n",
        "# train_test_split( ）으로 학습과 테스트 데이터 분할. stratify=y_traget으로 Stratified 기반 분할\n",
        "    X_train, X_test, y_train, y_test = train_test_split(\n",
        "        X_features, y_target, test_size=0.3, random_state=0, stratify=y_target)\n",
        "\n",
        "    return X_train, X_test, y_train, y_test   # 학습과 테스트 데이터 세트 반환\n",
        "\n",
        "X_train, X_test, y_train, y_test = get_train_test_dataset(card_train)"
      ],
      "metadata": {
        "trusted": true,
        "execution": {
          "iopub.status.busy": "2025-05-13T16:24:13.660918Z",
          "iopub.execute_input": "2025-05-13T16:24:13.661214Z",
          "iopub.status.idle": "2025-05-13T16:24:13.868711Z",
          "shell.execute_reply.started": "2025-05-13T16:24:13.661196Z",
          "shell.execute_reply": "2025-05-13T16:24:13.867718Z"
        },
        "id": "AzkseUUR7Nyz"
      },
      "outputs": [],
      "execution_count": null
    },
    {
      "cell_type": "markdown",
      "source": [
        "- 생성한 학습 데이터 세트와 테스트 세트의 레이블 값 비율을 백분율로 환산\n",
        "- 서로 비슷하게 분활되었는지 확인"
      ],
      "metadata": {
        "id": "MeWw2xcb7Nyz"
      }
    },
    {
      "cell_type": "code",
      "source": [
        "print('학습 데이터 레이블 값 비율')\n",
        "print(y_train.value_counts()/y_train.shape[0]*100)\n",
        "\n",
        "print('테스트 데이너 레이블 값 비율')\n",
        "print(y_test.value_counts() / y_test.shape[0]*100)"
      ],
      "metadata": {
        "trusted": true,
        "execution": {
          "iopub.status.busy": "2025-05-13T16:26:16.734731Z",
          "iopub.execute_input": "2025-05-13T16:26:16.735129Z",
          "iopub.status.idle": "2025-05-13T16:26:16.746392Z",
          "shell.execute_reply.started": "2025-05-13T16:26:16.735104Z",
          "shell.execute_reply": "2025-05-13T16:26:16.745287Z"
        },
        "id": "V3MkysoU7Nyz",
        "outputId": "33e8497b-8a46-4fd0-970f-5386a7ba1e6b"
      },
      "outputs": [
        {
          "name": "stdout",
          "text": "학습 데이터 레이블 값 비율\nClass\n0    99.790998\n1     0.209002\nName: count, dtype: float64\n테스트 데이너 레이블 값 비율\nClass\n0    99.791277\n1     0.208723\nName: count, dtype: float64\n",
          "output_type": "stream"
        }
      ],
      "execution_count": null
    },
    {
      "cell_type": "markdown",
      "source": [
        "- 학습 데이터 레이블의 경우 : 1 값이 약 20.9%\n",
        "- 테스트 데이터 레이블의 경우 : 1 값이 약 20.8%\n",
        "- 차이 없이 잘 분할되었다."
      ],
      "metadata": {
        "id": "qrYk7NO47Nyz"
      }
    },
    {
      "cell_type": "markdown",
      "source": [
        "### 데이터 가공을 수행하면서 예측 성능이 어떻게 변화하는가?\n",
        "- 로지스틱 회귀 기반의 모델 : get_clf_eval() 함수 사용\n",
        "- LightGBM 기반의 모델"
      ],
      "metadata": {
        "id": "Muw31fLm7Nyz"
      }
    },
    {
      "cell_type": "markdown",
      "source": [
        "## 1. 로지스틱 회귀를 이용"
      ],
      "metadata": {
        "id": "qBclpdLy7Nyz"
      }
    },
    {
      "cell_type": "markdown",
      "source": [
        "### [ get_clf_aval() ]\n",
        "- 함수 인자 2개에서 3개. roc_auc_score 추가"
      ],
      "metadata": {
        "id": "lMdFA5fT7Ny0"
      }
    },
    {
      "cell_type": "code",
      "source": [
        "# 1. 로지스틱 회귀를 이용한 신용카드 사기 여부 예측\n",
        "\n",
        "from sklearn.linear_model import LogisticRegression\n",
        "\n",
        "lr_clf = LogisticRegression(max_iter=1000)\n",
        "lr_clf.fit(X_train, y_train)\n",
        "\n",
        "lr_pred = lr_clf.predict(X_test)\n",
        "lr_pred_proba = lr_clf.predict_proba(X_test)[:, 1]"
      ],
      "metadata": {
        "trusted": true,
        "execution": {
          "iopub.status.busy": "2025-05-13T16:40:19.647474Z",
          "iopub.execute_input": "2025-05-13T16:40:19.647797Z",
          "iopub.status.idle": "2025-05-13T16:40:41.424026Z",
          "shell.execute_reply.started": "2025-05-13T16:40:19.647778Z",
          "shell.execute_reply": "2025-05-13T16:40:41.421071Z"
        },
        "id": "P8THrXKG7Ny0"
      },
      "outputs": [],
      "execution_count": null
    },
    {
      "cell_type": "code",
      "source": [
        "# 평가 함수\n",
        "\n",
        "from sklearn.metrics import accuracy_score, precision_score, recall_score, f1_score, roc_auc_score\n",
        "\n",
        "def get_clf_eval(y_test, pred, pred_proba=None):\n",
        "    confusion = confusion_matrix(y_test, pred)\n",
        "\n",
        "    accuracy = accuracy_score(y_test, pred)\n",
        "    precision = precision_score(y_test, pred)\n",
        "    recall = recall_score(y_test, pred)\n",
        "\n",
        "    f1 = f1_score(y_test, pred)\n",
        "    roc_auc = roc_auc_score(y_test, pred_proba)\n",
        "\n",
        "\n",
        "    print(\"오차 행렬\")\n",
        "    print(confusion)\n",
        "    print(f\"정확도: {accuracy:.4f}, 정밀도: {precision: .4f}, 재현율: {recall: .4f}, f1스코어: {f1:.4f}, roc-auc: {roc_auc:.4f}\")"
      ],
      "metadata": {
        "trusted": true,
        "execution": {
          "iopub.status.busy": "2025-05-13T16:32:22.052530Z",
          "iopub.execute_input": "2025-05-13T16:32:22.053946Z",
          "iopub.status.idle": "2025-05-13T16:32:22.060804Z",
          "shell.execute_reply.started": "2025-05-13T16:32:22.053912Z",
          "shell.execute_reply": "2025-05-13T16:32:22.059413Z"
        },
        "id": "1ghKtdI67Ny0"
      },
      "outputs": [],
      "execution_count": null
    },
    {
      "cell_type": "code",
      "source": [
        "# 성능 평가\n",
        "get_clf_eval(y_test, pred, pred_proba)\n"
      ],
      "metadata": {
        "trusted": true,
        "execution": {
          "iopub.status.busy": "2025-05-13T16:40:41.429802Z",
          "iopub.execute_input": "2025-05-13T16:40:41.430144Z",
          "iopub.status.idle": "2025-05-13T16:40:41.546129Z",
          "shell.execute_reply.started": "2025-05-13T16:40:41.430119Z",
          "shell.execute_reply": "2025-05-13T16:40:41.545029Z"
        },
        "id": "SMXkvoOi7Ny0",
        "outputId": "e1890f78-8b75-4639-9a8f-7e598b6e55f4"
      },
      "outputs": [
        {
          "name": "stdout",
          "text": "오차 행렬\n[[51146    11]\n [   42    65]]\n정확도: 0.9990, 정밀도:  0.8553, 재현율:  0.6075, f1스코어: 0.7104, roc-auc: 0.9376\n",
          "output_type": "stream"
        }
      ],
      "execution_count": null
    },
    {
      "cell_type": "markdown",
      "source": [
        "## 2. LightGBM 을 이용한 모델\n",
        "- 수행 예제 코드에서 반복적으로 모델을 변경해 학습/예측/평가-> - 별도 함수 생성\n",
        "- get_model_train_eval() 인자로 사이킷런의 Estimator 객체와 학습/테스트 데이터 셑를 입력 받아서 학습/예측/평가를 수행하는 함수"
      ],
      "metadata": {
        "id": "mz53-99O7Ny0"
      }
    },
    {
      "cell_type": "code",
      "source": [
        "# 인자 : 사이킷런의 Estimator 객체\n",
        "\n",
        "def get_model_train_eval(model, ftr_train=None, ftr_test=None, tgt_train=None, tgt_test=None):\n",
        "    model.fit(ftr_train, tgt_train)\n",
        "    pred = model.predict(ftr_test)\n",
        "    pred_proba = model.predict_proba(ftr_test)[:, 1]\n",
        "    get_clf_eval(tgt_test, pred, pred_proba)"
      ],
      "metadata": {
        "trusted": true,
        "execution": {
          "iopub.status.busy": "2025-05-13T14:21:04.053819Z",
          "iopub.execute_input": "2025-05-13T14:21:04.054118Z",
          "iopub.status.idle": "2025-05-13T14:21:04.059949Z",
          "shell.execute_reply.started": "2025-05-13T14:21:04.054098Z",
          "shell.execute_reply": "2025-05-13T14:21:04.058868Z"
        },
        "id": "hG4jCC3w7Ny0"
      },
      "outputs": [],
      "execution_count": null
    },
    {
      "cell_type": "markdown",
      "source": [
        "### 데이터 세트 : 극도로 불균형한 레이블 값 분포도\n",
        "- LGBMClassifier 객체 생성시,\n",
        "- boost_from_average=False 로 파라미터 설정\n",
        "\n",
        "### _LightGBM 버전업 되면서 변경 사항\n",
        "- boot_from_average 파라미터의 디폴드 값이 False -> True\n",
        "\n",
        "### 본 예제와 같이 극도로 불균형한 분포를 이루는 경우\n",
        "- boost_from_average = True 설정은,\n",
        "- 재현율 및 ROC-AUC 성능을 매우 크게 저하시킨다.\n",
        "\n",
        "### LightGBM 2,1,0 이상의 버젼이 설치되어 있거나, 불균형한 데이터 세트에서 예측 성능이 매우 저조할 경우\n",
        "- LGBMClassifier 객체 생성시 boost_from_average = False 로 파라미터 설정"
      ],
      "metadata": {
        "id": "9Bxnou9x7Ny0"
      }
    },
    {
      "cell_type": "code",
      "source": [
        "# LightGMB 모델 학습. 별도의 테스트 세트에서 예측 평가 (교재 코딩 p.284)\n",
        "import warnings\n",
        "warnings.filterwarnings('ignore')  # Python 경고 메시지 억제\n",
        "\n",
        "\n",
        "from lightgbm import LGBMClassifier\n",
        "\n",
        "lgbm_clf = LGBMClassifier(\n",
        "    n_estimators=1000,\n",
        "    num_leaves=64,\n",
        "    n_jobs=-1,\n",
        "    boost_from_average=False,\n",
        "    verbosity=-1)               # 핵심 옵션: warning 포함 모든 로그 억제\n",
        "\n",
        "get_model_train_eval(\n",
        "    lgbm_clf,\n",
        "    ftr_train = X_train,\n",
        "    ftr_test = X_test,\n",
        "\n",
        "    tgt_train = y_train,\n",
        "    tgt_test=y_test)"
      ],
      "metadata": {
        "trusted": true,
        "execution": {
          "iopub.status.busy": "2025-05-13T16:57:24.972109Z",
          "iopub.execute_input": "2025-05-13T16:57:24.972516Z",
          "iopub.status.idle": "2025-05-13T16:57:35.340544Z",
          "shell.execute_reply.started": "2025-05-13T16:57:24.972491Z",
          "shell.execute_reply": "2025-05-13T16:57:35.339001Z"
        },
        "id": "Nw32y1dh7Ny0",
        "outputId": "217dddc2-0a61-4f26-bf0a-72db20042043"
      },
      "outputs": [
        {
          "name": "stdout",
          "text": "The history saving thread hit an unexpected error (OperationalError('attempt to write a readonly database')).History will not be written to the database.\n오차 행렬\n[[51153     4]\n [   18    89]]\n정확도: 0.9996, 정밀도:  0.9570, 재현율:  0.8318, f1스코어: 0.8900, roc-auc: 0.9769\n",
          "output_type": "stream"
        }
      ],
      "execution_count": null
    },
    {
      "cell_type": "markdown",
      "source": [
        "### [  LogisticRegression 과 LightGBM 성능평가 비교  ]\n",
        "\n",
        "1. LogisticRegression : 정확도: 0.9990, 정밀도:  0.8553, 재현율:  0.6075, f1스코어: 0.7104, roc-auc: 0.9376\n",
        "2. LightGBM           : 정확도: 0.9996, 정밀도:  0.9570, 재현율:  0.8318, f1스코어: 0.8900, roc-auc: 0.9769\n",
        "\n",
        "전체적으로 LightGBM이 높다"
      ],
      "metadata": {
        "id": "14bFRETW7Ny1"
      }
    },
    {
      "cell_type": "markdown",
      "source": [
        "## 3. 데이터 분포도 변환 후 모델 학습/예측/평가\n",
        "### 왜곡된 분포도를 가지는 데이터를 재가공한 뒤에 모델 테스트\n",
        "- 중요 피처 값의 분포도를 살펴본다."
      ],
      "metadata": {
        "id": "kEzDmzOt7Ny1"
      }
    },
    {
      "cell_type": "code",
      "source": [
        "# Amount 피처의 분포도 학인\n",
        "\n",
        "import seaborn as sns\n",
        "\n",
        "plt.figure(figsize = (8, 4))\n",
        "plt.xticks(range(0, 30000, 1000), rotation = 60)\n",
        "sns.histplot(card_train['Amount'], bins = 100, kde = True)\n",
        "\n",
        "plt.show()\n"
      ],
      "metadata": {
        "trusted": true,
        "execution": {
          "iopub.status.busy": "2025-05-13T17:07:08.496221Z",
          "iopub.execute_input": "2025-05-13T17:07:08.496643Z",
          "iopub.status.idle": "2025-05-13T17:07:09.642054Z",
          "shell.execute_reply.started": "2025-05-13T17:07:08.496617Z",
          "shell.execute_reply": "2025-05-13T17:07:09.640868Z"
        },
        "id": "txYK0NPT7Ny8",
        "outputId": "a819958e-bd99-41ee-cdff-ddb625356f17"
      },
      "outputs": [
        {
          "output_type": "display_data",
          "data": {
            "text/plain": "<Figure size 800x400 with 1 Axes>",
            "image/png": "[encoded data removed]"
          },
          "metadata": {}
        }
      ],
      "execution_count": null
    },
    {
      "cell_type": "markdown",
      "source": [
        "Amount, 즉 카드 사용금액이 1,000불 이하인 데이터가 대부분\n",
        "20,000불까지 드물지만 많은 금액을 사용한 경우가 발생 - 꼬리가 긴 형태의 분포 곡성"
      ],
      "metadata": {
        "id": "MU6QlSBD7Ny8"
      }
    },
    {
      "cell_type": "markdown",
      "source": [
        "### 이상치 데이터 제거\n",
        "- IQR 이용 제거\n",
        "\n",
        "1. 어떤 피처이 이상치 데이터를 검출할 것인지 선택 필요\n",
        "     - 결정 값(즉 레이블)과가장 상관성이 높은 피처들을 위주로 이상치를 검출\n",
        "     - 모든 피처들이 이상피를 검출하는 것은 시간소모가 많다\n",
        "     - 결정값과 상관성이 높지 않은 피처들의 경우는 이상치를 제거하더라도 성능 향상에 크게 기여 하지 않는다.\n",
        "\n",
        "- DataFrame() 의 corr()를 이용하여 각 픽퍼별로 상관도를 구한 뒤\n",
        "- 시본의 heatmap을 통해 시각화"
      ],
      "metadata": {
        "id": "_gfGGNNw7Ny8"
      }
    },
    {
      "cell_type": "code",
      "source": [
        "import seaborn as sns\n",
        "\n",
        "plt.figure(figsize = (9,9))\n",
        "corr = card_train.corr()\n",
        "sns.heatmap(corr, cmap='RdBu')"
      ],
      "metadata": {
        "trusted": true,
        "execution": {
          "iopub.status.busy": "2025-05-13T17:13:40.450895Z",
          "iopub.execute_input": "2025-05-13T17:13:40.451298Z",
          "iopub.status.idle": "2025-05-13T17:13:41.633479Z",
          "shell.execute_reply.started": "2025-05-13T17:13:40.451273Z",
          "shell.execute_reply": "2025-05-13T17:13:41.632464Z"
        },
        "id": "-hsEOMXA7Ny8",
        "outputId": "93467f41-e725-447a-d638-fff1f7eb482d"
      },
      "outputs": [
        {
          "execution_count": 103,
          "output_type": "execute_result",
          "data": {
            "text/plain": "<Axes: >"
          },
          "metadata": {}
        },
        {
          "output_type": "display_data",
          "data": {
            "text/plain": "<Figure size 900x900 with 2 Axes>",
            "image/png": "[encoded data removed]"
          },
          "metadata": {}
        }
      ],
      "execution_count": null
    },
    {
      "cell_type": "markdown",
      "source": [
        "### 상관관계 히트맵 : cmap을 'RuBu'로 설정\n",
        "- 양의 상관관계가 높을수로 색깔이 진한 파란색에 가깝게 표현\n",
        "- 음의 상관관계가 높을수록 색깔이 진한 빨간색에 가깝게 표현\n",
        "- 맨 아래에 위치한 결정 레이블인 Class 파처와 음의 상관 관계가 가장 높은 피처는 V14와 V17"
      ],
      "metadata": {
        "id": "VjpCRFtr7Ny9"
      }
    },
    {
      "cell_type": "markdown",
      "source": [
        "### V14 이상치 제거\n",
        "- IQR을 이용해 이상치를 검출하는 함수 생성한 뒤, 검출된 이상치 삭제\n",
        "- get_outlier() 함수 : 인자로 DataFrame과 이상치를 검출한 칼럼을 입력 받는다\n",
        "\n",
        "### 함수 내에서 넘파이의 percentile()을 이용하여,\n",
        "- 1/4분위와 3/4 분의를 구하고, 이에 기반해 IQR을 계산\n",
        "- 계산된 IQR에 1.5를 곱해서 최댓값고 ㅏ최솟값 지점을 구한 뒤,\n",
        "- 최댓값보다 크거나 최솟값보다 작은 값을 이상치로 설정하고,\n",
        "- 해당 이상치가 있는 DataFrame Index를 반환"
      ],
      "metadata": {
        "id": "O_tr73uh7Ny9"
      }
    },
    {
      "cell_type": "code",
      "source": [
        "import numpy as np\n",
        "\n",
        "def get_outlier(df= None, column= None, weight=1.5):\n",
        "  fraud = df[df['Class']==1][column]                # fraud에 해당하는  column 데이터만 추출\n",
        "  quantile_25 = np.percentile(fraud.values, 25)      # 1/4분위 지점을 np.percdntile로 구함\n",
        "  quantile_75 = np.percentile(fraud.values, 75)      # 3/4분위 지점\n",
        "\n",
        "  iqr = quantile_75 - quantile_25\n",
        "  iqr_weight = iqr * weight\n",
        "\n",
        "  lowest_val = quantile_25 - iqr_weight           # 최솟값\n",
        "  highest_val = quantile_75 + iqr_weight          # 최댓값\n",
        "\n",
        "  outlier_index = fraud[(fraud < lowest_val) | (fraud > highest_val)].index   # 설정된 이상치를 DataFrame index반환\n",
        "  return outlier_index"
      ],
      "metadata": {
        "trusted": true,
        "execution": {
          "iopub.status.busy": "2025-05-13T17:16:42.909029Z",
          "iopub.execute_input": "2025-05-13T17:16:42.909542Z",
          "iopub.status.idle": "2025-05-13T17:16:42.918196Z",
          "shell.execute_reply.started": "2025-05-13T17:16:42.909509Z",
          "shell.execute_reply": "2025-05-13T17:16:42.916994Z"
        },
        "id": "TJBylMQ97Ny9"
      },
      "outputs": [],
      "execution_count": null
    },
    {
      "cell_type": "markdown",
      "source": [
        "### 이상치 제거 후 로지스틱 회귀와 LightGBM 모델을 적용\n",
        "- get_outlier() 를 이용해 이상치를 추출하고,\n",
        "- 이를 삭제하는 로직을 get_processed_df() 함수에 추가하여 데이터를 가공한다."
      ],
      "metadata": {
        "id": "jKZNMdTX7Ny9"
      }
    },
    {
      "cell_type": "code",
      "source": [
        "# V14 컬럼 이상치 찾기\n",
        "outlier_index = get_outlier(df=card_train, column= 'V14', weight= 1.5)\n",
        "print('이상치 데이터 인덱스', outlier_index)"
      ],
      "metadata": {
        "trusted": true,
        "execution": {
          "iopub.status.busy": "2025-05-13T17:17:34.568040Z",
          "iopub.execute_input": "2025-05-13T17:17:34.568331Z",
          "iopub.status.idle": "2025-05-13T17:17:34.577725Z",
          "shell.execute_reply.started": "2025-05-13T17:17:34.568310Z",
          "shell.execute_reply": "2025-05-13T17:17:34.576630Z"
        },
        "id": "YG2NUD677Ny9",
        "outputId": "38a5c043-5923-4aa4-cc26-c49d5d7db3de"
      },
      "outputs": [
        {
          "name": "stdout",
          "text": "이상치 데이터 인덱스 Index([8296, 8615, 9035], dtype='int64')\n",
          "output_type": "stream"
        }
      ],
      "execution_count": null
    },
    {
      "cell_type": "code",
      "source": [
        "# get_prodessed()를 로그 변환 후, V14 피처의 이상치 데이터를 삭제하는 로직으로 변경\n",
        "def get_preprocessed_df(df= None) :\n",
        "  df_copy = df.copy()\n",
        "  amount_n = np.log1p(df_copy['Amount'])\n",
        "  df_copy.drop(['Time', 'Amount'], axis = 1, inplace = True)\n",
        "\n",
        "  #이상치 데이ㅓ 삭제하는 로직 추가\n",
        "  outlier_index = get_outlier(df=df_copy, column= 'V14', weight= 1.5)\n",
        "  df_copy.drop(outlier_index, axis= 0, inplace= True)\n",
        "  return df_copy"
      ],
      "metadata": {
        "trusted": true,
        "execution": {
          "iopub.status.busy": "2025-05-13T17:33:48.086962Z",
          "iopub.execute_input": "2025-05-13T17:33:48.087258Z",
          "iopub.status.idle": "2025-05-13T17:33:48.092724Z",
          "shell.execute_reply.started": "2025-05-13T17:33:48.087241Z",
          "shell.execute_reply": "2025-05-13T17:33:48.091656Z"
        },
        "id": "29P-rcGP7Ny-"
      },
      "outputs": [],
      "execution_count": null
    },
    {
      "cell_type": "code",
      "source": [
        "# 로지스틱 회귀와 LightGBM 모델을 적용 한 후  예측 성능 확인\n",
        "X_train, X_test, y_train, y_test = get_train_test_dataset(card_train)\n",
        "\n",
        "print('### 로지스틱 회귀 예측 성능 ###')\n",
        "get_model_train_eval(\n",
        "    lr_clf,\n",
        "    ftr_train = X_train,\n",
        "    ftr_test = X_test,\n",
        "    tgt_train = y_train,\n",
        "    tgt_test = y_test)\n",
        "\n",
        "print('### LightGBM 예측 성능 ###')\n",
        "get_model_train_eval(\n",
        "    lgbm_clf,\n",
        "    ftr_train = X_train,\n",
        "    ftr_test = X_test,\n",
        "    tgt_train = y_train,\n",
        "    tgt_test=y_test)"
      ],
      "metadata": {
        "trusted": true,
        "execution": {
          "iopub.status.busy": "2025-05-13T17:34:47.385430Z",
          "iopub.execute_input": "2025-05-13T17:34:47.385802Z",
          "iopub.status.idle": "2025-05-13T17:35:20.124326Z",
          "shell.execute_reply.started": "2025-05-13T17:34:47.385779Z",
          "shell.execute_reply": "2025-05-13T17:35:20.123198Z"
        },
        "id": "wSMX5cop7Ny-",
        "outputId": "2eaf883e-bebe-4cba-b44b-1105c73625a2"
      },
      "outputs": [
        {
          "name": "stdout",
          "text": "### 로지스틱 회귀 예측 성능 ###\n오차 행렬\n[[51145    12]\n [   36    71]]\n정확도: 0.9991, 정밀도:  0.8554, 재현율:  0.6636, f1스코어: 0.7474, roc-auc: 0.9369\n### LightGBM 예측 성능 ###\n오차 행렬\n[[51150     7]\n [   18    89]]\n정확도: 0.9995, 정밀도:  0.9271, 재현율:  0.8318, f1스코어: 0.8768, roc-auc: 0.9774\n",
          "output_type": "stream"
        }
      ],
      "execution_count": null
    },
    {
      "cell_type": "markdown",
      "source": [
        "# 4. SMOTE 오버 샘플링 적용 후 보델 학습/예측/평가\n",
        "- imbalanced-learn 패키지의 SMOTE 클래스를 이용해 구현\n",
        "- SMOTE를 적용할 때는 반드시 학습 데이터 세트만 오버 셈플링을 해야한다."
      ],
      "metadata": {
        "id": "888KABjb7Ny-"
      }
    },
    {
      "cell_type": "markdown",
      "source": [
        "### 검증 데이터 세트나 테스트 데이터 세트를 오버 샘플링할 경우\n",
        "- 결국은 원본 데이터 세트가 아닌 데이터 세트에서 검증 또는 데스트를 수행하기 떄문에 올바른 검증/테스트가 될 수 없다.\n",
        "\n",
        "### 데이터를 증식 전과 비교\n",
        "- 앞 예제에서 생성한 학습 피처/레이블 데이터를 SMOTE 객체의 fir_resample() 메서드를 이용하여 증식한 뒤 비교한다."
      ],
      "metadata": {
        "id": "Sy-1KWPd7Ny-"
      }
    },
    {
      "cell_type": "code",
      "source": [
        "from imblearn.over_sampling import SMOTE\n",
        "\n",
        "smote = SMOTE(random_state= 0)\n",
        "X_train_over, y_train_over = smote.fit_resample(X_train, y_train)\n",
        "\n",
        "print(\"학습 데이터 레이블 값 비율\")\n",
        "print(y_train.value_counts()/y_train.shape[0] * 100)\n",
        "print()\n",
        "print(\"테스트 데이터 레이블 값 비율\")\n",
        "print(y_test.value_counts()/y_test.shape[0] * 100)"
      ],
      "metadata": {
        "trusted": true,
        "execution": {
          "iopub.status.busy": "2025-05-13T17:42:48.812706Z",
          "iopub.execute_input": "2025-05-13T17:42:48.813029Z",
          "iopub.status.idle": "2025-05-13T17:42:49.079932Z",
          "shell.execute_reply.started": "2025-05-13T17:42:48.813008Z",
          "shell.execute_reply": "2025-05-13T17:42:49.078834Z"
        },
        "id": "7Mpes9HS7Ny-",
        "outputId": "7a72cb05-4e7c-4687-faa2-66e708209ab5"
      },
      "outputs": [
        {
          "name": "stdout",
          "text": "학습 데이터 레이블 값 비율\nClass\n0    99.790998\n1     0.209002\nName: count, dtype: float64\n\n테스트 데이터 레이블 값 비율\nClass\n0    99.791277\n1     0.208723\nName: count, dtype: float64\n",
          "output_type": "stream"
        }
      ],
      "execution_count": null
    },
    {
      "cell_type": "markdown",
      "source": [],
      "metadata": {
        "id": "CORHwV3U7Ny-"
      }
    },
    {
      "cell_type": "code",
      "source": [
        "smote = SMOTE(random_state=0)\n",
        "\n",
        "X_train_over, y_train_over = smote.fit_resample(X_train, y_train)"
      ],
      "metadata": {
        "trusted": true,
        "execution": {
          "iopub.status.busy": "2025-05-13T17:49:07.837164Z",
          "iopub.execute_input": "2025-05-13T17:49:07.838202Z",
          "iopub.status.idle": "2025-05-13T17:49:08.109147Z",
          "shell.execute_reply.started": "2025-05-13T17:49:07.838177Z",
          "shell.execute_reply": "2025-05-13T17:49:08.108101Z"
        },
        "id": "ND6Dgywm7Ny-"
      },
      "outputs": [],
      "execution_count": null
    },
    {
      "cell_type": "code",
      "source": [
        "print(\"SMOTE 적용 전 학습용 피처/레이블 데이터 세트: \", X_train.shape, y_train.shape)\n",
        "print(\"\\nSMOTE 적용 후 학습용 피처/레이블 데이터 세트: \", X_train_over.shape, y_train_over.shape)\n",
        "print(\"\\nSMOTE 적용 후 레이블 값 분포: \\n\", pd.Series(y_train_over).value_counts(normalize=True))"
      ],
      "metadata": {
        "trusted": true,
        "execution": {
          "iopub.status.busy": "2025-05-13T17:49:12.165096Z",
          "iopub.execute_input": "2025-05-13T17:49:12.165481Z",
          "iopub.status.idle": "2025-05-13T17:49:12.174290Z",
          "shell.execute_reply.started": "2025-05-13T17:49:12.165456Z",
          "shell.execute_reply": "2025-05-13T17:49:12.173306Z"
        },
        "id": "LG2V9K3d7Ny-",
        "outputId": "c9e5bb6e-a009-4dee-b9d3-7932b1ddf210"
      },
      "outputs": [
        {
          "name": "stdout",
          "text": "SMOTE 적용 전 학습용 피처/레이블 데이터 세트:  (119616, 29) (119616,)\n\nSMOTE 적용 후 학습용 피처/레이블 데이터 세트:  (238732, 29) (238732,)\n\nSMOTE 적용 후 레이블 값 분포: \n Class\n0    0.5\n1    0.5\nName: proportion, dtype: float64\n",
          "output_type": "stream"
        }
      ],
      "execution_count": null
    },
    {
      "cell_type": "markdown",
      "source": [
        "- SMOTE 적용 전 학습 데이터 세트 : 119,616 건\n",
        "- SMOTE 적용 후 학습 데이터 세트 : 238,762 건  (2배 가깝게 증식)\n",
        "- SMOTE 적용 후 레이블 값 분포 :  고르게 분포\n",
        "\n",
        "### 생성된 학습 데이터 세트를 기반으로 우선 로지스틱 회귀 모델을 학습 한 뒤 성능 평가"
      ],
      "metadata": {
        "id": "8_0dnhI87Ny_"
      }
    },
    {
      "cell_type": "code",
      "source": [
        "# ftr_train과 tgt_train 인자 값이 SMOTE 증식된 X_train_over아 y_train_over 로 변경됨에 유의\n",
        "\n",
        "print('### 로지스틱 회귀 - 예측 성능 ###')\n",
        "\n",
        "lr_clf = LogisticRegression(max_iter= 1000)\n",
        "get_model_train_eval(\n",
        "    model = lr_clf,\n",
        "    ftr_train=X_train,\n",
        "    ftr_test=X_test,\n",
        "    tgt_train=y_train,\n",
        "    tgt_test=y_test)"
      ],
      "metadata": {
        "trusted": true,
        "execution": {
          "iopub.status.busy": "2025-05-13T18:11:56.383097Z",
          "iopub.execute_input": "2025-05-13T18:11:56.384461Z",
          "iopub.status.idle": "2025-05-13T18:12:18.290057Z",
          "shell.execute_reply.started": "2025-05-13T18:11:56.384431Z",
          "shell.execute_reply": "2025-05-13T18:12:18.288889Z"
        },
        "id": "Ix3UlW0K7Ny_",
        "outputId": "ee78ad48-83a9-47f6-d41f-fb7584ff8ba0"
      },
      "outputs": [
        {
          "name": "stdout",
          "text": "### 로지스틱 회귀 - 예측 성능 ###\n오차 행렬\n[[51145    12]\n [   36    71]]\n정확도: 0.9991, 정밀도:  0.8554, 재현율:  0.6636, f1스코어: 0.7474, roc-auc: 0.9369\n",
          "output_type": "stream"
        }
      ],
      "execution_count": null
    },
    {
      "cell_type": "code",
      "source": [
        "import warnings\n",
        "warnings.filterwarnings(\"ignore\")\n",
        "\n",
        "print('### LightGBM 예측 성능 ###')\n",
        "\n",
        "lgbm_clf = LGBMClassifier(n_estimators=1000, num_leaves=64, n_jobs=-1, boost_from_average=False)\n",
        "get_model_train_eval(\n",
        "    model = lgbm_clf,\n",
        "    ftr_train=X_train,\n",
        "    ftr_test=X_test,\n",
        "    tgt_train=y_train,\n",
        "    tgt_test=y_test)"
      ],
      "metadata": {
        "trusted": true,
        "execution": {
          "iopub.status.busy": "2025-05-13T18:16:23.400815Z",
          "iopub.execute_input": "2025-05-13T18:16:23.401193Z",
          "iopub.status.idle": "2025-05-13T18:16:33.924254Z",
          "shell.execute_reply.started": "2025-05-13T18:16:23.401171Z",
          "shell.execute_reply": "2025-05-13T18:16:33.923059Z"
        },
        "id": "JCPxVfHj7Ny_",
        "outputId": "3c748049-e071-446c-e83a-5eea6cef1fae"
      },
      "outputs": [
        {
          "name": "stdout",
          "text": "### LightGBM 예측 성능 ###\n오차 행렬\n[[51150     7]\n [   18    89]]\n정확도: 0.9995, 정밀도:  0.9271, 재현율:  0.8318, f1스코어: 0.8768, roc-auc: 0.9774\n",
          "output_type": "stream"
        }
      ],
      "execution_count": null
    },
    {
      "cell_type": "code",
      "source": [
        "# ftr_train과 tgt_train 인자 값이 SMOTE 증식된 X_train_over과  y_train_over 로 변경됨에 유의\n",
        "\n",
        "print('### 로지스틱 회귀 - 증식된 예측 성능 ###')\n",
        "\n",
        "lr_clf = LogisticRegression(max_iter= 1000)\n",
        "get_model_train_eval(\n",
        "    model = lr_clf,\n",
        "    ftr_train=X_train_over,\n",
        "    ftr_test=X_test,\n",
        "    tgt_train=y_train_over,\n",
        "    tgt_test=y_test)"
      ],
      "metadata": {
        "trusted": true,
        "execution": {
          "iopub.status.busy": "2025-05-13T18:12:46.181806Z",
          "iopub.execute_input": "2025-05-13T18:12:46.182142Z",
          "iopub.status.idle": "2025-05-13T18:13:24.405636Z",
          "shell.execute_reply.started": "2025-05-13T18:12:46.182119Z",
          "shell.execute_reply": "2025-05-13T18:13:24.404516Z"
        },
        "id": "ewFqs6nC7Ny_",
        "outputId": "78de9711-5905-4486-ba00-bc3cee49b00d"
      },
      "outputs": [
        {
          "name": "stdout",
          "text": "### 로지스틱 회귀 - 증식된 예측 성능 ###\n오차 행렬\n[[50640   517]\n [   12    95]]\n정확도: 0.9897, 정밀도:  0.1552, 재현율:  0.8879, f1스코어: 0.2643, roc-auc: 0.9713\n",
          "output_type": "stream"
        }
      ],
      "execution_count": null
    },
    {
      "cell_type": "code",
      "source": [
        "# ftr_train과 tgt_train 인자 값이 SMOTE 증식된 X_train_over과  y_train_over 로 변경됨에 유의\n",
        "\n",
        "import warnings\n",
        "warnings.filterwarnings(\"ignore\")\n",
        "\n",
        "print('### LightGBM -증식된 예측 성능 ###')\n",
        "\n",
        "lgbm_clf = LGBMClassifier(n_estimators=1000, num_leaves=64, n_jobs=-1, boost_from_average=False)\n",
        "get_model_train_eval(\n",
        "    model = lgbm_clf,\n",
        "    ftr_train=X_train_over,\n",
        "    ftr_test=X_test,\n",
        "    tgt_train=y_train_over,\n",
        "    tgt_test=y_test)"
      ],
      "metadata": {
        "trusted": true,
        "execution": {
          "iopub.status.busy": "2025-05-13T18:18:19.230455Z",
          "iopub.execute_input": "2025-05-13T18:18:19.230843Z",
          "iopub.status.idle": "2025-05-13T18:18:43.145249Z",
          "shell.execute_reply.started": "2025-05-13T18:18:19.230816Z",
          "shell.execute_reply": "2025-05-13T18:18:43.144116Z"
        },
        "id": "p2fycIEC7Ny_",
        "outputId": "cd6a48e6-7576-4d18-bad9-a329d21297df"
      },
      "outputs": [
        {
          "name": "stdout",
          "text": "### LightGBM -증식된 예측 성능 ###\n오차 행렬\n[[51146    11]\n [   16    91]]\n정확도: 0.9995, 정밀도:  0.8922, 재현율:  0.8505, f1스코어: 0.8708, roc-auc: 0.9788\n",
          "output_type": "stream"
        }
      ],
      "execution_count": null
    },
    {
      "cell_type": "code",
      "source": [
        "submission = pd.read_csv(\"/kaggle/input/modu-ds-4-credit-card-fraud-detection/sample_submission.csv\")"
      ],
      "metadata": {
        "trusted": true,
        "execution": {
          "iopub.status.busy": "2025-05-13T01:22:18.953322Z",
          "iopub.execute_input": "2025-05-13T01:22:18.953647Z",
          "iopub.status.idle": "2025-05-13T01:22:18.993007Z",
          "shell.execute_reply.started": "2025-05-13T01:22:18.953619Z",
          "shell.execute_reply": "2025-05-13T01:22:18.992142Z"
        },
        "id": "rNYVyxAh7Ny_"
      },
      "outputs": [],
      "execution_count": null
    },
    {
      "cell_type": "code",
      "source": [
        "test[\"Amount_Scaled\"] = np.log1p(test[\"Amount\"])"
      ],
      "metadata": {
        "trusted": true,
        "execution": {
          "iopub.status.busy": "2025-05-13T01:22:18.993808Z",
          "iopub.execute_input": "2025-05-13T01:22:18.994049Z",
          "iopub.status.idle": "2025-05-13T01:22:18.999839Z",
          "shell.execute_reply.started": "2025-05-13T01:22:18.994030Z",
          "shell.execute_reply": "2025-05-13T01:22:18.999124Z"
        },
        "id": "p6_PQ8x_7Ny_"
      },
      "outputs": [],
      "execution_count": null
    },
    {
      "cell_type": "code",
      "source": [
        "test.drop([\"Time\", \"Amount\"], axis=1, inplace=True)"
      ],
      "metadata": {
        "trusted": true,
        "execution": {
          "iopub.status.busy": "2025-05-13T01:22:19.000728Z",
          "iopub.execute_input": "2025-05-13T01:22:19.000965Z",
          "iopub.status.idle": "2025-05-13T01:22:19.022292Z",
          "shell.execute_reply.started": "2025-05-13T01:22:19.000946Z",
          "shell.execute_reply": "2025-05-13T01:22:19.021294Z"
        },
        "id": "ELNymt9_7Ny_"
      },
      "outputs": [],
      "execution_count": null
    },
    {
      "cell_type": "code",
      "source": [
        "lgbm_pred = lgbm_clf.predict(test)"
      ],
      "metadata": {
        "trusted": true,
        "execution": {
          "iopub.status.busy": "2025-05-13T01:22:19.027258Z",
          "iopub.execute_input": "2025-05-13T01:22:19.027638Z",
          "iopub.status.idle": "2025-05-13T01:22:21.426936Z",
          "shell.execute_reply.started": "2025-05-13T01:22:19.027607Z",
          "shell.execute_reply": "2025-05-13T01:22:21.426248Z"
        },
        "id": "TCw_0JYL7NzA"
      },
      "outputs": [],
      "execution_count": null
    },
    {
      "cell_type": "code",
      "source": [
        "lgbm_pred_proba = lgbm_clf.predict_proba(test)"
      ],
      "metadata": {
        "trusted": true,
        "execution": {
          "iopub.status.busy": "2025-05-13T01:22:21.427792Z",
          "iopub.execute_input": "2025-05-13T01:22:21.428080Z",
          "iopub.status.idle": "2025-05-13T01:22:23.899644Z",
          "shell.execute_reply.started": "2025-05-13T01:22:21.428051Z",
          "shell.execute_reply": "2025-05-13T01:22:23.898632Z"
        },
        "id": "lr3un8ya7NzA"
      },
      "outputs": [],
      "execution_count": null
    },
    {
      "cell_type": "code",
      "source": [
        "test[\"Class\"] = lgbm_pred"
      ],
      "metadata": {
        "trusted": true,
        "execution": {
          "iopub.status.busy": "2025-05-13T01:22:23.900694Z",
          "iopub.execute_input": "2025-05-13T01:22:23.901019Z",
          "iopub.status.idle": "2025-05-13T01:22:23.906540Z",
          "shell.execute_reply.started": "2025-05-13T01:22:23.900989Z",
          "shell.execute_reply": "2025-05-13T01:22:23.905664Z"
        },
        "id": "hCILwb4i7NzA"
      },
      "outputs": [],
      "execution_count": null
    },
    {
      "cell_type": "code",
      "source": [
        "test.Class.value_counts()"
      ],
      "metadata": {
        "trusted": true,
        "execution": {
          "iopub.status.busy": "2025-05-13T01:22:23.907051Z",
          "iopub.execute_input": "2025-05-13T01:22:23.907271Z",
          "iopub.status.idle": "2025-05-13T01:22:23.927164Z",
          "shell.execute_reply.started": "2025-05-13T01:22:23.907252Z",
          "shell.execute_reply": "2025-05-13T01:22:23.926238Z"
        },
        "id": "CZwcJOBl7NzA",
        "outputId": "60f00ebe-0af1-4a56-b7ef-ebc22786df57"
      },
      "outputs": [
        {
          "execution_count": 30,
          "output_type": "execute_result",
          "data": {
            "text/plain": "Class\n0    113918\n1         5\nName: count, dtype: int64"
          },
          "metadata": {}
        }
      ],
      "execution_count": null
    },
    {
      "cell_type": "code",
      "source": [
        "del submission[\"Class\"]"
      ],
      "metadata": {
        "trusted": true,
        "execution": {
          "iopub.status.busy": "2025-05-13T01:22:23.928059Z",
          "iopub.execute_input": "2025-05-13T01:22:23.928336Z",
          "iopub.status.idle": "2025-05-13T01:22:23.943999Z",
          "shell.execute_reply.started": "2025-05-13T01:22:23.928317Z",
          "shell.execute_reply": "2025-05-13T01:22:23.943005Z"
        },
        "id": "fJKVP1iy7NzA"
      },
      "outputs": [],
      "execution_count": null
    },
    {
      "cell_type": "code",
      "source": [
        "test[\"Class\"] = lgbm_pred_proba"
      ],
      "metadata": {
        "trusted": true,
        "execution": {
          "iopub.status.busy": "2025-05-13T01:22:23.944875Z",
          "iopub.execute_input": "2025-05-13T01:22:23.945519Z",
          "iopub.status.idle": "2025-05-13T01:22:23.964018Z",
          "shell.execute_reply.started": "2025-05-13T01:22:23.945486Z",
          "shell.execute_reply": "2025-05-13T01:22:23.962909Z"
        },
        "id": "XiEEb_G87NzA"
      },
      "outputs": [],
      "execution_count": null
    },
    {
      "cell_type": "code",
      "source": [
        "submission = submission.merge(test[[\"id\", \"Class\"]], on=\"id\")"
      ],
      "metadata": {
        "trusted": true,
        "execution": {
          "iopub.status.busy": "2025-05-13T01:22:23.964929Z",
          "iopub.execute_input": "2025-05-13T01:22:23.965252Z",
          "iopub.status.idle": "2025-05-13T01:22:23.981881Z",
          "shell.execute_reply.started": "2025-05-13T01:22:23.965230Z",
          "shell.execute_reply": "2025-05-13T01:22:23.980737Z"
        },
        "id": "8ZRjMEJl7NzA"
      },
      "outputs": [],
      "execution_count": null
    },
    {
      "cell_type": "code",
      "source": [
        "submission.to_csv(\"./submission.csv\", index=False)"
      ],
      "metadata": {
        "trusted": true,
        "execution": {
          "iopub.status.busy": "2025-05-13T01:22:23.983016Z",
          "iopub.execute_input": "2025-05-13T01:22:23.983377Z",
          "iopub.status.idle": "2025-05-13T01:22:24.251957Z",
          "shell.execute_reply.started": "2025-05-13T01:22:23.983317Z",
          "shell.execute_reply": "2025-05-13T01:22:24.251011Z"
        },
        "id": "Te-lnGLG7NzA"
      },
      "outputs": [],
      "execution_count": null
    }
  ]
}